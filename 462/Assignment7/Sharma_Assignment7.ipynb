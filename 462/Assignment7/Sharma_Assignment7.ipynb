{
 "cells": [
  {
   "cell_type": "code",
   "execution_count": 1,
   "id": "3d1cedf1-f54a-46e8-a0d8-270936905ef7",
   "metadata": {
    "tags": []
   },
   "outputs": [],
   "source": [
    "!export LD_LIBRARY_PATH=/usr/local/tensorrt/lib:$LD_LIBRARY_PATH"
   ]
  },
  {
   "cell_type": "code",
   "execution_count": 2,
   "id": "27776af5-0166-45f5-b33c-acf28ae9f0bb",
   "metadata": {
    "tags": []
   },
   "outputs": [],
   "source": [
    "!source ~/.bashrc  # or source ~/.zshrc"
   ]
  },
  {
   "cell_type": "code",
   "execution_count": 3,
   "id": "d3e51507-b5ed-44ee-a1e9-5277865785df",
   "metadata": {
    "tags": []
   },
   "outputs": [],
   "source": [
    "!dpkg -l | grep nvinfer"
   ]
  },
  {
   "cell_type": "code",
   "execution_count": 4,
   "id": "4efd2766-5aa8-4bce-acc6-f0238434cce3",
   "metadata": {
    "tags": []
   },
   "outputs": [],
   "source": [
    "!dpkg -l | grep tensorrt"
   ]
  },
  {
   "cell_type": "code",
   "execution_count": 5,
   "id": "05a56d86-19e6-4299-93f8-6e71524891b3",
   "metadata": {
    "tags": []
   },
   "outputs": [
    {
     "name": "stderr",
     "output_type": "stream",
     "text": [
      "2025-02-26 12:21:58.104669: I tensorflow/core/platform/cpu_feature_guard.cc:193] This TensorFlow binary is optimized with oneAPI Deep Neural Network Library (oneDNN) to use the following CPU instructions in performance-critical operations:  AVX2 FMA\n",
      "To enable them in other operations, rebuild TensorFlow with the appropriate compiler flags.\n",
      "2025-02-26 12:21:59.314614: W tensorflow/compiler/xla/stream_executor/platform/default/dso_loader.cc:64] Could not load dynamic library 'libnvinfer.so.7'; dlerror: libnvinfer.so.7: cannot open shared object file: No such file or directory; LD_LIBRARY_PATH: /usr/local/cuda/lib64:/usr/local/nccl2/lib:/usr/local/cuda/extras/CUPTI/lib64:/usr/lib/x86_64-linux-gnu/:/opt/conda/lib\n",
      "2025-02-26 12:21:59.314729: W tensorflow/compiler/xla/stream_executor/platform/default/dso_loader.cc:64] Could not load dynamic library 'libnvinfer_plugin.so.7'; dlerror: libnvinfer_plugin.so.7: cannot open shared object file: No such file or directory; LD_LIBRARY_PATH: /usr/local/cuda/lib64:/usr/local/nccl2/lib:/usr/local/cuda/extras/CUPTI/lib64:/usr/lib/x86_64-linux-gnu/:/opt/conda/lib\n",
      "2025-02-26 12:21:59.314740: W tensorflow/compiler/tf2tensorrt/utils/py_utils.cc:38] TF-TRT Warning: Cannot dlopen some TensorRT libraries. If you would like to use Nvidia GPU with TensorRT, please make sure the missing libraries mentioned above are installed properly.\n"
     ]
    },
    {
     "name": "stdout",
     "output_type": "stream",
     "text": [
      "TensorFlow version: 2.11.0\n"
     ]
    }
   ],
   "source": [
    "import tensorflow as tf\n",
    "import argparse\n",
    "import pandas as pd\n",
    "import os\n",
    "import sys\n",
    "import argparse\n",
    "from tensorflow.keras.callbacks import TensorBoard\n",
    "from tensorflow.keras import layers\n",
    "print(\"TensorFlow version:\", tf.__version__)"
   ]
  },
  {
   "cell_type": "markdown",
   "id": "1e72f34c-af44-4016-b5ef-26b44269988e",
   "metadata": {
    "tags": []
   },
   "source": [
    "# **Creates a new directory called trainerfinal**"
   ]
  },
  {
   "cell_type": "code",
   "execution_count": 6,
   "id": "ae66a688-90b6-44db-9bef-17a91a1f981a",
   "metadata": {
    "tags": []
   },
   "outputs": [],
   "source": [
    "%%bash\n",
    "mkdir trainerfinal\n",
    "touch trainerfinal/__init__.py"
   ]
  },
  {
   "cell_type": "markdown",
   "id": "2db3756b-dda2-45b3-baa8-ba9633951ebf",
   "metadata": {},
   "source": [
    "# **Download data and run the model and deploy**"
   ]
  },
  {
   "cell_type": "code",
   "execution_count": 7,
   "id": "140c6d69-7f6f-4dd4-8b9d-d1d1bd7362d4",
   "metadata": {
    "tags": []
   },
   "outputs": [],
   "source": [
    "def load_data():\n",
    "    data_train = pd.read_csv(\n",
    "        'https://storage.googleapis.com/spls/gsp418/housing_train.csv',\n",
    "        names=[\"CRIM\", \"ZN\", \"INDUS\", \"CHAS\", \"NOX\", \"RM\", \"AGE\", \"DIS\", \"RAD\", \"TAX\", \"PTRATIO\", \"MEDV\"])\n",
    "    data_test = pd.read_csv(\n",
    "        'https://storage.googleapis.com/spls/gsp418/housing_test.csv',\n",
    "        names=[\"CRIM\", \"ZN\", \"INDUS\", \"CHAS\", \"NOX\", \"RM\", \"AGE\", \"DIS\", \"RAD\", \"TAX\", \"PTRATIO\", \"MEDV\"])\n",
    "    return data_train, data_test\n",
    "\n",
    "def build_model():\n",
    "    model = tf.keras.Sequential([\n",
    "        tf.keras.layers.Input(shape=(9,)),\n",
    "        tf.keras.layers.Dense(10, activation='relu'),\n",
    "        tf.keras.layers.Dense(10, activation='relu'),\n",
    "        tf.keras.layers.Dense(10, activation='relu'),\n",
    "        tf.keras.layers.Dense(10, activation='relu'),\n",
    "        tf.keras.layers.Dense(10, activation='relu'),\n",
    "        tf.keras.layers.Dense(1)\n",
    "    ])\n",
    "    model.compile(optimizer='adam', loss='mse', metrics=['mape'])\n",
    "    return model\n",
    "\n",
    "def train_and_evaluate(output_dir):\n",
    "    data_train, data_test = load_data()\n",
    "    FEATURES = [\"CRIM\", \"ZN\", \"INDUS\", \"NOX\", \"RM\", \"AGE\", \"DIS\", \"TAX\", \"PTRATIO\"]\n",
    "    LABEL = \"MEDV\"\n",
    "    \n",
    "    X_train, y_train = data_train[FEATURES].values, data_train[LABEL].values\n",
    "    X_test, y_test = data_test[FEATURES].values, data_test[LABEL].values\n",
    "    \n",
    "    model = build_model()\n",
    "    model.fit(X_train, y_train, epochs=30, batch_size=10, validation_data=(X_test, y_test))\n",
    "    model.save(os.path.join(output_dir, \"housing_model.keras\"))\n",
    "    print(\"Model saved to\", output_dir)\n",
    "\n",
    "def main(output_dir, deploy, bucket_name=None, job_name=None):\n",
    "    os.makedirs(output_dir, exist_ok=True)\n",
    "    train_and_evaluate(output_dir)\n",
    "    \n",
    "    if deploy == \"cloud\":\n",
    "        print(\"Uploading model to Cloud Storage...\")\n",
    "        os.system(f\"gsutil cp -r {output_dir} gs://{bucket_name}/{job_name}/\")\n",
    "        print(\"Model uploaded to gs://{}/{}\".format(bucket_name, job_name))"
   ]
  },
  {
   "cell_type": "code",
   "execution_count": 8,
   "id": "a24a526d-ffa5-43bb-8af4-34b5e86f0d4b",
   "metadata": {
    "tags": []
   },
   "outputs": [
    {
     "name": "stdout",
     "output_type": "stream",
     "text": [
      "Epoch 1/30\n"
     ]
    },
    {
     "name": "stderr",
     "output_type": "stream",
     "text": [
      "2025-02-26 12:23:24.983208: W tensorflow/compiler/xla/stream_executor/platform/default/dso_loader.cc:64] Could not load dynamic library 'libcuda.so.1'; dlerror: libcuda.so.1: cannot open shared object file: No such file or directory; LD_LIBRARY_PATH: /usr/local/cuda/lib64:/usr/local/nccl2/lib:/usr/local/cuda/extras/CUPTI/lib64:/usr/lib/x86_64-linux-gnu/:/opt/conda/lib\n",
      "2025-02-26 12:23:24.983262: W tensorflow/compiler/xla/stream_executor/cuda/cuda_driver.cc:265] failed call to cuInit: UNKNOWN ERROR (303)\n",
      "2025-02-26 12:23:24.983287: I tensorflow/compiler/xla/stream_executor/cuda/cuda_diagnostics.cc:156] kernel driver does not appear to be running on this host (instance-20250226-162453): /proc/driver/nvidia/version does not exist\n",
      "2025-02-26 12:23:24.983616: I tensorflow/core/platform/cpu_feature_guard.cc:193] This TensorFlow binary is optimized with oneAPI Deep Neural Network Library (oneDNN) to use the following CPU instructions in performance-critical operations:  AVX2 FMA\n",
      "To enable them in other operations, rebuild TensorFlow with the appropriate compiler flags.\n"
     ]
    },
    {
     "name": "stdout",
     "output_type": "stream",
     "text": [
      "41/41 [==============================] - 1s 8ms/step - loss: 668966976.0000 - mape: 99.8736 - val_loss: 280387680.0000 - val_mape: 99.2401\n",
      "Epoch 2/30\n",
      "41/41 [==============================] - 0s 3ms/step - loss: 663219392.0000 - mape: 99.2648 - val_loss: 267507776.0000 - val_mape: 96.2187\n",
      "Epoch 3/30\n",
      "41/41 [==============================] - 0s 3ms/step - loss: 638218880.0000 - mape: 96.4859 - val_loss: 214466848.0000 - val_mape: 82.7446\n",
      "Epoch 4/30\n",
      "41/41 [==============================] - 0s 3ms/step - loss: 544524672.0000 - mape: 85.0209 - val_loss: 79142272.0000 - val_mape: 40.5269\n",
      "Epoch 5/30\n",
      "41/41 [==============================] - 0s 3ms/step - loss: 324647008.0000 - mape: 60.5177 - val_loss: 192129952.0000 - val_mape: 102.8927\n",
      "Epoch 6/30\n",
      "41/41 [==============================] - 0s 3ms/step - loss: 189517984.0000 - mape: 50.7541 - val_loss: 494105152.0000 - val_mape: 163.6092\n",
      "Epoch 7/30\n",
      "41/41 [==============================] - 0s 3ms/step - loss: 185496112.0000 - mape: 52.0626 - val_loss: 439923904.0000 - val_mape: 154.5653\n",
      "Epoch 8/30\n",
      "41/41 [==============================] - 0s 3ms/step - loss: 183422416.0000 - mape: 51.3649 - val_loss: 450340704.0000 - val_mape: 156.3304\n",
      "Epoch 9/30\n",
      "41/41 [==============================] - 0s 3ms/step - loss: 182066640.0000 - mape: 51.6000 - val_loss: 453751296.0000 - val_mape: 156.8932\n",
      "Epoch 10/30\n",
      "41/41 [==============================] - 0s 3ms/step - loss: 179857552.0000 - mape: 50.9148 - val_loss: 388956672.0000 - val_mape: 145.5135\n",
      "Epoch 11/30\n",
      "41/41 [==============================] - 0s 3ms/step - loss: 178408416.0000 - mape: 50.0976 - val_loss: 441869376.0000 - val_mape: 154.8429\n",
      "Epoch 12/30\n",
      "41/41 [==============================] - 0s 3ms/step - loss: 177701680.0000 - mape: 51.0419 - val_loss: 408785312.0000 - val_mape: 149.0540\n",
      "Epoch 13/30\n",
      "41/41 [==============================] - 0s 3ms/step - loss: 175452704.0000 - mape: 49.9422 - val_loss: 422933280.0000 - val_mape: 151.5390\n",
      "Epoch 14/30\n",
      "41/41 [==============================] - 0s 3ms/step - loss: 174047376.0000 - mape: 50.3458 - val_loss: 403235584.0000 - val_mape: 148.0394\n",
      "Epoch 15/30\n",
      "41/41 [==============================] - 0s 3ms/step - loss: 175517744.0000 - mape: 49.5213 - val_loss: 444064736.0000 - val_mape: 155.1693\n",
      "Epoch 16/30\n",
      "41/41 [==============================] - 0s 3ms/step - loss: 172049648.0000 - mape: 50.7494 - val_loss: 395706048.0000 - val_mape: 146.6617\n",
      "Epoch 17/30\n",
      "41/41 [==============================] - 0s 3ms/step - loss: 169696144.0000 - mape: 49.4547 - val_loss: 402777632.0000 - val_mape: 147.9140\n",
      "Epoch 18/30\n",
      "41/41 [==============================] - 0s 3ms/step - loss: 168326624.0000 - mape: 48.9041 - val_loss: 378255968.0000 - val_mape: 143.4467\n",
      "Epoch 19/30\n",
      "41/41 [==============================] - 0s 3ms/step - loss: 167029856.0000 - mape: 48.7981 - val_loss: 387240128.0000 - val_mape: 145.0815\n",
      "Epoch 20/30\n",
      "41/41 [==============================] - 0s 3ms/step - loss: 166151232.0000 - mape: 49.4725 - val_loss: 398651232.0000 - val_mape: 147.1344\n",
      "Epoch 21/30\n",
      "41/41 [==============================] - 0s 3ms/step - loss: 165630416.0000 - mape: 49.2028 - val_loss: 409661280.0000 - val_mape: 149.0963\n",
      "Epoch 22/30\n",
      "41/41 [==============================] - 0s 3ms/step - loss: 163169104.0000 - mape: 48.2698 - val_loss: 390875552.0000 - val_mape: 145.6948\n",
      "Epoch 23/30\n",
      "41/41 [==============================] - 0s 3ms/step - loss: 162614560.0000 - mape: 49.0734 - val_loss: 364612800.0000 - val_mape: 140.8302\n",
      "Epoch 24/30\n",
      "41/41 [==============================] - 0s 3ms/step - loss: 161029840.0000 - mape: 47.4370 - val_loss: 380952864.0000 - val_mape: 143.8496\n",
      "Epoch 25/30\n",
      "41/41 [==============================] - 0s 3ms/step - loss: 159256288.0000 - mape: 48.0707 - val_loss: 355546144.0000 - val_mape: 139.0769\n",
      "Epoch 26/30\n",
      "41/41 [==============================] - 0s 3ms/step - loss: 157901872.0000 - mape: 47.3352 - val_loss: 360553856.0000 - val_mape: 140.0116\n",
      "Epoch 27/30\n",
      "41/41 [==============================] - 0s 3ms/step - loss: 156656096.0000 - mape: 48.1119 - val_loss: 376983648.0000 - val_mape: 143.0624\n",
      "Epoch 28/30\n",
      "41/41 [==============================] - 0s 3ms/step - loss: 156100384.0000 - mape: 46.6731 - val_loss: 359739552.0000 - val_mape: 139.8201\n",
      "Epoch 29/30\n",
      "41/41 [==============================] - 0s 3ms/step - loss: 154299152.0000 - mape: 47.3216 - val_loss: 385412352.0000 - val_mape: 144.5862\n",
      "Epoch 30/30\n",
      "41/41 [==============================] - 0s 3ms/step - loss: 152344800.0000 - mape: 47.2929 - val_loss: 359922432.0000 - val_mape: 139.8126\n",
      "Model saved to ./model_output\n"
     ]
    }
   ],
   "source": [
    "if __name__ == \"__main__\":\n",
    "    if \"ipykernel_launcher\" in sys.argv[0]:  # Detects Jupyter Notebook\n",
    "        args = argparse.Namespace(\n",
    "            output_dir=\"./model_output\",\n",
    "            deploy=\"local\",  # Change to \"cloud\" if deploying to GCP\n",
    "            bucket_name=\"your-bucket-name\",  # Needed for cloud\n",
    "            job_name=\"housing_model_training\"  # Needed for cloud\n",
    "        )\n",
    "    else:\n",
    "        parser = argparse.ArgumentParser()\n",
    "        parser.add_argument(\"--output_dir\", required=True, help=\"Path to save the model\")\n",
    "        parser.add_argument(\"--deploy\", required=True, choices=[\"local\", \"cloud\"], help=\"Deployment mode\")\n",
    "        parser.add_argument(\"--bucket_name\", help=\"Google Cloud Storage bucket name\")\n",
    "        parser.add_argument(\"--job_name\", help=\"Google Cloud AI Platform job name\")\n",
    "        args = parser.parse_args()\n",
    "\n",
    "    main(args.output_dir, args.deploy, args.bucket_name, args.job_name)\n"
   ]
  },
  {
   "cell_type": "markdown",
   "id": "8514ca7a-39ca-402f-ad0c-6402f4c14762",
   "metadata": {},
   "source": [
    "## **Run the model on local device**"
   ]
  },
  {
   "cell_type": "code",
   "execution_count": 9,
   "id": "ccf67a79-d070-4a63-bc9f-023e09bfac3e",
   "metadata": {
    "tags": []
   },
   "outputs": [
    {
     "name": "stdout",
     "output_type": "stream",
     "text": [
      "Epoch 1/30\n",
      "41/41 [==============================] - 1s 6ms/step - loss: 669846976.0000 - mape: 99.9785 - val_loss: 282265248.0000 - val_mape: 99.6716\n",
      "Epoch 2/30\n",
      "41/41 [==============================] - 0s 3ms/step - loss: 666226496.0000 - mape: 99.5809 - val_loss: 274760288.0000 - val_mape: 97.9391\n",
      "Epoch 3/30\n",
      "41/41 [==============================] - 0s 3ms/step - loss: 651948992.0000 - mape: 97.9113 - val_loss: 247265584.0000 - val_mape: 91.3250\n",
      "Epoch 4/30\n",
      "41/41 [==============================] - 0s 3ms/step - loss: 605271872.0000 - mape: 92.4944 - val_loss: 172100432.0000 - val_mape: 70.5145\n",
      "Epoch 5/30\n",
      "41/41 [==============================] - 0s 3ms/step - loss: 488049664.0000 - mape: 78.5657 - val_loss: 57205148.0000 - val_mape: 34.9556\n",
      "Epoch 6/30\n",
      "41/41 [==============================] - 0s 3ms/step - loss: 299205920.0000 - mape: 57.0786 - val_loss: 148544384.0000 - val_mape: 90.3468\n",
      "Epoch 7/30\n",
      "41/41 [==============================] - 0s 3ms/step - loss: 184617008.0000 - mape: 48.8675 - val_loss: 407465728.0000 - val_mape: 148.8152\n",
      "Epoch 8/30\n",
      "41/41 [==============================] - 0s 3ms/step - loss: 178915952.0000 - mape: 52.1343 - val_loss: 397184576.0000 - val_mape: 146.9373\n",
      "Epoch 9/30\n",
      "41/41 [==============================] - 0s 2ms/step - loss: 176440688.0000 - mape: 49.6689 - val_loss: 371284768.0000 - val_mape: 142.1634\n",
      "Epoch 10/30\n",
      "41/41 [==============================] - 0s 3ms/step - loss: 173507296.0000 - mape: 50.4347 - val_loss: 395381472.0000 - val_mape: 146.5573\n",
      "Epoch 11/30\n",
      "41/41 [==============================] - 0s 3ms/step - loss: 171576752.0000 - mape: 49.9928 - val_loss: 380208352.0000 - val_mape: 143.7652\n",
      "Epoch 12/30\n",
      "41/41 [==============================] - 0s 3ms/step - loss: 169938320.0000 - mape: 49.7910 - val_loss: 382878944.0000 - val_mape: 144.2295\n",
      "Epoch 13/30\n",
      "41/41 [==============================] - 0s 3ms/step - loss: 169090480.0000 - mape: 49.5170 - val_loss: 368418464.0000 - val_mape: 141.5279\n",
      "Epoch 14/30\n",
      "41/41 [==============================] - 0s 3ms/step - loss: 168145488.0000 - mape: 48.7864 - val_loss: 406273216.0000 - val_mape: 148.4243\n",
      "Epoch 15/30\n",
      "41/41 [==============================] - 0s 3ms/step - loss: 165664944.0000 - mape: 49.4445 - val_loss: 388099680.0000 - val_mape: 145.1177\n",
      "Epoch 16/30\n",
      "41/41 [==============================] - 0s 3ms/step - loss: 164154608.0000 - mape: 49.3406 - val_loss: 356776224.0000 - val_mape: 139.2611\n",
      "Epoch 17/30\n",
      "41/41 [==============================] - 0s 3ms/step - loss: 162720928.0000 - mape: 48.4429 - val_loss: 342237152.0000 - val_mape: 136.4389\n",
      "Epoch 18/30\n",
      "41/41 [==============================] - 0s 3ms/step - loss: 160866704.0000 - mape: 47.7122 - val_loss: 369766592.0000 - val_mape: 141.6512\n",
      "Epoch 19/30\n",
      "41/41 [==============================] - 0s 3ms/step - loss: 159661872.0000 - mape: 48.8595 - val_loss: 369124768.0000 - val_mape: 141.5069\n",
      "Epoch 20/30\n",
      "41/41 [==============================] - 0s 3ms/step - loss: 158007472.0000 - mape: 47.7857 - val_loss: 353488640.0000 - val_mape: 138.5289\n",
      "Epoch 21/30\n",
      "41/41 [==============================] - 0s 3ms/step - loss: 156559312.0000 - mape: 47.9649 - val_loss: 356049248.0000 - val_mape: 138.9884\n",
      "Epoch 22/30\n",
      "41/41 [==============================] - 0s 3ms/step - loss: 155132624.0000 - mape: 47.7890 - val_loss: 332691104.0000 - val_mape: 134.4406\n",
      "Epoch 23/30\n",
      "41/41 [==============================] - 0s 3ms/step - loss: 154184496.0000 - mape: 47.5295 - val_loss: 320432704.0000 - val_mape: 131.9710\n",
      "Epoch 24/30\n",
      "41/41 [==============================] - 0s 3ms/step - loss: 152368528.0000 - mape: 46.8999 - val_loss: 342509408.0000 - val_mape: 136.3005\n",
      "Epoch 25/30\n",
      "41/41 [==============================] - 0s 3ms/step - loss: 151496944.0000 - mape: 46.3234 - val_loss: 310127008.0000 - val_mape: 129.8194\n",
      "Epoch 26/30\n",
      "41/41 [==============================] - 0s 3ms/step - loss: 149117408.0000 - mape: 46.6646 - val_loss: 334084448.0000 - val_mape: 134.5921\n",
      "Epoch 27/30\n",
      "41/41 [==============================] - 0s 3ms/step - loss: 147671984.0000 - mape: 46.7273 - val_loss: 333638240.0000 - val_mape: 134.4715\n",
      "Epoch 28/30\n",
      "41/41 [==============================] - 0s 3ms/step - loss: 146221488.0000 - mape: 46.2150 - val_loss: 318655232.0000 - val_mape: 131.4549\n",
      "Epoch 29/30\n",
      "41/41 [==============================] - 0s 3ms/step - loss: 145285328.0000 - mape: 45.4476 - val_loss: 317743776.0000 - val_mape: 131.2376\n",
      "Epoch 30/30\n",
      "41/41 [==============================] - 0s 3ms/step - loss: 143990144.0000 - mape: 45.5995 - val_loss: 333733920.0000 - val_mape: 134.3745\n",
      "Model saved to ./model_output\n"
     ]
    }
   ],
   "source": [
    "main(output_dir=\"./model_output\", deploy=\"local\")\n"
   ]
  },
  {
   "cell_type": "markdown",
   "id": "ace9b6eb-3302-4003-812e-9978d5606547",
   "metadata": {},
   "source": [
    "## **Bucket_name = Create a bucket in the Googlecloud with any name(msds462-dl) and give that name here**"
   ]
  },
  {
   "cell_type": "code",
   "execution_count": 10,
   "id": "fbab6da1-8765-4807-940d-670caa852769",
   "metadata": {
    "tags": []
   },
   "outputs": [
    {
     "name": "stdout",
     "output_type": "stream",
     "text": [
      "Epoch 1/30\n",
      "41/41 [==============================] - 1s 7ms/step - loss: 670193024.0000 - mape: 100.0175 - val_loss: 283498144.0000 - val_mape: 99.9524\n",
      "Epoch 2/30\n",
      "41/41 [==============================] - 0s 3ms/step - loss: 669477568.0000 - mape: 99.9368 - val_loss: 282360928.0000 - val_mape: 99.6924\n",
      "Epoch 3/30\n",
      "41/41 [==============================] - 0s 3ms/step - loss: 667153664.0000 - mape: 99.6782 - val_loss: 277103936.0000 - val_mape: 98.4806\n",
      "Epoch 4/30\n",
      "41/41 [==============================] - 0s 3ms/step - loss: 657657984.0000 - mape: 98.6402 - val_loss: 257810880.0000 - val_mape: 93.9033\n",
      "Epoch 5/30\n",
      "41/41 [==============================] - 0s 3ms/step - loss: 625206912.0000 - mape: 94.7925 - val_loss: 198352208.0000 - val_mape: 78.3102\n",
      "Epoch 6/30\n",
      "41/41 [==============================] - 0s 3ms/step - loss: 522709728.0000 - mape: 82.7966 - val_loss: 67860672.0000 - val_mape: 37.3557\n",
      "Epoch 7/30\n",
      "41/41 [==============================] - 0s 3ms/step - loss: 306320480.0000 - mape: 59.1557 - val_loss: 200186928.0000 - val_mape: 104.9547\n",
      "Epoch 8/30\n",
      "41/41 [==============================] - 0s 3ms/step - loss: 189365808.0000 - mape: 51.6334 - val_loss: 495201792.0000 - val_mape: 163.6266\n",
      "Epoch 9/30\n",
      "41/41 [==============================] - 0s 3ms/step - loss: 183148112.0000 - mape: 51.6824 - val_loss: 405808064.0000 - val_mape: 148.4525\n",
      "Epoch 10/30\n",
      "41/41 [==============================] - 0s 3ms/step - loss: 180799504.0000 - mape: 51.1860 - val_loss: 412479360.0000 - val_mape: 149.6127\n",
      "Epoch 11/30\n",
      "41/41 [==============================] - 0s 3ms/step - loss: 179468448.0000 - mape: 51.0381 - val_loss: 430857632.0000 - val_mape: 152.8170\n",
      "Epoch 12/30\n",
      "41/41 [==============================] - 0s 4ms/step - loss: 177574032.0000 - mape: 50.7029 - val_loss: 399358784.0000 - val_mape: 147.2330\n",
      "Epoch 13/30\n",
      "41/41 [==============================] - 0s 3ms/step - loss: 176143488.0000 - mape: 50.3081 - val_loss: 395585056.0000 - val_mape: 146.5334\n",
      "Epoch 14/30\n",
      "41/41 [==============================] - 0s 3ms/step - loss: 174688032.0000 - mape: 50.3438 - val_loss: 378074336.0000 - val_mape: 143.3225\n",
      "Epoch 15/30\n",
      "41/41 [==============================] - 0s 3ms/step - loss: 173644976.0000 - mape: 49.8808 - val_loss: 398284928.0000 - val_mape: 146.9820\n",
      "Epoch 16/30\n",
      "41/41 [==============================] - 0s 3ms/step - loss: 171781328.0000 - mape: 49.4989 - val_loss: 402033472.0000 - val_mape: 147.6369\n",
      "Epoch 17/30\n",
      "41/41 [==============================] - 0s 3ms/step - loss: 170574080.0000 - mape: 50.1026 - val_loss: 372763872.0000 - val_mape: 142.2780\n",
      "Epoch 18/30\n",
      "41/41 [==============================] - 0s 3ms/step - loss: 169547216.0000 - mape: 49.5463 - val_loss: 394440800.0000 - val_mape: 146.2303\n",
      "Epoch 19/30\n",
      "41/41 [==============================] - 0s 3ms/step - loss: 167138560.0000 - mape: 49.1386 - val_loss: 361455872.0000 - val_mape: 140.1189\n",
      "Epoch 20/30\n",
      "41/41 [==============================] - 0s 3ms/step - loss: 166410096.0000 - mape: 49.2304 - val_loss: 389492128.0000 - val_mape: 145.2916\n",
      "Epoch 21/30\n",
      "41/41 [==============================] - 0s 3ms/step - loss: 164798064.0000 - mape: 49.2411 - val_loss: 367864128.0000 - val_mape: 141.2815\n",
      "Epoch 22/30\n",
      "41/41 [==============================] - 0s 3ms/step - loss: 163771600.0000 - mape: 48.2755 - val_loss: 371314048.0000 - val_mape: 141.9017\n",
      "Epoch 23/30\n",
      "41/41 [==============================] - 0s 3ms/step - loss: 162041696.0000 - mape: 48.0152 - val_loss: 367208448.0000 - val_mape: 141.1138\n",
      "Epoch 24/30\n",
      "41/41 [==============================] - 0s 3ms/step - loss: 161082576.0000 - mape: 49.0054 - val_loss: 387609056.0000 - val_mape: 144.8678\n",
      "Epoch 25/30\n",
      "41/41 [==============================] - 0s 3ms/step - loss: 159199152.0000 - mape: 48.0287 - val_loss: 361287392.0000 - val_mape: 139.9506\n",
      "Epoch 26/30\n",
      "41/41 [==============================] - 0s 3ms/step - loss: 157954160.0000 - mape: 47.3329 - val_loss: 352909504.0000 - val_mape: 138.3370\n",
      "Epoch 27/30\n",
      "41/41 [==============================] - 0s 3ms/step - loss: 157222400.0000 - mape: 47.7619 - val_loss: 382832064.0000 - val_mape: 143.9187\n",
      "Epoch 28/30\n",
      "41/41 [==============================] - 0s 3ms/step - loss: 155275696.0000 - mape: 47.7059 - val_loss: 343475008.0000 - val_mape: 136.4714\n",
      "Epoch 29/30\n",
      "41/41 [==============================] - 0s 3ms/step - loss: 153925040.0000 - mape: 47.0507 - val_loss: 347060352.0000 - val_mape: 137.1345\n",
      "Epoch 30/30\n",
      "41/41 [==============================] - 0s 3ms/step - loss: 152469376.0000 - mape: 47.1672 - val_loss: 351490816.0000 - val_mape: 137.9543\n",
      "Model saved to ./model_output\n",
      "Uploading model to Cloud Storage...\n"
     ]
    },
    {
     "name": "stderr",
     "output_type": "stream",
     "text": [
      "Copying file://./model_output/housing_model.keras [Content-Type=application/octet-stream]...\n",
      "/ [1 files][ 59.4 KiB/ 59.4 KiB]                                                \n",
      "Operation completed over 1 objects/59.4 KiB.                                     \n"
     ]
    },
    {
     "name": "stdout",
     "output_type": "stream",
     "text": [
      "Model uploaded to gs://msds462-dl/housing_model_training\n"
     ]
    }
   ],
   "source": [
    "main(output_dir=\"./model_output\", deploy=\"cloud\", bucket_name=\"msds462-dl\", job_name=\"housing_model_training\")"
   ]
  },
  {
   "cell_type": "markdown",
   "id": "94ce89c6-5085-4b65-b485-357c061ff67f",
   "metadata": {},
   "source": [
    "**Now Check in the bucket if the model has been created in the Google cloud with housing_model.keras**"
   ]
  },
  {
   "cell_type": "markdown",
   "id": "d6cc13ec-9cad-4c78-af75-34f7f04a435b",
   "metadata": {},
   "source": [
    "## Suggested Exploration"
   ]
  },
  {
   "cell_type": "markdown",
   "id": "f6c04be9-c82f-4cbe-b329-1a692a2c285d",
   "metadata": {},
   "source": [
    "### (a) Change the number of units of the DNNRegressor used to train the model and observe the impact on model accuracy"
   ]
  },
  {
   "cell_type": "code",
   "execution_count": 11,
   "id": "b7ce4940-4e7a-4026-b024-2915b13b3122",
   "metadata": {
    "tags": []
   },
   "outputs": [],
   "source": [
    "def load_data():\n",
    "    data_train = pd.read_csv(\n",
    "        'https://storage.googleapis.com/spls/gsp418/housing_train.csv',\n",
    "        names=[\"CRIM\", \"ZN\", \"INDUS\", \"CHAS\", \"NOX\", \"RM\", \"AGE\", \"DIS\", \"RAD\", \"TAX\", \"PTRATIO\", \"MEDV\"])\n",
    "    data_test = pd.read_csv(\n",
    "        'https://storage.googleapis.com/spls/gsp418/housing_test.csv',\n",
    "        names=[\"CRIM\", \"ZN\", \"INDUS\", \"CHAS\", \"NOX\", \"RM\", \"AGE\", \"DIS\", \"RAD\", \"TAX\", \"PTRATIO\", \"MEDV\"])\n",
    "    return data_train, data_test\n",
    "\n",
    "def build_model(units_per_layer):\n",
    "    \"\"\"\n",
    "    Build a model with customizable units per layer.\n",
    "    :param units_per_layer: List of integers representing the number of units per layer.\n",
    "    :return: Keras model\n",
    "    \"\"\"\n",
    "    model = tf.keras.Sequential()\n",
    "    model.add(tf.keras.layers.Input(shape=(9,)))\n",
    "    \n",
    "    # Add layers based on the units_per_layer list\n",
    "    for units in units_per_layer:\n",
    "        model.add(tf.keras.layers.Dense(units, activation='relu'))\n",
    "    \n",
    "    # Output layer\n",
    "    model.add(tf.keras.layers.Dense(1))\n",
    "    \n",
    "    model.compile(optimizer='adam', loss='mse', metrics=['mape'])\n",
    "    return model\n",
    "\n",
    "def train_and_evaluate(output_dir, units_per_layer):\n",
    "    data_train, data_test = load_data()\n",
    "    FEATURES = [\"CRIM\", \"ZN\", \"INDUS\", \"NOX\", \"RM\", \"AGE\", \"DIS\", \"TAX\", \"PTRATIO\"]\n",
    "    LABEL = \"MEDV\"\n",
    "    \n",
    "    X_train, y_train = data_train[FEATURES].values, data_train[LABEL].values\n",
    "    X_test, y_test = data_test[FEATURES].values, data_test[LABEL].values\n",
    "    \n",
    "    model = build_model(units_per_layer)\n",
    "    model.fit(X_train, y_train, epochs=30, batch_size=10, validation_data=(X_test, y_test))\n",
    "    model.save(os.path.join(output_dir, \"housing_model1.keras\"))\n",
    "    print(\"Model saved to\", output_dir)\n",
    "\n",
    "def main(output_dir, deploy, units_per_layer, bucket_name=None, job_name=None):\n",
    "    os.makedirs(output_dir, exist_ok=True)\n",
    "    train_and_evaluate(output_dir, units_per_layer)\n",
    "    \n",
    "    if deploy == \"cloud\":\n",
    "        print(\"Uploading model to Cloud Storage...\")\n",
    "        os.system(f\"gsutil cp -r {output_dir} gs://{bucket_name}/{job_name}/\")\n",
    "        print(\"Model uploaded to gs://{}/{}\".format(bucket_name, job_name))\n"
   ]
  },
  {
   "cell_type": "code",
   "execution_count": 12,
   "id": "514f0cf3-0304-4f27-967b-167684ebee8b",
   "metadata": {
    "tags": []
   },
   "outputs": [
    {
     "name": "stdout",
     "output_type": "stream",
     "text": [
      "Epoch 1/30\n",
      "41/41 [==============================] - 1s 6ms/step - loss: 670018560.0000 - mape: 99.9998 - val_loss: 283701024.0000 - val_mape: 99.9992\n",
      "Epoch 2/30\n",
      "41/41 [==============================] - 0s 3ms/step - loss: 670010880.0000 - mape: 99.9991 - val_loss: 283696416.0000 - val_mape: 99.9982\n",
      "Epoch 3/30\n",
      "41/41 [==============================] - 0s 2ms/step - loss: 669983168.0000 - mape: 99.9974 - val_loss: 283689856.0000 - val_mape: 99.9967\n",
      "Epoch 4/30\n",
      "41/41 [==============================] - 0s 3ms/step - loss: 669814400.0000 - mape: 99.9871 - val_loss: 283676544.0000 - val_mape: 99.9938\n",
      "Epoch 5/30\n",
      "41/41 [==============================] - 0s 3ms/step - loss: 668334528.0000 - mape: 99.8616 - val_loss: 279912736.0000 - val_mape: 99.1689\n",
      "Epoch 6/30\n",
      "41/41 [==============================] - 0s 3ms/step - loss: 658473344.0000 - mape: 98.8144 - val_loss: 263293648.0000 - val_mape: 95.2930\n",
      "Epoch 7/30\n",
      "41/41 [==============================] - 0s 3ms/step - loss: 633387840.0000 - mape: 96.1081 - val_loss: 229021616.0000 - val_mape: 86.7787\n",
      "Epoch 8/30\n",
      "41/41 [==============================] - 0s 3ms/step - loss: 587598016.0000 - mape: 90.9063 - val_loss: 174220816.0000 - val_mape: 71.3072\n",
      "Epoch 9/30\n",
      "41/41 [==============================] - 0s 3ms/step - loss: 518374688.0000 - mape: 82.3858 - val_loss: 109112088.0000 - val_mape: 49.5374\n",
      "Epoch 10/30\n",
      "41/41 [==============================] - 0s 3ms/step - loss: 429570784.0000 - mape: 71.7516 - val_loss: 55311156.0000 - val_mape: 34.5966\n",
      "Epoch 11/30\n",
      "41/41 [==============================] - 0s 2ms/step - loss: 333904448.0000 - mape: 61.2530 - val_loss: 45078876.0000 - val_mape: 43.7384\n",
      "Epoch 12/30\n",
      "41/41 [==============================] - 0s 3ms/step - loss: 252162912.0000 - mape: 52.8926 - val_loss: 98375216.0000 - val_mape: 73.0591\n",
      "Epoch 13/30\n",
      "41/41 [==============================] - 0s 3ms/step - loss: 198370240.0000 - mape: 47.8690 - val_loss: 195367696.0000 - val_mape: 103.6773\n",
      "Epoch 14/30\n",
      "41/41 [==============================] - 0s 3ms/step - loss: 174156400.0000 - mape: 46.8978 - val_loss: 296212672.0000 - val_mape: 127.3111\n",
      "Epoch 15/30\n",
      "41/41 [==============================] - 0s 2ms/step - loss: 166251728.0000 - mape: 47.6374 - val_loss: 345508480.0000 - val_mape: 137.2126\n",
      "Epoch 16/30\n",
      "41/41 [==============================] - 0s 3ms/step - loss: 163485456.0000 - mape: 47.9056 - val_loss: 362251168.0000 - val_mape: 140.3991\n",
      "Epoch 17/30\n",
      "41/41 [==============================] - 0s 3ms/step - loss: 162222304.0000 - mape: 47.8840 - val_loss: 368101696.0000 - val_mape: 141.4776\n",
      "Epoch 18/30\n",
      "41/41 [==============================] - 0s 2ms/step - loss: 161213792.0000 - mape: 48.1536 - val_loss: 375275424.0000 - val_mape: 142.7939\n",
      "Epoch 19/30\n",
      "41/41 [==============================] - 0s 2ms/step - loss: 160180912.0000 - mape: 48.0158 - val_loss: 371342592.0000 - val_mape: 142.0449\n",
      "Epoch 20/30\n",
      "41/41 [==============================] - 0s 3ms/step - loss: 159476368.0000 - mape: 48.0915 - val_loss: 379004192.0000 - val_mape: 143.4453\n",
      "Epoch 21/30\n",
      "41/41 [==============================] - 0s 3ms/step - loss: 158420736.0000 - mape: 47.4803 - val_loss: 358591744.0000 - val_mape: 139.6109\n",
      "Epoch 22/30\n",
      "41/41 [==============================] - 0s 3ms/step - loss: 157615712.0000 - mape: 47.3780 - val_loss: 365852992.0000 - val_mape: 140.9640\n",
      "Epoch 23/30\n",
      "41/41 [==============================] - 0s 3ms/step - loss: 156509920.0000 - mape: 47.4180 - val_loss: 364008704.0000 - val_mape: 140.5991\n",
      "Epoch 24/30\n",
      "41/41 [==============================] - 0s 3ms/step - loss: 155872928.0000 - mape: 47.4517 - val_loss: 363672704.0000 - val_mape: 140.5185\n",
      "Epoch 25/30\n",
      "41/41 [==============================] - 0s 2ms/step - loss: 154900240.0000 - mape: 46.8954 - val_loss: 344993216.0000 - val_mape: 136.9334\n",
      "Epoch 26/30\n",
      "41/41 [==============================] - 0s 2ms/step - loss: 154013488.0000 - mape: 47.0190 - val_loss: 349408608.0000 - val_mape: 137.7699\n",
      "Epoch 27/30\n",
      "41/41 [==============================] - 0s 3ms/step - loss: 153000784.0000 - mape: 46.8804 - val_loss: 353134944.0000 - val_mape: 138.4662\n",
      "Epoch 28/30\n",
      "41/41 [==============================] - 0s 3ms/step - loss: 152183616.0000 - mape: 46.6639 - val_loss: 341706848.0000 - val_mape: 136.2460\n",
      "Epoch 29/30\n",
      "41/41 [==============================] - 0s 3ms/step - loss: 151555008.0000 - mape: 46.8201 - val_loss: 340981888.0000 - val_mape: 136.0878\n",
      "Epoch 30/30\n",
      "41/41 [==============================] - 0s 3ms/step - loss: 150756832.0000 - mape: 46.4425 - val_loss: 343416384.0000 - val_mape: 136.5446\n",
      "Model saved to ./model_output\n"
     ]
    }
   ],
   "source": [
    "# Directly set parameters when running in Jupyter (bypassing argparse)\n",
    "if __name__ == \"__main__\":\n",
    "    # Manually set the arguments for Jupyter Notebook execution\n",
    "    args = argparse.Namespace(\n",
    "        output_dir=\"./model_output\",\n",
    "        deploy=\"local\",  # Change to \"cloud\" if deploying to GCP\n",
    "        bucket_name=\"your-bucket-name\",  # Needed for cloud\n",
    "        job_name=\"housing_model_training\",  # Needed for cloud\n",
    "        units_per_layer=[5, 10, 15]  # Default unit configuration for layers\n",
    "    )\n",
    "    \n",
    "    # Now call the main function with all the arguments, including units_per_layer\n",
    "    main(args.output_dir, args.deploy, args.units_per_layer, args.bucket_name, args.job_name)"
   ]
  },
  {
   "cell_type": "markdown",
   "id": "3fa65d98-beed-42fe-b31f-6e474160c8bf",
   "metadata": {},
   "source": [
    "### Key Observations:\n",
    "1. Slower Convergence: The new model takes longer to converge, with a slower reduction in loss and MAPE. This could indicate that increasing the units in the regressor has led to a more complex model, which is more difficult to train.\n",
    "2. Overfitting: The new model shows more overfitting compared to the initial model. Even though the training loss is decreasing, the validation loss is not improving significantly and in some cases, it even increases. Additionally, the validation MAPE is much higher and less stable.\n",
    "3. Poorer Generalization: The validation performance deteriorates over epochs, indicating that the model with the new configuration struggles to generalize from training to validation data. In contrast, the initial model had a better balance between training and validation performance, with validation MAPE staying relatively lower compared to the new model."
   ]
  },
  {
   "cell_type": "code",
   "execution_count": null,
   "id": "881aa274-3a59-41c1-b2e7-cf35a9b7887f",
   "metadata": {},
   "outputs": [],
   "source": []
  },
  {
   "cell_type": "markdown",
   "id": "949ad765-a0a0-4335-8a3a-212787b4d8a9",
   "metadata": {},
   "source": [
    "### (b) Observe how the model training is being scaled across single/several VMs"
   ]
  },
  {
   "cell_type": "code",
   "execution_count": 13,
   "id": "572a2ec3-f0a2-4c78-ac07-744fc627dc7a",
   "metadata": {
    "tags": []
   },
   "outputs": [
    {
     "name": "stdout",
     "output_type": "stream",
     "text": [
      "Epoch 1/30\n",
      "41/41 [==============================] - 1s 9ms/step - loss: 667051584.0000 - mape: 99.6713 - val_loss: 278449920.0000 - val_mape: 98.7889\n",
      "Epoch 2/30\n",
      "41/41 [==============================] - 0s 4ms/step - loss: 662877952.0000 - mape: 99.2185 - val_loss: 271595072.0000 - val_mape: 97.1878\n",
      "Epoch 3/30\n",
      "41/41 [==============================] - 0s 4ms/step - loss: 653668224.0000 - mape: 98.1685 - val_loss: 256697104.0000 - val_mape: 93.6229\n",
      "Epoch 4/30\n",
      "41/41 [==============================] - 0s 4ms/step - loss: 633861184.0000 - mape: 95.9369 - val_loss: 227260208.0000 - val_mape: 86.1904\n",
      "Epoch 5/30\n",
      "41/41 [==============================] - 0s 4ms/step - loss: 596294272.0000 - mape: 91.2560 - val_loss: 177726240.0000 - val_mape: 72.1834\n",
      "Epoch 6/30\n",
      "41/41 [==============================] - 0s 4ms/step - loss: 533358720.0000 - mape: 83.6969 - val_loss: 112177304.0000 - val_mape: 50.4526\n",
      "Epoch 7/30\n",
      "41/41 [==============================] - 0s 4ms/step - loss: 444299744.0000 - mape: 73.2034 - val_loss: 54441712.0000 - val_mape: 34.7433\n",
      "Epoch 8/30\n",
      "41/41 [==============================] - 0s 4ms/step - loss: 342008992.0000 - mape: 62.3402 - val_loss: 51798888.0000 - val_mape: 48.9825\n",
      "Epoch 9/30\n",
      "41/41 [==============================] - 0s 4ms/step - loss: 252642416.0000 - mape: 53.3266 - val_loss: 134325200.0000 - val_mape: 85.9839\n",
      "Epoch 10/30\n",
      "41/41 [==============================] - 0s 4ms/step - loss: 202506752.0000 - mape: 49.8927 - val_loss: 271377280.0000 - val_mape: 122.0742\n",
      "Epoch 11/30\n",
      "41/41 [==============================] - 0s 4ms/step - loss: 182503344.0000 - mape: 49.0430 - val_loss: 346599552.0000 - val_mape: 137.6041\n",
      "Epoch 12/30\n",
      "41/41 [==============================] - 0s 4ms/step - loss: 178381104.0000 - mape: 50.0576 - val_loss: 394475552.0000 - val_mape: 146.5480\n",
      "Epoch 13/30\n",
      "41/41 [==============================] - 0s 4ms/step - loss: 176522192.0000 - mape: 50.2152 - val_loss: 412020480.0000 - val_mape: 149.6757\n",
      "Epoch 14/30\n",
      "41/41 [==============================] - 0s 4ms/step - loss: 175713328.0000 - mape: 50.3165 - val_loss: 405315584.0000 - val_mape: 148.4644\n",
      "Epoch 15/30\n",
      "41/41 [==============================] - 0s 4ms/step - loss: 174593056.0000 - mape: 50.0897 - val_loss: 410684704.0000 - val_mape: 149.4144\n",
      "Epoch 16/30\n",
      "41/41 [==============================] - 0s 4ms/step - loss: 173710592.0000 - mape: 50.0914 - val_loss: 409909120.0000 - val_mape: 149.2669\n",
      "Epoch 17/30\n",
      "41/41 [==============================] - 0s 4ms/step - loss: 173056064.0000 - mape: 49.7797 - val_loss: 413900000.0000 - val_mape: 149.9657\n",
      "Epoch 18/30\n",
      "41/41 [==============================] - 0s 4ms/step - loss: 171758880.0000 - mape: 49.7494 - val_loss: 409596640.0000 - val_mape: 149.1900\n",
      "Epoch 19/30\n",
      "41/41 [==============================] - 0s 4ms/step - loss: 171152224.0000 - mape: 49.5550 - val_loss: 408211808.0000 - val_mape: 148.9340\n",
      "Epoch 20/30\n",
      "41/41 [==============================] - 0s 4ms/step - loss: 170339344.0000 - mape: 49.7911 - val_loss: 410726656.0000 - val_mape: 149.3736\n",
      "Epoch 21/30\n",
      "41/41 [==============================] - 0s 4ms/step - loss: 169315520.0000 - mape: 49.2169 - val_loss: 375562560.0000 - val_mape: 142.9784\n",
      "Epoch 22/30\n",
      "41/41 [==============================] - 0s 4ms/step - loss: 168313968.0000 - mape: 49.0473 - val_loss: 404450272.0000 - val_mape: 148.2333\n",
      "Epoch 23/30\n",
      "41/41 [==============================] - 0s 4ms/step - loss: 168119072.0000 - mape: 48.9008 - val_loss: 396889504.0000 - val_mape: 146.8612\n",
      "Epoch 24/30\n",
      "41/41 [==============================] - 0s 4ms/step - loss: 166813808.0000 - mape: 49.2577 - val_loss: 412309088.0000 - val_mape: 149.6161\n",
      "Epoch 25/30\n",
      "41/41 [==============================] - 0s 4ms/step - loss: 165885216.0000 - mape: 48.7427 - val_loss: 380263392.0000 - val_mape: 143.8040\n",
      "Epoch 26/30\n",
      "41/41 [==============================] - 0s 4ms/step - loss: 165282144.0000 - mape: 48.7973 - val_loss: 380923136.0000 - val_mape: 143.9140\n",
      "Epoch 27/30\n",
      "41/41 [==============================] - 0s 4ms/step - loss: 164057376.0000 - mape: 48.4486 - val_loss: 381218720.0000 - val_mape: 143.9569\n",
      "Epoch 28/30\n",
      "41/41 [==============================] - 0s 4ms/step - loss: 163336704.0000 - mape: 48.6501 - val_loss: 389604736.0000 - val_mape: 145.4888\n",
      "Epoch 29/30\n",
      "41/41 [==============================] - 0s 5ms/step - loss: 162338720.0000 - mape: 48.2101 - val_loss: 375402048.0000 - val_mape: 142.8621\n",
      "Epoch 30/30\n",
      "41/41 [==============================] - 0s 5ms/step - loss: 161722016.0000 - mape: 48.0870 - val_loss: 378223552.0000 - val_mape: 143.3713\n",
      "Model saved to ./model_output\n"
     ]
    },
    {
     "data": {
      "text/html": [
       "\n",
       "      <iframe id=\"tensorboard-frame-78a1748e1a2d03b3\" width=\"100%\" height=\"800\" frameborder=\"0\">\n",
       "      </iframe>\n",
       "      <script>\n",
       "        (function() {\n",
       "          const frame = document.getElementById(\"tensorboard-frame-78a1748e1a2d03b3\");\n",
       "          const url = new URL(\"/proxy/6006/\", window.location);\n",
       "          const port = 0;\n",
       "          if (port) {\n",
       "            url.port = port;\n",
       "          }\n",
       "          frame.src = url;\n",
       "        })();\n",
       "      </script>\n",
       "    "
      ],
      "text/plain": [
       "<IPython.core.display.HTML object>"
      ]
     },
     "metadata": {},
     "output_type": "display_data"
    }
   ],
   "source": [
    "def load_data():\n",
    "    data_train = pd.read_csv(\n",
    "        'https://storage.googleapis.com/spls/gsp418/housing_train.csv',\n",
    "        names=[\"CRIM\", \"ZN\", \"INDUS\", \"CHAS\", \"NOX\", \"RM\", \"AGE\", \"DIS\", \"RAD\", \"TAX\", \"PTRATIO\", \"MEDV\"])\n",
    "    data_test = pd.read_csv(\n",
    "        'https://storage.googleapis.com/spls/gsp418/housing_test.csv',\n",
    "        names=[\"CRIM\", \"ZN\", \"INDUS\", \"CHAS\", \"NOX\", \"RM\", \"AGE\", \"DIS\", \"RAD\", \"TAX\", \"PTRATIO\", \"MEDV\"])\n",
    "    return data_train, data_test\n",
    "\n",
    "def build_model(units_per_layer):\n",
    "    \"\"\"\n",
    "    Build a model with customizable units per layer.\n",
    "    :param units_per_layer: List of integers representing the number of units per layer.\n",
    "    :return: Keras model\n",
    "    \"\"\"\n",
    "    model = tf.keras.Sequential()\n",
    "    model.add(tf.keras.layers.Input(shape=(9,)))\n",
    "    \n",
    "    # Add layers based on the units_per_layer list\n",
    "    for units in units_per_layer:\n",
    "        model.add(tf.keras.layers.Dense(units, activation='relu'))\n",
    "    \n",
    "    # Output layer\n",
    "    model.add(tf.keras.layers.Dense(1))\n",
    "    \n",
    "    model.compile(optimizer='adam', loss='mse', metrics=['mape'])\n",
    "    return model\n",
    "\n",
    "def train_and_evaluate(output_dir, units_per_layer):\n",
    "    data_train, data_test = load_data()\n",
    "    FEATURES = [\"CRIM\", \"ZN\", \"INDUS\", \"NOX\", \"RM\", \"AGE\", \"DIS\", \"TAX\", \"PTRATIO\"]\n",
    "    LABEL = \"MEDV\"\n",
    "    \n",
    "    X_train, y_train = data_train[FEATURES].values, data_train[LABEL].values\n",
    "    X_test, y_test = data_test[FEATURES].values, data_test[LABEL].values\n",
    "    \n",
    "    model = build_model(units_per_layer)\n",
    "    \n",
    "    # Set up TensorBoard callback\n",
    "    log_dir = os.path.join(output_dir, \"logs\")\n",
    "    tensorboard_callback = TensorBoard(log_dir=log_dir, histogram_freq=1)\n",
    "\n",
    "    # Train the model with the TensorBoard callback\n",
    "    model.fit(X_train, y_train, epochs=30, batch_size=10, validation_data=(X_test, y_test), callbacks=[tensorboard_callback])\n",
    "    \n",
    "    model.save(os.path.join(output_dir, \"housing_model1.keras\"))\n",
    "    print(\"Model saved to\", output_dir)\n",
    "\n",
    "def main(output_dir, deploy, units_per_layer, bucket_name=None, job_name=None):\n",
    "    os.makedirs(output_dir, exist_ok=True)\n",
    "    train_and_evaluate(output_dir, units_per_layer)\n",
    "    \n",
    "    if deploy == \"cloud\":\n",
    "        print(\"Uploading model to Cloud Storage...\")\n",
    "        os.system(f\"gsutil cp -r {output_dir} gs://{bucket_name}/{job_name}/\")\n",
    "        print(\"Model uploaded to gs://{}/{}\".format(bucket_name, job_name))\n",
    "\n",
    "\n",
    "# Directly set parameters when running in Jupyter (bypassing argparse)\n",
    "if __name__ == \"__main__\":\n",
    "    # Manually set the arguments for Jupyter Notebook execution\n",
    "    args = argparse.Namespace(\n",
    "        output_dir=\"./model_output\",\n",
    "        deploy=\"local\",  # Change to \"cloud\" if deploying to GCP\n",
    "        bucket_name=\"your-bucket-name\",  # Needed for cloud\n",
    "        job_name=\"housing_model_training\",  # Needed for cloud\n",
    "        units_per_layer=[5, 10, 15]  # Default unit configuration for layers\n",
    "    )\n",
    "    \n",
    "    # Now call the main function with all the arguments, including units_per_layer\n",
    "    main(args.output_dir, args.deploy, args.units_per_layer, args.bucket_name, args.job_name)\n",
    "\n",
    "    # Run TensorBoard in the notebook after training\n",
    "    %load_ext tensorboard\n",
    "    %tensorboard --logdir=./model_output/logs\n"
   ]
  },
  {
   "cell_type": "markdown",
   "id": "0815c184-98cb-4a91-8000-ce02376e3a64",
   "metadata": {},
   "source": [
    "### Use MultiWorkerMirroredStrategy for Distributed Training"
   ]
  },
  {
   "cell_type": "code",
   "execution_count": 14,
   "id": "08474708-750a-49d1-8973-ee4a575780d5",
   "metadata": {
    "tags": []
   },
   "outputs": [
    {
     "name": "stdout",
     "output_type": "stream",
     "text": [
      "WARNING:tensorflow:Collective ops is not configured at program startup. Some performance features may not be enabled.\n",
      "INFO:tensorflow:Single-worker MultiWorkerMirroredStrategy with local_devices = ('/device:CPU:0',), communication = CommunicationImplementation.AUTO\n",
      "Number of devices: 1\n",
      "Epoch 1/30\n"
     ]
    },
    {
     "name": "stderr",
     "output_type": "stream",
     "text": [
      "2025-02-26 12:26:35.775996: W tensorflow/core/framework/dataset.cc:769] Input of GeneratorDatasetOp::Dataset will not be optimized because the dataset does not implement the AsGraphDefInternal() method needed to apply optimizations.\n"
     ]
    },
    {
     "name": "stdout",
     "output_type": "stream",
     "text": [
      "41/41 [==============================] - 5s 37ms/step - loss: 670254528.0000 - mape: 100.0227 - val_loss: 282923200.0000 - val_mape: 99.8221\n",
      "Epoch 2/30\n",
      "41/41 [==============================] - 0s 6ms/step - loss: 668311360.0000 - mape: 99.8035 - val_loss: 278664992.0000 - val_mape: 98.8319\n",
      "Epoch 3/30\n",
      "41/41 [==============================] - 0s 6ms/step - loss: 662749248.0000 - mape: 99.1848 - val_loss: 267451616.0000 - val_mape: 96.1875\n",
      "Epoch 4/30\n",
      "41/41 [==============================] - 0s 6ms/step - loss: 648774848.0000 - mape: 97.5663 - val_loss: 243336768.0000 - val_mape: 90.2615\n",
      "Epoch 5/30\n",
      "41/41 [==============================] - 0s 6ms/step - loss: 620617472.0000 - mape: 94.1373 - val_loss: 200275728.0000 - val_mape: 78.7106\n",
      "Epoch 6/30\n",
      "41/41 [==============================] - 0s 6ms/step - loss: 569589696.0000 - mape: 87.6206 - val_loss: 136216752.0000 - val_mape: 58.6658\n",
      "Epoch 7/30\n",
      "41/41 [==============================] - 0s 6ms/step - loss: 489513568.0000 - mape: 77.8333 - val_loss: 68446320.0000 - val_mape: 37.8866\n",
      "Epoch 8/30\n",
      "41/41 [==============================] - 0s 6ms/step - loss: 384288224.0000 - mape: 67.0067 - val_loss: 46563892.0000 - val_mape: 43.7021\n",
      "Epoch 9/30\n",
      "41/41 [==============================] - 0s 6ms/step - loss: 285879520.0000 - mape: 57.9410 - val_loss: 126366144.0000 - val_mape: 83.3943\n",
      "Epoch 10/30\n",
      "41/41 [==============================] - 0s 6ms/step - loss: 221297984.0000 - mape: 51.8265 - val_loss: 265511232.0000 - val_mape: 120.8262\n",
      "Epoch 11/30\n",
      "41/41 [==============================] - 0s 6ms/step - loss: 198025920.0000 - mape: 51.5761 - val_loss: 371600320.0000 - val_mape: 142.4219\n",
      "Epoch 12/30\n",
      "41/41 [==============================] - 0s 6ms/step - loss: 192229472.0000 - mape: 52.0742 - val_loss: 448849280.0000 - val_mape: 156.1371\n",
      "Epoch 13/30\n",
      "41/41 [==============================] - 0s 6ms/step - loss: 190205104.0000 - mape: 52.5343 - val_loss: 447468576.0000 - val_mape: 155.8878\n",
      "Epoch 14/30\n",
      "41/41 [==============================] - 0s 6ms/step - loss: 188378816.0000 - mape: 51.9719 - val_loss: 433670784.0000 - val_mape: 153.4997\n",
      "Epoch 15/30\n",
      "41/41 [==============================] - 0s 6ms/step - loss: 187248016.0000 - mape: 51.8871 - val_loss: 437599264.0000 - val_mape: 154.1656\n",
      "Epoch 16/30\n",
      "41/41 [==============================] - 0s 6ms/step - loss: 185902864.0000 - mape: 51.5851 - val_loss: 427729312.0000 - val_mape: 152.4411\n",
      "Epoch 17/30\n",
      "41/41 [==============================] - 0s 6ms/step - loss: 185080336.0000 - mape: 51.7442 - val_loss: 424981280.0000 - val_mape: 151.9496\n",
      "Epoch 18/30\n",
      "41/41 [==============================] - 0s 6ms/step - loss: 183367696.0000 - mape: 51.1686 - val_loss: 424197632.0000 - val_mape: 151.8004\n",
      "Epoch 19/30\n",
      "41/41 [==============================] - 0s 7ms/step - loss: 182620992.0000 - mape: 51.5249 - val_loss: 436752640.0000 - val_mape: 153.9719\n",
      "Epoch 20/30\n",
      "41/41 [==============================] - 0s 6ms/step - loss: 181355504.0000 - mape: 50.8049 - val_loss: 418592192.0000 - val_mape: 150.7916\n",
      "Epoch 21/30\n",
      "41/41 [==============================] - 0s 6ms/step - loss: 179860816.0000 - mape: 50.7126 - val_loss: 427648672.0000 - val_mape: 152.3695\n",
      "Epoch 22/30\n",
      "41/41 [==============================] - 0s 6ms/step - loss: 178946864.0000 - mape: 50.9796 - val_loss: 429668832.0000 - val_mape: 152.7104\n",
      "Epoch 23/30\n",
      "41/41 [==============================] - 0s 6ms/step - loss: 177743216.0000 - mape: 50.8756 - val_loss: 436706080.0000 - val_mape: 153.9166\n",
      "Epoch 24/30\n",
      "41/41 [==============================] - 0s 6ms/step - loss: 176484192.0000 - mape: 50.4575 - val_loss: 406818624.0000 - val_mape: 148.6598\n",
      "Epoch 25/30\n",
      "41/41 [==============================] - 0s 6ms/step - loss: 175381568.0000 - mape: 49.9196 - val_loss: 411865888.0000 - val_mape: 149.5463\n",
      "Epoch 26/30\n",
      "41/41 [==============================] - 0s 6ms/step - loss: 174162512.0000 - mape: 50.0857 - val_loss: 415871584.0000 - val_mape: 150.2461\n",
      "Epoch 27/30\n",
      "41/41 [==============================] - 0s 6ms/step - loss: 173102064.0000 - mape: 50.0520 - val_loss: 425410848.0000 - val_mape: 151.9098\n",
      "Epoch 28/30\n",
      "41/41 [==============================] - 0s 6ms/step - loss: 172000144.0000 - mape: 49.8281 - val_loss: 409542080.0000 - val_mape: 149.0986\n",
      "Epoch 29/30\n",
      "41/41 [==============================] - 0s 6ms/step - loss: 171414272.0000 - mape: 50.0123 - val_loss: 415523872.0000 - val_mape: 150.1484\n",
      "Epoch 30/30\n",
      "41/41 [==============================] - 0s 6ms/step - loss: 169845968.0000 - mape: 49.4160 - val_loss: 403152256.0000 - val_mape: 147.9317\n",
      "Model saved to ./model_output\n",
      "The tensorboard extension is already loaded. To reload it, use:\n",
      "  %reload_ext tensorboard\n"
     ]
    },
    {
     "data": {
      "text/plain": [
       "Reusing TensorBoard on port 6006 (pid 16545), started 0:00:26 ago. (Use '!kill 16545' to kill it.)"
      ]
     },
     "metadata": {},
     "output_type": "display_data"
    },
    {
     "data": {
      "text/html": [
       "\n",
       "      <iframe id=\"tensorboard-frame-fd48413a12438acb\" width=\"100%\" height=\"800\" frameborder=\"0\">\n",
       "      </iframe>\n",
       "      <script>\n",
       "        (function() {\n",
       "          const frame = document.getElementById(\"tensorboard-frame-fd48413a12438acb\");\n",
       "          const url = new URL(\"/proxy/6006/\", window.location);\n",
       "          const port = 0;\n",
       "          if (port) {\n",
       "            url.port = port;\n",
       "          }\n",
       "          frame.src = url;\n",
       "        })();\n",
       "      </script>\n",
       "    "
      ],
      "text/plain": [
       "<IPython.core.display.HTML object>"
      ]
     },
     "metadata": {},
     "output_type": "display_data"
    }
   ],
   "source": [
    "def load_data():\n",
    "    data_train = pd.read_csv(\n",
    "        'https://storage.googleapis.com/spls/gsp418/housing_train.csv',\n",
    "        names=[\"CRIM\", \"ZN\", \"INDUS\", \"CHAS\", \"NOX\", \"RM\", \"AGE\", \"DIS\", \"RAD\", \"TAX\", \"PTRATIO\", \"MEDV\"])\n",
    "    data_test = pd.read_csv(\n",
    "        'https://storage.googleapis.com/spls/gsp418/housing_test.csv',\n",
    "        names=[\"CRIM\", \"ZN\", \"INDUS\", \"CHAS\", \"NOX\", \"RM\", \"AGE\", \"DIS\", \"RAD\", \"TAX\", \"PTRATIO\", \"MEDV\"])\n",
    "    return data_train, data_test\n",
    "\n",
    "def build_model(units_per_layer):\n",
    "    model = tf.keras.Sequential()\n",
    "    model.add(tf.keras.layers.Input(shape=(9,)))\n",
    "    \n",
    "    for units in units_per_layer:\n",
    "        model.add(layers.Dense(units, activation='relu'))\n",
    "    \n",
    "    model.add(layers.Dense(1))\n",
    "    \n",
    "    model.compile(optimizer='adam', loss='mse', metrics=['mape'])\n",
    "    return model\n",
    "\n",
    "def train_and_evaluate(output_dir, units_per_layer):\n",
    "    data_train, data_test = load_data()\n",
    "    FEATURES = [\"CRIM\", \"ZN\", \"INDUS\", \"NOX\", \"RM\", \"AGE\", \"DIS\", \"TAX\", \"PTRATIO\"]\n",
    "    LABEL = \"MEDV\"\n",
    "    \n",
    "    X_train, y_train = data_train[FEATURES].values, data_train[LABEL].values\n",
    "    X_test, y_test = data_test[FEATURES].values, data_test[LABEL].values\n",
    "\n",
    "    # Using MultiWorkerMirroredStrategy for scaling across multiple workers\n",
    "    strategy = tf.distribute.MultiWorkerMirroredStrategy()\n",
    "    print('Number of devices: {}'.format(strategy.num_replicas_in_sync))\n",
    "    \n",
    "    with strategy.scope():\n",
    "        model = build_model(units_per_layer)\n",
    "        \n",
    "        # Set up TensorBoard callback\n",
    "        log_dir = os.path.join(output_dir, \"logs\")\n",
    "        tensorboard_callback = TensorBoard(log_dir=log_dir, histogram_freq=1)\n",
    "\n",
    "        # Train the model with the TensorBoard callback\n",
    "        model.fit(X_train, y_train, epochs=30, batch_size=10, validation_data=(X_test, y_test), callbacks=[tensorboard_callback])\n",
    "    \n",
    "    model.save(os.path.join(output_dir, \"housing_model1.keras\"))\n",
    "    print(\"Model saved to\", output_dir)\n",
    "\n",
    "def main(output_dir, deploy, units_per_layer, bucket_name=None, job_name=None):\n",
    "    os.makedirs(output_dir, exist_ok=True)\n",
    "    train_and_evaluate(output_dir, units_per_layer)\n",
    "    \n",
    "    if deploy == \"cloud\":\n",
    "        print(\"Uploading model to Cloud Storage...\")\n",
    "        os.system(f\"gsutil cp -r {output_dir} gs://{bucket_name}/{job_name}/\")\n",
    "        print(\"Model uploaded to gs://{}/{}\".format(bucket_name, job_name))\n",
    "\n",
    "\n",
    "# Directly set parameters when running in Jupyter (bypassing argparse)\n",
    "if __name__ == \"__main__\":\n",
    "    # Manually set the arguments for Jupyter Notebook execution\n",
    "    args = argparse.Namespace(\n",
    "        output_dir=\"./model_output\",\n",
    "        deploy=\"local\",  # Change to \"cloud\" if deploying to GCP\n",
    "        bucket_name=\"your-bucket-name\",  # Needed for cloud\n",
    "        job_name=\"housing_model_training\",  # Needed for cloud\n",
    "        units_per_layer=[5, 10, 15]  # Default unit configuration for layers\n",
    "    )\n",
    "    \n",
    "    # Now call the main function with all the arguments, including units_per_layer\n",
    "    main(args.output_dir, args.deploy, args.units_per_layer, args.bucket_name, args.job_name)\n",
    "\n",
    "    # Run TensorBoard in the notebook after training\n",
    "    %load_ext tensorboard\n",
    "    %tensorboard --logdir=./model_output/logs\n"
   ]
  },
  {
   "cell_type": "markdown",
   "id": "19b07c9a-48b1-48b8-bb8b-4bea378237d9",
   "metadata": {},
   "source": [
    "1. TensorFlow Serving for Batch Predictions:\n",
    "To handle large-scale predictions efficiently, I would deploy the model using TensorFlow Serving, which supports batch processing. By serving predictions in batches, I can improve throughput and reduce the overhead of making multiple individual prediction requests. This would allow me to scale predictions in a more cost-effective way, especially when there is a high volume of requests.\n",
    "\n",
    "2. Cloud Function for Predictions:\n",
    "Another way to scale predictions would be to deploy the model as a Google Cloud Function or Cloud Run service. Both services are serverless and scale automatically based on incoming traffic. This would be ideal for handling varying prediction loads without worrying about managing infrastructure.\n",
    "\n",
    "3. Asynchronous Predictions (Queueing):\n",
    "To improve scalability further, I could use a queueing system like Google Cloud Pub/Sub or Cloud Tasks to manage incoming prediction requests. By asynchronously queuing predictions and processing them in batches, I can decouple the prediction process and ensure that the system can handle high volumes of requests efficiently.\n",
    "\n",
    "4. Horizontal Scaling:\n",
    "For even larger prediction loads, I would consider horizontal scaling, where I run multiple instances of my model across different machines or VMs. This could be done using Google Kubernetes Engine (GKE) or Google Cloud Compute Engine, allowing the system to automatically scale out based on the number of requests or resource utilization.\n",
    "\n",
    "By implementing these strategies, I would ensure that the prediction system can scale effectively to handle increased traffic and workloads."
   ]
  },
  {
   "cell_type": "code",
   "execution_count": null,
   "id": "9e55bbd4-09f4-487c-baf9-59a10170a563",
   "metadata": {},
   "outputs": [],
   "source": []
  }
 ],
 "metadata": {
  "environment": {
   "kernel": "conda-env-tensorflow-tensorflow",
   "name": "workbench-notebooks.m128",
   "type": "gcloud",
   "uri": "us-docker.pkg.dev/deeplearning-platform-release/gcr.io/workbench-notebooks:m128"
  },
  "kernelspec": {
   "display_name": "TensorFlow 2-11",
   "language": "python",
   "name": "conda-env-tensorflow-tensorflow"
  },
  "language_info": {
   "codemirror_mode": {
    "name": "ipython",
    "version": 3
   },
   "file_extension": ".py",
   "mimetype": "text/x-python",
   "name": "python",
   "nbconvert_exporter": "python",
   "pygments_lexer": "ipython3",
   "version": "3.10.16"
  }
 },
 "nbformat": 4,
 "nbformat_minor": 5
}
