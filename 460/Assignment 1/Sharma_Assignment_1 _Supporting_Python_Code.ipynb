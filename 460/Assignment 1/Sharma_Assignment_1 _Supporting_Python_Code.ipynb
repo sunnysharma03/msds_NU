{
 "cells": [
  {
   "cell_type": "code",
   "execution_count": 1,
   "id": "b1a58a7b-ee6a-44e1-96f1-529fbbc0e497",
   "metadata": {},
   "outputs": [],
   "source": [
    "import numpy as np\n",
    "from pulp import LpMaximize, LpMinimize, LpProblem, LpVariable, lpSum, value, LpStatus"
   ]
  },
  {
   "cell_type": "markdown",
   "id": "ff62ad66-6547-4e3c-aee9-79264740fab8",
   "metadata": {},
   "source": [
    "### Question 1"
   ]
  },
  {
   "cell_type": "markdown",
   "id": "b47f125c-035e-4691-9dc9-5a59eedb10a0",
   "metadata": {},
   "source": [
    "##### Clocks in Sox is a small company that manufactures wristwatches in two separate workshops, each with a single watch maker (or horologist, as they are called). Each watchmaker works a different number of hours per month to make the three models sold by Clocks in Sox: Model A, Model B, and Model C. Watchmaker 1 works a maximum of 350 hours per month while Watchmaker 2 works a maximum of 250 hours per month and the time (in hours) and cost of materials for each watch differ by watchmaker due to their experience and equipment (shown below). Each month, Clocks in Sox must produce at least 60 Model A watches, 80 Model B watches, and 50 Model C watches. Clearly formulate a linear program (LP) to minimize the cost of manufacturing the desired amount of watches.\n",
    "\n",
    "<pre>\n",
    "Table 1\r\n",
    "Workshop \tModel A\tModel B\tModel C\r\n",
    "\tCost ($)\tTime\tCost ($)\tTime\tCost ($)\tTime\r\n",
    "Watchmaker 1\t10\t2\t11\t4\t12\t3\r\n",
    "Watchmaker 2\t9\t9\t10\t4\t13\t7\r\n",
    "\n",
    "<pre>13\t7\r\n"
   ]
  },
  {
   "cell_type": "code",
   "execution_count": 2,
   "id": "efefe7aa-8960-45e6-9aab-4eb14301c7cb",
   "metadata": {},
   "outputs": [
    {
     "name": "stdout",
     "output_type": "stream",
     "text": [
      "Welcome to the CBC MILP Solver \n",
      "Version: 2.10.3 \n",
      "Build Date: Dec 15 2019 \n",
      "\n",
      "command line - /opt/anaconda3/lib/python3.11/site-packages/pulp/solverdir/cbc/osx/64/cbc /var/folders/xb/lr7m025s58x8rlx_nc_7vx5r0000gn/T/da88bb2c30a841ba8a1149d6e4aef515-pulp.mps -timeMode elapsed -branch -printingOptions all -solution /var/folders/xb/lr7m025s58x8rlx_nc_7vx5r0000gn/T/da88bb2c30a841ba8a1149d6e4aef515-pulp.sol (default strategy 1)\n",
      "At line 2 NAME          MODEL\n",
      "At line 3 ROWS\n",
      "At line 10 COLUMNS\n",
      "At line 29 RHS\n",
      "At line 35 BOUNDS\n",
      "At line 36 ENDATA\n",
      "Problem MODEL has 5 rows, 6 columns and 12 elements\n",
      "Coin0008I MODEL read with 0 errors\n",
      "Option for timeMode changed from cpu to elapsed\n",
      "Presolve 5 (0) rows, 6 (0) columns and 12 (0) elements\n",
      "0  Obj 0 Primal inf 190 (3)\n",
      "5  Obj 2017.5\n",
      "Optimal - objective value 2017.5\n",
      "Optimal objective 2017.5 - 5 iterations time 0.002\n",
      "Option for printingOptions changed from normal to all\n",
      "Total time (CPU seconds):       0.00   (Wallclock seconds):       0.01\n",
      "\n",
      "Status: Optimal\n",
      "Optimal Solution:\n",
      "Number of Model A watches produced by Watchmaker 1: 60.0\n",
      "Number of Model B watches produced by Watchmaker 1: 17.5\n",
      "Number of Model C watches produced by Watchmaker 1: 50.0\n",
      "Number of Model A watches produced by Watchmaker 2: 0.0\n",
      "Number of Model B watches produced by Watchmaker 2: 62.5\n",
      "Number of Model C watches produced by Watchmaker 2: 0.0\n",
      "Total Cost: $2017.5\n"
     ]
    }
   ],
   "source": [
    "# Create a LP minimization problem\n",
    "prob = LpProblem(\"ClocksInSox\", LpMinimize)\n",
    "\n",
    "# Decision Variables\n",
    "x1 = LpVariable(\"x1\", 0, None)  # Number of Model A watches produced by Watchmaker 1\n",
    "x2 = LpVariable(\"x2\", 0, None)  # Number of Model B watches produced by Watchmaker 1\n",
    "x3 = LpVariable(\"x3\", 0, None)  # Number of Model C watches produced by Watchmaker 1\n",
    "y1 = LpVariable(\"y1\", 0, None)  # Number of Model A watches produced by Watchmaker 2\n",
    "y2 = LpVariable(\"y2\", 0, None)  # Number of Model B watches produced by Watchmaker 2\n",
    "y3 = LpVariable(\"y3\", 0, None)  # Number of Model C watches produced by Watchmaker 2\n",
    "\n",
    "# Objective Function: Minimize Cost\n",
    "prob += 10*x1 + 11*x2 + 12*x3 + 9*y1 + 10*y2 + 13*y3, \"Total Cost\"\n",
    "\n",
    "# Constraints\n",
    "# Watchmaker 1's working hours constraint\n",
    "prob += 2*x1 + 4*x2 + 3*x3 <= 350, \"Watchmaker_1_hours_constraint\"\n",
    "# Watchmaker 2's working hours constraint\n",
    "prob += 9*y1 + 4*y2 + 7*y3 <= 250, \"Watchmaker_2_hours_constraint\"\n",
    "\n",
    "# Production constraints for each model\n",
    "prob += x1 + y1 >= 60, \"Model_A_production_constraint\"\n",
    "prob += x2 + y2 >= 80, \"Model_B_production_constraint\"\n",
    "prob += x3 + y3 >= 50, \"Model_C_production_constraint\"\n",
    "\n",
    "# Solve the problem\n",
    "prob.solve()\n",
    "\n",
    "# Print the results\n",
    "print(\"Status:\", LpStatus[prob.status])\n",
    "print(\"Optimal Solution:\")\n",
    "print(f\"Number of Model A watches produced by Watchmaker 1: {x1.varValue}\")\n",
    "print(f\"Number of Model B watches produced by Watchmaker 1: {x2.varValue}\")\n",
    "print(f\"Number of Model C watches produced by Watchmaker 1: {x3.varValue}\")\n",
    "print(f\"Number of Model A watches produced by Watchmaker 2: {y1.varValue}\")\n",
    "print(f\"Number of Model B watches produced by Watchmaker 2: {y2.varValue}\")\n",
    "print(f\"Number of Model C watches produced by Watchmaker 2: {y3.varValue}\")\n",
    "print(f\"Total Cost: ${value(prob.objective)}\")\n"
   ]
  },
  {
   "cell_type": "markdown",
   "id": "d5826930-1f87-4842-b32d-aa2371b611ce",
   "metadata": {},
   "source": [
    "### Question 2:"
   ]
  },
  {
   "cell_type": "markdown",
   "id": "f275d2b5-ef9c-4a70-9004-ecf506e51776",
   "metadata": {},
   "source": [
    "<pre>\n",
    "Consider the following linear program:            \r\n",
    "\r\n",
    "Min Z = -9x1 + 18x2\r\n",
    "Subject To\r\n",
    "-x1 + 5x2 ≥ 5\r\n",
    "x1 + 4x2 ≥ 12\r\n",
    "x1 + x2 ≥ 5\r\n",
    "x1 ≤ 5\r\n",
    "x1, Part B:  Solve the original LP graphically (to scale).  Clearly identify the feasible region and, if one or more exist, the optimal solution(s) (provide exact values for x1, x2, and Z).lity form.\r\n",
    "\n",
    "</pre>"
   ]
  },
  {
   "cell_type": "code",
   "execution_count": 3,
   "id": "0510c3b6-02a1-41c2-9b81-81301f904f5a",
   "metadata": {},
   "outputs": [
    {
     "name": "stdout",
     "output_type": "stream",
     "text": [
      "Welcome to the CBC MILP Solver \n",
      "Version: 2.10.3 \n",
      "Build Date: Dec 15 2019 \n",
      "\n",
      "command line - /opt/anaconda3/lib/python3.11/site-packages/pulp/solverdir/cbc/osx/64/cbc /var/folders/xb/lr7m025s58x8rlx_nc_7vx5r0000gn/T/180d104bbcae435ea648bc944e11b972-pulp.mps -timeMode elapsed -branch -printingOptions all -solution /var/folders/xb/lr7m025s58x8rlx_nc_7vx5r0000gn/T/180d104bbcae435ea648bc944e11b972-pulp.sol (default strategy 1)\n",
      "At line 2 NAME          MODEL\n",
      "At line 3 ROWS\n",
      "At line 9 COLUMNS\n",
      "At line 19 RHS\n",
      "At line 24 BOUNDS\n",
      "At line 25 ENDATA\n",
      "Problem MODEL has 4 rows, 2 columns and 7 elements\n",
      "Coin0008I MODEL read with 0 errors\n",
      "Option for timeMode changed from cpu to elapsed\n",
      "Presolve 3 (-1) rows, 2 (0) columns and 6 (-1) elements\n",
      "0  Obj 29.7 Primal inf 6.049998 (2) Dual inf 8.999999 (1)\n",
      "1  Obj -9\n",
      "Optimal - objective value -9\n",
      "After Postsolve, objective -9, infeasibilities - dual 0 (0), primal 0 (0)\n",
      "Optimal objective -9 - 1 iterations time 0.002, Presolve 0.00\n",
      "Option for printingOptions changed from normal to all\n",
      "Total time (CPU seconds):       0.00   (Wallclock seconds):       0.00\n",
      "\n",
      "Optimal solution:\n",
      "x1 = 5.00\n",
      "x2 = 2.00\n",
      "Z = -9.00\n"
     ]
    },
    {
     "name": "stderr",
     "output_type": "stream",
     "text": [
      "/opt/anaconda3/lib/python3.11/site-packages/pulp/pulp.py:1316: UserWarning: Spaces are not permitted in the name. Converted to '_'\n",
      "  warnings.warn(\"Spaces are not permitted in the name. Converted to '_'\")\n"
     ]
    }
   ],
   "source": [
    "# Define the LP problem\n",
    "prob = LpProblem(\"LP Problem\", LpMinimize)\n",
    "\n",
    "# Define variables\n",
    "x1 = LpVariable(\"x1\", 0)  # x1 >= 0, x1 <= 5\n",
    "x2 = LpVariable(\"x2\", 0)     # x2 >= 0\n",
    "\n",
    "# Define the objective function\n",
    "prob += -9*x1 + 18*x2, \"Objective Function\"\n",
    "\n",
    "# Define the constraints\n",
    "prob += -x1 + 5*x2 >= 5, \"Constraint 1\"\n",
    "prob += x1 + 4*x2 >= 12, \"Constraint 2\"\n",
    "prob += x1 + x2 >= 5, \"Constraint 3\"\n",
    "prob += x1 <= 5\n",
    "\n",
    "# Solve the LP problem\n",
    "prob.solve()\n",
    "\n",
    "# Print the optimal solution\n",
    "print(f\"Optimal solution:\")\n",
    "print(f\"x1 = {x1.varValue:.2f}\")\n",
    "print(f\"x2 = {x2.varValue:.2f}\")\n",
    "print(f\"Z = {value(prob.objective):.2f}\")  # Negate the objective function value due to maximization\n"
   ]
  },
  {
   "cell_type": "markdown",
   "id": "8d706c85-cd08-44f1-a1d5-9d2d0b05cbb0",
   "metadata": {},
   "source": [
    "### Question 3"
   ]
  },
  {
   "cell_type": "markdown",
   "id": "f4c17466-652e-4caa-960e-fe0f306f21f3",
   "metadata": {},
   "source": [
    "##### InvestCo currently has $500 in cash.  InvestCo receives revenues at the start of months 1 – 4, after which it pays bills (see Table 2 below).  Any money left over should be invested and interest for one month is 0.5%, two months is 2%, three months is 4%, and four months is 8% (total - no compounding). Use linear programming to determine an investment strategy that maximizes cash on hand at the beginning of month 5.  Formulate an LP to maximize InvestCo’s profit. Do not solve.\n",
    "\n",
    "##### Hint: What is coming in and what is going out each month?\n",
    "\n",
    "<pre>\n",
    "Table 2\r\n",
    "Month\tRevenues ($)\tBills ($)\r\n",
    "1\t600\t700\r\n",
    "2\t900\t400\r\n",
    "3\t300\t700\r\n",
    "4\t500\t350\r\n",
    "\n",
    "</pre>"
   ]
  },
  {
   "cell_type": "code",
   "execution_count": 4,
   "id": "4c871132-c4ba-46c9-92b6-89a6d42a83c8",
   "metadata": {},
   "outputs": [],
   "source": [
    "########### problem definitions\n",
    "\n",
    "# 1 month `a` = 0.5% per month\n",
    "# 2 month `b` = 2.0% per month\n",
    "# 3 month `c` = 4.0% per month \n",
    "# 4 month `d` = 8.0% per month\n",
    "# amounts invested month 1: a1, b1, c1, d1\n",
    "# amounts invested month 1: a2, b2, c2\n",
    "# amounts invested month 1: a3, b3\n",
    "# amounts invested month 1: a4"
   ]
  },
  {
   "cell_type": "code",
   "execution_count": 5,
   "id": "9bdd745e-ef53-47f3-a073-499f4488434e",
   "metadata": {},
   "outputs": [
    {
     "name": "stdout",
     "output_type": "stream",
     "text": [
      "Welcome to the CBC MILP Solver \n",
      "Version: 2.10.3 \n",
      "Build Date: Dec 15 2019 \n",
      "\n",
      "command line - /opt/anaconda3/lib/python3.11/site-packages/pulp/solverdir/cbc/osx/64/cbc /var/folders/xb/lr7m025s58x8rlx_nc_7vx5r0000gn/T/0de56c44132747c7b0bbfb02e95850e9-pulp.mps -max -timeMode elapsed -branch -printingOptions all -solution /var/folders/xb/lr7m025s58x8rlx_nc_7vx5r0000gn/T/0de56c44132747c7b0bbfb02e95850e9-pulp.sol (default strategy 1)\n",
      "At line 2 NAME          MODEL\n",
      "At line 3 ROWS\n",
      "At line 9 COLUMNS\n",
      "At line 30 RHS\n",
      "At line 35 BOUNDS\n",
      "At line 36 ENDATA\n",
      "Problem MODEL has 4 rows, 10 columns and 16 elements\n",
      "Coin0008I MODEL read with 0 errors\n",
      "Option for timeMode changed from cpu to elapsed\n",
      "Presolve 4 (0) rows, 10 (0) columns and 16 (0) elements\n",
      "0  Obj -0 Primal inf 400 (1) Dual inf 4.5267526 (4)\n",
      "0  Obj -0 Primal inf 400 (1) Dual inf 2.0414e+10 (5)\n",
      "5  Obj 807.28148\n",
      "Optimal - objective value 807.28148\n",
      "Optimal objective 807.2814801 - 5 iterations time 0.002\n",
      "Option for printingOptions changed from normal to all\n",
      "Total time (CPU seconds):       0.00   (Wallclock seconds):       0.00\n",
      "\n",
      "Problem\n",
      "status=Optimal\n",
      "inventmentAmonth1 = 0.0\n",
      "inventmentAmonth2 = 399.6004\n",
      "inventmentAmonth3 = 0.0\n",
      "inventmentAmonth4 = 150.0\n",
      "inventmentBmonth1 = 0.0\n",
      "inventmentBmonth2 = 0.0\n",
      "inventmentBmonth3 = 0.0\n",
      "inventmentCmonth1 = 0.0\n",
      "inventmentCmonth2 = 100.3996\n",
      "inventmentDmonth1 = 400.0\n",
      "Objective = 807.2814796544002\n",
      "\n"
     ]
    }
   ],
   "source": [
    "# define variables\n",
    "a1 = LpVariable(\"inventmentAmonth1\", 0, None)\n",
    "b1 = LpVariable(\"inventmentBmonth1\", 0, None)\n",
    "c1 = LpVariable(\"inventmentCmonth1\", 0, None)\n",
    "d1 = LpVariable(\"inventmentDmonth1\", 0, None)\n",
    "a2 = LpVariable(\"inventmentAmonth2\", 0, None)\n",
    "b2 = LpVariable(\"inventmentBmonth2\", 0, None)\n",
    "c2 = LpVariable(\"inventmentCmonth2\", 0, None)\n",
    "a3 = LpVariable(\"inventmentAmonth3\", 0, None)\n",
    "b3 = LpVariable(\"inventmentBmonth3\", 0, None)\n",
    "a4 = LpVariable(\"inventmentAmonth4\", 0, None)\n",
    "\n",
    "# defines the problem\n",
    "prob3 = LpProblem(\"problem\", LpMaximize)\n",
    "\n",
    "# define constraints\n",
    "prob3 += 500 + 600 >= 700 + a1 + b1 + c1 + d1 # year 1 in = out\n",
    "prob3 += a1*(1.001) + 900 >= 400 + a2 + b2 + c2\n",
    "prob3 += a2*(1.001) + b1*(1.02**2) + 300 >= 700 + a3 + b3\n",
    "prob3 += a3*(1.001) + b2*(1.02**2) + c1*(1.04**3) + 500 >= 350 + a4\n",
    "# define objective function\n",
    "prob3 += a4*(1.001) + b3*(1.02**2) + c2*(1.04**3) + d1*(1.08**4)\n",
    "\n",
    "# solve the problem\n",
    "status3 = prob3.solve()\n",
    "print(f\"Problem\")\n",
    "print(f\"status={LpStatus[status3]}\")\n",
    "\n",
    "# print the results\n",
    "for variable in prob3.variables():\n",
    "    print(f\"{variable.name} = {variable.varValue}\")\n",
    "    \n",
    "print(f\"Objective = {value(prob3.objective)}\")\n",
    "print(f\"\")"
   ]
  },
  {
   "cell_type": "markdown",
   "id": "02b681a2-6299-438d-bf14-41b6408c1d91",
   "metadata": {},
   "source": [
    "### Question 4"
   ]
  },
  {
   "cell_type": "markdown",
   "id": "39558ff7-a6a4-4280-997e-c0055de7d83c",
   "metadata": {},
   "source": [
    "##### Floor is Java sells premium coffee to restaurants. They sell two roasts which they call (cleverly) Roast 1 and Roast 2, each of which is a blend of Columbian and Arabica coffee beans. Columbian beans cost \\\\$20 for a 5 pound box while Arabica beans cost \\\\$15 for a 6 pound box. Roast 1 sells for \\\\$6 per pound and must be at least 75% Columbian beans, while Roast 2 sells for \\\\$5 per pound and must be at least 60% Columbian beans. At most, 40 pounds of Roast 1 and 60 pounds of Roast 2 can be sold each month. \n",
    "\n",
    "##### Solve the LP (provide exact values (do not restrict to integer) for all variables and the optimal objective function).|\n"
   ]
  },
  {
   "cell_type": "code",
   "execution_count": 6,
   "id": "7153d54a-4920-460a-8254-d720960d5f4d",
   "metadata": {},
   "outputs": [
    {
     "name": "stdout",
     "output_type": "stream",
     "text": [
      "Welcome to the CBC MILP Solver \n",
      "Version: 2.10.3 \n",
      "Build Date: Dec 15 2019 \n",
      "\n",
      "command line - /opt/anaconda3/lib/python3.11/site-packages/pulp/solverdir/cbc/osx/64/cbc /var/folders/xb/lr7m025s58x8rlx_nc_7vx5r0000gn/T/ef08ceab8d46426fbe0c55a09e45c9df-pulp.mps -max -timeMode elapsed -branch -printingOptions all -solution /var/folders/xb/lr7m025s58x8rlx_nc_7vx5r0000gn/T/ef08ceab8d46426fbe0c55a09e45c9df-pulp.sol (default strategy 1)\n",
      "At line 2 NAME          MODEL\n",
      "At line 3 ROWS\n",
      "At line 7 COLUMNS\n",
      "At line 14 RHS\n",
      "At line 17 BOUNDS\n",
      "At line 20 ENDATA\n",
      "Problem MODEL has 2 rows, 2 columns and 4 elements\n",
      "Coin0008I MODEL read with 0 errors\n",
      "Option for timeMode changed from cpu to elapsed\n",
      "Presolve 0 (-2) rows, 0 (-2) columns and 0 (-4) elements\n",
      "Empty problem - 0 rows, 0 columns and 0 elements\n",
      "Optimal - objective value 540\n",
      "After Postsolve, objective 540, infeasibilities - dual 0 (0), primal 0 (0)\n",
      "Optimal objective 540 - 0 iterations time 0.002, Presolve 0.00\n",
      "Option for printingOptions changed from normal to all\n",
      "Total time (CPU seconds):       0.00   (Wallclock seconds):       0.00\n",
      "\n",
      "Status: Optimal\n",
      "Optimal Solution:\n",
      "Roast1_pounds = 40.0\n",
      "Roast2_pounds = 60.0\n",
      "Total Profit = $540.0\n"
     ]
    }
   ],
   "source": [
    "# Define decision variables\n",
    "x = LpVariable(\"Roast1_pounds\", 0, 40)  # Roast 1 in pounds\n",
    "y = LpVariable(\"Roast2_pounds\", 0, 60)  # Roast 2 in pounds\n",
    "\n",
    "# Define LP problem\n",
    "prob = LpProblem(\"FloorIsJava_LP\", LpMaximize)\n",
    "\n",
    "# Define objective function\n",
    "prob += 6*x + 5*y, \"Total Profit\"\n",
    "\n",
    "# Define constraints\n",
    "prob += 0.75*x - 0.5*y <= 0, \"Roast1_Bean_Constraint\"\n",
    "prob += 0.60*x - 0.5*y <= 0, \"Roast2_Bean_Constraint\"\n",
    "\n",
    "# Solve the LP problem\n",
    "prob.solve()\n",
    "\n",
    "# Print the status of the solution\n",
    "print(f\"Status: {LpStatus[prob.status]}\")\n",
    "\n",
    "# Print the optimal solution values\n",
    "print(f\"Optimal Solution:\")\n",
    "print(f\"Roast1_pounds = {value(x)}\")\n",
    "print(f\"Roast2_pounds = {value(y)}\")\n",
    "print(f\"Total Profit = ${value(prob.objective)}\")\n"
   ]
  },
  {
   "cell_type": "markdown",
   "id": "5f85dffb-6e91-4305-9eae-760188d9c65c",
   "metadata": {},
   "source": [
    "### Question 5"
   ]
  },
  {
   "cell_type": "markdown",
   "id": "1a9a1c36-5cf8-44a6-a8a8-af34e584b8ee",
   "metadata": {},
   "source": [
    "##### Food Beach, a local grocery store, is building a work schedule for its stockers and has specific requirements over each 24 hour period (shown in the table below). Each stocker must work two consecutive shifts. \n",
    "\n",
    "<pre>\n",
    "Shift Number of Employees\n",
    "\n",
    "Midnight-4am 8\n",
    "\n",
    "4am-8am 7\n",
    "\n",
    "8am to noon 5\n",
    "\n",
    "noon-4pm 4\n",
    "\n",
    "4pm - 8pm 4\n",
    "\n",
    "8pm-midnight 7\n",
    "</pre>\n",
    "\n",
    "##### Solve the LP (provide exact values for all variables and the optimal objective function).\n",
    "\r\n"
   ]
  },
  {
   "cell_type": "code",
   "execution_count": 7,
   "id": "ecd8bee0-615c-4133-b609-31f48b3c1a27",
   "metadata": {},
   "outputs": [
    {
     "name": "stdout",
     "output_type": "stream",
     "text": [
      "Welcome to the CBC MILP Solver \n",
      "Version: 2.10.3 \n",
      "Build Date: Dec 15 2019 \n",
      "\n",
      "command line - /opt/anaconda3/lib/python3.11/site-packages/pulp/solverdir/cbc/osx/64/cbc /var/folders/xb/lr7m025s58x8rlx_nc_7vx5r0000gn/T/097a4120330541e39f946ef00ccaf0c3-pulp.mps -timeMode elapsed -branch -printingOptions all -solution /var/folders/xb/lr7m025s58x8rlx_nc_7vx5r0000gn/T/097a4120330541e39f946ef00ccaf0c3-pulp.sol (default strategy 1)\n",
      "At line 2 NAME          MODEL\n",
      "At line 3 ROWS\n",
      "At line 11 COLUMNS\n",
      "At line 30 RHS\n",
      "At line 37 BOUNDS\n",
      "At line 38 ENDATA\n",
      "Problem MODEL has 6 rows, 6 columns and 12 elements\n",
      "Coin0008I MODEL read with 0 errors\n",
      "Option for timeMode changed from cpu to elapsed\n",
      "Presolve 6 (0) rows, 6 (0) columns and 12 (0) elements\n",
      "Perturbing problem by 0.001% of 1 - largest nonzero change 8.9014027e-06 ( 0.00089014027%) - largest zero change 0\n",
      "0  Obj 0 Primal inf 34.999999 (6)\n",
      "6  Obj 18.000131\n",
      "Optimal - objective value 18\n",
      "Optimal objective 18 - 6 iterations time 0.002\n",
      "Option for printingOptions changed from normal to all\n",
      "Total time (CPU seconds):       0.00   (Wallclock seconds):       0.00\n",
      "\n",
      "Status: Optimal\n",
      "Optimal Solution:\n",
      "Midnight_4am = 6.0\n",
      "4am_8am = 1.0\n",
      "8am_Noon = 4.0\n",
      "Noon_4pm = 0.0\n",
      "4pm_8pm = 5.0\n",
      "8pm_Midnight = 2.0\n",
      "Total Workers Required = 18\n"
     ]
    }
   ],
   "source": [
    "# Create the LP object, set up as a minimization problem\n",
    "prob = LpProblem(\"FoodBeach_WorkSchedule\", LpMinimize)\n",
    "\n",
    "# Define the decision variables\n",
    "shifts = ['Midnight_4am', '4am_8am', '8am_Noon', 'Noon_4pm', '4pm_8pm', '8pm_Midnight']\n",
    "x = LpVariable.dicts(\"Shifters\", shifts, 0)\n",
    "\n",
    "# Define the objective function\n",
    "prob += lpSum([x[shift] for shift in shifts]), \"Total Workers\"\n",
    "\n",
    "# Define the constraints\n",
    "prob +=  x['Midnight_4am'] + x['8pm_Midnight'] >= 8\n",
    "prob += x['Midnight_4am'] + x['4am_8am'] >= 7\n",
    "prob += x['4am_8am'] + x['8am_Noon'] >= 5\n",
    "prob += x['8am_Noon'] + x['Noon_4pm'] >= 4\n",
    "prob += x['Noon_4pm'] + x['4pm_8pm'] >= 4\n",
    "prob += x['4pm_8pm'] + x['8pm_Midnight'] >= 7\n",
    "\n",
    "# Solve the problem\n",
    "prob.solve()\n",
    "\n",
    "# Print the results\n",
    "print(f\"Status: {LpStatus[prob.status]}\")\n",
    "print(f\"Optimal Solution:\")\n",
    "for shift in shifts:\n",
    "    print(f\"{shift} = {x[shift].varValue}\")\n",
    "print(f\"Total Workers Required = {int(value(prob.objective))}\")"
   ]
  },
  {
   "cell_type": "code",
   "execution_count": null,
   "id": "8443513e-5659-4426-898d-5f976473622e",
   "metadata": {},
   "outputs": [],
   "source": []
  }
 ],
 "metadata": {
  "kernelspec": {
   "display_name": "Python 3 (ipykernel)",
   "language": "python",
   "name": "python3"
  },
  "language_info": {
   "codemirror_mode": {
    "name": "ipython",
    "version": 3
   },
   "file_extension": ".py",
   "mimetype": "text/x-python",
   "name": "python",
   "nbconvert_exporter": "python",
   "pygments_lexer": "ipython3",
   "version": "3.11.7"
  }
 },
 "nbformat": 4,
 "nbformat_minor": 5
}
