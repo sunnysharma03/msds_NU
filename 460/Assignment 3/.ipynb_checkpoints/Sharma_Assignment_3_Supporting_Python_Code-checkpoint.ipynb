{
 "cells": [
  {
   "cell_type": "code",
   "execution_count": 1,
   "id": "830f22cc-4643-4256-a185-123a8ac61265",
   "metadata": {},
   "outputs": [],
   "source": [
    "import numpy as np\n",
    "from scipy.optimize import minimize\n",
    "from pulp import LpVariable, LpProblem, lpSum, LpMinimize"
   ]
  },
  {
   "cell_type": "markdown",
   "id": "c3b44c86-6ec9-4f86-9ae2-775009482eb8",
   "metadata": {},
   "source": [
    "##### An engineer at Fertilizer Company has synthesized a sensational new fertilizer made of just two interchangeable basic raw materials.  The company wants to take advantage of this opportunity and produce as much as possible of the new fertilizer.  The company currently has \\\\$180 to buy raw materials at a unit price of \\\\$8 and $5 per unit, respectively.  When amounts x1 and x2 of the basic raw materials are combined, a quantity q of fertilizer results given by:  q=6x_1+4x_2-0.25x_1^2-0.125x_2^2"
   ]
  },
  {
   "cell_type": "markdown",
   "id": "c07f6bbe-25e6-44e3-8171-0e5bb09696bf",
   "metadata": {},
   "source": [
    "##### Part B:  Solve the Program (provide exact values for all variables and the optimal objective function)."
   ]
  },
  {
   "cell_type": "code",
   "execution_count": 2,
   "id": "b1fed612-b145-440a-aa0a-ac9df261b0ab",
   "metadata": {},
   "outputs": [
    {
     "name": "stdout",
     "output_type": "stream",
     "text": [
      "Optimal value of x1: 11.99998769263873 (~ 12.00)\n",
      "Optimal value of x2: 16.000337021910337 (~ 16.00)\n",
      "Optimal objective function value: 67.99999998576419 (~ 68.00)\n"
     ]
    }
   ],
   "source": [
    "# Objective function to maximize (negative of the given objective function)\n",
    "def objective(x):\n",
    "    x1, x2 = x\n",
    "    return -(6*x1 + 4*x2 - 0.25*x1**2 - 0.125*x2**2)\n",
    "\n",
    "# Constraints\n",
    "def constraint(x):\n",
    "    x1, x2 = x\n",
    "    return 180 - (8*x1 + 5*x2)\n",
    "\n",
    "# Initial guess for x1 and x2\n",
    "x0 = np.array([0, 0])\n",
    "\n",
    "# Bounds for x1 and x2 (non-negativity constraints)\n",
    "bounds = [(0, None), (0, None)]\n",
    "\n",
    "# Solve the optimization problem\n",
    "result = minimize(objective, x0, method='SLSQP', bounds=bounds, constraints={'type': 'ineq', 'fun': constraint})\n",
    "\n",
    "# Extract optimal values\n",
    "optimal_x1, optimal_x2 = result.x\n",
    "optimal_objective = -result.fun\n",
    "\n",
    "print(f\"Optimal value of x1: {optimal_x1} (~ {optimal_x1:.2f})\")\n",
    "print(f\"Optimal value of x2: {optimal_x2} (~ {optimal_x2:.2f})\")\n",
    "print(f\"Optimal objective function value: {optimal_objective} (~ {optimal_objective:.2f})\")"
   ]
  },
  {
   "cell_type": "markdown",
   "id": "05ee2ed8-618d-4f25-ba9e-6b57abb82733",
   "metadata": {},
   "source": [
    "#### Question 2. A neighbor is looking to build a rectangular fenced enclosure for his chickens and wants to build using fencing he found in his local farm supply store. He can buy at most 120 feet of fencing, and the price of the fencing is the square root of the length purchased. So he can purchase 100 feet of fencing for \\\\$10, 64 feet for \\\\$8, etc. He must also purchase fence posts to reinforce the fencing, and due to wind conditions in his yard, he must purchase more posts for east-west fencing than north-south fencing. The cost for fence and posts in the east-west direction is \\\\$3 per foot while it is \\\\$2 per foot in the north-south direction. You do not need to consider the number of posts, but simply the cost of the fence and reinforcing posts. He has \\\\$25 to spend on fencing and $150 to spend on fence posts."
   ]
  },
  {
   "cell_type": "markdown",
   "id": "65350037-ec8f-44d3-a474-21818050ad62",
   "metadata": {},
   "source": [
    "##### Part B:  Solve the Program (provide exact values for all variables and the optimal objective function)"
   ]
  },
  {
   "cell_type": "code",
   "execution_count": 13,
   "id": "21d6bdc3-ad15-442c-aa27-11689c3328a0",
   "metadata": {},
   "outputs": [
    {
     "name": "stdout",
     "output_type": "stream",
     "text": [
      "Optimal value of fence in the north-south direction: 18.750000432908102 (~ 18.75)\n",
      "Optimal length of fence in the east-west direction: 12.49999971139557 (~12.50)\n",
      "Optimal area of the fenced enclosure: 234.3750000000181 (~234.38)\n"
     ]
    }
   ],
   "source": [
    "# Objective function\n",
    "def objective(x):\n",
    "    return -x[0]*x[1]\n",
    "\n",
    "# Constraint functions\n",
    "def total_fence_constraint(x):\n",
    "    return 120 - (2*x[0] + 2*x[1])\n",
    "\n",
    "def fencing_cost_constraint(x):\n",
    "    return 25 - (2*np.sqrt(x[0]) + 2*np.sqrt(x[1]))\n",
    "\n",
    "def post_cost_constraint(x):\n",
    "    return 150 - (4*x[0] + 6*x[1])\n",
    "\n",
    "# Define initial guess\n",
    "x0 = [1, 1]  # Initial guess for x and y\n",
    "\n",
    "# Define bounds for variables\n",
    "bounds = [(0, None), (0, None)]\n",
    "\n",
    "# Define constraints\n",
    "constraints = [{'type': 'ineq', 'fun': total_fence_constraint},\n",
    "               {'type': 'ineq', 'fun': fencing_cost_constraint},\n",
    "               {'type': 'ineq', 'fun': post_cost_constraint}]\n",
    "\n",
    "# Optimize\n",
    "result = minimize(objective, x0, method='SLSQP', bounds=bounds, constraints=constraints)\n",
    "\n",
    "# Extracting optimal values\n",
    "optimal_x = result.x[0]\n",
    "optimal_y = result.x[1]\n",
    "optimal_area = -result.fun  # Since we are maximizing area, negate the objective function value\n",
    "\n",
    "# Print results\n",
    "print(f\"Optimal value of fence in the north-south direction: {optimal_x} (~ {optimal_x:.2f})\")\n",
    "print(f\"Optimal length of fence in the east-west direction: {optimal_y} (~{optimal_y:.2f})\")\n",
    "print(f\"Optimal area of the fenced enclosure: {optimal_area} (~{optimal_area:.2f})\")"
   ]
  },
  {
   "cell_type": "markdown",
   "id": "fabd2cce-5f2d-4623-afe4-fd35c0bfe73d",
   "metadata": {},
   "source": [
    "#### Question 3. Toy-Vey makes three types of new toys: tanks, trucks, and turtles. It takes two hours of labor to make one tank, two hours for one truck, and one hour for a turtle. The cost of manufacturing one tank is \\\\$7, 1 truck is \\\\$5 and 1 turtle is \\\\$4; a target budget of \\\\$164,000 is initially used as a guideline for the company to follow. Material requirements for the toys are shown below\n",
    "\n",
    "##### Bonus (5 points): Solve the problem and give the number of each toy to produce as well as any violations of the goals (weights don’t have to add up to 1; use simple weights – 1, 2, 3, etc.)."
   ]
  },
  {
   "cell_type": "code",
   "execution_count": 21,
   "id": "4a137439-0db0-4004-b5f3-9fa8d909c6ec",
   "metadata": {},
   "outputs": [
    {
     "name": "stdout",
     "output_type": "stream",
     "text": [
      "Welcome to the CBC MILP Solver \n",
      "Version: 2.10.3 \n",
      "Build Date: Dec 15 2019 \n",
      "\n",
      "command line - /opt/anaconda3/lib/python3.11/site-packages/pulp/solverdir/cbc/osx/64/cbc /var/folders/xb/lr7m025s58x8rlx_nc_7vx5r0000gn/T/46396ed2f7604cf7bd6ea9935a33b797-pulp.mps -timeMode elapsed -branch -printingOptions all -solution /var/folders/xb/lr7m025s58x8rlx_nc_7vx5r0000gn/T/46396ed2f7604cf7bd6ea9935a33b797-pulp.sol (default strategy 1)\n",
      "At line 2 NAME          MODEL\n",
      "At line 3 ROWS\n",
      "At line 10 COLUMNS\n",
      "At line 42 RHS\n",
      "At line 48 BOUNDS\n",
      "At line 49 ENDATA\n",
      "Problem MODEL has 5 rows, 13 columns and 24 elements\n",
      "Coin0008I MODEL read with 0 errors\n",
      "Option for timeMode changed from cpu to elapsed\n",
      "Presolve 5 (0) rows, 9 (-4) columns and 20 (-4) elements\n",
      "0  Obj 0 Primal inf 28428.571 (2)\n",
      "6  Obj 126333.33\n",
      "Optimal - objective value 126333.33\n",
      "After Postsolve, objective 126333.33, infeasibilities - dual 0 (0), primal 0 (0)\n",
      "Optimal objective 126333.3333 - 6 iterations time 0.002, Presolve 0.00\n",
      "Option for printingOptions changed from normal to all\n",
      "Total time (CPU seconds):       0.00   (Wallclock seconds):       0.00\n",
      "\n",
      "Optimal Production Plan:\n",
      "Tanks: 4500.00\n",
      "Trucks: 2333.33\n",
      "Turtles: 0.00\n",
      "\n",
      "Goal Deviations:\n",
      "Labor Excess: 3666.67\n",
      "Labor Shortfall: 0.00\n",
      "Plastic Excess: 0.00\n",
      "Plastic Shortfall: 0.00\n",
      "Rubber Excess: 1833.33\n",
      "Rubber Shortfall: 0.00\n",
      "Metal Excess: 0.00\n",
      "Metal Shortfall: 0.00\n",
      "Budget Excess: 0.00\n",
      "Budget Shortfall: 120833.33\n"
     ]
    }
   ],
   "source": [
    "# Define problem\n",
    "model = LpProblem(\"ToyProduction\", LpMinimize)\n",
    "\n",
    "# Decision variables\n",
    "T = LpVariable(\"Tanks\", lowBound=0)\n",
    "R = LpVariable(\"Trucks\", lowBound=0)\n",
    "U = LpVariable(\"Turtles\", lowBound=0)\n",
    "\n",
    "# Goal deviation variables\n",
    "eta1 = LpVariable(\"LaborShortfall\", lowBound=0)\n",
    "rho1 = LpVariable(\"LaborExcess\", lowBound=0)\n",
    "eta2 = LpVariable(\"PlasticShortfall\", lowBound=0)\n",
    "rho2 = LpVariable(\"PlasticExcess\", lowBound=0)\n",
    "eta3 = LpVariable(\"RubberShortfall\", lowBound=0)\n",
    "rho3 = LpVariable(\"RubberExcess\", lowBound=0)\n",
    "eta4 = LpVariable(\"MetalShortfall\", lowBound=0)\n",
    "rho4 = LpVariable(\"MetalExcess\", lowBound=0)\n",
    "eta5 = LpVariable(\"BudgetShortfall\", lowBound=0)\n",
    "rho5 = LpVariable(\"BudgetExcess\", lowBound=0)\n",
    "\n",
    "# Goals (including deviation variables)\n",
    "model += 2*T + 2*R + U + eta1 - rho1 == 10000  # Labor constraint\n",
    "model += 2*T + 3*R + 4*U + eta2 - rho2 == 16000  # Plastic constraint\n",
    "model += T + R + 2*U + eta3 - rho3 == 5000  # Rubber constraint\n",
    "model += 2*T + U + eta4 + rho4 == 9000  # Metal constraint\n",
    "model += 7*T + 5*R + 4*U + eta5 - rho5 == 164000  # Budget constraint\n",
    "\n",
    "# Objective function (prioritized deviations)\n",
    "model += rho1 + 2*rho2 + rho3 + rho4 + eta5 + rho5 + eta1\n",
    "\n",
    "# Solve the problem\n",
    "model.solve()\n",
    "\n",
    "# Print results\n",
    "print(\"Optimal Production Plan:\")\n",
    "print(f\"Tanks: {T.value():.2f}\")\n",
    "print(f\"Trucks: {R.value():.2f}\")\n",
    "print(f\"Turtles: {U.value():.2f}\")\n",
    "\n",
    "# Check for constraint violations\n",
    "print(\"\\nGoal Deviations:\")\n",
    "print(f\"Labor Excess: {rho1.value():.2f}\")\n",
    "print(f\"Labor Shortfall: {eta1.value():.2f}\")\n",
    "print(f\"Plastic Excess: {rho2.value():.2f}\")\n",
    "print(f\"Plastic Shortfall: {eta2.value():.2f}\")\n",
    "print(f\"Rubber Excess: {rho3.value():.2f}\")\n",
    "print(f\"Rubber Shortfall: {eta3.value():.2f}\")\n",
    "print(f\"Metal Excess: {rho4.value():.2f}\")\n",
    "print(f\"Metal Shortfall: {eta4.value():.2f}\")\n",
    "print(f\"Budget Excess: {rho5.value():.2f}\")\n",
    "print(f\"Budget Shortfall: {eta5.value():.2f}\")\n",
    "\n",
    "# Note: Due to floating-point precision errors, slight deviations might occur"
   ]
  },
  {
   "cell_type": "markdown",
   "id": "0f67a43b-f346-40c2-ba38-60686f58dbb7",
   "metadata": {},
   "source": [
    "#### Question 4 Breaking Ad is planning its advertising campaign for a customer’s new product and is going to leverage podcasts and YouTube for its advertisements. The total number of exposures per \\\\$1,000 is estimated to be 10,000 for podcasts and 7,500 for YouTube. The customer sees the campaign as successful if 750,000 people are reached and consider the campaign to be superbly successful if the exposures exceed 1 million people. The customer also wants to target its two largest age groups: 18 – 21 and 25 – 30. The total number of exposures per \\\\$1,000 for these age groups are shown below.\n",
    "\n",
    "##### Bonus (5 points): Solve the problem and give the expenditures for each media advertising campaign as well as any violations of the goals (weights don’t have to add up to 1; use simple weights – 1, 2, 3, etc.)."
   ]
  },
  {
   "cell_type": "code",
   "execution_count": 22,
   "id": "cff2264a-8de5-4e62-ac95-c09151114150",
   "metadata": {},
   "outputs": [
    {
     "name": "stdout",
     "output_type": "stream",
     "text": [
      "Welcome to the CBC MILP Solver \n",
      "Version: 2.10.3 \n",
      "Build Date: Dec 15 2019 \n",
      "\n",
      "command line - /opt/anaconda3/lib/python3.11/site-packages/pulp/solverdir/cbc/osx/64/cbc /var/folders/xb/lr7m025s58x8rlx_nc_7vx5r0000gn/T/75811fc0f8fa4dc7b959e4949d03859d-pulp.mps -timeMode elapsed -branch -printingOptions all -solution /var/folders/xb/lr7m025s58x8rlx_nc_7vx5r0000gn/T/75811fc0f8fa4dc7b959e4949d03859d-pulp.sol (default strategy 1)\n",
      "At line 2 NAME          MODEL\n",
      "At line 3 ROWS\n",
      "At line 12 COLUMNS\n",
      "At line 46 RHS\n",
      "At line 54 BOUNDS\n",
      "At line 55 ENDATA\n",
      "Problem MODEL has 7 rows, 16 columns and 27 elements\n",
      "Coin0008I MODEL read with 0 errors\n",
      "Option for timeMode changed from cpu to elapsed\n",
      "Presolve 6 (-1) rows, 8 (-8) columns and 17 (-10) elements\n",
      "0  Obj 0 Primal inf 441.66666 (5)\n",
      "3  Obj 10\n",
      "Optimal - objective value 10\n",
      "After Postsolve, objective 10, infeasibilities - dual 0 (0), primal 0 (0)\n",
      "Optimal objective 10 - 3 iterations time 0.002, Presolve 0.00\n",
      "Option for printingOptions changed from normal to all\n",
      "Total time (CPU seconds):       0.00   (Wallclock seconds):       0.00\n",
      "\n",
      "Optimal Advertising Campaign Plan:\n",
      "Podcast Expenditure: 70.00 Thousand Dollars\n",
      "YouTube Expenditure: 40.00 Thousand Dollars\n",
      "\n",
      "Goal Deviations:\n",
      "Successful Campaign Excess: 0.00\n",
      "Cost Limit Shortfall: 10.00\n",
      "Podcast Cost Limit Excess: 0.00\n",
      "Podcast Cost Shortfall: 0.00\n",
      "Superbly Successful Campaign Excess: 0.00\n",
      "Superbly Successful Shortfall: 0.00\n",
      "Age Group Exposure Excess (18-21): 0.00\n",
      "Age Group Exposure Shortfall (18-21): 45000.00\n",
      "Age Group Exposure Excess (25-30): 0.00\n",
      "Age Group Exposure Shortfall (25-30): 20000.00\n",
      "Purchasing Power Violation: 0.00\n",
      "Purchasing Power Shortfall: 320.00\n"
     ]
    }
   ],
   "source": [
    "# Define problem\n",
    "model = LpProblem(\"AdvertisingCampaign\", LpMinimize)\n",
    "\n",
    "# Decision variables\n",
    "x1 = LpVariable(\"PodcastExpenditure\", lowBound=0)\n",
    "x2 = LpVariable(\"YouTubeExpenditure\", lowBound=0)\n",
    "\n",
    "# Goal deviation variables\n",
    "eta1 = LpVariable(\"SuccessfulCampaignExcess\", lowBound=0)\n",
    "rho1 = LpVariable(\"SuccessfulCampaignShortfall\", lowBound=0)\n",
    "eta2 = LpVariable(\"CostLimitExcess\", lowBound=0)\n",
    "rho2 = LpVariable(\"CostLimitShortfall\", lowBound=0)\n",
    "eta3 = LpVariable(\"PodcastCostLimitExcess\", lowBound=0)\n",
    "rho3 = LpVariable(\"PodcastCostLimitShortfall\", lowBound=0)\n",
    "eta4 = LpVariable(\"SuperblySuccessfulCampaignExcess\", lowBound=0)\n",
    "rho4 = LpVariable(\"SuperblySuccessfulCampaignShortfall\", lowBound=0)\n",
    "eta5 = LpVariable(\"AgeGroupExposureShortfall\", lowBound=0)\n",
    "rho5 = LpVariable(\"AgeGroupExposureExcess\", lowBound=0)\n",
    "eta6 = LpVariable(\"AgeGroupExposureShortfall_25_30\", lowBound=0)\n",
    "rho6 = LpVariable(\"AgeGroupExposureExcess_25_30\", lowBound=0)\n",
    "eta7 = LpVariable(\"PurchasingPowerViolation\", lowBound=0)\n",
    "rho7 = LpVariable(\"PurchasingPowerSatisfaction\", lowBound=0)\n",
    "\n",
    "# Goals (including deviation variables)\n",
    "model += 10000*x1 + 7500*x2 + eta1 - rho1 == 750000  # Successful campaign\n",
    "model += x1 + x2 + eta2 - rho2 == 100  # Cost limit\n",
    "model += x1 + eta3 - rho3 == 70  # Podcast cost limit\n",
    "model += 10000*x1 + 7500*x2 + eta4 - rho4 == 1000000  # Superbly successful campaign\n",
    "model += 2500*x1 + 3000*x2 + eta5 - rho5 == 250000  # Age group exposure (18-21)\n",
    "model += 3000*x1 + 1500*x2 + eta6 - rho6 == 250000  # Age group exposure (25-30)\n",
    "model += 2*x1 + 4.5*x2 + eta7 - rho7 == 0  # Purchasing power\n",
    "\n",
    "# Objective function (prioritized deviations)\n",
    "model += eta1 + rho2 + rho3 + eta4 + eta5 + 2*eta6\n",
    "\n",
    "# Solve the problem\n",
    "model.solve()\n",
    "\n",
    "# Print results\n",
    "print(\"Optimal Advertising Campaign Plan:\")\n",
    "print(f\"Podcast Expenditure: {x1.value():.2f} Thousand Dollars\")\n",
    "print(f\"YouTube Expenditure: {x2.value():.2f} Thousand Dollars\")\n",
    "\n",
    "# Check for constraint violations\n",
    "print(\"\\nGoal Deviations:\")\n",
    "print(f\"Successful Campaign Excess: {eta1.value():.2f}\")\n",
    "print(f\"Cost Limit Shortfall: {rho2.value():.2f}\")\n",
    "print(f\"Podcast Cost Limit Excess: {eta3.value():.2f}\")\n",
    "print(f\"Podcast Cost Shortfall: {rho3.value():.2f}\")\n",
    "print(f\"Superbly Successful Campaign Excess: {eta4.value():.2f}\")\n",
    "print(f\"Superbly Successful Shortfall: {rho4.value():.2f}\")\n",
    "print(f\"Age Group Exposure Excess (18-21): {eta5.value():.2f}\")\n",
    "print(f\"Age Group Exposure Shortfall (18-21): {rho5.value():.2f}\")\n",
    "print(f\"Age Group Exposure Excess (25-30): {eta6.value():.2f}\")\n",
    "print(f\"Age Group Exposure Shortfall (25-30): {rho6.value():.2f}\")\n",
    "print(f\"Purchasing Power Violation: {eta7.value():.2f}\")\n",
    "print(f\"Purchasing Power Shortfall: {rho7.value():.2f}\")"
   ]
  },
  {
   "cell_type": "code",
   "execution_count": null,
   "id": "047d52a6-c59b-4d95-bba2-88fefee7e941",
   "metadata": {},
   "outputs": [],
   "source": []
  },
  {
   "cell_type": "markdown",
   "id": "2a677098-84c5-4c8f-834e-eaf31b771558",
   "metadata": {},
   "source": [
    "#### 5. A local farmer’s market sells, among other things, fresh apples during the harvest season. The market has \\\\$750 to purchase bushels of apples from orchard 1 at \\\\$5 per bushel, orchard 2 at \\\\$6 per bushel, or orchard 3 at \\\\$8 per bushel. However, the quality of the apples varies by orchard and the market can earn (in profit) \\\\$10 per bushel from orchard 1, \\\\$11 per bushel from orchard 2, and \\\\$20 per bushel from orchard 3. Orchard 3 is selective with its sales and will only sell between 20 and 40 bushels to the market. That is, it will not sell to the farmer’s market if they order fewer than 20 bushels and will not sell more than 40 bushels to the market. Further, orchard 1 only has 50 bushels available to sell."
   ]
  },
  {
   "cell_type": "markdown",
   "id": "d7546a3b-6a51-4048-abd2-013415a997e9",
   "metadata": {},
   "source": [
    "##### Part B: Solve the problem and give the solution (decision variables and objective function)."
   ]
  },
  {
   "cell_type": "code",
   "execution_count": 31,
   "id": "27761950-a129-4195-a7e1-797b157395e1",
   "metadata": {},
   "outputs": [
    {
     "name": "stdout",
     "output_type": "stream",
     "text": [
      "Optimal Solution:\n",
      "Number of bushels purchased from orchard 1: 49.99999999983959 (~ 50.00)\n",
      "Number of bushels purchased from orchard 2: 29.999999999839382 (~ 30.00)\n",
      "Number of bushels purchased from orchard 3: 39.99999999989095 (~ 30.00)\n",
      "Indicator value for orchard 3 selection?: Selected\n",
      "Maximum Profit: $ 1629.999999994448 (~ 1630.00)\n"
     ]
    }
   ],
   "source": [
    "# Define the objective function to maximize profit\n",
    "def objective_function(x):\n",
    "    return -(10*x[0] + 11*x[1] + 20*x[2])\n",
    "\n",
    "# Define the constraints\n",
    "def constraint1(x):\n",
    "    return 750 - (5*x[0] + 6*x[1] + 8*x[2])\n",
    "\n",
    "def constraint2(x):\n",
    "    return 50 - x[0]\n",
    "\n",
    "def constraint3(x):\n",
    "    return x[2] - 20\n",
    "\n",
    "def constraint4(x):\n",
    "    return 40 - x[2]\n",
    "\n",
    "# Initial guess\n",
    "x0 = [0, 0, 0]\n",
    "\n",
    "# Bounds for each variable\n",
    "bounds = [(0, None), (0, None), (0, None)]\n",
    "\n",
    "# Constraints\n",
    "constraints = [\n",
    "    {'type': 'ineq', 'fun': constraint1},\n",
    "    {'type': 'ineq', 'fun': constraint2},\n",
    "    {'type': 'ineq', 'fun': constraint3},\n",
    "    {'type': 'ineq', 'fun': constraint4}\n",
    "]\n",
    "\n",
    "# Solve the optimization problem\n",
    "result = minimize(objective_function, x0, method='SLSQP', bounds=bounds, constraints=constraints)\n",
    "\n",
    "# Extract the optimal solution and profit\n",
    "optimal_solution = result.x\n",
    "max_profit = -result.fun\n",
    "\n",
    "# Calculate the indicator value for orchard 3\n",
    "indicator_orchard_3 = 'Selected' if 20 <= optimal_solution[2] <= 40 else 'Not Selected'\n",
    "\n",
    "print(\"Optimal Solution:\")\n",
    "print(f\"Number of bushels purchased from orchard 1: {optimal_solution[0]} (~ {optimal_solution[0]:.2f})\")\n",
    "print(f\"Number of bushels purchased from orchard 2: {optimal_solution[1]} (~ {optimal_solution[1]:.2f})\")\n",
    "print(f\"Number of bushels purchased from orchard 3: {optimal_solution[2]} (~ {optimal_solution[1]:.2f})\")\n",
    "print(f\"Indicator value for orchard 3 selection?: {indicator_orchard_3}\")\n",
    "print(f\"Maximum Profit: $ {max_profit} (~ ${max_profit:.2f})\")"
   ]
  },
  {
   "cell_type": "code",
   "execution_count": null,
   "id": "4d793975-e73d-48c8-b5eb-3bef98d288ef",
   "metadata": {},
   "outputs": [],
   "source": []
  }
 ],
 "metadata": {
  "kernelspec": {
   "display_name": "Python 3 (ipykernel)",
   "language": "python",
   "name": "python3"
  },
  "language_info": {
   "codemirror_mode": {
    "name": "ipython",
    "version": 3
   },
   "file_extension": ".py",
   "mimetype": "text/x-python",
   "name": "python",
   "nbconvert_exporter": "python",
   "pygments_lexer": "ipython3",
   "version": "3.11.7"
  }
 },
 "nbformat": 4,
 "nbformat_minor": 5
}
