{
 "cells": [
  {
   "cell_type": "markdown",
   "id": "38914373-69eb-4dad-a93b-d4462d4055ca",
   "metadata": {},
   "source": [
    "### Script to download last 5 years of daily adjusted closing prices for the Standard & Poor’s 500 index from finance.yahoo.com"
   ]
  },
  {
   "cell_type": "code",
   "execution_count": 1,
   "id": "8f8a587d-a6d0-474c-bbe0-de97540f08f1",
   "metadata": {},
   "outputs": [
    {
     "name": "stderr",
     "output_type": "stream",
     "text": [
      "[*********************100%%**********************]  1 of 1 completed"
     ]
    },
    {
     "name": "stdout",
     "output_type": "stream",
     "text": [
      "Number of trading days: 1256\n",
      "Start Date: 2019-08-15 \t\t End Date: 2024-08-13 \n"
     ]
    },
    {
     "name": "stderr",
     "output_type": "stream",
     "text": [
      "\n"
     ]
    },
    {
     "data": {
      "text/html": [
       "<div>\n",
       "<style scoped>\n",
       "    .dataframe tbody tr th:only-of-type {\n",
       "        vertical-align: middle;\n",
       "    }\n",
       "\n",
       "    .dataframe tbody tr th {\n",
       "        vertical-align: top;\n",
       "    }\n",
       "\n",
       "    .dataframe thead th {\n",
       "        text-align: right;\n",
       "    }\n",
       "</style>\n",
       "<table border=\"1\" class=\"dataframe\">\n",
       "  <thead>\n",
       "    <tr style=\"text-align: right;\">\n",
       "      <th></th>\n",
       "      <th>Date</th>\n",
       "      <th>Open</th>\n",
       "      <th>High</th>\n",
       "      <th>Low</th>\n",
       "      <th>Close</th>\n",
       "      <th>Adj Close</th>\n",
       "      <th>Volume</th>\n",
       "    </tr>\n",
       "  </thead>\n",
       "  <tbody>\n",
       "    <tr>\n",
       "      <th>0</th>\n",
       "      <td>2019-08-15</td>\n",
       "      <td>2846.199951</td>\n",
       "      <td>2856.669922</td>\n",
       "      <td>2825.510010</td>\n",
       "      <td>2847.600098</td>\n",
       "      <td>2847.600098</td>\n",
       "      <td>4041720000</td>\n",
       "    </tr>\n",
       "    <tr>\n",
       "      <th>1</th>\n",
       "      <td>2019-08-16</td>\n",
       "      <td>2864.739990</td>\n",
       "      <td>2893.629883</td>\n",
       "      <td>2864.739990</td>\n",
       "      <td>2888.679932</td>\n",
       "      <td>2888.679932</td>\n",
       "      <td>3524080000</td>\n",
       "    </tr>\n",
       "    <tr>\n",
       "      <th>2</th>\n",
       "      <td>2019-08-19</td>\n",
       "      <td>2913.479980</td>\n",
       "      <td>2931.000000</td>\n",
       "      <td>2913.479980</td>\n",
       "      <td>2923.649902</td>\n",
       "      <td>2923.649902</td>\n",
       "      <td>3221050000</td>\n",
       "    </tr>\n",
       "    <tr>\n",
       "      <th>3</th>\n",
       "      <td>2019-08-20</td>\n",
       "      <td>2919.010010</td>\n",
       "      <td>2923.629883</td>\n",
       "      <td>2899.600098</td>\n",
       "      <td>2900.510010</td>\n",
       "      <td>2900.510010</td>\n",
       "      <td>3067710000</td>\n",
       "    </tr>\n",
       "    <tr>\n",
       "      <th>4</th>\n",
       "      <td>2019-08-21</td>\n",
       "      <td>2922.040039</td>\n",
       "      <td>2928.729980</td>\n",
       "      <td>2917.909912</td>\n",
       "      <td>2924.429932</td>\n",
       "      <td>2924.429932</td>\n",
       "      <td>3016540000</td>\n",
       "    </tr>\n",
       "  </tbody>\n",
       "</table>\n",
       "</div>"
      ],
      "text/plain": [
       "        Date         Open         High          Low        Close    Adj Close  \\\n",
       "0 2019-08-15  2846.199951  2856.669922  2825.510010  2847.600098  2847.600098   \n",
       "1 2019-08-16  2864.739990  2893.629883  2864.739990  2888.679932  2888.679932   \n",
       "2 2019-08-19  2913.479980  2931.000000  2913.479980  2923.649902  2923.649902   \n",
       "3 2019-08-20  2919.010010  2923.629883  2899.600098  2900.510010  2900.510010   \n",
       "4 2019-08-21  2922.040039  2928.729980  2917.909912  2924.429932  2924.429932   \n",
       "\n",
       "       Volume  \n",
       "0  4041720000  \n",
       "1  3524080000  \n",
       "2  3221050000  \n",
       "3  3067710000  \n",
       "4  3016540000  "
      ]
     },
     "execution_count": 1,
     "metadata": {},
     "output_type": "execute_result"
    }
   ],
   "source": [
    "import yfinance as yf\n",
    "import datetime as dt\n",
    "\n",
    "# Define the ticker symbol for the S&P 500 index\n",
    "ticker = \"^GSPC\"\n",
    "\n",
    "# Get the current date\n",
    "end_date = dt.datetime.now()\n",
    "\n",
    "# Calculate the start date as exactly 5 years before the current date\n",
    "start_date = end_date - dt.timedelta(days=5*365)  # Approximate\n",
    "\n",
    "# Download the data from Yahoo Finance for the defined date range\n",
    "# yf.download handles the actual available data based on market days\n",
    "sp500_data = yf.download(ticker, start=start_date.strftime('%Y-%m-%d'), end=end_date.strftime('%Y-%m-%d'))\n",
    "sp500_data.reset_index(inplace=True)\n",
    "\n",
    "# Check the number of rows (trading days)\n",
    "print(f\"Number of trading days: {len(sp500_data)}\")\n",
    "print(f\"Start Date: {(start_date.strftime('%Y-%m-%d'))} \\t\\t End Date: {(end_date.strftime('%Y-%m-%d'))} \")\n",
    "\n",
    "# Display the first and last few rows of the data\n",
    "sp500_data.head(5)"
   ]
  },
  {
   "cell_type": "code",
   "execution_count": 3,
   "id": "5033b3b2-7cc2-4e0f-afc6-ce5f8332c679",
   "metadata": {},
   "outputs": [],
   "source": [
    "sp500_data.to_csv('Standard & Poor’s 500 index.csv')"
   ]
  }
 ],
 "metadata": {
  "kernelspec": {
   "display_name": "Python 3 (ipykernel)",
   "language": "python",
   "name": "python3"
  },
  "language_info": {
   "codemirror_mode": {
    "name": "ipython",
    "version": 3
   },
   "file_extension": ".py",
   "mimetype": "text/x-python",
   "name": "python",
   "nbconvert_exporter": "python",
   "pygments_lexer": "ipython3",
   "version": "3.11.0"
  }
 },
 "nbformat": 4,
 "nbformat_minor": 5
}
