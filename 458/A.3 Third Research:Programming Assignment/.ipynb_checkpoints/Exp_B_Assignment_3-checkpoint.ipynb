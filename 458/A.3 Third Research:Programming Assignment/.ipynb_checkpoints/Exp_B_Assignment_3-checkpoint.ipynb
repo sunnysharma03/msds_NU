{
  "nbformat": 4,
  "nbformat_minor": 0,
  "metadata": {
    "colab": {
      "name": "Exp B Assignment 3.ipynb",
      "provenance": [],
      "collapsed_sections": []
    },
    "kernelspec": {
      "name": "python3",
      "display_name": "Python 3"
    },
    "language_info": {
      "name": "python"
    }
  },
  "cells": [
    {
      "cell_type": "code",
      "metadata": {
        "id": "Ns1F_FT_MhPm"
      },
      "source": [
        "import datetime\n",
        "from packaging import version\n",
        "from collections import Counter\n",
        "import numpy as np\n",
        "import pandas as pd\n",
        "import time\n",
        "\n",
        "import matplotlib.pyplot as plt\n",
        "import matplotlib as mpl\n",
        "import seaborn as sns\n",
        "\n",
        "from sklearn.metrics import confusion_matrix, classification_report\n",
        "from sklearn.preprocessing import StandardScaler\n",
        "from sklearn.decomposition import PCA\n",
        "from sklearn.manifold import TSNE\n",
        "from sklearn.ensemble import RandomForestClassifier\n",
        "from sklearn.metrics import mean_squared_error as MSE\n",
        "from sklearn.metrics import accuracy_score\n",
        "\n",
        "import tensorflow as tf\n",
        "from tensorflow import keras\n",
        "import tensorflow_datasets as tfds"
      ],
      "execution_count": null,
      "outputs": []
    },
    {
      "cell_type": "code",
      "metadata": {
        "id": "KXPP4Ib8MonL"
      },
      "source": [
        "#tf.get_logger().setLevel('INFO')"
      ],
      "execution_count": null,
      "outputs": []
    },
    {
      "cell_type": "code",
      "metadata": {
        "id": "tbejjF1cMoun"
      },
      "source": [
        "%matplotlib inline\n",
        "np.set_printoptions(precision=3, suppress=True)"
      ],
      "execution_count": null,
      "outputs": []
    },
    {
      "cell_type": "code",
      "metadata": {
        "colab": {
          "base_uri": "https://localhost:8080/"
        },
        "id": "X5lb1ADOMo17",
        "outputId": "6d549fb2-cdfa-4493-943e-d4b6eb810bac"
      },
      "source": [
        "print(\"This notebook requires TensorFlow 2.0 or above\")\n",
        "print(\"TensorFlow version: \", tf.__version__)\n",
        "assert version.parse(tf.__version__).release[0] >=2"
      ],
      "execution_count": null,
      "outputs": [
        {
          "output_type": "stream",
          "name": "stdout",
          "text": [
            "This notebook requires TensorFlow 2.0 or above\n",
            "TensorFlow version:  2.6.0\n"
          ]
        }
      ]
    },
    {
      "cell_type": "code",
      "metadata": {
        "colab": {
          "base_uri": "https://localhost:8080/"
        },
        "id": "c8HNHKk5MzN4",
        "outputId": "aaaa417a-3413-4b58-a9f8-ad6bf3ec074a"
      },
      "source": [
        "print(\"Keras version: \", keras.__version__)"
      ],
      "execution_count": null,
      "outputs": [
        {
          "output_type": "stream",
          "name": "stdout",
          "text": [
            "Keras version:  2.6.0\n"
          ]
        }
      ]
    },
    {
      "cell_type": "markdown",
      "metadata": {
        "id": "2RS8e_yAM45i"
      },
      "source": [
        "**Functions**"
      ]
    },
    {
      "cell_type": "code",
      "metadata": {
        "id": "FyCFP46uMzUK"
      },
      "source": [
        "def print_validation_report(test_labels, predictions):\n",
        "    print(\"Classification Report\")\n",
        "    print(classification_report(test_labels, predictions))\n",
        "    print('Accuracy Score: {}'.format(accuracy_score(test_labels, predictions)))\n",
        "    print('Root Mean Square Error: {}'.format(np.sqrt(MSE(test_labels, predictions))))"
      ],
      "execution_count": null,
      "outputs": []
    },
    {
      "cell_type": "code",
      "metadata": {
        "id": "gf1w9VN5MzZD"
      },
      "source": [
        "def plot_confusion_matrix(y_true, y_pred):\n",
        "    mtx = confusion_matrix(y_true, y_pred)\n",
        "    fig, ax = plt.subplots(figsize=(8,8))\n",
        "    sns.heatmap(mtx, annot=True, fmt='d', linewidths=.75,  cbar=False, ax=ax,cmap='Blues',linecolor='white')\n",
        "    #  square=True,\n",
        "    plt.ylabel('true label')\n",
        "    plt.xlabel('predicted label')"
      ],
      "execution_count": null,
      "outputs": []
    },
    {
      "cell_type": "code",
      "metadata": {
        "id": "hB1OgEGcMzd9"
      },
      "source": [
        "def plot_graphs(history, metric):\n",
        "  plt.plot(history.history[metric])\n",
        "  plt.plot(history.history['val_'+metric], '')\n",
        "  plt.xlabel(\"Epochs\")\n",
        "  plt.ylabel(metric)\n",
        "  plt.legend([metric, 'val_'+metric])"
      ],
      "execution_count": null,
      "outputs": []
    },
    {
      "cell_type": "markdown",
      "metadata": {
        "id": "0BPdaGYzNNeb"
      },
      "source": [
        "**Mount Google Drive**"
      ]
    },
    {
      "cell_type": "code",
      "metadata": {
        "id": "xVcLDywfMzlA"
      },
      "source": [
        "#from google.colab import drive\n",
        "#drive.mount('/content/gdrive')"
      ],
      "execution_count": null,
      "outputs": []
    },
    {
      "cell_type": "markdown",
      "metadata": {
        "id": "t5PPgCOQNWwI"
      },
      "source": [
        "**TensorFlow Datasets Information**"
      ]
    },
    {
      "cell_type": "markdown",
      "metadata": {
        "id": "lRx0RW-FN0Qs"
      },
      "source": [
        "Get all the words in the documents (as well as the number of words in each document) by using the encoder to get the indices associated with each token and then translating the indices to tokens. But first we need to get the \"unpadded\" new articles so that we can get their length."
      ]
    },
    {
      "cell_type": "code",
      "metadata": {
        "colab": {
          "base_uri": "https://localhost:8080/"
        },
        "id": "nQ8OSXjdMzqe",
        "outputId": "ac1fb2e1-25b0-4589-8801-66cc7d30e3c7"
      },
      "source": [
        "#register  ag_news_subset so that tfds.load doesn't generate a checksum (mismatch) error\n",
        "!python -m tensorflow_datasets.scripts.download_and_prepare --register_checksums --datasets=ag_news_subset\n",
        "\n",
        "# https://www.tensorflow.org/datasets/splits\n",
        "# The full `train` and `test` splits, interleaved together.\n",
        "ri = tfds.core.ReadInstruction('train') + tfds.core.ReadInstruction('test')\n",
        "dataset_all, info = tfds.load('ag_news_subset', with_info=True,  split=ri, as_supervised=True)"
      ],
      "execution_count": null,
      "outputs": [
        {
          "output_type": "stream",
          "name": "stdout",
          "text": [
            "2021-10-30 14:07:23.356725: E tensorflow/stream_executor/cuda/cuda_driver.cc:271] failed call to cuInit: CUDA_ERROR_NO_DEVICE: no CUDA-capable device is detected\n",
            "2021-10-30 14:07:23.356797: I tensorflow/stream_executor/cuda/cuda_diagnostics.cc:156] kernel driver does not appear to be running on this host (e15f80406a16): /proc/driver/nvidia/version does not exist\n",
            "I1030 14:07:23.357019 139738120324992 download_and_prepare.py:200] Running download_and_prepare for dataset(s):\n",
            "ag_news_subset\n",
            "I1030 14:07:23.358145 139738120324992 dataset_info.py:361] Load dataset info from /root/tensorflow_datasets/ag_news_subset/1.0.0\n",
            "I1030 14:07:23.360554 139738120324992 download_and_prepare.py:138] download_and_prepare for dataset ag_news_subset/1.0.0...\n",
            "I1030 14:07:23.360836 139738120324992 dataset_builder.py:299] Reusing dataset ag_news_subset (/root/tensorflow_datasets/ag_news_subset/1.0.0)\n",
            "\u001b[1mname: \"ag_news_subset\"\n",
            "description: \"AG is a collection of more than 1 million news articles.\\nNews articles have been gathered from more than 2000  news sources by ComeToMyHead in more than 1 year of activity.\\nComeToMyHead is an academic news search engine which has been running since July, 2004.\\nThe dataset is provided by the academic comunity for research purposes in data mining (clustering, classification, etc),\\ninformation retrieval (ranking, search, etc), xml, data compression, data streaming,\\nand any other non-commercial activity.\\nFor more information, please refer to the link http://www.di.unipi.it/~gulli/AG_corpus_of_news_articles.html .\\n\\nThe AG\\'s news topic classification dataset is constructed by Xiang Zhang (xiang.zhang@nyu.edu) from the dataset above.\\nIt is used as a text classification benchmark in the following paper:\\nXiang Zhang, Junbo Zhao, Yann LeCun. Character-level Convolutional Networks for Text Classification. Advances in Neural Information Processing Systems 28 (NIPS 2015).\\n\\nThe AG\\'s news topic classification dataset is constructed by choosing 4 largest classes from the original corpus.\\nEach class contains 30,000 training samples and 1,900 testing samples.\\nThe total number of training samples is 120,000 and testing 7,600.\"\n",
            "citation: \"@misc{zhang2015characterlevel,\\n    title={Character-level Convolutional Networks for Text Classification},\\n    author={Xiang Zhang and Junbo Zhao and Yann LeCun},\\n    year={2015},\\n    eprint={1509.01626},\\n    archivePrefix={arXiv},\\n    primaryClass={cs.LG}\\n}\"\n",
            "location {\n",
            "  urls: \"https://arxiv.org/abs/1509.01626\"\n",
            "}\n",
            "splits {\n",
            "  name: \"test\"\n",
            "  shard_lengths: 7600\n",
            "  num_bytes: 2226751\n",
            "}\n",
            "splits {\n",
            "  name: \"train\"\n",
            "  shard_lengths: 120000\n",
            "  num_bytes: 35301386\n",
            "}\n",
            "supervised_keys {\n",
            "  input: \"description\"\n",
            "  output: \"label\"\n",
            "}\n",
            "version: \"1.0.0\"\n",
            "download_size: 11784327\n",
            "\u001b[0m\n"
          ]
        }
      ]
    },
    {
      "cell_type": "markdown",
      "metadata": {
        "id": "CudHOmX7OJLB"
      },
      "source": [
        "**Exploratory Analysis AG News Subset**\n",
        "\n",
        "Get information about the ag_news_subset dataset. We combined the training and test data for a total of 127,600 news articles."
      ]
    },
    {
      "cell_type": "code",
      "metadata": {
        "colab": {
          "base_uri": "https://localhost:8080/"
        },
        "id": "YDCp6LNiNY5G",
        "outputId": "4bdc2327-015e-48ec-b393-2b38ac859b35"
      },
      "source": [
        "print(info)"
      ],
      "execution_count": null,
      "outputs": [
        {
          "output_type": "stream",
          "name": "stdout",
          "text": [
            "tfds.core.DatasetInfo(\n",
            "    name='ag_news_subset',\n",
            "    version=1.0.0,\n",
            "    description='AG is a collection of more than 1 million news articles.\n",
            "News articles have been gathered from more than 2000  news sources by ComeToMyHead in more than 1 year of activity.\n",
            "ComeToMyHead is an academic news search engine which has been running since July, 2004.\n",
            "The dataset is provided by the academic comunity for research purposes in data mining (clustering, classification, etc),\n",
            "information retrieval (ranking, search, etc), xml, data compression, data streaming,\n",
            "and any other non-commercial activity.\n",
            "For more information, please refer to the link http://www.di.unipi.it/~gulli/AG_corpus_of_news_articles.html .\n",
            "\n",
            "The AG's news topic classification dataset is constructed by Xiang Zhang (xiang.zhang@nyu.edu) from the dataset above.\n",
            "It is used as a text classification benchmark in the following paper:\n",
            "Xiang Zhang, Junbo Zhao, Yann LeCun. Character-level Convolutional Networks for Text Classification. Advances in Neural Information Processing Systems 28 (NIPS 2015).\n",
            "\n",
            "The AG's news topic classification dataset is constructed by choosing 4 largest classes from the original corpus.\n",
            "Each class contains 30,000 training samples and 1,900 testing samples.\n",
            "The total number of training samples is 120,000 and testing 7,600.',\n",
            "    homepage='https://arxiv.org/abs/1509.01626',\n",
            "    features=FeaturesDict({\n",
            "        'description': Text(shape=(), dtype=tf.string),\n",
            "        'label': ClassLabel(shape=(), dtype=tf.int64, num_classes=4),\n",
            "        'title': Text(shape=(), dtype=tf.string),\n",
            "    }),\n",
            "    total_num_examples=127600,\n",
            "    splits={\n",
            "        'test': 7600,\n",
            "        'train': 120000,\n",
            "    },\n",
            "    supervised_keys=('description', 'label'),\n",
            "    citation=\"\"\"@misc{zhang2015characterlevel,\n",
            "        title={Character-level Convolutional Networks for Text Classification},\n",
            "        author={Xiang Zhang and Junbo Zhao and Yann LeCun},\n",
            "        year={2015},\n",
            "        eprint={1509.01626},\n",
            "        archivePrefix={arXiv},\n",
            "        primaryClass={cs.LG}\n",
            "    }\"\"\",\n",
            "    redistribution_info=,\n",
            ")\n",
            "\n"
          ]
        }
      ]
    },
    {
      "cell_type": "code",
      "metadata": {
        "colab": {
          "base_uri": "https://localhost:8080/",
          "height": 335
        },
        "id": "yVSZzDOnNY8C",
        "outputId": "996c380c-2d62-4c4e-9e67-ade1ad9ec747"
      },
      "source": [
        "tfds.as_dataframe(dataset_all.take(10),info)"
      ],
      "execution_count": null,
      "outputs": [
        {
          "output_type": "execute_result",
          "data": {
            "text/html": [
              "<style  type=\"text/css\" >\n",
              "</style><table id=\"T_40730f2e_3929_11ec_82f6_0242ac1c0002\" ><thead>    <tr>        <th class=\"blank level0\" ></th>        <th class=\"col_heading level0 col0\" >description</th>        <th class=\"col_heading level0 col1\" >label</th>    </tr></thead><tbody>\n",
              "                <tr>\n",
              "                        <th id=\"T_40730f2e_3929_11ec_82f6_0242ac1c0002level0_row0\" class=\"row_heading level0 row0\" >0</th>\n",
              "                        <td id=\"T_40730f2e_3929_11ec_82f6_0242ac1c0002row0_col0\" class=\"data row0 col0\" >AMD #39;s new dual-core Opteron chip is designed mainly for corporate computing applications, including databases, Web services, and financial transactions.</td>\n",
              "                        <td id=\"T_40730f2e_3929_11ec_82f6_0242ac1c0002row0_col1\" class=\"data row0 col1\" >3 (Sci/Tech)</td>\n",
              "            </tr>\n",
              "            <tr>\n",
              "                        <th id=\"T_40730f2e_3929_11ec_82f6_0242ac1c0002level0_row1\" class=\"row_heading level0 row1\" >1</th>\n",
              "                        <td id=\"T_40730f2e_3929_11ec_82f6_0242ac1c0002row1_col0\" class=\"data row1 col0\" >Reuters - Major League Baseball\\Monday announced a decision on the appeal filed by Chicago Cubs\\pitcher Kerry Wood regarding a suspension stemming from an\\incident earlier this season.</td>\n",
              "                        <td id=\"T_40730f2e_3929_11ec_82f6_0242ac1c0002row1_col1\" class=\"data row1 col1\" >1 (Sports)</td>\n",
              "            </tr>\n",
              "            <tr>\n",
              "                        <th id=\"T_40730f2e_3929_11ec_82f6_0242ac1c0002level0_row2\" class=\"row_heading level0 row2\" >2</th>\n",
              "                        <td id=\"T_40730f2e_3929_11ec_82f6_0242ac1c0002row2_col0\" class=\"data row2 col0\" >President Bush #39;s quot;revenue-neutral quot; tax reform needs losers to balance its winners, and people claiming the federal deduction for state and local taxes may be in administration planners #39; sights, news reports say.</td>\n",
              "                        <td id=\"T_40730f2e_3929_11ec_82f6_0242ac1c0002row2_col1\" class=\"data row2 col1\" >2 (Business)</td>\n",
              "            </tr>\n",
              "            <tr>\n",
              "                        <th id=\"T_40730f2e_3929_11ec_82f6_0242ac1c0002level0_row3\" class=\"row_heading level0 row3\" >3</th>\n",
              "                        <td id=\"T_40730f2e_3929_11ec_82f6_0242ac1c0002row3_col0\" class=\"data row3 col0\" >Britain will run out of leading scientists unless science education is improved, says Professor Colin Pillinger.</td>\n",
              "                        <td id=\"T_40730f2e_3929_11ec_82f6_0242ac1c0002row3_col1\" class=\"data row3 col1\" >3 (Sci/Tech)</td>\n",
              "            </tr>\n",
              "            <tr>\n",
              "                        <th id=\"T_40730f2e_3929_11ec_82f6_0242ac1c0002level0_row4\" class=\"row_heading level0 row4\" >4</th>\n",
              "                        <td id=\"T_40730f2e_3929_11ec_82f6_0242ac1c0002row4_col0\" class=\"data row4 col0\" >London, England (Sports Network) - England midfielder Steven Gerrard injured his groin late in Thursday #39;s training session, but is hopeful he will be ready for Saturday #39;s World Cup qualifier against Austria.</td>\n",
              "                        <td id=\"T_40730f2e_3929_11ec_82f6_0242ac1c0002row4_col1\" class=\"data row4 col1\" >1 (Sports)</td>\n",
              "            </tr>\n",
              "            <tr>\n",
              "                        <th id=\"T_40730f2e_3929_11ec_82f6_0242ac1c0002level0_row5\" class=\"row_heading level0 row5\" >5</th>\n",
              "                        <td id=\"T_40730f2e_3929_11ec_82f6_0242ac1c0002row5_col0\" class=\"data row5 col0\" >TOKYO - Sony Corp. is banking on the \\$3 billion deal to acquire Hollywood studio Metro-Goldwyn-Mayer Inc...</td>\n",
              "                        <td id=\"T_40730f2e_3929_11ec_82f6_0242ac1c0002row5_col1\" class=\"data row5 col1\" >0 (World)</td>\n",
              "            </tr>\n",
              "            <tr>\n",
              "                        <th id=\"T_40730f2e_3929_11ec_82f6_0242ac1c0002level0_row6\" class=\"row_heading level0 row6\" >6</th>\n",
              "                        <td id=\"T_40730f2e_3929_11ec_82f6_0242ac1c0002row6_col0\" class=\"data row6 col0\" >Giant pandas may well prefer bamboo to laptops, but wireless technology is helping researchers in China in their efforts to protect the engandered animals living in the remote Wolong Nature Reserve.</td>\n",
              "                        <td id=\"T_40730f2e_3929_11ec_82f6_0242ac1c0002row6_col1\" class=\"data row6 col1\" >3 (Sci/Tech)</td>\n",
              "            </tr>\n",
              "            <tr>\n",
              "                        <th id=\"T_40730f2e_3929_11ec_82f6_0242ac1c0002level0_row7\" class=\"row_heading level0 row7\" >7</th>\n",
              "                        <td id=\"T_40730f2e_3929_11ec_82f6_0242ac1c0002row7_col0\" class=\"data row7 col0\" >VILNIUS, Lithuania - Lithuania #39;s main parties formed an alliance to try to keep a Russian-born tycoon and his populist promises out of the government in Sunday #39;s second round of parliamentary elections in this Baltic country.</td>\n",
              "                        <td id=\"T_40730f2e_3929_11ec_82f6_0242ac1c0002row7_col1\" class=\"data row7 col1\" >0 (World)</td>\n",
              "            </tr>\n",
              "            <tr>\n",
              "                        <th id=\"T_40730f2e_3929_11ec_82f6_0242ac1c0002level0_row8\" class=\"row_heading level0 row8\" >8</th>\n",
              "                        <td id=\"T_40730f2e_3929_11ec_82f6_0242ac1c0002row8_col0\" class=\"data row8 col0\" >Witnesses in the trial of a US soldier charged with abusing prisoners at Abu Ghraib have told the court that the CIA sometimes directed abuse and orders were received from military command to toughen interrogations.</td>\n",
              "                        <td id=\"T_40730f2e_3929_11ec_82f6_0242ac1c0002row8_col1\" class=\"data row8 col1\" >0 (World)</td>\n",
              "            </tr>\n",
              "            <tr>\n",
              "                        <th id=\"T_40730f2e_3929_11ec_82f6_0242ac1c0002level0_row9\" class=\"row_heading level0 row9\" >9</th>\n",
              "                        <td id=\"T_40730f2e_3929_11ec_82f6_0242ac1c0002row9_col0\" class=\"data row9 col0\" >Dan Olsen of Ponte Vedra Beach, Fla., shot a 7-under 65 Thursday to take a one-shot lead after two rounds of the PGA Tour qualifying tournament.</td>\n",
              "                        <td id=\"T_40730f2e_3929_11ec_82f6_0242ac1c0002row9_col1\" class=\"data row9 col1\" >1 (Sports)</td>\n",
              "            </tr>\n",
              "    </tbody></table>"
            ],
            "text/plain": [
              "                                         description  label\n",
              "0  b'AMD #39;s new dual-core Opteron chip is desi...      3\n",
              "1  b'Reuters - Major League Baseball\\\\Monday anno...      1\n",
              "2  b'President Bush #39;s  quot;revenue-neutral q...      2\n",
              "3  b'Britain will run out of leading scientists u...      3\n",
              "4  b'London, England (Sports Network) - England m...      1\n",
              "5  b'TOKYO - Sony Corp. is banking on the \\\\$3 bi...      0\n",
              "6  b'Giant pandas may well prefer bamboo to lapto...      3\n",
              "7  b'VILNIUS, Lithuania - Lithuania #39;s main pa...      0\n",
              "8  b'Witnesses in the trial of a US soldier charg...      0\n",
              "9  b'Dan Olsen of Ponte Vedra Beach, Fla., shot a...      1"
            ]
          },
          "metadata": {},
          "execution_count": 9
        }
      ]
    },
    {
      "cell_type": "markdown",
      "metadata": {
        "id": "JBLIZ3u3OcIr"
      },
      "source": [
        "**Review Labels (Categories)**\n"
      ]
    },
    {
      "cell_type": "code",
      "metadata": {
        "colab": {
          "base_uri": "https://localhost:8080/"
        },
        "id": "dFSV556dNY_r",
        "outputId": "687011cb-3858-484a-f141-4873469d0fa6"
      },
      "source": [
        "print(f'There are {info.features[\"label\"].num_classes} classes in the dataset.')\n",
        "print(f'The class names are {info.features[\"label\"].names}')"
      ],
      "execution_count": null,
      "outputs": [
        {
          "output_type": "stream",
          "name": "stdout",
          "text": [
            "There are 4 classes in the dataset.\n",
            "The class names are ['World', 'Sports', 'Business', 'Sci/Tech']\n"
          ]
        }
      ]
    },
    {
      "cell_type": "code",
      "metadata": {
        "colab": {
          "base_uri": "https://localhost:8080/"
        },
        "id": "1SvHT3skNZDW",
        "outputId": "f5a5f921-594d-410b-9fd9-6ca10208bb1e"
      },
      "source": [
        "# classes dictionary\n",
        "categories =dict(enumerate(info.features[\"label\"].names))\n",
        "categories"
      ],
      "execution_count": null,
      "outputs": [
        {
          "output_type": "execute_result",
          "data": {
            "text/plain": [
              "{0: 'World', 1: 'Sports', 2: 'Business', 3: 'Sci/Tech'}"
            ]
          },
          "metadata": {},
          "execution_count": 11
        }
      ]
    },
    {
      "cell_type": "markdown",
      "metadata": {
        "id": "NeM9OqYgS0bO"
      },
      "source": [
        "The 127,600 news articles are evenly distributed among the 4 categories\n"
      ]
    },
    {
      "cell_type": "code",
      "metadata": {
        "colab": {
          "base_uri": "https://localhost:8080/"
        },
        "id": "gQyDjsceR3r7",
        "outputId": "a4f3d14c-4e8d-4ace-ae60-bf31b656e615"
      },
      "source": [
        "train_categories = [categories[label] for label in dataset_all.map(lambda text, label: label).as_numpy_iterator()]\n",
        "Counter(train_categories).most_common()"
      ],
      "execution_count": null,
      "outputs": [
        {
          "output_type": "execute_result",
          "data": {
            "text/plain": [
              "[('Sci/Tech', 31900), ('Sports', 31900), ('Business', 31900), ('World', 31900)]"
            ]
          },
          "metadata": {},
          "execution_count": 12
        }
      ]
    },
    {
      "cell_type": "markdown",
      "metadata": {
        "id": "01PZkzdTSwL0"
      },
      "source": [
        "We will use the tf.keras.layers.experimental.preprocessing.TextVectorization layer to transform each news article into a \"list\" of non-negative integers representing the tokens in the news article.\n",
        "\n",
        "For the purpose of training our models each such \"encoding\" will have a fixed length corresponding to the news article(s) with the most tokens. Shorter articles will be right-padded with zeros in the encoding. Also to speed up the training process, we will set max_tokens = 1000 so that words not in the vabulary set of top 1000 most common tokes are encoded as 1. But first we set max_tokens = None (which is the default value) in order to get the vocabulary size of the corpus."
      ]
    },
    {
      "cell_type": "code",
      "metadata": {
        "colab": {
          "base_uri": "https://localhost:8080/"
        },
        "id": "1wwTFLAgR3zA",
        "outputId": "8579d196-eff1-4cd4-abf7-e176207f41bc"
      },
      "source": [
        "%%time\n",
        "encoder = tf.keras.layers.experimental.preprocessing.TextVectorization(max_tokens=None)\n",
        "encoder.adapt(dataset_all.map(lambda text, label: text))\n",
        "vocab = np.array(encoder.get_vocabulary())"
      ],
      "execution_count": null,
      "outputs": [
        {
          "output_type": "stream",
          "name": "stdout",
          "text": [
            "WARNING:tensorflow:AutoGraph could not transform <function <lambda> at 0x7fad0d804440> and will run it as-is.\n",
            "Cause: could not parse the source code of <function <lambda> at 0x7fad0d804440>: no matching AST found\n",
            "To silence this warning, decorate the function with @tf.autograph.experimental.do_not_convert\n"
          ]
        },
        {
          "output_type": "stream",
          "name": "stderr",
          "text": [
            "WARNING:tensorflow:AutoGraph could not transform <function <lambda> at 0x7fad0d804440> and will run it as-is.\n",
            "Cause: could not parse the source code of <function <lambda> at 0x7fad0d804440>: no matching AST found\n",
            "To silence this warning, decorate the function with @tf.autograph.experimental.do_not_convert\n"
          ]
        },
        {
          "output_type": "stream",
          "name": "stdout",
          "text": [
            "WARNING: AutoGraph could not transform <function <lambda> at 0x7fad0d804440> and will run it as-is.\n",
            "Cause: could not parse the source code of <function <lambda> at 0x7fad0d804440>: no matching AST found\n",
            "To silence this warning, decorate the function with @tf.autograph.experimental.do_not_convert\n",
            "CPU times: user 1min 38s, sys: 11.8 s, total: 1min 49s\n",
            "Wall time: 1min 23s\n"
          ]
        }
      ]
    },
    {
      "cell_type": "code",
      "metadata": {
        "colab": {
          "base_uri": "https://localhost:8080/"
        },
        "id": "-UNRJfBUR33S",
        "outputId": "fad186c6-15af-4866-e831-bfbb1717b67d"
      },
      "source": [
        "print(f\"There are {len(vocab)} vocabulary words in the corpus.\")"
      ],
      "execution_count": null,
      "outputs": [
        {
          "output_type": "stream",
          "name": "stdout",
          "text": [
            "There are 95976 vocabulary words in the corpus.\n"
          ]
        }
      ]
    },
    {
      "cell_type": "markdown",
      "metadata": {
        "id": "JO8TP6SnSpk3"
      },
      "source": [
        "There are 95976 vocabulary words in the corpus.\n",
        "\n",
        "The .adapt method sets the layer's vocabulary. Here are the first 20 tokens. After the padding and unknown tokens they're sorted by frequency:"
      ]
    },
    {
      "cell_type": "code",
      "metadata": {
        "colab": {
          "base_uri": "https://localhost:8080/"
        },
        "id": "kt-f3rfTR37f",
        "outputId": "08740c02-d1cb-4d57-cc30-d56431f4ac6d"
      },
      "source": [
        "vocab[:20]"
      ],
      "execution_count": null,
      "outputs": [
        {
          "output_type": "execute_result",
          "data": {
            "text/plain": [
              "array(['', '[UNK]', 'the', 'a', 'to', 'of', 'in', 'and', 'on', 'for',\n",
              "       'that', '39s', 'with', 'its', 'as', 'at', 'is', 'said', 'by', 'it'],\n",
              "      dtype='<U150')"
            ]
          },
          "metadata": {},
          "execution_count": 15
        }
      ]
    },
    {
      "cell_type": "markdown",
      "metadata": {
        "id": "bknukXA0SjYv"
      },
      "source": [
        "Let us get the total number of words in the corpus and the sizes of the news articles"
      ]
    },
    {
      "cell_type": "code",
      "metadata": {
        "colab": {
          "base_uri": "https://localhost:8080/"
        },
        "id": "WtTQ_xNBR3_4",
        "outputId": "acfbd805-d733-4768-d6ec-ab03280cc2d0"
      },
      "source": [
        "%%time\n",
        "doc_sizes = []\n",
        "corpus = []\n",
        "for example, _ in dataset_all.as_numpy_iterator():\n",
        "  enc_example = encoder(example)\n",
        "  doc_sizes.append(len(enc_example))\n",
        "  corpus+=list(enc_example.numpy())"
      ],
      "execution_count": null,
      "outputs": [
        {
          "output_type": "stream",
          "name": "stdout",
          "text": [
            "CPU times: user 6min 58s, sys: 8.8 s, total: 7min 6s\n",
            "Wall time: 7min 21s\n"
          ]
        }
      ]
    },
    {
      "cell_type": "code",
      "metadata": {
        "colab": {
          "base_uri": "https://localhost:8080/"
        },
        "id": "SVMEor1jSINc",
        "outputId": "2448bc3e-77a6-4866-85a0-870aa6f5a2a5"
      },
      "source": [
        "print(f\"There are {len(corpus)} words in the corpus of {len(doc_sizes)} news articles.\")\n",
        "print(f\"Each news article has between {min(doc_sizes)} and {max(doc_sizes)} tokens in it.\")"
      ],
      "execution_count": null,
      "outputs": [
        {
          "output_type": "stream",
          "name": "stdout",
          "text": [
            "There are 3909695 words in the corpus of 127600 news articles.\n",
            "Each news article has between 3 and 173 tokens in it.\n"
          ]
        }
      ]
    },
    {
      "cell_type": "code",
      "metadata": {
        "colab": {
          "base_uri": "https://localhost:8080/",
          "height": 551
        },
        "id": "WP2cfFGvSIRq",
        "outputId": "88bbd3c1-6e72-4576-cb70-d3ae11dcd36d"
      },
      "source": [
        "plt.figure(figsize=(15,9))\n",
        "plt.hist(doc_sizes, bins=20,range = (0,120))\n",
        "plt.xlabel(\"Tokens Per Document\")\n",
        "plt.ylabel(\"Number of AG News Articles\");"
      ],
      "execution_count": null,
      "outputs": [
        {
          "output_type": "display_data",
          "data": {
            "image/png": "[encoded data removed]",
            "text/plain": [
              "<Figure size 1080x648 with 1 Axes>"
            ]
          },
          "metadata": {
            "needs_background": "light"
          }
        }
      ]
    },
    {
      "cell_type": "markdown",
      "metadata": {
        "id": "InSIstGlSbWL"
      },
      "source": [
        "Encode the news articles using the top 1000 most common words in the corpus\n",
        "\n"
      ]
    },
    {
      "cell_type": "code",
      "metadata": {
        "colab": {
          "base_uri": "https://localhost:8080/"
        },
        "id": "WYL48XbPSIf9",
        "outputId": "42fb08b0-7a6f-4d2b-cec6-854273de3882"
      },
      "source": [
        "%%time\n",
        "encoder_1000 = tf.keras.layers.experimental.preprocessing.TextVectorization(max_tokens=1000)\n",
        "encoder_1000.adapt(dataset_all.map(lambda text, label: text))\n",
        "vocab_1000 = np.array(encoder_1000.get_vocabulary());"
      ],
      "execution_count": null,
      "outputs": [
        {
          "output_type": "stream",
          "name": "stdout",
          "text": [
            "WARNING:tensorflow:AutoGraph could not transform <function <lambda> at 0x7f8813951830> and will run it as-is.\n",
            "Cause: could not parse the source code of <function <lambda> at 0x7f8813951830>: no matching AST found\n",
            "To silence this warning, decorate the function with @tf.autograph.experimental.do_not_convert\n"
          ]
        },
        {
          "output_type": "stream",
          "name": "stderr",
          "text": [
            "WARNING:tensorflow:AutoGraph could not transform <function <lambda> at 0x7f8813951830> and will run it as-is.\n",
            "Cause: could not parse the source code of <function <lambda> at 0x7f8813951830>: no matching AST found\n",
            "To silence this warning, decorate the function with @tf.autograph.experimental.do_not_convert\n"
          ]
        },
        {
          "output_type": "stream",
          "name": "stdout",
          "text": [
            "WARNING: AutoGraph could not transform <function <lambda> at 0x7f8813951830> and will run it as-is.\n",
            "Cause: could not parse the source code of <function <lambda> at 0x7f8813951830>: no matching AST found\n",
            "To silence this warning, decorate the function with @tf.autograph.experimental.do_not_convert\n",
            "CPU times: user 1min 40s, sys: 11.3 s, total: 1min 51s\n",
            "Wall time: 1min 18s\n"
          ]
        }
      ]
    },
    {
      "cell_type": "markdown",
      "metadata": {
        "id": "RLt02DwnVw5g"
      },
      "source": [
        "The .adapt method sets the layer's vocabulary. Here are the first 20 tokens. After the padding and unknown tokens they're sorted by frequency:\n"
      ]
    },
    {
      "cell_type": "code",
      "metadata": {
        "colab": {
          "base_uri": "https://localhost:8080/"
        },
        "id": "bVS2EeafVtyt",
        "outputId": "dbb40ad8-262e-4a19-d64b-0e3f7fbe045f"
      },
      "source": [
        "vocab_1000[:20]"
      ],
      "execution_count": null,
      "outputs": [
        {
          "output_type": "execute_result",
          "data": {
            "text/plain": [
              "array(['', '[UNK]', 'the', 'a', 'to', 'of', 'in', 'and', 'on', 'for',\n",
              "       'that', '39s', 'with', 'its', 'as', 'at', 'is', 'said', 'by', 'it'],\n",
              "      dtype='<U14')"
            ]
          },
          "metadata": {},
          "execution_count": 23
        }
      ]
    },
    {
      "cell_type": "markdown",
      "metadata": {
        "id": "0rWk826zV12y"
      },
      "source": [
        "\n",
        "In particular, 0 is use for padding, 1 for the unknown words, 2 for the common word, i.e. 'the', etc. Let us look at the same example we encoded previously using the encoder for all the vocabulary words. Note that there are now five 1's denoting words that are not in the top 1000 in frequency.\n",
        "\n",
        "We encode the same example as before using the new encoder. Note that there are now 5 out of vocabulary words."
      ]
    },
    {
      "cell_type": "code",
      "metadata": {
        "colab": {
          "base_uri": "https://localhost:8080/"
        },
        "id": "nkdtWEujVt5B",
        "outputId": "484726da-7c01-4675-e0b3-37f9dd7bad51"
      },
      "source": [
        "example = \"the dog ran after a red ball as it rolled by the hat on the ground.\"\n",
        "encoder_1000(example)"
      ],
      "execution_count": null,
      "outputs": [
        {
          "output_type": "execute_result",
          "data": {
            "text/plain": [
              "<tf.Tensor: shape=(16,), dtype=int64, numpy=\n",
              "array([  2,   1,   1,  29,   3, 232,   1,  14,  19,   1,  18,   2,   1,\n",
              "         8,   2, 999])>"
            ]
          },
          "metadata": {},
          "execution_count": 45
        }
      ]
    },
    {
      "cell_type": "code",
      "metadata": {
        "id": "ea24T0heVt-W"
      },
      "source": [
        "for word in example.split():\n",
        "  print(f'\"{word}\" is {\"*not* \" if word not in vocab_1000  else \"\"}in the vocabulary.')"
      ],
      "execution_count": null,
      "outputs": []
    },
    {
      "cell_type": "markdown",
      "metadata": {
        "id": "AmizTJvxV-Ig"
      },
      "source": [
        "We want to determine the number of non-vocabulary words in each news articles (denoted by 1s in the encoding)\n"
      ]
    },
    {
      "cell_type": "code",
      "metadata": {
        "colab": {
          "base_uri": "https://localhost:8080/"
        },
        "id": "aW2QOPpsVuHG",
        "outputId": "26a61908-8238-4cb3-c49f-d429143a30d5"
      },
      "source": [
        "%%time\n",
        "doc1000_sizes = []\n",
        "corpus1000 = []\n",
        "count1000=0\n",
        "useless = 0\n",
        "# stop = 0\n",
        "percents = []\n",
        "for example, _ in dataset_all.as_numpy_iterator():\n",
        "  # stop+=1\n",
        "  # if stop > 5: break\n",
        "  enc_example = encoder_1000(example)\n",
        "  num_ones = tf.math.count_nonzero(enc_example==1).numpy()\n",
        "  percent_ones = round(num_ones*100/len(enc_example))\n",
        "  # print(f\"{percent_ones}%\")\n",
        "  percents.append(percent_ones)\n",
        "\n",
        "  s = set(list(enc_example.numpy()))\n",
        "  if s == {1}: useless+=1\n",
        "\n",
        "  doc1000_sizes.append(len(enc_example))\n",
        "  corpus1000+=list(enc_example.numpy())\n",
        "\n",
        "  count1000 += tf.math.count_nonzero(enc_example>1)"
      ],
      "execution_count": null,
      "outputs": [
        {
          "output_type": "stream",
          "name": "stdout",
          "text": [
            "CPU times: user 9min 12s, sys: 11 s, total: 9min 23s\n",
            "Wall time: 9min 21s\n"
          ]
        }
      ]
    },
    {
      "cell_type": "code",
      "metadata": {
        "colab": {
          "base_uri": "https://localhost:8080/"
        },
        "id": "GjvxnZC0WKHP",
        "outputId": "cb025647-bdfd-4109-9cc2-38f7416e081d"
      },
      "source": [
        "print(f\"Each news article has between {min(doc1000_sizes)} and {max(doc1000_sizes)} tokens in it.\")"
      ],
      "execution_count": null,
      "outputs": [
        {
          "output_type": "stream",
          "name": "stdout",
          "text": [
            "Each news article has between 3 and 173 tokens in it.\n"
          ]
        }
      ]
    },
    {
      "cell_type": "code",
      "metadata": {
        "colab": {
          "base_uri": "https://localhost:8080/"
        },
        "id": "9yQ1WpNdWKQb",
        "outputId": "15b0bb37-7cfb-4ba3-f813-a86b17755427"
      },
      "source": [
        "Counter(percents).most_common(10)\n",
        "np.unique(percents, return_counts=True)"
      ],
      "execution_count": null,
      "outputs": [
        {
          "output_type": "execute_result",
          "data": {
            "text/plain": [
              "(array([  0,   3,   4,   5,   6,   7,   8,   9,  10,  11,  12,  13,  14,\n",
              "         15,  16,  17,  18,  19,  20,  21,  22,  23,  24,  25,  26,  27,\n",
              "         28,  29,  30,  31,  32,  33,  34,  35,  36,  37,  38,  39,  40,\n",
              "         41,  42,  43,  44,  45,  46,  47,  48,  49,  50,  51,  52,  53,\n",
              "         54,  55,  56,  57,  58,  59,  60,  61,  62,  63,  64,  65,  66,\n",
              "         67,  68,  69,  70,  71,  72,  73,  74,  75,  76,  77,  78,  79,\n",
              "         80,  81,  82,  83,  84,  85,  86,  87,  88,  89,  90,  91,  92,\n",
              "         93,  95,  97, 100]),\n",
              " array([  12,    5,   20,   29,   49,   71,  120,  137,  172,  274,  486,\n",
              "         368,  682,  777,  828, 1346, 1376, 2123, 1610, 2863, 2687, 3018,\n",
              "        3957, 3315, 4605, 3934, 4148, 5737, 4954, 5072, 6123, 6165, 3255,\n",
              "        5095, 4596, 3438, 5880, 4205, 3109, 4063, 3555, 3030, 2904, 2294,\n",
              "        1967, 1716, 2174,  368, 2486,  234, 1246,  747,  573,  547,  520,\n",
              "         441,  348,  217,  250,  135,  234,   49,  131,  101,   11,  135,\n",
              "          40,   62,   33,   53,    8,   34,   10,   55,   10,    8,   15,\n",
              "           3,   27,    9,    5,   19,    1,    8,   12,    6,   16,   11,\n",
              "           5,    4,    2,    3,    1,    1,   22]))"
            ]
          },
          "metadata": {},
          "execution_count": 46
        }
      ]
    },
    {
      "cell_type": "code",
      "metadata": {
        "colab": {
          "base_uri": "https://localhost:8080/",
          "height": 551
        },
        "id": "He-tTcGqWKZI",
        "outputId": "de276849-de13-4289-a38e-7c16b773f56f"
      },
      "source": [
        "plt.figure(figsize=(15,9))\n",
        "plt.hist(percents, 20)\n",
        "plt.ylabel('Number of Documents')\n",
        "plt.xlabel('Percent of Non-Vocabulary Words in a Document');"
      ],
      "execution_count": null,
      "outputs": [
        {
          "output_type": "display_data",
          "data": {
            "image/png": "[encoded data removed]",
            "text/plain": [
              "<Figure size 1080x648 with 1 Axes>"
            ]
          },
          "metadata": {
            "needs_background": "light"
          }
        }
      ]
    },
    {
      "cell_type": "code",
      "metadata": {
        "colab": {
          "base_uri": "https://localhost:8080/"
        },
        "id": "Ud8RvGvgWVDy",
        "outputId": "a59e2277-3030-4b0f-b0f8-9dc51cd2ea4f"
      },
      "source": [
        "print(f\"There are {count1000} top {len(vocab_1000)} vocabulary words in the corpus.\")"
      ],
      "execution_count": null,
      "outputs": [
        {
          "output_type": "stream",
          "name": "stdout",
          "text": [
            "There are 2602670 top 1000 vocabulary words in the corpus.\n"
          ]
        }
      ]
    },
    {
      "cell_type": "markdown",
      "metadata": {
        "id": "IejUk55TW0nT"
      },
      "source": [
        "**Preprocessing Data Create Input Pipeline**\n"
      ]
    },
    {
      "cell_type": "code",
      "metadata": {
        "colab": {
          "base_uri": "https://localhost:8080/"
        },
        "id": "H2BFdZ0SWVIu",
        "outputId": "5a4d7d15-ad0b-4e9e-ef86-41c86d75ce43"
      },
      "source": [
        "# register  ag_news_subset so that tfds.load doesn't generate a checksum (mismatch) error\n",
        "!python -m tensorflow_datasets.scripts.download_and_prepare --register_checksums --datasets=ag_news_subset\n",
        "\n",
        "# Example Approaches to Split Data Set\n",
        "# dataset, info = tfds.load('ag_news_subset', with_info=True,  split=['train[:]','test[:1000]', 'test[1000:]'],\n",
        "dataset, info = tfds.load('ag_news_subset', with_info=True,  split=['train[:95%]','train[95%:]', 'test[:]'],\n",
        "# dataset, info = tfds.load('ag_news_subset', with_info=True,  split=['train[:114000]','train[114000:]', 'test[:]'],\n",
        "                          as_supervised=True)\n",
        "train_dataset, validation_dataset, test_dataset = dataset\n",
        "# train_dataset, test_dataset = dataset['train'],dataset['test']"
      ],
      "execution_count": null,
      "outputs": [
        {
          "output_type": "stream",
          "name": "stdout",
          "text": [
            "2021-10-30 14:14:49.184477: E tensorflow/stream_executor/cuda/cuda_driver.cc:271] failed call to cuInit: CUDA_ERROR_NO_DEVICE: no CUDA-capable device is detected\n",
            "2021-10-30 14:14:49.184526: I tensorflow/stream_executor/cuda/cuda_diagnostics.cc:156] kernel driver does not appear to be running on this host (e15f80406a16): /proc/driver/nvidia/version does not exist\n",
            "I1030 14:14:49.184725 140001322055552 download_and_prepare.py:200] Running download_and_prepare for dataset(s):\n",
            "ag_news_subset\n",
            "I1030 14:14:49.185616 140001322055552 dataset_info.py:361] Load dataset info from /root/tensorflow_datasets/ag_news_subset/1.0.0\n",
            "I1030 14:14:49.187136 140001322055552 download_and_prepare.py:138] download_and_prepare for dataset ag_news_subset/1.0.0...\n",
            "I1030 14:14:49.187391 140001322055552 dataset_builder.py:299] Reusing dataset ag_news_subset (/root/tensorflow_datasets/ag_news_subset/1.0.0)\n",
            "\u001b[1mname: \"ag_news_subset\"\n",
            "description: \"AG is a collection of more than 1 million news articles.\\nNews articles have been gathered from more than 2000  news sources by ComeToMyHead in more than 1 year of activity.\\nComeToMyHead is an academic news search engine which has been running since July, 2004.\\nThe dataset is provided by the academic comunity for research purposes in data mining (clustering, classification, etc),\\ninformation retrieval (ranking, search, etc), xml, data compression, data streaming,\\nand any other non-commercial activity.\\nFor more information, please refer to the link http://www.di.unipi.it/~gulli/AG_corpus_of_news_articles.html .\\n\\nThe AG\\'s news topic classification dataset is constructed by Xiang Zhang (xiang.zhang@nyu.edu) from the dataset above.\\nIt is used as a text classification benchmark in the following paper:\\nXiang Zhang, Junbo Zhao, Yann LeCun. Character-level Convolutional Networks for Text Classification. Advances in Neural Information Processing Systems 28 (NIPS 2015).\\n\\nThe AG\\'s news topic classification dataset is constructed by choosing 4 largest classes from the original corpus.\\nEach class contains 30,000 training samples and 1,900 testing samples.\\nThe total number of training samples is 120,000 and testing 7,600.\"\n",
            "citation: \"@misc{zhang2015characterlevel,\\n    title={Character-level Convolutional Networks for Text Classification},\\n    author={Xiang Zhang and Junbo Zhao and Yann LeCun},\\n    year={2015},\\n    eprint={1509.01626},\\n    archivePrefix={arXiv},\\n    primaryClass={cs.LG}\\n}\"\n",
            "location {\n",
            "  urls: \"https://arxiv.org/abs/1509.01626\"\n",
            "}\n",
            "splits {\n",
            "  name: \"test\"\n",
            "  shard_lengths: 7600\n",
            "  num_bytes: 2226751\n",
            "}\n",
            "splits {\n",
            "  name: \"train\"\n",
            "  shard_lengths: 120000\n",
            "  num_bytes: 35301386\n",
            "}\n",
            "supervised_keys {\n",
            "  input: \"description\"\n",
            "  output: \"label\"\n",
            "}\n",
            "version: \"1.0.0\"\n",
            "download_size: 11784327\n",
            "\u001b[0m\n"
          ]
        }
      ]
    },
    {
      "cell_type": "code",
      "metadata": {
        "id": "d8cUvTi6WVNN"
      },
      "source": [
        "####  Dataset Splits (Training, Test, Validation)\n",
        "#### .8934 Training, .0470 Test, .0596 Validation"
      ],
      "execution_count": null,
      "outputs": []
    },
    {
      "cell_type": "code",
      "metadata": {
        "colab": {
          "base_uri": "https://localhost:8080/"
        },
        "id": "5YVES5iQWVSQ",
        "outputId": "1bc2091e-4f22-4eb4-a6dc-c3f01361276e"
      },
      "source": [
        "len(train_dataset),len(validation_dataset),len(test_dataset) \n",
        "# len(train_dataset),len(test_dataset)"
      ],
      "execution_count": null,
      "outputs": [
        {
          "output_type": "execute_result",
          "data": {
            "text/plain": [
              "(114000, 6000, 7600)"
            ]
          },
          "metadata": {},
          "execution_count": 48
        }
      ]
    },
    {
      "cell_type": "markdown",
      "metadata": {
        "id": "tVpNTAXbXJiZ"
      },
      "source": [
        "**Review Distribution of Categorical Labels for the 114000 training data (news articles)**\n"
      ]
    },
    {
      "cell_type": "code",
      "metadata": {
        "colab": {
          "base_uri": "https://localhost:8080/"
        },
        "id": "CPsZUeOjWVWo",
        "outputId": "852ecb3f-2f89-4e81-b0b0-c996473da4c7"
      },
      "source": [
        "from collections import Counter\n",
        "train_categories = [categories[label] for label in train_dataset.map(lambda text, label: label).as_numpy_iterator()]\n",
        "Counter(train_categories).most_common()"
      ],
      "execution_count": null,
      "outputs": [
        {
          "output_type": "execute_result",
          "data": {
            "text/plain": [
              "[('Business', 28531), ('Sports', 28495), ('World', 28491), ('Sci/Tech', 28483)]"
            ]
          },
          "metadata": {},
          "execution_count": 34
        }
      ]
    },
    {
      "cell_type": "markdown",
      "metadata": {
        "id": "5agiNtkGXd0R"
      },
      "source": [
        "Review Example with Interger Label(text, label pairs):\n",
        "\n",
        "Review Example with Interger Label Encoded Classification(text, label pairs):"
      ]
    },
    {
      "cell_type": "code",
      "metadata": {
        "colab": {
          "base_uri": "https://localhost:8080/"
        },
        "id": "3Ox_UTjpWVa5",
        "outputId": "ef9dda55-cde5-4062-a143-a9e8dce8d4c4"
      },
      "source": [
        "for example, label in train_dataset.take(1):\n",
        "  print('text: ', example.numpy())\n",
        "  print('class: ', categories[label.numpy()])"
      ],
      "execution_count": null,
      "outputs": [
        {
          "output_type": "stream",
          "name": "stdout",
          "text": [
            "text:  b'AMD #39;s new dual-core Opteron chip is designed mainly for corporate computing applications, including databases, Web services, and financial transactions.'\n",
            "class:  Sci/Tech\n"
          ]
        }
      ]
    },
    {
      "cell_type": "markdown",
      "metadata": {
        "id": "k7lL-5JWXgr5"
      },
      "source": [
        "**Preprocessing Shuffle Data for Training and Create Batches of (text, label) pairs:**\n"
      ]
    },
    {
      "cell_type": "code",
      "metadata": {
        "id": "2CAyTPR0XkcV"
      },
      "source": [
        "BUFFER_SIZE = 10000\n",
        "BATCH_SIZE = 64"
      ],
      "execution_count": null,
      "outputs": []
    },
    {
      "cell_type": "code",
      "metadata": {
        "id": "JtnxiulqXkfv"
      },
      "source": [
        "train_dataset = train_dataset.shuffle(BUFFER_SIZE).batch(BATCH_SIZE).prefetch(tf.data.experimental.AUTOTUNE)\n",
        "validation_dataset = validation_dataset.shuffle(BUFFER_SIZE).batch(BATCH_SIZE).prefetch(tf.data.experimental.AUTOTUNE)\n",
        "test_dataset = test_dataset.batch(BATCH_SIZE).prefetch(tf.data.experimental.AUTOTUNE)"
      ],
      "execution_count": null,
      "outputs": []
    },
    {
      "cell_type": "code",
      "metadata": {
        "colab": {
          "base_uri": "https://localhost:8080/"
        },
        "id": "uDOcqvc-XkjY",
        "outputId": "dc5013a7-4a83-4cde-9a2d-47e71e8ecf66"
      },
      "source": [
        "for example, label in train_dataset.take(2):\n",
        "  print('texts: ', example.numpy()[:3])\n",
        "  print()\n",
        "  print('labels: ', label.numpy()[:3])"
      ],
      "execution_count": null,
      "outputs": [
        {
          "output_type": "stream",
          "name": "stdout",
          "text": [
            "texts:  [b\"LOWELL -- Few people expected ex-Patriot and NFL Hall of Famer John Hannah to walk into the head coach position at Somerville and turn a winless team into a Super Bowl contender. After last night, skeptics may be looking to Hannah's role in the Somerville youth football program for solace as the Highlanders were swamped by Lowell, 47-14, at Crowley ...\"\n",
            " b'Microsoft Corp. and Sun Microsystems Inc. have agreed not to sue each other or their customers for patent infringements, but the pact announced in April specifically states that the protection does not apply '\n",
            " b'October 26, 2004 - Apple has announced the newest model in its iPod series of portable music players, the iPod Photo. The biggest improvement with the new model is its color screen, capable of displaying 65,536 colors on its 220x176 pixel display.']\n",
            "\n",
            "labels:  [1 3 3]\n",
            "texts:  [b'Thumbs. For centuries, they have conveyed the simplest of messages. Up/down, good/bad, salvation/lion chow. But look at the folks in the elevators, the checkout lines, even crawling along in traffic jams.'\n",
            " b'AUSTRALIA #39;S  quot;last frontier quot; Test cricket series against India will be shown on live television in this country following an 11th hour TV rights deal.'\n",
            " b'Daniel F. Stulac, the former outside auditor for San Diego #39;s Peregrine Systems, has pleaded innocent to fraud charges detailed in a federal indictment issued last week.']\n",
            "\n",
            "labels:  [3 1 2]\n"
          ]
        }
      ]
    },
    {
      "cell_type": "code",
      "metadata": {
        "colab": {
          "base_uri": "https://localhost:8080/"
        },
        "id": "sxIMmgW3YzjA",
        "outputId": "e37914b7-b0d5-4d3d-cd6a-42058a7505b9"
      },
      "source": [
        "for example, label in train_dataset.take(2):\n",
        "  print('texts: ', example.numpy()[:3])\n",
        "  print()\n",
        "  print('labels: ', [categories[n] for n in label.numpy()[:3]])\n",
        "  print()"
      ],
      "execution_count": null,
      "outputs": [
        {
          "output_type": "stream",
          "name": "stdout",
          "text": [
            "texts:  [b\"Google Has A New One for the Labs - Google Suggest\\\\\\\\Google's Labs has popped out a new beta - Google Suggest. Google Suggest looks like the regular Google search, except as you type in keywords Google -- surprise! -- tries to guess what you could be typing. The really nifty ...\"\n",
            " b'Wavesat Inc., a fabless semiconductor developer of broadband wireless chips, today announced delivery of the first ever WiMAX chip, the DM256.'\n",
            " b'Israeli PM Ariel Sharon pushes ahead with an accelerated plan to withdraw from the Gaza Strip despite opposition.']\n",
            "\n",
            "labels:  ['Sci/Tech', 'Sci/Tech', 'World']\n",
            "\n",
            "texts:  [b'Reuters - World oil prices rose on Friday,\\\\boosted by production stoppages due to a severe hurricane in\\\\the Gulf of Mexico and worries that another storm might further\\\\delay imports into the United States.'\n",
            " b'Iraq #39;s Electoral Commission has announced that elections in the country will go ahead on January 30, not January 27 as previously suggested.'\n",
            " b'The once quiet Himalayan Hindu kingdom Nepal has turned unsettled since 1996 when members of the Communist Party of Nepal (Maoist) went violent on some of their demands.']\n",
            "\n",
            "labels:  ['Business', 'World', 'World']\n",
            "\n"
          ]
        }
      ]
    },
    {
      "cell_type": "markdown",
      "metadata": {
        "id": "R1YVk7pfY8Ck"
      },
      "source": [
        "**Create the Text Encoder**\n",
        "\n",
        "The raw text loaded by tfds needs to be processed before it can be used in a model. The simplest way to process text for training is using the experimental.preprocessing.TextVectorization layer. This layer has many capabilities, but this tutorial sticks to the default behavior.\n",
        "\n",
        "Create the layer, and pass the dataset's text to the layer's .adapt method: The processing of each sample contains the following steps:\n",
        "\n",
        "standardize each sample (usually lowercasing + punctuation stripping)\n",
        "split each sample into substrings (usually words)\n",
        "recombine substrings into tokens (usually ngrams)\n",
        "index tokens (associate a unique int value with each token)\n",
        "transform each sample using this index, either into a vector of ints or a dense float vector.\n",
        "The .adapt method sets the layer's vocabulary. Here are the first 20 tokens. After the padding and unknown tokens they're sorted by frequency:"
      ]
    },
    {
      "cell_type": "code",
      "metadata": {
        "id": "JUel99DgYzm3"
      },
      "source": [
        "VOCAB_SIZE=1000\n",
        "encoder = tf.keras.layers.experimental.preprocessing.TextVectorization(\n",
        "    max_tokens=VOCAB_SIZE)\n",
        "encoder.adapt(train_dataset.map(lambda text, label: text))"
      ],
      "execution_count": null,
      "outputs": []
    },
    {
      "cell_type": "code",
      "metadata": {
        "colab": {
          "base_uri": "https://localhost:8080/"
        },
        "id": "n4Z_Kf_bYzsu",
        "outputId": "c3b6dc86-2a79-4a1d-faa3-57a9db5234e4"
      },
      "source": [
        "vocab = np.array(encoder.get_vocabulary())\n",
        "len(vocab)"
      ],
      "execution_count": null,
      "outputs": [
        {
          "output_type": "execute_result",
          "data": {
            "text/plain": [
              "1000"
            ]
          },
          "metadata": {},
          "execution_count": 56
        }
      ]
    },
    {
      "cell_type": "code",
      "metadata": {
        "colab": {
          "base_uri": "https://localhost:8080/"
        },
        "id": "ihO64lNWYzyj",
        "outputId": "7dde996a-b3bb-498a-af72-97bce50708a6"
      },
      "source": [
        "vocab = np.array(encoder.get_vocabulary())\n",
        "vocab[:20]"
      ],
      "execution_count": null,
      "outputs": [
        {
          "output_type": "execute_result",
          "data": {
            "text/plain": [
              "array(['', '[UNK]', 'the', 'a', 'to', 'of', 'in', 'and', 'on', 'for',\n",
              "       'that', '39s', 'with', 'its', 'as', 'at', 'is', 'said', 'by', 'it'],\n",
              "      dtype='<U14')"
            ]
          },
          "metadata": {},
          "execution_count": 57
        }
      ]
    },
    {
      "cell_type": "code",
      "metadata": {
        "colab": {
          "base_uri": "https://localhost:8080/"
        },
        "id": "sIKZs8x7ZIVy",
        "outputId": "6df1efe4-d345-42a8-94e2-839ec6dc94bf"
      },
      "source": [
        "vocab[-20:]"
      ],
      "execution_count": null,
      "outputs": [
        {
          "output_type": "execute_result",
          "data": {
            "text/plain": [
              "array(['black', 'turn', 'build', 'countrys', 'advanced', 'whose',\n",
              "       'crisis', 'create', '23', 'sources', 'body', 'militant', 'hope',\n",
              "       'event', 'started', 'ready', 'jones', 'lawsuit', 'focus',\n",
              "       'singapore'], dtype='<U14')"
            ]
          },
          "metadata": {},
          "execution_count": 58
        }
      ]
    },
    {
      "cell_type": "code",
      "metadata": {
        "colab": {
          "base_uri": "https://localhost:8080/"
        },
        "id": "-HRDO2I6ZIdQ",
        "outputId": "0529147b-123f-4c69-8d47-594b5cebae97"
      },
      "source": [
        "encoded_example = encoder(example)[:3].numpy()\n",
        "encoded_example"
      ],
      "execution_count": null,
      "outputs": [
        {
          "output_type": "execute_result",
          "data": {
            "text/plain": [
              "array([[ 72, 114,   1,   1, 973,  27,   1,   9, 502,  18,   2,  25,   1,\n",
              "        350,  52, 337,  24, 103,   1, 290,   9,  22,   1,   1,   6,   3,\n",
              "        515,  10,  82,   1,   3,  25,   1, 102,  11, 320, 643,  23,   1,\n",
              "          0,   0,   0,   0,   0,   0,   0,   0,   0,   0,   0,   0,   0,\n",
              "          0,   0,   0,   0,   0,   0,   0,   0,   0,   0,   0,   0],\n",
              "       [ 40,   1,   1,   1,  16,   1, 168,   4,   1,   3, 119,  10, 722,\n",
              "         30,   1,   1, 220,   5,   1,   1,   1,   1,   1,   1,   1,   2,\n",
              "        109,   1,   0,   0,   0,   0,   0,   0,   0,   0,   0,   0,   0,\n",
              "          0,   0,   0,   0,   0,   0,   0,   0,   0,   0,   0,   0,   0,\n",
              "          0,   0,   0,   0,   0,   0,   0,   0,   0,   0,   0,   0],\n",
              "       [ 28,   1, 444,   1,  82,   1,   1,  81, 415,  17,   8,  43,   1,\n",
              "          1,  29,   1,   6,   2,   1,   1,   1,  27,   1,   3,  76,   5,\n",
              "        579,   1,   0,   0,   0,   0,   0,   0,   0,   0,   0,   0,   0,\n",
              "          0,   0,   0,   0,   0,   0,   0,   0,   0,   0,   0,   0,   0,\n",
              "          0,   0,   0,   0,   0,   0,   0,   0,   0,   0,   0,   0]])"
            ]
          },
          "metadata": {},
          "execution_count": 59
        }
      ]
    },
    {
      "cell_type": "markdown",
      "metadata": {
        "id": "SzE0nvagZbjG"
      },
      "source": [
        "With the default settings, the process is not completely reversible. There are three main reasons for that:\n",
        "\n",
        "1. The default value for preprocessing.TextVectorization's standardize argument is \"lower_and_strip_punctuation\".\n",
        "2. The limited vocabulary size and lack of character-based fallback results in some unknown tokens."
      ]
    },
    {
      "cell_type": "code",
      "metadata": {
        "colab": {
          "base_uri": "https://localhost:8080/"
        },
        "id": "-baO_cqEZdjO",
        "outputId": "a243ba92-71b9-45da-c70a-4ce9a8cf67de"
      },
      "source": [
        "for n in range(3):\n",
        "  print(\"Original: \", example[n].numpy())\n",
        "  print(\"Round-trip: \", \" \".join(vocab[encoded_example[n]]))\n",
        "  print()"
      ],
      "execution_count": null,
      "outputs": [
        {
          "output_type": "stream",
          "name": "stdout",
          "text": [
            "Original:  b'United States sprinter Jerome Young was banned for life by the US Anti-Doping Agency yesterday following his second positive test for an illegal steroid in a case that could affect a US relay team #39;s gold medal from Sydney.'\n",
            "Round-trip:  united states [UNK] [UNK] young was [UNK] for life by the us [UNK] agency yesterday following his second [UNK] test for an [UNK] [UNK] in a case that could [UNK] a us [UNK] team 39s gold medal from [UNK]                         \n",
            "\n",
            "Original:  b'This season\\'s flu-shot shortage is enticing companies to enter a market that others have largely abandoned because of poor profits.&lt;FONT face=\"verdana,MS Sans Serif,arial,helvetica\" size=\"-2\" color=\"#666666\"&gt;&lt;B&gt;- The Washington Post&lt;/b&gt;&lt;/font&gt;'\n",
            "Round-trip:  this [UNK] [UNK] [UNK] is [UNK] companies to [UNK] a market that others have [UNK] [UNK] because of [UNK] [UNK] [UNK] [UNK] [UNK] [UNK] [UNK] the washington [UNK]                                    \n",
            "\n",
            "Original:  b\"Reuters - Mount St. Helens could erupt within\\\\days, government scientists said on Wednesday, raising the\\\\alert after movement in the volcano's lava crust was detected\\\\following a week of small earthquakes.\"\n",
            "Round-trip:  reuters [UNK] st [UNK] could [UNK] [UNK] government scientists said on wednesday [UNK] [UNK] after [UNK] in the [UNK] [UNK] [UNK] was [UNK] a week of small [UNK]                                    \n",
            "\n"
          ]
        }
      ]
    },
    {
      "cell_type": "markdown",
      "metadata": {
        "id": "kzmZ_kyOgLij"
      },
      "source": [
        "**Experiment B: RNN: Try several experiments by tweaking (i) architecture (ii) Bidirectional/unidirectional & other hyper parameters, including regularization.**"
      ]
    },
    {
      "cell_type": "markdown",
      "metadata": {
        "id": "GEF8dxWcZlC0"
      },
      "source": [
        "**Create the model**\n",
        "\n",
        "A drawing of the information flow in the model\n",
        "\n",
        "Above is a diagram of the model.\n",
        "\n",
        "This model can be build as a tf.keras.Sequential.\n",
        "\n",
        "The first layer is the encoder, which converts the text to a sequence of token indices.\n",
        "\n",
        "After the encoder is an embedding layer. An embedding layer stores one vector per word. When called, it converts the sequences of word indices to sequences of vectors. These vectors are trainable. After training (on enough data), words with similar meanings often have similar vectors.\n",
        "\n",
        "This index-lookup is much more efficient than the equivalent operation of passing a one-hot encoded vector through a tf.keras.layers.Dense layer.\n",
        "\n",
        "A recurrent neural network (RNN) processes sequence input by iterating through the elements. RNNs pass the outputs from one timestep to their input on the next timestep.\n",
        "\n",
        "The tf.keras.layers.Bidirectional wrapper can also be used with an RNN layer. This propagates the input forward and backwards through the RNN layer and then concatenates the final output.\n",
        "\n",
        "The main advantage to a bidirectional RNN is that the signal from the beginning of the input doesn't need to be processed all the way through every timestep to affect the output.\n",
        "\n",
        "The main disadvantage of a bidirectional RNN is that you can't efficiently stream predictions as words are being added to the end.\n",
        "\n",
        "After the RNN has converted the sequence to a single vector the two layers.Dense do some final processing, and convert from this vector representation to a single logit as the classification output.\n",
        "\n"
      ]
    },
    {
      "cell_type": "markdown",
      "metadata": {
        "id": "I9n23mIbA200"
      },
      "source": [
        "**Bidirectional Simple RNN**"
      ]
    },
    {
      "cell_type": "code",
      "metadata": {
        "id": "IWpDJTBaZdm8"
      },
      "source": [
        "num_classes = 4\n",
        "model = tf.keras.Sequential([\n",
        "                              encoder\n",
        "                              ,tf.keras.layers.Embedding(input_dim=len(encoder.get_vocabulary())\n",
        "                              ,output_dim=64\n",
        "                                # Use masking to handle the variable sequence lengths\n",
        "                              ,mask_zero=True)\n",
        "                              ,tf.keras.layers.Bidirectional(tf.keras.layers.SimpleRNN(64))\n",
        "                              ,tf.keras.layers.Dense(64, activation='relu')\n",
        "                              ,tf.keras.layers.Dense(num_classes,activation='softmax')   # num_classes = 4\n",
        "])"
      ],
      "execution_count": null,
      "outputs": []
    },
    {
      "cell_type": "markdown",
      "metadata": {
        "id": "P6JqUQWrZzNl"
      },
      "source": [
        "**Compile Model**"
      ]
    },
    {
      "cell_type": "code",
      "metadata": {
        "id": "8VAwAuQrZdqY"
      },
      "source": [
        "model.compile(optimizer=tf.keras.optimizers.Adam(1e-4)\n",
        "              ,loss=tf.keras.losses.SparseCategoricalCrossentropy() # if we set from_logits=True we don not have specify a softmax activation function in the last layer\n",
        "              ,metrics=['accuracy'])"
      ],
      "execution_count": null,
      "outputs": []
    },
    {
      "cell_type": "markdown",
      "metadata": {
        "id": "payrYDxoZ43Q"
      },
      "source": [
        "Please note that Keras sequential model is used here since all the layers in the model only have single input and produce single output. In case you want to use stateful RNN layer, you might want to build your model with Keras functional API or model subclassing so that you can retrieve and reuse the RNN layer states. Please check Keras RNN guide for more details.\n",
        "\n",
        "The embedding layer uses masking to handle the varying sequence-lengths. All the layers after the Embedding support masking:"
      ]
    },
    {
      "cell_type": "code",
      "metadata": {
        "colab": {
          "base_uri": "https://localhost:8080/"
        },
        "id": "qS2kta7iZdt9",
        "outputId": "c8424c48-8915-40ad-a2d9-29b945a87133"
      },
      "source": [
        "print([layer.supports_masking for layer in model.layers])"
      ],
      "execution_count": null,
      "outputs": [
        {
          "output_type": "stream",
          "name": "stdout",
          "text": [
            "[False, True, True, True, True]\n"
          ]
        }
      ]
    },
    {
      "cell_type": "markdown",
      "metadata": {
        "id": "Xii8W14Oa0hb"
      },
      "source": [
        "**Train the model**"
      ]
    },
    {
      "cell_type": "code",
      "metadata": {
        "colab": {
          "base_uri": "https://localhost:8080/"
        },
        "id": "R1gzb5Z6Zdw9",
        "outputId": "86ee67f2-2f77-4d6a-fb9d-8140584e6c23"
      },
      "source": [
        "history = model.fit(train_dataset\n",
        "                    ,epochs = 200\n",
        "                    ,validation_data=validation_dataset\n",
        "                    ,callbacks=[tf.keras.callbacks.EarlyStopping(monitor='val_accuracy', patience=2)]\n",
        "                    )"
      ],
      "execution_count": null,
      "outputs": [
        {
          "output_type": "stream",
          "name": "stdout",
          "text": [
            "Epoch 1/200\n",
            "1782/1782 [==============================] - 136s 75ms/step - loss: 0.6901 - accuracy: 0.7227 - val_loss: 0.5015 - val_accuracy: 0.8187\n",
            "Epoch 2/200\n",
            "1782/1782 [==============================] - 133s 75ms/step - loss: 0.4546 - accuracy: 0.8363 - val_loss: 0.4474 - val_accuracy: 0.8453\n",
            "Epoch 3/200\n",
            "1782/1782 [==============================] - 133s 75ms/step - loss: 0.4232 - accuracy: 0.8486 - val_loss: 0.4211 - val_accuracy: 0.8548\n",
            "Epoch 4/200\n",
            "1782/1782 [==============================] - 137s 76ms/step - loss: 0.4023 - accuracy: 0.8563 - val_loss: 0.4091 - val_accuracy: 0.8562\n",
            "Epoch 5/200\n",
            "1782/1782 [==============================] - 134s 75ms/step - loss: 0.3881 - accuracy: 0.8611 - val_loss: 0.4126 - val_accuracy: 0.8537\n",
            "Epoch 6/200\n",
            "1782/1782 [==============================] - 134s 75ms/step - loss: 0.3781 - accuracy: 0.8634 - val_loss: 0.3946 - val_accuracy: 0.8580\n",
            "Epoch 7/200\n",
            "1782/1782 [==============================] - 134s 75ms/step - loss: 0.3704 - accuracy: 0.8656 - val_loss: 0.3891 - val_accuracy: 0.8615\n",
            "Epoch 8/200\n",
            "1782/1782 [==============================] - 132s 74ms/step - loss: 0.3627 - accuracy: 0.8677 - val_loss: 0.3870 - val_accuracy: 0.8623\n",
            "Epoch 9/200\n",
            "1782/1782 [==============================] - 134s 75ms/step - loss: 0.3556 - accuracy: 0.8698 - val_loss: 0.3901 - val_accuracy: 0.8597\n",
            "Epoch 10/200\n",
            "1782/1782 [==============================] - 130s 73ms/step - loss: 0.3485 - accuracy: 0.8724 - val_loss: 0.3893 - val_accuracy: 0.8630\n",
            "Epoch 11/200\n",
            "1782/1782 [==============================] - 131s 74ms/step - loss: 0.3407 - accuracy: 0.8756 - val_loss: 0.3937 - val_accuracy: 0.8605\n",
            "Epoch 12/200\n",
            "1782/1782 [==============================] - 135s 75ms/step - loss: 0.3327 - accuracy: 0.8787 - val_loss: 0.3959 - val_accuracy: 0.8598\n"
          ]
        }
      ]
    },
    {
      "cell_type": "code",
      "metadata": {
        "colab": {
          "base_uri": "https://localhost:8080/"
        },
        "id": "HGZbi_6vZd1X",
        "outputId": "072ead11-693f-4b39-955f-8ef653cd0726"
      },
      "source": [
        "test_loss, test_acc = model.evaluate(test_dataset)\n",
        "\n",
        "print('Test Loss: {}'.format(test_loss))\n",
        "print('Test Accuracy: {}'.format(test_acc))"
      ],
      "execution_count": null,
      "outputs": [
        {
          "output_type": "stream",
          "name": "stdout",
          "text": [
            "119/119 [==============================] - 3s 26ms/step - loss: 0.4079 - accuracy: 0.8514\n",
            "Test Loss: 0.4079302251338959\n",
            "Test Accuracy: 0.851447343826294\n"
          ]
        }
      ]
    },
    {
      "cell_type": "markdown",
      "metadata": {
        "id": "I66ycaVIa9MT"
      },
      "source": [
        "**Plotting Performance Metrics - Single Layer Bidirectional RNN**\n",
        "\n",
        "We use Matplotlib to create 2 plots--displaying the training and validation loss (resp. accuracy) for each (training) epoch side by side."
      ]
    },
    {
      "cell_type": "code",
      "metadata": {
        "colab": {
          "base_uri": "https://localhost:8080/"
        },
        "id": "4u8L7de6a_5z",
        "outputId": "765bc246-2dae-4616-9d2e-d9b831b56b3e"
      },
      "source": [
        "history_dict = history.history\n",
        "history_dict.keys()"
      ],
      "execution_count": null,
      "outputs": [
        {
          "output_type": "execute_result",
          "data": {
            "text/plain": [
              "dict_keys(['loss', 'accuracy', 'val_loss', 'val_accuracy'])"
            ]
          },
          "metadata": {},
          "execution_count": 66
        }
      ]
    },
    {
      "cell_type": "code",
      "metadata": {
        "colab": {
          "base_uri": "https://localhost:8080/",
          "height": 359
        },
        "id": "qZNkhZX7bAFn",
        "outputId": "e7acd04e-6449-4e99-fef0-a917636f4ca2"
      },
      "source": [
        "history_df=pd.DataFrame(history_dict)\n",
        "history_df.tail(10).round(3)"
      ],
      "execution_count": null,
      "outputs": [
        {
          "output_type": "execute_result",
          "data": {
            "text/html": [
              "<div>\n",
              "<style scoped>\n",
              "    .dataframe tbody tr th:only-of-type {\n",
              "        vertical-align: middle;\n",
              "    }\n",
              "\n",
              "    .dataframe tbody tr th {\n",
              "        vertical-align: top;\n",
              "    }\n",
              "\n",
              "    .dataframe thead th {\n",
              "        text-align: right;\n",
              "    }\n",
              "</style>\n",
              "<table border=\"1\" class=\"dataframe\">\n",
              "  <thead>\n",
              "    <tr style=\"text-align: right;\">\n",
              "      <th></th>\n",
              "      <th>loss</th>\n",
              "      <th>accuracy</th>\n",
              "      <th>val_loss</th>\n",
              "      <th>val_accuracy</th>\n",
              "    </tr>\n",
              "  </thead>\n",
              "  <tbody>\n",
              "    <tr>\n",
              "      <th>2</th>\n",
              "      <td>0.423</td>\n",
              "      <td>0.849</td>\n",
              "      <td>0.421</td>\n",
              "      <td>0.855</td>\n",
              "    </tr>\n",
              "    <tr>\n",
              "      <th>3</th>\n",
              "      <td>0.402</td>\n",
              "      <td>0.856</td>\n",
              "      <td>0.409</td>\n",
              "      <td>0.856</td>\n",
              "    </tr>\n",
              "    <tr>\n",
              "      <th>4</th>\n",
              "      <td>0.388</td>\n",
              "      <td>0.861</td>\n",
              "      <td>0.413</td>\n",
              "      <td>0.854</td>\n",
              "    </tr>\n",
              "    <tr>\n",
              "      <th>5</th>\n",
              "      <td>0.378</td>\n",
              "      <td>0.863</td>\n",
              "      <td>0.395</td>\n",
              "      <td>0.858</td>\n",
              "    </tr>\n",
              "    <tr>\n",
              "      <th>6</th>\n",
              "      <td>0.370</td>\n",
              "      <td>0.866</td>\n",
              "      <td>0.389</td>\n",
              "      <td>0.862</td>\n",
              "    </tr>\n",
              "    <tr>\n",
              "      <th>7</th>\n",
              "      <td>0.363</td>\n",
              "      <td>0.868</td>\n",
              "      <td>0.387</td>\n",
              "      <td>0.862</td>\n",
              "    </tr>\n",
              "    <tr>\n",
              "      <th>8</th>\n",
              "      <td>0.356</td>\n",
              "      <td>0.870</td>\n",
              "      <td>0.390</td>\n",
              "      <td>0.860</td>\n",
              "    </tr>\n",
              "    <tr>\n",
              "      <th>9</th>\n",
              "      <td>0.348</td>\n",
              "      <td>0.872</td>\n",
              "      <td>0.389</td>\n",
              "      <td>0.863</td>\n",
              "    </tr>\n",
              "    <tr>\n",
              "      <th>10</th>\n",
              "      <td>0.341</td>\n",
              "      <td>0.876</td>\n",
              "      <td>0.394</td>\n",
              "      <td>0.860</td>\n",
              "    </tr>\n",
              "    <tr>\n",
              "      <th>11</th>\n",
              "      <td>0.333</td>\n",
              "      <td>0.879</td>\n",
              "      <td>0.396</td>\n",
              "      <td>0.860</td>\n",
              "    </tr>\n",
              "  </tbody>\n",
              "</table>\n",
              "</div>"
            ],
            "text/plain": [
              "     loss  accuracy  val_loss  val_accuracy\n",
              "2   0.423     0.849     0.421         0.855\n",
              "3   0.402     0.856     0.409         0.856\n",
              "4   0.388     0.861     0.413         0.854\n",
              "5   0.378     0.863     0.395         0.858\n",
              "6   0.370     0.866     0.389         0.862\n",
              "7   0.363     0.868     0.387         0.862\n",
              "8   0.356     0.870     0.390         0.860\n",
              "9   0.348     0.872     0.389         0.863\n",
              "10  0.341     0.876     0.394         0.860\n",
              "11  0.333     0.879     0.396         0.860"
            ]
          },
          "metadata": {},
          "execution_count": 67
        }
      ]
    },
    {
      "cell_type": "code",
      "metadata": {
        "id": "6I-VnW30bALG"
      },
      "source": [
        "losses = history.history['loss']\n",
        "accs = history.history['accuracy']\n",
        "val_losses = history.history['val_loss']\n",
        "val_accs = history.history['val_accuracy']\n",
        "epochs = len(losses)"
      ],
      "execution_count": null,
      "outputs": []
    },
    {
      "cell_type": "code",
      "metadata": {
        "colab": {
          "base_uri": "https://localhost:8080/",
          "height": 265
        },
        "id": "CtRSXqUMbAQw",
        "outputId": "348c7734-f431-4b0b-89bf-6a43e60be60b"
      },
      "source": [
        "plt.figure(figsize=(16, 4))\n",
        "for i, metrics in enumerate(zip([losses, accs], [val_losses, val_accs], ['Loss', 'Accuracy'])):\n",
        "    plt.subplot(1, 2, i + 1)\n",
        "    plt.plot(range(epochs), metrics[0], label='Training {}'.format(metrics[2]))\n",
        "    plt.plot(range(epochs), metrics[1], label='Validation {}'.format(metrics[2]))\n",
        "    plt.legend()\n",
        "plt.show()"
      ],
      "execution_count": null,
      "outputs": [
        {
          "output_type": "display_data",
          "data": {
            "image/png": "[encoded data removed]",
            "text/plain": [
              "<Figure size 1152x288 with 2 Axes>"
            ]
          },
          "metadata": {
            "needs_background": "light"
          }
        }
      ]
    },
    {
      "cell_type": "markdown",
      "metadata": {
        "id": "iyNIDJS_bMlL"
      },
      "source": [
        "**Model Architecture Summary Single Layer Bidirectional RNN**"
      ]
    },
    {
      "cell_type": "code",
      "metadata": {
        "colab": {
          "base_uri": "https://localhost:8080/"
        },
        "id": "-xGO2xrhbAWR",
        "outputId": "66504308-bd46-4f5a-cbbf-ae3d6ef198f0"
      },
      "source": [
        "model.summary()"
      ],
      "execution_count": null,
      "outputs": [
        {
          "output_type": "stream",
          "name": "stdout",
          "text": [
            "Model: \"sequential\"\n",
            "_________________________________________________________________\n",
            "Layer (type)                 Output Shape              Param #   \n",
            "=================================================================\n",
            "text_vectorization_2 (TextVe (None, None)              0         \n",
            "_________________________________________________________________\n",
            "embedding (Embedding)        (None, None, 64)          64000     \n",
            "_________________________________________________________________\n",
            "bidirectional (Bidirectional (None, 128)               16512     \n",
            "_________________________________________________________________\n",
            "dense (Dense)                (None, 64)                8256      \n",
            "_________________________________________________________________\n",
            "dense_1 (Dense)              (None, 4)                 260       \n",
            "=================================================================\n",
            "Total params: 89,028\n",
            "Trainable params: 89,028\n",
            "Non-trainable params: 0\n",
            "_________________________________________________________________\n"
          ]
        }
      ]
    },
    {
      "cell_type": "code",
      "metadata": {
        "colab": {
          "base_uri": "https://localhost:8080/",
          "height": 644
        },
        "id": "X5BmVVoJbAZV",
        "outputId": "a84dc661-5104-4d75-bf21-83e39b0bed53"
      },
      "source": [
        "keras.utils.plot_model(model, \"BiDirectionalSimpleRNN.png\", show_shapes=True)"
      ],
      "execution_count": null,
      "outputs": [
        {
          "output_type": "execute_result",
          "data": {
            "image/png": "[encoded data removed]",
            "text/plain": [
              "<IPython.core.display.Image object>"
            ]
          },
          "metadata": {},
          "execution_count": 71
        }
      ]
    },
    {
      "cell_type": "markdown",
      "metadata": {
        "id": "uqzDUruuBROP"
      },
      "source": [
        "**Unidirectional Single Layer Simple RNN**"
      ]
    },
    {
      "cell_type": "code",
      "metadata": {
        "id": "a-DLDoZmBbtv"
      },
      "source": [
        "num_classes = 4\n",
        "model = tf.keras.Sequential([\n",
        "                              encoder\n",
        "                              ,tf.keras.layers.Embedding(input_dim=len(encoder.get_vocabulary())\n",
        "                              ,output_dim=64\n",
        "                                # Use masking to handle the variable sequence lengths\n",
        "                              ,mask_zero=True)\n",
        "                              ,tf.keras.layers.SimpleRNN(64)\n",
        "                              ,tf.keras.layers.Dense(64, activation='relu')\n",
        "                              ,tf.keras.layers.Dense(num_classes,activation='softmax')   # num_classes = 4\n",
        "])"
      ],
      "execution_count": null,
      "outputs": []
    },
    {
      "cell_type": "code",
      "metadata": {
        "id": "whziu7QoBb32"
      },
      "source": [
        "model.compile(optimizer=tf.keras.optimizers.Adam(1e-4)\n",
        "              ,loss=tf.keras.losses.SparseCategoricalCrossentropy() # if we set from_logits=True we don not have specify a softmax activation function in the last layer\n",
        "              ,metrics=['accuracy'])"
      ],
      "execution_count": null,
      "outputs": []
    },
    {
      "cell_type": "code",
      "metadata": {
        "colab": {
          "base_uri": "https://localhost:8080/"
        },
        "id": "wgCF4hh6Bb89",
        "outputId": "9c846e98-d5d2-469e-f489-e2115fb032c4"
      },
      "source": [
        "history = model.fit(train_dataset\n",
        "                    ,epochs = 200\n",
        "                    ,validation_data=validation_dataset\n",
        "                    ,callbacks=[tf.keras.callbacks.EarlyStopping(monitor='val_accuracy', patience=2)]\n",
        "                    )"
      ],
      "execution_count": null,
      "outputs": [
        {
          "output_type": "stream",
          "name": "stdout",
          "text": [
            "Epoch 1/200\n",
            "1782/1782 [==============================] - 74s 41ms/step - loss: 0.9571 - accuracy: 0.5524 - val_loss: 0.6106 - val_accuracy: 0.7772\n",
            "Epoch 2/200\n",
            "1782/1782 [==============================] - 72s 41ms/step - loss: 0.4874 - accuracy: 0.8265 - val_loss: 0.4407 - val_accuracy: 0.8475\n",
            "Epoch 3/200\n",
            "1782/1782 [==============================] - 74s 41ms/step - loss: 0.4216 - accuracy: 0.8503 - val_loss: 0.4215 - val_accuracy: 0.8493\n",
            "Epoch 4/200\n",
            "1782/1782 [==============================] - 73s 41ms/step - loss: 0.4052 - accuracy: 0.8559 - val_loss: 0.4045 - val_accuracy: 0.8587\n",
            "Epoch 5/200\n",
            "1782/1782 [==============================] - 72s 40ms/step - loss: 0.3963 - accuracy: 0.8581 - val_loss: 0.4017 - val_accuracy: 0.8570\n",
            "Epoch 6/200\n",
            "1782/1782 [==============================] - 73s 41ms/step - loss: 0.3894 - accuracy: 0.8614 - val_loss: 0.4045 - val_accuracy: 0.8592\n",
            "Epoch 7/200\n",
            "1782/1782 [==============================] - 74s 41ms/step - loss: 0.3845 - accuracy: 0.8620 - val_loss: 0.3987 - val_accuracy: 0.8607\n",
            "Epoch 8/200\n",
            "1782/1782 [==============================] - 73s 41ms/step - loss: 0.3799 - accuracy: 0.8633 - val_loss: 0.4014 - val_accuracy: 0.8582\n",
            "Epoch 9/200\n",
            "1125/1782 [=================>............] - ETA: 26s - loss: 0.3733 - accuracy: 0.8650"
          ]
        }
      ]
    },
    {
      "cell_type": "code",
      "metadata": {
        "id": "Jg2VRtKaBcBb"
      },
      "source": [
        "test_loss, test_acc = model.evaluate(test_dataset)\n",
        "\n",
        "print('Test Loss: {}'.format(test_loss))\n",
        "print('Test Accuracy: {}'.format(test_acc))"
      ],
      "execution_count": null,
      "outputs": []
    },
    {
      "cell_type": "code",
      "metadata": {
        "id": "J47IDqW0BcFi"
      },
      "source": [
        "history_dict = history.history\n",
        "history_dict.keys()"
      ],
      "execution_count": null,
      "outputs": []
    },
    {
      "cell_type": "code",
      "metadata": {
        "id": "Qp6K-4HQBcJO"
      },
      "source": [
        "history_df=pd.DataFrame(history_dict)\n",
        "history_df.tail(10).round(3)"
      ],
      "execution_count": null,
      "outputs": []
    },
    {
      "cell_type": "code",
      "metadata": {
        "id": "pwFS-NFBBcM0"
      },
      "source": [
        "losses = history.history['loss']\n",
        "accs = history.history['accuracy']\n",
        "val_losses = history.history['val_loss']\n",
        "val_accs = history.history['val_accuracy']\n",
        "epochs = len(losses)"
      ],
      "execution_count": null,
      "outputs": []
    },
    {
      "cell_type": "code",
      "metadata": {
        "id": "T8faH-FTBcRD"
      },
      "source": [
        "plt.figure(figsize=(16, 4))\n",
        "for i, metrics in enumerate(zip([losses, accs], [val_losses, val_accs], ['Loss', 'Accuracy'])):\n",
        "    plt.subplot(1, 2, i + 1)\n",
        "    plt.plot(range(epochs), metrics[0], label='Training {}'.format(metrics[2]))\n",
        "    plt.plot(range(epochs), metrics[1], label='Validation {}'.format(metrics[2]))\n",
        "    plt.legend()\n",
        "plt.show()"
      ],
      "execution_count": null,
      "outputs": []
    },
    {
      "cell_type": "code",
      "metadata": {
        "id": "0j3ZUJaqBcUc"
      },
      "source": [
        "preds = model.predict(test_dataset)"
      ],
      "execution_count": null,
      "outputs": []
    },
    {
      "cell_type": "code",
      "metadata": {
        "id": "xve4dcs_BcYc"
      },
      "source": [
        "cm = sns.light_palette((260, 75, 60), input=\"husl\", as_cmap=True)"
      ],
      "execution_count": null,
      "outputs": []
    },
    {
      "cell_type": "code",
      "metadata": {
        "id": "-24lixJfBcbp"
      },
      "source": [
        "df = pd.DataFrame(preds[0:15]\n",
        "                  ,columns = ['World','Sports','Business','Sci/Tech']).T\n",
        "df.style.format(\"{:.2%}\").background_gradient(cmap=cm)"
      ],
      "execution_count": null,
      "outputs": []
    },
    {
      "cell_type": "markdown",
      "metadata": {
        "id": "lO_3_CHYbyhl"
      },
      "source": [
        "**Stack two or more RNN layers**\n",
        "\n",
        "Keras recurrent layers have two available modes that are controlled by the return_sequences constructor argument:\n",
        "\n",
        "If False it returns only the last output for each input sequence (a 2D tensor of shape (batch_size, output_features)). This is the default, used in the previous model.\n",
        "\n",
        "If True the full sequences of successive outputs for each timestep is returned (a 3D tensor of shape (batch_size, timesteps, output_features)).\n",
        "\n",
        "Here is what the flow of information looks like with return_sequences=True:\n",
        "\n",
        "![layered_bidirectional]?raw=1\"\n",
        "\n",
        "The interesting thing about using an RNN with return_sequences=True is that the output still has 3-axes, like the input, so it can be passed to another RNN layer, like this:\n",
        "\n"
      ]
    },
    {
      "cell_type": "code",
      "metadata": {
        "id": "H6nZsB-1bAeH"
      },
      "source": [
        "model2 = tf.keras.Sequential([\n",
        "                              encoder\n",
        "                              ,tf.keras.layers.Embedding(len(encoder.get_vocabulary()), 64, mask_zero=True)\n",
        "                              ,tf.keras.layers.Bidirectional(tf.keras.layers.SimpleRNN(64,  return_sequences=True))\n",
        "                              ,tf.keras.layers.Bidirectional(tf.keras.layers.SimpleRNN(32))\n",
        "                              ,tf.keras.layers.Dense(64, activation='relu')\n",
        "                              ,tf.keras.layers.Dropout(0.5)\n",
        "                              ,tf.keras.layers.Dense(num_classes,activation='softmax')   # not binary since there are num_classes categories\n",
        "])"
      ],
      "execution_count": null,
      "outputs": []
    },
    {
      "cell_type": "code",
      "metadata": {
        "id": "4B1X-kevbAhg"
      },
      "source": [
        "model2.compile(optimizer='adam'\n",
        "              ,loss=tf.keras.losses.SparseCategoricalCrossentropy() # if we set from_logits=True we do not have specify a softmax activation function in the last layer\n",
        "              ,metrics=['accuracy'])"
      ],
      "execution_count": null,
      "outputs": []
    },
    {
      "cell_type": "code",
      "metadata": {
        "colab": {
          "base_uri": "https://localhost:8080/"
        },
        "id": "z97mq7ynb9tv",
        "outputId": "d9048468-6bd3-46dd-a47d-daff8d33b8ac"
      },
      "source": [
        "history2 = model2.fit(train_dataset\n",
        "                    ,epochs=200\n",
        "                    ,validation_data=validation_dataset\n",
        "                    ,validation_steps=30\n",
        "                    ,callbacks=[tf.keras.callbacks.EarlyStopping(monitor='val_accuracy', patience=2)]\n",
        "                    )"
      ],
      "execution_count": null,
      "outputs": [
        {
          "output_type": "stream",
          "name": "stdout",
          "text": [
            "Epoch 1/200\n",
            "1782/1782 [==============================] - 244s 134ms/step - loss: 0.6028 - accuracy: 0.7733 - val_loss: 0.4674 - val_accuracy: 0.8313\n",
            "Epoch 2/200\n",
            "1782/1782 [==============================] - 240s 134ms/step - loss: 0.4724 - accuracy: 0.8365 - val_loss: 0.4597 - val_accuracy: 0.8370\n",
            "Epoch 3/200\n",
            "1782/1782 [==============================] - 240s 135ms/step - loss: 0.4417 - accuracy: 0.8469 - val_loss: 0.4159 - val_accuracy: 0.8469\n",
            "Epoch 4/200\n",
            "1782/1782 [==============================] - 237s 133ms/step - loss: 0.4174 - accuracy: 0.8536 - val_loss: 0.4034 - val_accuracy: 0.8547\n",
            "Epoch 5/200\n",
            "1782/1782 [==============================] - 236s 133ms/step - loss: 0.3996 - accuracy: 0.8588 - val_loss: 0.4175 - val_accuracy: 0.8469\n",
            "Epoch 6/200\n",
            "1782/1782 [==============================] - 238s 133ms/step - loss: 0.3858 - accuracy: 0.8619 - val_loss: 0.4676 - val_accuracy: 0.8396\n"
          ]
        }
      ]
    },
    {
      "cell_type": "code",
      "metadata": {
        "colab": {
          "base_uri": "https://localhost:8080/",
          "height": 215
        },
        "id": "V_25a4Djb9xT",
        "outputId": "b92ea68b-d0bd-4320-9b8e-b8b1ac315bc2"
      },
      "source": [
        "test_loss, test_acc = model2.evaluate(test_dataset)\n",
        "\n",
        "print('Test Loss: {}'.format(test_loss))\n",
        "print('Test Accuracy: {}'.format(test_acc))"
      ],
      "execution_count": null,
      "outputs": [
        {
          "output_type": "error",
          "ename": "NameError",
          "evalue": "ignored",
          "traceback": [
            "\u001b[0;31m---------------------------------------------------------------------------\u001b[0m",
            "\u001b[0;31mNameError\u001b[0m                                 Traceback (most recent call last)",
            "\u001b[0;32m<ipython-input-1-2b4ffb404a86>\u001b[0m in \u001b[0;36m<module>\u001b[0;34m()\u001b[0m\n\u001b[0;32m----> 1\u001b[0;31m \u001b[0mtest_loss\u001b[0m\u001b[0;34m,\u001b[0m \u001b[0mtest_acc\u001b[0m \u001b[0;34m=\u001b[0m \u001b[0mmodel2\u001b[0m\u001b[0;34m.\u001b[0m\u001b[0mevaluate\u001b[0m\u001b[0;34m(\u001b[0m\u001b[0mtest_dataset\u001b[0m\u001b[0;34m)\u001b[0m\u001b[0;34m\u001b[0m\u001b[0;34m\u001b[0m\u001b[0m\n\u001b[0m\u001b[1;32m      2\u001b[0m \u001b[0;34m\u001b[0m\u001b[0m\n\u001b[1;32m      3\u001b[0m \u001b[0mprint\u001b[0m\u001b[0;34m(\u001b[0m\u001b[0;34m'Test Loss: {}'\u001b[0m\u001b[0;34m.\u001b[0m\u001b[0mformat\u001b[0m\u001b[0;34m(\u001b[0m\u001b[0mtest_loss\u001b[0m\u001b[0;34m)\u001b[0m\u001b[0;34m)\u001b[0m\u001b[0;34m\u001b[0m\u001b[0;34m\u001b[0m\u001b[0m\n\u001b[1;32m      4\u001b[0m \u001b[0mprint\u001b[0m\u001b[0;34m(\u001b[0m\u001b[0;34m'Test Accuracy: {}'\u001b[0m\u001b[0;34m.\u001b[0m\u001b[0mformat\u001b[0m\u001b[0;34m(\u001b[0m\u001b[0mtest_acc\u001b[0m\u001b[0;34m)\u001b[0m\u001b[0;34m)\u001b[0m\u001b[0;34m\u001b[0m\u001b[0;34m\u001b[0m\u001b[0m\n",
            "\u001b[0;31mNameError\u001b[0m: name 'model2' is not defined"
          ]
        }
      ]
    },
    {
      "cell_type": "markdown",
      "metadata": {
        "id": "cuQ2iEdCcGh1"
      },
      "source": [
        "**Plotting Performance Metrics - Multi-Layer Bidirectional RNN**\n",
        "\n",
        "We use Matplotlib to create 2 plots--displaying the training and validation loss (resp. accuracy) for each (training) epoch side by side."
      ]
    },
    {
      "cell_type": "code",
      "metadata": {
        "colab": {
          "base_uri": "https://localhost:8080/"
        },
        "id": "UhFqMC3zb91X",
        "outputId": "89927b6a-eaff-4a9c-f90c-238e25a09ed6"
      },
      "source": [
        "history_dict2 = history2.history\n",
        "history_dict2.keys()"
      ],
      "execution_count": null,
      "outputs": [
        {
          "output_type": "execute_result",
          "data": {
            "text/plain": [
              "dict_keys(['loss', 'accuracy', 'val_loss', 'val_accuracy'])"
            ]
          },
          "metadata": {},
          "execution_count": 62
        }
      ]
    },
    {
      "cell_type": "code",
      "metadata": {
        "colab": {
          "base_uri": "https://localhost:8080/",
          "height": 142
        },
        "id": "ZrLmzd8db94g",
        "outputId": "cfa21e8e-8d39-4989-c79f-e1114199a380"
      },
      "source": [
        "history2_df=pd.DataFrame(history_dict2)\n",
        "history2_df.tail().round(3)"
      ],
      "execution_count": null,
      "outputs": [
        {
          "output_type": "execute_result",
          "data": {
            "text/html": [
              "<div>\n",
              "<style scoped>\n",
              "    .dataframe tbody tr th:only-of-type {\n",
              "        vertical-align: middle;\n",
              "    }\n",
              "\n",
              "    .dataframe tbody tr th {\n",
              "        vertical-align: top;\n",
              "    }\n",
              "\n",
              "    .dataframe thead th {\n",
              "        text-align: right;\n",
              "    }\n",
              "</style>\n",
              "<table border=\"1\" class=\"dataframe\">\n",
              "  <thead>\n",
              "    <tr style=\"text-align: right;\">\n",
              "      <th></th>\n",
              "      <th>loss</th>\n",
              "      <th>accuracy</th>\n",
              "      <th>val_loss</th>\n",
              "      <th>val_accuracy</th>\n",
              "    </tr>\n",
              "  </thead>\n",
              "  <tbody>\n",
              "    <tr>\n",
              "      <th>0</th>\n",
              "      <td>0.516</td>\n",
              "      <td>0.815</td>\n",
              "      <td>0.396</td>\n",
              "      <td>0.866</td>\n",
              "    </tr>\n",
              "    <tr>\n",
              "      <th>1</th>\n",
              "      <td>0.426</td>\n",
              "      <td>0.851</td>\n",
              "      <td>0.443</td>\n",
              "      <td>0.844</td>\n",
              "    </tr>\n",
              "    <tr>\n",
              "      <th>2</th>\n",
              "      <td>0.405</td>\n",
              "      <td>0.857</td>\n",
              "      <td>0.377</td>\n",
              "      <td>0.858</td>\n",
              "    </tr>\n",
              "  </tbody>\n",
              "</table>\n",
              "</div>"
            ],
            "text/plain": [
              "    loss  accuracy  val_loss  val_accuracy\n",
              "0  0.516     0.815     0.396         0.866\n",
              "1  0.426     0.851     0.443         0.844\n",
              "2  0.405     0.857     0.377         0.858"
            ]
          },
          "metadata": {},
          "execution_count": 63
        }
      ]
    },
    {
      "cell_type": "code",
      "metadata": {
        "id": "B0WG6MoRcQlq"
      },
      "source": [
        "losses = history2.history['loss']\n",
        "accs = history2.history['accuracy']\n",
        "val_losses = history2.history['val_loss']\n",
        "val_accs = history2.history['val_accuracy']\n",
        "epochs = len(losses)"
      ],
      "execution_count": null,
      "outputs": []
    },
    {
      "cell_type": "code",
      "metadata": {
        "colab": {
          "base_uri": "https://localhost:8080/",
          "height": 265
        },
        "id": "VAEqwLVZcQpP",
        "outputId": "2ee0c980-ab98-49ea-c2eb-d7e0b7dfcd55"
      },
      "source": [
        "plt.figure(figsize=(16, 4))\n",
        "for i, metrics in enumerate(zip([losses, accs], [val_losses, val_accs], ['Loss', 'Accuracy'])):\n",
        "    plt.subplot(1, 2, i + 1)\n",
        "    plt.plot(range(epochs), metrics[0], label='Training {}'.format(metrics[2]))\n",
        "    plt.plot(range(epochs), metrics[1], label='Validation {}'.format(metrics[2]))\n",
        "    plt.legend()\n",
        "plt.show()"
      ],
      "execution_count": null,
      "outputs": [
        {
          "output_type": "display_data",
          "data": {
            "image/png": "[encoded data removed]",
            "text/plain": [
              "<Figure size 1152x288 with 2 Axes>"
            ]
          },
          "metadata": {
            "needs_background": "light"
          }
        }
      ]
    },
    {
      "cell_type": "markdown",
      "metadata": {
        "id": "Wa38JltgctCI"
      },
      "source": [
        "**Confusion Matrix**\n"
      ]
    },
    {
      "cell_type": "code",
      "metadata": {
        "id": "jskGC-YIcQt9"
      },
      "source": [
        "preds2 = model2.predict(test_dataset)"
      ],
      "execution_count": null,
      "outputs": []
    },
    {
      "cell_type": "code",
      "metadata": {
        "colab": {
          "base_uri": "https://localhost:8080/"
        },
        "id": "POX1cwyUczyh",
        "outputId": "7e91ef96-2297-4069-a12f-0d06308f4d90"
      },
      "source": [
        "preds2.shape"
      ],
      "execution_count": null,
      "outputs": [
        {
          "output_type": "execute_result",
          "data": {
            "text/plain": [
              "(7600, 4)"
            ]
          },
          "metadata": {},
          "execution_count": 67
        }
      ]
    },
    {
      "cell_type": "code",
      "metadata": {
        "id": "XaqreU_Gcz7m"
      },
      "source": [
        "cm = sns.light_palette((260, 75, 60), input=\"husl\", as_cmap=True)"
      ],
      "execution_count": null,
      "outputs": []
    },
    {
      "cell_type": "code",
      "metadata": {
        "colab": {
          "base_uri": "https://localhost:8080/",
          "height": 124
        },
        "id": "Eg32IZ7ec0AK",
        "outputId": "d3423883-bb84-4287-a561-a7a6a703cc1c"
      },
      "source": [
        "df = pd.DataFrame(preds2[0:15]\n",
        "                  ,columns = ['World','Sports','Business','Sci/Tech']).T\n",
        "df.style.format(\"{:.2%}\").background_gradient(cmap=cm)"
      ],
      "execution_count": null,
      "outputs": [
        {
          "output_type": "execute_result",
          "data": {
            "text/html": [
              "<style  type=\"text/css\" >\n",
              "#T_2a602cb2_3730_11ec_bd88_0242ac1c0002row0_col0,#T_2a602cb2_3730_11ec_bd88_0242ac1c0002row0_col2,#T_2a602cb2_3730_11ec_bd88_0242ac1c0002row0_col11,#T_2a602cb2_3730_11ec_bd88_0242ac1c0002row1_col1,#T_2a602cb2_3730_11ec_bd88_0242ac1c0002row1_col2,#T_2a602cb2_3730_11ec_bd88_0242ac1c0002row1_col4,#T_2a602cb2_3730_11ec_bd88_0242ac1c0002row1_col5,#T_2a602cb2_3730_11ec_bd88_0242ac1c0002row1_col8,#T_2a602cb2_3730_11ec_bd88_0242ac1c0002row1_col9,#T_2a602cb2_3730_11ec_bd88_0242ac1c0002row1_col10,#T_2a602cb2_3730_11ec_bd88_0242ac1c0002row1_col11,#T_2a602cb2_3730_11ec_bd88_0242ac1c0002row1_col12,#T_2a602cb2_3730_11ec_bd88_0242ac1c0002row1_col13,#T_2a602cb2_3730_11ec_bd88_0242ac1c0002row1_col14,#T_2a602cb2_3730_11ec_bd88_0242ac1c0002row2_col0,#T_2a602cb2_3730_11ec_bd88_0242ac1c0002row2_col1,#T_2a602cb2_3730_11ec_bd88_0242ac1c0002row2_col3,#T_2a602cb2_3730_11ec_bd88_0242ac1c0002row2_col4,#T_2a602cb2_3730_11ec_bd88_0242ac1c0002row2_col6,#T_2a602cb2_3730_11ec_bd88_0242ac1c0002row2_col7,#T_2a602cb2_3730_11ec_bd88_0242ac1c0002row2_col10,#T_2a602cb2_3730_11ec_bd88_0242ac1c0002row2_col14,#T_2a602cb2_3730_11ec_bd88_0242ac1c0002row3_col0,#T_2a602cb2_3730_11ec_bd88_0242ac1c0002row3_col1,#T_2a602cb2_3730_11ec_bd88_0242ac1c0002row3_col3,#T_2a602cb2_3730_11ec_bd88_0242ac1c0002row3_col4,#T_2a602cb2_3730_11ec_bd88_0242ac1c0002row3_col6,#T_2a602cb2_3730_11ec_bd88_0242ac1c0002row3_col10,#T_2a602cb2_3730_11ec_bd88_0242ac1c0002row3_col14{\n",
              "            background-color:  #f0f1f2;\n",
              "            color:  #000000;\n",
              "        }#T_2a602cb2_3730_11ec_bd88_0242ac1c0002row0_col1,#T_2a602cb2_3730_11ec_bd88_0242ac1c0002row0_col4,#T_2a602cb2_3730_11ec_bd88_0242ac1c0002row0_col8,#T_2a602cb2_3730_11ec_bd88_0242ac1c0002row0_col10,#T_2a602cb2_3730_11ec_bd88_0242ac1c0002row0_col13,#T_2a602cb2_3730_11ec_bd88_0242ac1c0002row0_col14,#T_2a602cb2_3730_11ec_bd88_0242ac1c0002row1_col0,#T_2a602cb2_3730_11ec_bd88_0242ac1c0002row1_col3,#T_2a602cb2_3730_11ec_bd88_0242ac1c0002row1_col6,#T_2a602cb2_3730_11ec_bd88_0242ac1c0002row1_col7,#T_2a602cb2_3730_11ec_bd88_0242ac1c0002row2_col9,#T_2a602cb2_3730_11ec_bd88_0242ac1c0002row2_col12,#T_2a602cb2_3730_11ec_bd88_0242ac1c0002row3_col2,#T_2a602cb2_3730_11ec_bd88_0242ac1c0002row3_col5,#T_2a602cb2_3730_11ec_bd88_0242ac1c0002row3_col11{\n",
              "            background-color:  #778ce4;\n",
              "            color:  #000000;\n",
              "        }#T_2a602cb2_3730_11ec_bd88_0242ac1c0002row0_col3,#T_2a602cb2_3730_11ec_bd88_0242ac1c0002row0_col5,#T_2a602cb2_3730_11ec_bd88_0242ac1c0002row0_col6{\n",
              "            background-color:  #f0f0f2;\n",
              "            color:  #000000;\n",
              "        }#T_2a602cb2_3730_11ec_bd88_0242ac1c0002row0_col7{\n",
              "            background-color:  #b6c0eb;\n",
              "            color:  #000000;\n",
              "        }#T_2a602cb2_3730_11ec_bd88_0242ac1c0002row0_col9,#T_2a602cb2_3730_11ec_bd88_0242ac1c0002row3_col7{\n",
              "            background-color:  #ebecf2;\n",
              "            color:  #000000;\n",
              "        }#T_2a602cb2_3730_11ec_bd88_0242ac1c0002row0_col12,#T_2a602cb2_3730_11ec_bd88_0242ac1c0002row2_col13{\n",
              "            background-color:  #eeeff2;\n",
              "            color:  #000000;\n",
              "        }#T_2a602cb2_3730_11ec_bd88_0242ac1c0002row2_col2{\n",
              "            background-color:  #ecedf2;\n",
              "            color:  #000000;\n",
              "        }#T_2a602cb2_3730_11ec_bd88_0242ac1c0002row2_col5{\n",
              "            background-color:  #dce0f0;\n",
              "            color:  #000000;\n",
              "        }#T_2a602cb2_3730_11ec_bd88_0242ac1c0002row2_col8{\n",
              "            background-color:  #eff0f2;\n",
              "            color:  #000000;\n",
              "        }#T_2a602cb2_3730_11ec_bd88_0242ac1c0002row2_col11,#T_2a602cb2_3730_11ec_bd88_0242ac1c0002row3_col12{\n",
              "            background-color:  #efeff2;\n",
              "            color:  #000000;\n",
              "        }#T_2a602cb2_3730_11ec_bd88_0242ac1c0002row3_col8,#T_2a602cb2_3730_11ec_bd88_0242ac1c0002row3_col13{\n",
              "            background-color:  #e9eaf1;\n",
              "            color:  #000000;\n",
              "        }#T_2a602cb2_3730_11ec_bd88_0242ac1c0002row3_col9{\n",
              "            background-color:  #d5daef;\n",
              "            color:  #000000;\n",
              "        }</style><table id=\"T_2a602cb2_3730_11ec_bd88_0242ac1c0002\" ><thead>    <tr>        <th class=\"blank level0\" ></th>        <th class=\"col_heading level0 col0\" >0</th>        <th class=\"col_heading level0 col1\" >1</th>        <th class=\"col_heading level0 col2\" >2</th>        <th class=\"col_heading level0 col3\" >3</th>        <th class=\"col_heading level0 col4\" >4</th>        <th class=\"col_heading level0 col5\" >5</th>        <th class=\"col_heading level0 col6\" >6</th>        <th class=\"col_heading level0 col7\" >7</th>        <th class=\"col_heading level0 col8\" >8</th>        <th class=\"col_heading level0 col9\" >9</th>        <th class=\"col_heading level0 col10\" >10</th>        <th class=\"col_heading level0 col11\" >11</th>        <th class=\"col_heading level0 col12\" >12</th>        <th class=\"col_heading level0 col13\" >13</th>        <th class=\"col_heading level0 col14\" >14</th>    </tr></thead><tbody>\n",
              "                <tr>\n",
              "                        <th id=\"T_2a602cb2_3730_11ec_bd88_0242ac1c0002level0_row0\" class=\"row_heading level0 row0\" >World</th>\n",
              "                        <td id=\"T_2a602cb2_3730_11ec_bd88_0242ac1c0002row0_col0\" class=\"data row0 col0\" >0.04%</td>\n",
              "                        <td id=\"T_2a602cb2_3730_11ec_bd88_0242ac1c0002row0_col1\" class=\"data row0 col1\" >99.94%</td>\n",
              "                        <td id=\"T_2a602cb2_3730_11ec_bd88_0242ac1c0002row0_col2\" class=\"data row0 col2\" >0.30%</td>\n",
              "                        <td id=\"T_2a602cb2_3730_11ec_bd88_0242ac1c0002row0_col3\" class=\"data row0 col3\" >0.51%</td>\n",
              "                        <td id=\"T_2a602cb2_3730_11ec_bd88_0242ac1c0002row0_col4\" class=\"data row0 col4\" >99.86%</td>\n",
              "                        <td id=\"T_2a602cb2_3730_11ec_bd88_0242ac1c0002row0_col5\" class=\"data row0 col5\" >0.69%</td>\n",
              "                        <td id=\"T_2a602cb2_3730_11ec_bd88_0242ac1c0002row0_col6\" class=\"data row0 col6\" >0.84%</td>\n",
              "                        <td id=\"T_2a602cb2_3730_11ec_bd88_0242ac1c0002row0_col7\" class=\"data row0 col7\" >31.35%</td>\n",
              "                        <td id=\"T_2a602cb2_3730_11ec_bd88_0242ac1c0002row0_col8\" class=\"data row0 col8\" >92.50%</td>\n",
              "                        <td id=\"T_2a602cb2_3730_11ec_bd88_0242ac1c0002row0_col9\" class=\"data row0 col9\" >3.89%</td>\n",
              "                        <td id=\"T_2a602cb2_3730_11ec_bd88_0242ac1c0002row0_col10\" class=\"data row0 col10\" >99.98%</td>\n",
              "                        <td id=\"T_2a602cb2_3730_11ec_bd88_0242ac1c0002row0_col11\" class=\"data row0 col11\" >0.25%</td>\n",
              "                        <td id=\"T_2a602cb2_3730_11ec_bd88_0242ac1c0002row0_col12\" class=\"data row0 col12\" >1.81%</td>\n",
              "                        <td id=\"T_2a602cb2_3730_11ec_bd88_0242ac1c0002row0_col13\" class=\"data row0 col13\" >90.90%</td>\n",
              "                        <td id=\"T_2a602cb2_3730_11ec_bd88_0242ac1c0002row0_col14\" class=\"data row0 col14\" >99.91%</td>\n",
              "            </tr>\n",
              "            <tr>\n",
              "                        <th id=\"T_2a602cb2_3730_11ec_bd88_0242ac1c0002level0_row1\" class=\"row_heading level0 row1\" >Sports</th>\n",
              "                        <td id=\"T_2a602cb2_3730_11ec_bd88_0242ac1c0002row1_col0\" class=\"data row1 col0\" >99.92%</td>\n",
              "                        <td id=\"T_2a602cb2_3730_11ec_bd88_0242ac1c0002row1_col1\" class=\"data row1 col1\" >0.00%</td>\n",
              "                        <td id=\"T_2a602cb2_3730_11ec_bd88_0242ac1c0002row1_col2\" class=\"data row1 col2\" >0.00%</td>\n",
              "                        <td id=\"T_2a602cb2_3730_11ec_bd88_0242ac1c0002row1_col3\" class=\"data row1 col3\" >99.38%</td>\n",
              "                        <td id=\"T_2a602cb2_3730_11ec_bd88_0242ac1c0002row1_col4\" class=\"data row1 col4\" >0.00%</td>\n",
              "                        <td id=\"T_2a602cb2_3730_11ec_bd88_0242ac1c0002row1_col5\" class=\"data row1 col5\" >0.07%</td>\n",
              "                        <td id=\"T_2a602cb2_3730_11ec_bd88_0242ac1c0002row1_col6\" class=\"data row1 col6\" >98.80%</td>\n",
              "                        <td id=\"T_2a602cb2_3730_11ec_bd88_0242ac1c0002row1_col7\" class=\"data row1 col7\" >64.78%</td>\n",
              "                        <td id=\"T_2a602cb2_3730_11ec_bd88_0242ac1c0002row1_col8\" class=\"data row1 col8\" >0.30%</td>\n",
              "                        <td id=\"T_2a602cb2_3730_11ec_bd88_0242ac1c0002row1_col9\" class=\"data row1 col9\" >0.04%</td>\n",
              "                        <td id=\"T_2a602cb2_3730_11ec_bd88_0242ac1c0002row1_col10\" class=\"data row1 col10\" >0.00%</td>\n",
              "                        <td id=\"T_2a602cb2_3730_11ec_bd88_0242ac1c0002row1_col11\" class=\"data row1 col11\" >0.13%</td>\n",
              "                        <td id=\"T_2a602cb2_3730_11ec_bd88_0242ac1c0002row1_col12\" class=\"data row1 col12\" >0.02%</td>\n",
              "                        <td id=\"T_2a602cb2_3730_11ec_bd88_0242ac1c0002row1_col13\" class=\"data row1 col13\" >0.50%</td>\n",
              "                        <td id=\"T_2a602cb2_3730_11ec_bd88_0242ac1c0002row1_col14\" class=\"data row1 col14\" >0.00%</td>\n",
              "            </tr>\n",
              "            <tr>\n",
              "                        <th id=\"T_2a602cb2_3730_11ec_bd88_0242ac1c0002level0_row2\" class=\"row_heading level0 row2\" >Business</th>\n",
              "                        <td id=\"T_2a602cb2_3730_11ec_bd88_0242ac1c0002row2_col0\" class=\"data row2 col0\" >0.02%</td>\n",
              "                        <td id=\"T_2a602cb2_3730_11ec_bd88_0242ac1c0002row2_col1\" class=\"data row2 col1\" >0.03%</td>\n",
              "                        <td id=\"T_2a602cb2_3730_11ec_bd88_0242ac1c0002row2_col2\" class=\"data row2 col2\" >3.58%</td>\n",
              "                        <td id=\"T_2a602cb2_3730_11ec_bd88_0242ac1c0002row2_col3\" class=\"data row2 col3\" >0.06%</td>\n",
              "                        <td id=\"T_2a602cb2_3730_11ec_bd88_0242ac1c0002row2_col4\" class=\"data row2 col4\" >0.06%</td>\n",
              "                        <td id=\"T_2a602cb2_3730_11ec_bd88_0242ac1c0002row2_col5\" class=\"data row2 col5\" >14.55%</td>\n",
              "                        <td id=\"T_2a602cb2_3730_11ec_bd88_0242ac1c0002row2_col6\" class=\"data row2 col6\" >0.09%</td>\n",
              "                        <td id=\"T_2a602cb2_3730_11ec_bd88_0242ac1c0002row2_col7\" class=\"data row2 col7\" >0.31%</td>\n",
              "                        <td id=\"T_2a602cb2_3730_11ec_bd88_0242ac1c0002row2_col8\" class=\"data row2 col8\" >1.02%</td>\n",
              "                        <td id=\"T_2a602cb2_3730_11ec_bd88_0242ac1c0002row2_col9\" class=\"data row2 col9\" >78.41%</td>\n",
              "                        <td id=\"T_2a602cb2_3730_11ec_bd88_0242ac1c0002row2_col10\" class=\"data row2 col10\" >0.01%</td>\n",
              "                        <td id=\"T_2a602cb2_3730_11ec_bd88_0242ac1c0002row2_col11\" class=\"data row2 col11\" >1.65%</td>\n",
              "                        <td id=\"T_2a602cb2_3730_11ec_bd88_0242ac1c0002row2_col12\" class=\"data row2 col12\" >97.01%</td>\n",
              "                        <td id=\"T_2a602cb2_3730_11ec_bd88_0242ac1c0002row2_col13\" class=\"data row2 col13\" >2.17%</td>\n",
              "                        <td id=\"T_2a602cb2_3730_11ec_bd88_0242ac1c0002row2_col14\" class=\"data row2 col14\" >0.06%</td>\n",
              "            </tr>\n",
              "            <tr>\n",
              "                        <th id=\"T_2a602cb2_3730_11ec_bd88_0242ac1c0002level0_row3\" class=\"row_heading level0 row3\" >Sci/Tech</th>\n",
              "                        <td id=\"T_2a602cb2_3730_11ec_bd88_0242ac1c0002row3_col0\" class=\"data row3 col0\" >0.01%</td>\n",
              "                        <td id=\"T_2a602cb2_3730_11ec_bd88_0242ac1c0002row3_col1\" class=\"data row3 col1\" >0.03%</td>\n",
              "                        <td id=\"T_2a602cb2_3730_11ec_bd88_0242ac1c0002row3_col2\" class=\"data row3 col2\" >96.12%</td>\n",
              "                        <td id=\"T_2a602cb2_3730_11ec_bd88_0242ac1c0002row3_col3\" class=\"data row3 col3\" >0.04%</td>\n",
              "                        <td id=\"T_2a602cb2_3730_11ec_bd88_0242ac1c0002row3_col4\" class=\"data row3 col4\" >0.08%</td>\n",
              "                        <td id=\"T_2a602cb2_3730_11ec_bd88_0242ac1c0002row3_col5\" class=\"data row3 col5\" >84.69%</td>\n",
              "                        <td id=\"T_2a602cb2_3730_11ec_bd88_0242ac1c0002row3_col6\" class=\"data row3 col6\" >0.27%</td>\n",
              "                        <td id=\"T_2a602cb2_3730_11ec_bd88_0242ac1c0002row3_col7\" class=\"data row3 col7\" >3.56%</td>\n",
              "                        <td id=\"T_2a602cb2_3730_11ec_bd88_0242ac1c0002row3_col8\" class=\"data row3 col8\" >6.18%</td>\n",
              "                        <td id=\"T_2a602cb2_3730_11ec_bd88_0242ac1c0002row3_col9\" class=\"data row3 col9\" >17.66%</td>\n",
              "                        <td id=\"T_2a602cb2_3730_11ec_bd88_0242ac1c0002row3_col10\" class=\"data row3 col10\" >0.01%</td>\n",
              "                        <td id=\"T_2a602cb2_3730_11ec_bd88_0242ac1c0002row3_col11\" class=\"data row3 col11\" >97.97%</td>\n",
              "                        <td id=\"T_2a602cb2_3730_11ec_bd88_0242ac1c0002row3_col12\" class=\"data row3 col12\" >1.16%</td>\n",
              "                        <td id=\"T_2a602cb2_3730_11ec_bd88_0242ac1c0002row3_col13\" class=\"data row3 col13\" >6.43%</td>\n",
              "                        <td id=\"T_2a602cb2_3730_11ec_bd88_0242ac1c0002row3_col14\" class=\"data row3 col14\" >0.03%</td>\n",
              "            </tr>\n",
              "    </tbody></table>"
            ],
            "text/plain": [
              "<pandas.io.formats.style.Styler at 0x7fd84a59dfd0>"
            ]
          },
          "metadata": {},
          "execution_count": 69
        }
      ]
    },
    {
      "cell_type": "markdown",
      "metadata": {
        "id": "omBOQ01477gg"
      },
      "source": [
        "**Unidirectional Multilayer RNN**"
      ]
    },
    {
      "cell_type": "code",
      "metadata": {
        "id": "yWeaodwB8PyD"
      },
      "source": [
        "model2 = tf.keras.Sequential([\n",
        "                              encoder\n",
        "                              ,tf.keras.layers.Embedding(len(encoder.get_vocabulary()), 64, mask_zero=True)\n",
        "                              ,tf.keras.layers.SimpleRNN(64, return_sequences=True)\n",
        "                              ,tf.keras.layers.SimpleRNN(32)\n",
        "                              ,tf.keras.layers.Dense(64, activation='relu')\n",
        "                              ,tf.keras.layers.Dropout(0.5)\n",
        "                              ,tf.keras.layers.Dense(num_classes,activation='softmax')   # not binary since there are num_classes categories\n",
        "])"
      ],
      "execution_count": null,
      "outputs": []
    },
    {
      "cell_type": "code",
      "metadata": {
        "id": "AYkxT12p8P2k"
      },
      "source": [
        "model2.compile(optimizer='adam'\n",
        "              ,loss=tf.keras.losses.SparseCategoricalCrossentropy() # if we set from_logits=True we do not have specify a softmax activation function in the last layer\n",
        "              ,metrics=['accuracy'])"
      ],
      "execution_count": null,
      "outputs": []
    },
    {
      "cell_type": "code",
      "metadata": {
        "colab": {
          "base_uri": "https://localhost:8080/"
        },
        "id": "KN6uJc2t8P6O",
        "outputId": "d7e0f7bc-25d6-408c-a6e1-d82771b56d35"
      },
      "source": [
        "history2 = model2.fit(train_dataset\n",
        "                    ,epochs=200\n",
        "                    ,validation_data=validation_dataset\n",
        "                    ,validation_steps=30\n",
        "                    ,callbacks=[tf.keras.callbacks.EarlyStopping(monitor='val_accuracy', patience=2)]\n",
        "                    )"
      ],
      "execution_count": null,
      "outputs": [
        {
          "output_type": "stream",
          "name": "stdout",
          "text": [
            "Epoch 1/200\n",
            "1782/1782 [==============================] - 124s 68ms/step - loss: 0.6828 - accuracy: 0.7344 - val_loss: 0.4823 - val_accuracy: 0.8328\n",
            "Epoch 2/200\n",
            "1782/1782 [==============================] - 122s 68ms/step - loss: 0.5187 - accuracy: 0.8233 - val_loss: 0.5281 - val_accuracy: 0.8161\n",
            "Epoch 3/200\n",
            "1782/1782 [==============================] - 124s 69ms/step - loss: 0.4918 - accuracy: 0.8337 - val_loss: 0.4640 - val_accuracy: 0.8427\n",
            "Epoch 4/200\n",
            "1782/1782 [==============================] - 125s 70ms/step - loss: 0.4744 - accuracy: 0.8393 - val_loss: 0.4534 - val_accuracy: 0.8349\n",
            "Epoch 5/200\n",
            "1782/1782 [==============================] - 126s 70ms/step - loss: 0.4550 - accuracy: 0.8445 - val_loss: 0.4550 - val_accuracy: 0.8458\n",
            "Epoch 6/200\n",
            "1782/1782 [==============================] - 126s 71ms/step - loss: 0.4429 - accuracy: 0.8485 - val_loss: 0.4775 - val_accuracy: 0.8391\n",
            "Epoch 7/200\n",
            "1782/1782 [==============================] - 126s 71ms/step - loss: 0.4528 - accuracy: 0.8448 - val_loss: 0.5162 - val_accuracy: 0.8188\n"
          ]
        }
      ]
    },
    {
      "cell_type": "code",
      "metadata": {
        "colab": {
          "base_uri": "https://localhost:8080/"
        },
        "id": "-AXVsnzW8P90",
        "outputId": "34fa85d5-4879-454d-fa8e-2e349e3661f3"
      },
      "source": [
        "test_loss, test_acc = model2.evaluate(test_dataset)\n",
        "\n",
        "print('Test Loss: {}'.format(test_loss))\n",
        "print('Test Accuracy: {}'.format(test_acc))"
      ],
      "execution_count": null,
      "outputs": [
        {
          "output_type": "stream",
          "name": "stdout",
          "text": [
            "119/119 [==============================] - 3s 25ms/step - loss: 0.4904 - accuracy: 0.8276\n",
            "Test Loss: 0.4903503656387329\n",
            "Test Accuracy: 0.8276315927505493\n"
          ]
        }
      ]
    },
    {
      "cell_type": "code",
      "metadata": {
        "colab": {
          "base_uri": "https://localhost:8080/"
        },
        "id": "IND5HzNc8QBp",
        "outputId": "ec2dcf26-34c8-4e3d-f89c-d5d070863a4d"
      },
      "source": [
        "history_dict2 = history2.history\n",
        "history_dict2.keys()"
      ],
      "execution_count": null,
      "outputs": [
        {
          "output_type": "execute_result",
          "data": {
            "text/plain": [
              "dict_keys(['loss', 'accuracy', 'val_loss', 'val_accuracy'])"
            ]
          },
          "metadata": {},
          "execution_count": 52
        }
      ]
    },
    {
      "cell_type": "code",
      "metadata": {
        "colab": {
          "base_uri": "https://localhost:8080/",
          "height": 204
        },
        "id": "h5vhaXY48QFj",
        "outputId": "180c71bf-a377-4fe1-e914-c0ddec7976d3"
      },
      "source": [
        "history2_df=pd.DataFrame(history_dict2)\n",
        "history2_df.tail().round(3)"
      ],
      "execution_count": null,
      "outputs": [
        {
          "output_type": "execute_result",
          "data": {
            "text/html": [
              "<div>\n",
              "<style scoped>\n",
              "    .dataframe tbody tr th:only-of-type {\n",
              "        vertical-align: middle;\n",
              "    }\n",
              "\n",
              "    .dataframe tbody tr th {\n",
              "        vertical-align: top;\n",
              "    }\n",
              "\n",
              "    .dataframe thead th {\n",
              "        text-align: right;\n",
              "    }\n",
              "</style>\n",
              "<table border=\"1\" class=\"dataframe\">\n",
              "  <thead>\n",
              "    <tr style=\"text-align: right;\">\n",
              "      <th></th>\n",
              "      <th>loss</th>\n",
              "      <th>accuracy</th>\n",
              "      <th>val_loss</th>\n",
              "      <th>val_accuracy</th>\n",
              "    </tr>\n",
              "  </thead>\n",
              "  <tbody>\n",
              "    <tr>\n",
              "      <th>2</th>\n",
              "      <td>0.492</td>\n",
              "      <td>0.834</td>\n",
              "      <td>0.464</td>\n",
              "      <td>0.843</td>\n",
              "    </tr>\n",
              "    <tr>\n",
              "      <th>3</th>\n",
              "      <td>0.474</td>\n",
              "      <td>0.839</td>\n",
              "      <td>0.453</td>\n",
              "      <td>0.835</td>\n",
              "    </tr>\n",
              "    <tr>\n",
              "      <th>4</th>\n",
              "      <td>0.455</td>\n",
              "      <td>0.845</td>\n",
              "      <td>0.455</td>\n",
              "      <td>0.846</td>\n",
              "    </tr>\n",
              "    <tr>\n",
              "      <th>5</th>\n",
              "      <td>0.443</td>\n",
              "      <td>0.849</td>\n",
              "      <td>0.477</td>\n",
              "      <td>0.839</td>\n",
              "    </tr>\n",
              "    <tr>\n",
              "      <th>6</th>\n",
              "      <td>0.453</td>\n",
              "      <td>0.845</td>\n",
              "      <td>0.516</td>\n",
              "      <td>0.819</td>\n",
              "    </tr>\n",
              "  </tbody>\n",
              "</table>\n",
              "</div>"
            ],
            "text/plain": [
              "    loss  accuracy  val_loss  val_accuracy\n",
              "2  0.492     0.834     0.464         0.843\n",
              "3  0.474     0.839     0.453         0.835\n",
              "4  0.455     0.845     0.455         0.846\n",
              "5  0.443     0.849     0.477         0.839\n",
              "6  0.453     0.845     0.516         0.819"
            ]
          },
          "metadata": {},
          "execution_count": 53
        }
      ]
    },
    {
      "cell_type": "code",
      "metadata": {
        "id": "fIbEefyO8QJz"
      },
      "source": [
        "losses = history2.history['loss']\n",
        "accs = history2.history['accuracy']\n",
        "val_losses = history2.history['val_loss']\n",
        "val_accs = history2.history['val_accuracy']\n",
        "epochs = len(losses)"
      ],
      "execution_count": null,
      "outputs": []
    },
    {
      "cell_type": "code",
      "metadata": {
        "colab": {
          "base_uri": "https://localhost:8080/",
          "height": 265
        },
        "id": "SgkDCM4f8QNd",
        "outputId": "0e161187-d7f6-483a-8be7-bd90aafa259d"
      },
      "source": [
        "plt.figure(figsize=(16, 4))\n",
        "for i, metrics in enumerate(zip([losses, accs], [val_losses, val_accs], ['Loss', 'Accuracy'])):\n",
        "    plt.subplot(1, 2, i + 1)\n",
        "    plt.plot(range(epochs), metrics[0], label='Training {}'.format(metrics[2]))\n",
        "    plt.plot(range(epochs), metrics[1], label='Validation {}'.format(metrics[2]))\n",
        "    plt.legend()\n",
        "plt.show()"
      ],
      "execution_count": null,
      "outputs": [
        {
          "output_type": "display_data",
          "data": {
            "image/png": "[encoded data removed]",
            "text/plain": [
              "<Figure size 1152x288 with 2 Axes>"
            ]
          },
          "metadata": {
            "needs_background": "light"
          }
        }
      ]
    },
    {
      "cell_type": "code",
      "metadata": {
        "id": "1iQ026QQ8QQ_"
      },
      "source": [
        "preds2 = model2.predict(test_dataset)"
      ],
      "execution_count": null,
      "outputs": []
    },
    {
      "cell_type": "code",
      "metadata": {
        "id": "RdeUa1yW8QV2"
      },
      "source": [
        "cm = sns.light_palette((260, 75, 60), input=\"husl\", as_cmap=True)"
      ],
      "execution_count": null,
      "outputs": []
    },
    {
      "cell_type": "code",
      "metadata": {
        "colab": {
          "base_uri": "https://localhost:8080/",
          "height": 173
        },
        "id": "t3FbiTOC-t1c",
        "outputId": "99adfb6b-ff6a-4aea-ef60-98768d8bc310"
      },
      "source": [
        "df = pd.DataFrame(preds2[0:15]\n",
        "                  ,columns = ['World','Sports','Business','Sci/Tech']).T\n",
        "df.style.format(\"{:.2%}\").background_gradient(cmap=cm)"
      ],
      "execution_count": null,
      "outputs": [
        {
          "output_type": "execute_result",
          "data": {
            "text/html": [
              "<style  type=\"text/css\" >\n",
              "#T_cf6d7786_39c5_11ec_82f6_0242ac1c0002row0_col0,#T_cf6d7786_39c5_11ec_82f6_0242ac1c0002row0_col6,#T_cf6d7786_39c5_11ec_82f6_0242ac1c0002row2_col4{\n",
              "            background-color:  #efeff2;\n",
              "            color:  #000000;\n",
              "        }#T_cf6d7786_39c5_11ec_82f6_0242ac1c0002row0_col1,#T_cf6d7786_39c5_11ec_82f6_0242ac1c0002row0_col4,#T_cf6d7786_39c5_11ec_82f6_0242ac1c0002row0_col8,#T_cf6d7786_39c5_11ec_82f6_0242ac1c0002row0_col10,#T_cf6d7786_39c5_11ec_82f6_0242ac1c0002row0_col13,#T_cf6d7786_39c5_11ec_82f6_0242ac1c0002row0_col14,#T_cf6d7786_39c5_11ec_82f6_0242ac1c0002row1_col0,#T_cf6d7786_39c5_11ec_82f6_0242ac1c0002row1_col3,#T_cf6d7786_39c5_11ec_82f6_0242ac1c0002row1_col6,#T_cf6d7786_39c5_11ec_82f6_0242ac1c0002row1_col7,#T_cf6d7786_39c5_11ec_82f6_0242ac1c0002row2_col9,#T_cf6d7786_39c5_11ec_82f6_0242ac1c0002row2_col12,#T_cf6d7786_39c5_11ec_82f6_0242ac1c0002row3_col2,#T_cf6d7786_39c5_11ec_82f6_0242ac1c0002row3_col5,#T_cf6d7786_39c5_11ec_82f6_0242ac1c0002row3_col11{\n",
              "            background-color:  #778ce4;\n",
              "            color:  #000000;\n",
              "        }#T_cf6d7786_39c5_11ec_82f6_0242ac1c0002row0_col2,#T_cf6d7786_39c5_11ec_82f6_0242ac1c0002row0_col11,#T_cf6d7786_39c5_11ec_82f6_0242ac1c0002row1_col1,#T_cf6d7786_39c5_11ec_82f6_0242ac1c0002row1_col2,#T_cf6d7786_39c5_11ec_82f6_0242ac1c0002row1_col4,#T_cf6d7786_39c5_11ec_82f6_0242ac1c0002row1_col5,#T_cf6d7786_39c5_11ec_82f6_0242ac1c0002row1_col8,#T_cf6d7786_39c5_11ec_82f6_0242ac1c0002row1_col9,#T_cf6d7786_39c5_11ec_82f6_0242ac1c0002row1_col10,#T_cf6d7786_39c5_11ec_82f6_0242ac1c0002row1_col11,#T_cf6d7786_39c5_11ec_82f6_0242ac1c0002row1_col12,#T_cf6d7786_39c5_11ec_82f6_0242ac1c0002row1_col14,#T_cf6d7786_39c5_11ec_82f6_0242ac1c0002row2_col0,#T_cf6d7786_39c5_11ec_82f6_0242ac1c0002row2_col3,#T_cf6d7786_39c5_11ec_82f6_0242ac1c0002row2_col6,#T_cf6d7786_39c5_11ec_82f6_0242ac1c0002row2_col7,#T_cf6d7786_39c5_11ec_82f6_0242ac1c0002row2_col13,#T_cf6d7786_39c5_11ec_82f6_0242ac1c0002row3_col0,#T_cf6d7786_39c5_11ec_82f6_0242ac1c0002row3_col1,#T_cf6d7786_39c5_11ec_82f6_0242ac1c0002row3_col3,#T_cf6d7786_39c5_11ec_82f6_0242ac1c0002row3_col4,#T_cf6d7786_39c5_11ec_82f6_0242ac1c0002row3_col6,#T_cf6d7786_39c5_11ec_82f6_0242ac1c0002row3_col8,#T_cf6d7786_39c5_11ec_82f6_0242ac1c0002row3_col10,#T_cf6d7786_39c5_11ec_82f6_0242ac1c0002row3_col14{\n",
              "            background-color:  #f0f1f2;\n",
              "            color:  #000000;\n",
              "        }#T_cf6d7786_39c5_11ec_82f6_0242ac1c0002row0_col3,#T_cf6d7786_39c5_11ec_82f6_0242ac1c0002row0_col12{\n",
              "            background-color:  #edeef2;\n",
              "            color:  #000000;\n",
              "        }#T_cf6d7786_39c5_11ec_82f6_0242ac1c0002row0_col5,#T_cf6d7786_39c5_11ec_82f6_0242ac1c0002row2_col8{\n",
              "            background-color:  #eff0f2;\n",
              "            color:  #000000;\n",
              "        }#T_cf6d7786_39c5_11ec_82f6_0242ac1c0002row0_col7{\n",
              "            background-color:  #d7dcef;\n",
              "            color:  #000000;\n",
              "        }#T_cf6d7786_39c5_11ec_82f6_0242ac1c0002row0_col9{\n",
              "            background-color:  #ecedf2;\n",
              "            color:  #000000;\n",
              "        }#T_cf6d7786_39c5_11ec_82f6_0242ac1c0002row1_col13{\n",
              "            background-color:  #e5e7f1;\n",
              "            color:  #000000;\n",
              "        }#T_cf6d7786_39c5_11ec_82f6_0242ac1c0002row2_col1,#T_cf6d7786_39c5_11ec_82f6_0242ac1c0002row2_col10,#T_cf6d7786_39c5_11ec_82f6_0242ac1c0002row3_col12{\n",
              "            background-color:  #f0f0f2;\n",
              "            color:  #000000;\n",
              "        }#T_cf6d7786_39c5_11ec_82f6_0242ac1c0002row2_col2,#T_cf6d7786_39c5_11ec_82f6_0242ac1c0002row2_col11{\n",
              "            background-color:  #eaebf1;\n",
              "            color:  #000000;\n",
              "        }#T_cf6d7786_39c5_11ec_82f6_0242ac1c0002row2_col5{\n",
              "            background-color:  #d6daef;\n",
              "            color:  #000000;\n",
              "        }#T_cf6d7786_39c5_11ec_82f6_0242ac1c0002row2_col14,#T_cf6d7786_39c5_11ec_82f6_0242ac1c0002row3_col7{\n",
              "            background-color:  #eeeff2;\n",
              "            color:  #000000;\n",
              "        }#T_cf6d7786_39c5_11ec_82f6_0242ac1c0002row3_col9{\n",
              "            background-color:  #b4bfeb;\n",
              "            color:  #000000;\n",
              "        }#T_cf6d7786_39c5_11ec_82f6_0242ac1c0002row3_col13{\n",
              "            background-color:  #ebecf2;\n",
              "            color:  #000000;\n",
              "        }</style><table id=\"T_cf6d7786_39c5_11ec_82f6_0242ac1c0002\" class=\"dataframe\"><thead>    <tr>        <th class=\"blank level0\" ></th>        <th class=\"col_heading level0 col0\" >0</th>        <th class=\"col_heading level0 col1\" >1</th>        <th class=\"col_heading level0 col2\" >2</th>        <th class=\"col_heading level0 col3\" >3</th>        <th class=\"col_heading level0 col4\" >4</th>        <th class=\"col_heading level0 col5\" >5</th>        <th class=\"col_heading level0 col6\" >6</th>        <th class=\"col_heading level0 col7\" >7</th>        <th class=\"col_heading level0 col8\" >8</th>        <th class=\"col_heading level0 col9\" >9</th>        <th class=\"col_heading level0 col10\" >10</th>        <th class=\"col_heading level0 col11\" >11</th>        <th class=\"col_heading level0 col12\" >12</th>        <th class=\"col_heading level0 col13\" >13</th>        <th class=\"col_heading level0 col14\" >14</th>    </tr></thead><tbody>\n",
              "                <tr>\n",
              "                        <th id=\"T_cf6d7786_39c5_11ec_82f6_0242ac1c0002level0_row0\" class=\"row_heading level0 row0\" >World</th>\n",
              "                        <td id=\"T_cf6d7786_39c5_11ec_82f6_0242ac1c0002row0_col0\" class=\"data row0 col0\" >1.24%</td>\n",
              "                        <td id=\"T_cf6d7786_39c5_11ec_82f6_0242ac1c0002row0_col1\" class=\"data row0 col1\" >99.14%</td>\n",
              "                        <td id=\"T_cf6d7786_39c5_11ec_82f6_0242ac1c0002row0_col2\" class=\"data row0 col2\" >0.20%</td>\n",
              "                        <td id=\"T_cf6d7786_39c5_11ec_82f6_0242ac1c0002row0_col3\" class=\"data row0 col3\" >2.65%</td>\n",
              "                        <td id=\"T_cf6d7786_39c5_11ec_82f6_0242ac1c0002row0_col4\" class=\"data row0 col4\" >98.28%</td>\n",
              "                        <td id=\"T_cf6d7786_39c5_11ec_82f6_0242ac1c0002row0_col5\" class=\"data row0 col5\" >2.15%</td>\n",
              "                        <td id=\"T_cf6d7786_39c5_11ec_82f6_0242ac1c0002row0_col6\" class=\"data row0 col6\" >1.44%</td>\n",
              "                        <td id=\"T_cf6d7786_39c5_11ec_82f6_0242ac1c0002row0_col7\" class=\"data row0 col7\" >17.17%</td>\n",
              "                        <td id=\"T_cf6d7786_39c5_11ec_82f6_0242ac1c0002row0_col8\" class=\"data row0 col8\" >98.75%</td>\n",
              "                        <td id=\"T_cf6d7786_39c5_11ec_82f6_0242ac1c0002row0_col9\" class=\"data row0 col9\" >2.48%</td>\n",
              "                        <td id=\"T_cf6d7786_39c5_11ec_82f6_0242ac1c0002row0_col10\" class=\"data row0 col10\" >99.30%</td>\n",
              "                        <td id=\"T_cf6d7786_39c5_11ec_82f6_0242ac1c0002row0_col11\" class=\"data row0 col11\" >0.41%</td>\n",
              "                        <td id=\"T_cf6d7786_39c5_11ec_82f6_0242ac1c0002row0_col12\" class=\"data row0 col12\" >2.77%</td>\n",
              "                        <td id=\"T_cf6d7786_39c5_11ec_82f6_0242ac1c0002row0_col13\" class=\"data row0 col13\" >83.48%</td>\n",
              "                        <td id=\"T_cf6d7786_39c5_11ec_82f6_0242ac1c0002row0_col14\" class=\"data row0 col14\" >98.16%</td>\n",
              "            </tr>\n",
              "            <tr>\n",
              "                        <th id=\"T_cf6d7786_39c5_11ec_82f6_0242ac1c0002level0_row1\" class=\"row_heading level0 row1\" >Sports</th>\n",
              "                        <td id=\"T_cf6d7786_39c5_11ec_82f6_0242ac1c0002row1_col0\" class=\"data row1 col0\" >98.71%</td>\n",
              "                        <td id=\"T_cf6d7786_39c5_11ec_82f6_0242ac1c0002row1_col1\" class=\"data row1 col1\" >0.00%</td>\n",
              "                        <td id=\"T_cf6d7786_39c5_11ec_82f6_0242ac1c0002row1_col2\" class=\"data row1 col2\" >0.03%</td>\n",
              "                        <td id=\"T_cf6d7786_39c5_11ec_82f6_0242ac1c0002row1_col3\" class=\"data row1 col3\" >97.21%</td>\n",
              "                        <td id=\"T_cf6d7786_39c5_11ec_82f6_0242ac1c0002row1_col4\" class=\"data row1 col4\" >0.00%</td>\n",
              "                        <td id=\"T_cf6d7786_39c5_11ec_82f6_0242ac1c0002row1_col5\" class=\"data row1 col5\" >1.27%</td>\n",
              "                        <td id=\"T_cf6d7786_39c5_11ec_82f6_0242ac1c0002row1_col6\" class=\"data row1 col6\" >98.47%</td>\n",
              "                        <td id=\"T_cf6d7786_39c5_11ec_82f6_0242ac1c0002row1_col7\" class=\"data row1 col7\" >79.20%</td>\n",
              "                        <td id=\"T_cf6d7786_39c5_11ec_82f6_0242ac1c0002row1_col8\" class=\"data row1 col8\" >0.01%</td>\n",
              "                        <td id=\"T_cf6d7786_39c5_11ec_82f6_0242ac1c0002row1_col9\" class=\"data row1 col9\" >0.33%</td>\n",
              "                        <td id=\"T_cf6d7786_39c5_11ec_82f6_0242ac1c0002row1_col10\" class=\"data row1 col10\" >0.01%</td>\n",
              "                        <td id=\"T_cf6d7786_39c5_11ec_82f6_0242ac1c0002row1_col11\" class=\"data row1 col11\" >0.18%</td>\n",
              "                        <td id=\"T_cf6d7786_39c5_11ec_82f6_0242ac1c0002row1_col12\" class=\"data row1 col12\" >0.00%</td>\n",
              "                        <td id=\"T_cf6d7786_39c5_11ec_82f6_0242ac1c0002row1_col13\" class=\"data row1 col13\" >9.35%</td>\n",
              "                        <td id=\"T_cf6d7786_39c5_11ec_82f6_0242ac1c0002row1_col14\" class=\"data row1 col14\" >0.01%</td>\n",
              "            </tr>\n",
              "            <tr>\n",
              "                        <th id=\"T_cf6d7786_39c5_11ec_82f6_0242ac1c0002level0_row2\" class=\"row_heading level0 row2\" >Business</th>\n",
              "                        <td id=\"T_cf6d7786_39c5_11ec_82f6_0242ac1c0002row2_col0\" class=\"data row2 col0\" >0.02%</td>\n",
              "                        <td id=\"T_cf6d7786_39c5_11ec_82f6_0242ac1c0002row2_col1\" class=\"data row2 col1\" >0.68%</td>\n",
              "                        <td id=\"T_cf6d7786_39c5_11ec_82f6_0242ac1c0002row2_col2\" class=\"data row2 col2\" >5.40%</td>\n",
              "                        <td id=\"T_cf6d7786_39c5_11ec_82f6_0242ac1c0002row2_col3\" class=\"data row2 col3\" >0.07%</td>\n",
              "                        <td id=\"T_cf6d7786_39c5_11ec_82f6_0242ac1c0002row2_col4\" class=\"data row2 col4\" >1.51%</td>\n",
              "                        <td id=\"T_cf6d7786_39c5_11ec_82f6_0242ac1c0002row2_col5\" class=\"data row2 col5\" >18.17%</td>\n",
              "                        <td id=\"T_cf6d7786_39c5_11ec_82f6_0242ac1c0002row2_col6\" class=\"data row2 col6\" >0.03%</td>\n",
              "                        <td id=\"T_cf6d7786_39c5_11ec_82f6_0242ac1c0002row2_col7\" class=\"data row2 col7\" >1.11%</td>\n",
              "                        <td id=\"T_cf6d7786_39c5_11ec_82f6_0242ac1c0002row2_col8\" class=\"data row2 col8\" >1.07%</td>\n",
              "                        <td id=\"T_cf6d7786_39c5_11ec_82f6_0242ac1c0002row2_col9\" class=\"data row2 col9\" >64.90%</td>\n",
              "                        <td id=\"T_cf6d7786_39c5_11ec_82f6_0242ac1c0002row2_col10\" class=\"data row2 col10\" >0.51%</td>\n",
              "                        <td id=\"T_cf6d7786_39c5_11ec_82f6_0242ac1c0002row2_col11\" class=\"data row2 col11\" >5.32%</td>\n",
              "                        <td id=\"T_cf6d7786_39c5_11ec_82f6_0242ac1c0002row2_col12\" class=\"data row2 col12\" >96.64%</td>\n",
              "                        <td id=\"T_cf6d7786_39c5_11ec_82f6_0242ac1c0002row2_col13\" class=\"data row2 col13\" >1.62%</td>\n",
              "                        <td id=\"T_cf6d7786_39c5_11ec_82f6_0242ac1c0002row2_col14\" class=\"data row2 col14\" >1.63%</td>\n",
              "            </tr>\n",
              "            <tr>\n",
              "                        <th id=\"T_cf6d7786_39c5_11ec_82f6_0242ac1c0002level0_row3\" class=\"row_heading level0 row3\" >Sci/Tech</th>\n",
              "                        <td id=\"T_cf6d7786_39c5_11ec_82f6_0242ac1c0002row3_col0\" class=\"data row3 col0\" >0.03%</td>\n",
              "                        <td id=\"T_cf6d7786_39c5_11ec_82f6_0242ac1c0002row3_col1\" class=\"data row3 col1\" >0.17%</td>\n",
              "                        <td id=\"T_cf6d7786_39c5_11ec_82f6_0242ac1c0002row3_col2\" class=\"data row3 col2\" >94.37%</td>\n",
              "                        <td id=\"T_cf6d7786_39c5_11ec_82f6_0242ac1c0002row3_col3\" class=\"data row3 col3\" >0.07%</td>\n",
              "                        <td id=\"T_cf6d7786_39c5_11ec_82f6_0242ac1c0002row3_col4\" class=\"data row3 col4\" >0.20%</td>\n",
              "                        <td id=\"T_cf6d7786_39c5_11ec_82f6_0242ac1c0002row3_col5\" class=\"data row3 col5\" >78.41%</td>\n",
              "                        <td id=\"T_cf6d7786_39c5_11ec_82f6_0242ac1c0002row3_col6\" class=\"data row3 col6\" >0.06%</td>\n",
              "                        <td id=\"T_cf6d7786_39c5_11ec_82f6_0242ac1c0002row3_col7\" class=\"data row3 col7\" >2.53%</td>\n",
              "                        <td id=\"T_cf6d7786_39c5_11ec_82f6_0242ac1c0002row3_col8\" class=\"data row3 col8\" >0.17%</td>\n",
              "                        <td id=\"T_cf6d7786_39c5_11ec_82f6_0242ac1c0002row3_col9\" class=\"data row3 col9\" >32.28%</td>\n",
              "                        <td id=\"T_cf6d7786_39c5_11ec_82f6_0242ac1c0002row3_col10\" class=\"data row3 col10\" >0.18%</td>\n",
              "                        <td id=\"T_cf6d7786_39c5_11ec_82f6_0242ac1c0002row3_col11\" class=\"data row3 col11\" >94.09%</td>\n",
              "                        <td id=\"T_cf6d7786_39c5_11ec_82f6_0242ac1c0002row3_col12\" class=\"data row3 col12\" >0.58%</td>\n",
              "                        <td id=\"T_cf6d7786_39c5_11ec_82f6_0242ac1c0002row3_col13\" class=\"data row3 col13\" >5.55%</td>\n",
              "                        <td id=\"T_cf6d7786_39c5_11ec_82f6_0242ac1c0002row3_col14\" class=\"data row3 col14\" >0.20%</td>\n",
              "            </tr>\n",
              "    </tbody></table>"
            ],
            "text/plain": [
              "<pandas.io.formats.style.Styler at 0x7fad0d17db50>"
            ]
          },
          "metadata": {},
          "execution_count": 58
        }
      ]
    }
  ]
}