{
  "nbformat": 4,
  "nbformat_minor": 0,
  "metadata": {
    "colab": {
      "name": "Exp D Assignment 3.ipynb",
      "provenance": [],
      "collapsed_sections": []
    },
    "kernelspec": {
      "name": "python3",
      "display_name": "Python 3"
    },
    "language_info": {
      "name": "python"
    }
  },
  "cells": [
    {
      "cell_type": "code",
      "metadata": {
        "id": "Ns1F_FT_MhPm"
      },
      "source": [
        "import datetime\n",
        "from packaging import version\n",
        "from collections import Counter\n",
        "import numpy as np\n",
        "import pandas as pd\n",
        "import time\n",
        "\n",
        "import matplotlib.pyplot as plt\n",
        "import matplotlib as mpl\n",
        "import seaborn as sns\n",
        "\n",
        "from sklearn.metrics import confusion_matrix, classification_report\n",
        "from sklearn.preprocessing import StandardScaler\n",
        "from sklearn.decomposition import PCA\n",
        "from sklearn.manifold import TSNE\n",
        "from sklearn.ensemble import RandomForestClassifier\n",
        "from sklearn.metrics import mean_squared_error as MSE\n",
        "from sklearn.metrics import accuracy_score\n",
        "\n",
        "import tensorflow as tf\n",
        "from tensorflow import keras\n",
        "import tensorflow_datasets as tfds"
      ],
      "execution_count": 1,
      "outputs": []
    },
    {
      "cell_type": "code",
      "metadata": {
        "id": "KXPP4Ib8MonL"
      },
      "source": [
        "#tf.get_logger().setLevel('INFO')"
      ],
      "execution_count": null,
      "outputs": []
    },
    {
      "cell_type": "code",
      "metadata": {
        "id": "tbejjF1cMoun"
      },
      "source": [
        "%matplotlib inline\n",
        "np.set_printoptions(precision=3, suppress=True)"
      ],
      "execution_count": 2,
      "outputs": []
    },
    {
      "cell_type": "code",
      "metadata": {
        "colab": {
          "base_uri": "https://localhost:8080/"
        },
        "id": "X5lb1ADOMo17",
        "outputId": "07add6bf-7655-4ae6-c2fb-c69508201303"
      },
      "source": [
        "print(\"This notebook requires TensorFlow 2.0 or above\")\n",
        "print(\"TensorFlow version: \", tf.__version__)\n",
        "assert version.parse(tf.__version__).release[0] >=2"
      ],
      "execution_count": 3,
      "outputs": [
        {
          "output_type": "stream",
          "name": "stdout",
          "text": [
            "This notebook requires TensorFlow 2.0 or above\n",
            "TensorFlow version:  2.6.0\n"
          ]
        }
      ]
    },
    {
      "cell_type": "code",
      "metadata": {
        "colab": {
          "base_uri": "https://localhost:8080/"
        },
        "id": "c8HNHKk5MzN4",
        "outputId": "f23f7a3b-be93-4d62-86cd-6a68efbf0273"
      },
      "source": [
        "print(\"Keras version: \", keras.__version__)"
      ],
      "execution_count": 4,
      "outputs": [
        {
          "output_type": "stream",
          "name": "stdout",
          "text": [
            "Keras version:  2.6.0\n"
          ]
        }
      ]
    },
    {
      "cell_type": "markdown",
      "metadata": {
        "id": "2RS8e_yAM45i"
      },
      "source": [
        "**Functions**"
      ]
    },
    {
      "cell_type": "code",
      "metadata": {
        "id": "FyCFP46uMzUK"
      },
      "source": [
        "def print_validation_report(test_labels, predictions):\n",
        "    print(\"Classification Report\")\n",
        "    print(classification_report(test_labels, predictions))\n",
        "    print('Accuracy Score: {}'.format(accuracy_score(test_labels, predictions)))\n",
        "    print('Root Mean Square Error: {}'.format(np.sqrt(MSE(test_labels, predictions))))"
      ],
      "execution_count": 5,
      "outputs": []
    },
    {
      "cell_type": "code",
      "metadata": {
        "id": "gf1w9VN5MzZD"
      },
      "source": [
        "def plot_confusion_matrix(y_true, y_pred):\n",
        "    mtx = confusion_matrix(y_true, y_pred)\n",
        "    fig, ax = plt.subplots(figsize=(8,8))\n",
        "    sns.heatmap(mtx, annot=True, fmt='d', linewidths=.75,  cbar=False, ax=ax,cmap='Blues',linecolor='white')\n",
        "    #  square=True,\n",
        "    plt.ylabel('true label')\n",
        "    plt.xlabel('predicted label')"
      ],
      "execution_count": 6,
      "outputs": []
    },
    {
      "cell_type": "code",
      "metadata": {
        "id": "hB1OgEGcMzd9"
      },
      "source": [
        "def plot_graphs(history, metric):\n",
        "  plt.plot(history.history[metric])\n",
        "  plt.plot(history.history['val_'+metric], '')\n",
        "  plt.xlabel(\"Epochs\")\n",
        "  plt.ylabel(metric)\n",
        "  plt.legend([metric, 'val_'+metric])"
      ],
      "execution_count": 7,
      "outputs": []
    },
    {
      "cell_type": "markdown",
      "metadata": {
        "id": "0BPdaGYzNNeb"
      },
      "source": [
        "**Mount Google Drive**"
      ]
    },
    {
      "cell_type": "code",
      "metadata": {
        "id": "xVcLDywfMzlA"
      },
      "source": [
        "#from google.colab import drive\n",
        "#drive.mount('/content/gdrive')"
      ],
      "execution_count": 8,
      "outputs": []
    },
    {
      "cell_type": "markdown",
      "metadata": {
        "id": "t5PPgCOQNWwI"
      },
      "source": [
        "**TensorFlow Datasets Information**"
      ]
    },
    {
      "cell_type": "markdown",
      "metadata": {
        "id": "lRx0RW-FN0Qs"
      },
      "source": [
        "Get all the words in the documents (as well as the number of words in each document) by using the encoder to get the indices associated with each token and then translating the indices to tokens. But first we need to get the \"unpadded\" new articles so that we can get their length."
      ]
    },
    {
      "cell_type": "code",
      "metadata": {
        "colab": {
          "base_uri": "https://localhost:8080/"
        },
        "id": "nQ8OSXjdMzqe",
        "outputId": "a21ae280-963f-4320-eee8-d86c345d2f85"
      },
      "source": [
        "#register  ag_news_subset so that tfds.load doesn't generate a checksum (mismatch) error\n",
        "!python -m tensorflow_datasets.scripts.download_and_prepare --register_checksums --datasets=ag_news_subset\n",
        "\n",
        "# https://www.tensorflow.org/datasets/splits\n",
        "# The full `train` and `test` splits, interleaved together.\n",
        "ri = tfds.core.ReadInstruction('train') + tfds.core.ReadInstruction('test')\n",
        "dataset_all, info = tfds.load('ag_news_subset', with_info=True,  split=ri, as_supervised=True)"
      ],
      "execution_count": 9,
      "outputs": [
        {
          "output_type": "stream",
          "name": "stdout",
          "text": [
            "2021-11-06 00:26:37.119247: E tensorflow/stream_executor/cuda/cuda_driver.cc:271] failed call to cuInit: CUDA_ERROR_NO_DEVICE: no CUDA-capable device is detected\n",
            "2021-11-06 00:26:37.119327: I tensorflow/stream_executor/cuda/cuda_diagnostics.cc:156] kernel driver does not appear to be running on this host (ff01afa30587): /proc/driver/nvidia/version does not exist\n",
            "I1106 00:26:37.119630 139904149936000 download_and_prepare.py:200] Running download_and_prepare for dataset(s):\n",
            "ag_news_subset\n",
            "2021-11-06 00:26:37.131021: I tensorflow/core/platform/cloud/google_auth_provider.cc:180] Attempting an empty bearer token since no token was retrieved from files, and GCE metadata check was skipped.\n",
            "2021-11-06 00:26:37.186287: I tensorflow/core/platform/cloud/google_auth_provider.cc:180] Attempting an empty bearer token since no token was retrieved from files, and GCE metadata check was skipped.\n",
            "2021-11-06 00:26:37.226059: I tensorflow/core/platform/cloud/google_auth_provider.cc:180] Attempting an empty bearer token since no token was retrieved from files, and GCE metadata check was skipped.\n",
            "I1106 00:26:37.278837 139904149936000 dataset_info.py:434] Load pre-computed DatasetInfo (eg: splits, num examples,...) from GCS: ag_news_subset/1.0.0\n",
            "2021-11-06 00:26:37.304904: I tensorflow/core/platform/cloud/google_auth_provider.cc:180] Attempting an empty bearer token since no token was retrieved from files, and GCE metadata check was skipped.\n",
            "2021-11-06 00:26:37.377170: I tensorflow/core/platform/cloud/google_auth_provider.cc:180] Attempting an empty bearer token since no token was retrieved from files, and GCE metadata check was skipped.\n",
            "I1106 00:26:37.452979 139904149936000 dataset_info.py:361] Load dataset info from /tmp/tmp118cuh77tfds\n",
            "I1106 00:26:37.455103 139904149936000 download_and_prepare.py:138] download_and_prepare for dataset ag_news_subset/1.0.0...\n",
            "I1106 00:26:37.455729 139904149936000 dataset_builder.py:357] Generating dataset ag_news_subset (/root/tensorflow_datasets/ag_news_subset/1.0.0)\n",
            "\u001b[1mDownloading and preparing dataset ag_news_subset/1.0.0 (download: 11.24 MiB, generated: 35.79 MiB, total: 47.03 MiB) to /root/tensorflow_datasets/ag_news_subset/1.0.0...\u001b[0m\n",
            "2021-11-06 00:26:37.674166: I tensorflow/core/platform/cloud/google_auth_provider.cc:180] Attempting an empty bearer token since no token was retrieved from files, and GCE metadata check was skipped.\n",
            "2021-11-06 00:26:37.717688: I tensorflow/core/platform/cloud/google_auth_provider.cc:180] Attempting an empty bearer token since no token was retrieved from files, and GCE metadata check was skipped.\n",
            "Dl Completed...: 0 url [00:00, ? url/s]\n",
            "Dl Size...: 0 MiB [00:00, ? MiB/s]\u001b[A\n",
            "\n",
            "Extraction completed...: 0 file [00:00, ? file/s]\u001b[A\u001b[AI1106 00:26:37.765598 139904149936000 download_manager.py:476] Downloading https://drive.google.com/uc?export=download&id=0Bz8a_Dbh9QhbUDNpeUdjb0wxRms into /root/tensorflow_datasets/downloads/ucexport_download_id_0Bz8a_Dbh9QhbUDNpeUdjb0wxj4g1umFAV8OV-uDwxSJR0LdxO_k1jxMuFWwAfNX9jos.tmp.031a4678734b48218baaf0e97543a8f4...\n",
            "Dl Completed...:   0% 0/1 [00:00<?, ? url/s]\n",
            "Dl Size...: 0 MiB [00:00, ? MiB/s]\u001b[A\n",
            "\n",
            "Dl Completed...:   0% 0/1 [00:24<?, ? url/s]\n",
            "Dl Size...:   0% 0/11 [00:24<?, ? MiB/s]\u001b[A\n",
            "\n",
            "Extraction completed...: 0 file [00:24, ? file/s]\u001b[A\u001b[A\n",
            "Dl Completed...:   0% 0/1 [00:24<?, ? url/s]\n",
            "Dl Size...:   9% 1/11 [00:24<04:02, 24.23s/ MiB]\u001b[A\n",
            "\n",
            "Dl Completed...:   0% 0/1 [00:24<?, ? url/s]\n",
            "Dl Size...:  18% 2/11 [00:24<03:38, 24.23s/ MiB]\u001b[A\n",
            "\n",
            "Dl Completed...:   0% 0/1 [00:24<?, ? url/s]\n",
            "Dl Size...:  27% 3/11 [00:24<03:13, 24.23s/ MiB]\u001b[A\n",
            "\n",
            "Dl Completed...:   0% 0/1 [00:24<?, ? url/s]\n",
            "Dl Size...:  36% 4/11 [00:24<02:49, 24.23s/ MiB]\u001b[A\n",
            "\n",
            "Dl Completed...:   0% 0/1 [00:24<?, ? url/s]\n",
            "Dl Size...:  45% 5/11 [00:24<02:25, 24.23s/ MiB]\u001b[A\n",
            "\n",
            "Dl Completed...:   0% 0/1 [00:24<?, ? url/s]\n",
            "Dl Size...:  55% 6/11 [00:24<02:01, 24.23s/ MiB]\u001b[A\n",
            "\n",
            "Extraction completed...: 0 file [00:24, ? file/s]\u001b[A\u001b[A\n",
            "Dl Completed...:   0% 0/1 [00:24<?, ? url/s]\n",
            "Dl Size...:  64% 7/11 [00:24<00:10,  2.55s/ MiB]\u001b[A\n",
            "\n",
            "Dl Completed...:   0% 0/1 [00:24<?, ? url/s]\n",
            "Dl Size...:  73% 8/11 [00:24<00:07,  2.55s/ MiB]\u001b[A\n",
            "\n",
            "Dl Completed...:   0% 0/1 [00:24<?, ? url/s]\n",
            "Dl Size...:  82% 9/11 [00:24<00:05,  2.55s/ MiB]\u001b[A\n",
            "\n",
            "Dl Completed...:   0% 0/1 [00:24<?, ? url/s]\n",
            "Dl Size...:  91% 10/11 [00:24<00:02,  2.55s/ MiB]\u001b[A\n",
            "\n",
            "Dl Completed...:   0% 0/1 [00:24<?, ? url/s]\n",
            "Dl Size...: 100% 11/11 [00:24<00:00,  2.55s/ MiB]\u001b[A\n",
            "\n",
            "Dl Completed...: 100% 1/1 [00:24<00:00, 24.42s/ url]\n",
            "Dl Size...: 100% 11/11 [00:24<00:00,  2.55s/ MiB]\u001b[A\n",
            "\n",
            "Dl Completed...: 100% 1/1 [00:24<00:00, 24.42s/ url]\n",
            "Dl Size...: 100% 11/11 [00:24<00:00,  2.55s/ MiB]\u001b[A\n",
            "\n",
            "Extraction completed...:   0% 0/1 [00:24<?, ? file/s]\u001b[A\u001b[A\n",
            "\n",
            "Dl Completed...: 100% 1/1 [00:24<00:00, 24.42s/ url]\n",
            "Dl Size...: 100% 11/11 [00:24<00:00,  2.55s/ MiB]\u001b[A\n",
            "\n",
            "Extraction completed...: 100% 1/1 [00:24<00:00, 24.89s/ file]\u001b[A\u001b[A\n",
            "Extraction completed...: 100% 1/1 [00:24<00:00, 24.89s/ file]\n",
            "\n",
            "Dl Size...: 100% 11/11 [00:24<00:00,  2.26s/ MiB]\n",
            "\n",
            "Dl Completed...: 100% 1/1 [00:24<00:00, 24.89s/ url]\n",
            "I1106 00:27:02.651543 139904149936000 dataset_builder.py:970] Generating split train\n",
            "Shuffling and writing examples to /root/tensorflow_datasets/ag_news_subset/1.0.0.incomplete2EZHG4/ag_news_subset-train.tfrecord\n",
            " 81% 96658/120000 [00:00<00:00, 263409.64 examples/s]I1106 00:27:37.370396 139904149936000 tfrecords_writer.py:226] Done writing /root/tensorflow_datasets/ag_news_subset/1.0.0.incomplete2EZHG4/ag_news_subset-train.tfrecord. Shard lengths: [120000]\n",
            "I1106 00:27:37.390988 139904149936000 dataset_builder.py:970] Generating split test\n",
            "Shuffling and writing examples to /root/tensorflow_datasets/ag_news_subset/1.0.0.incomplete2EZHG4/ag_news_subset-test.tfrecord\n",
            "  0% 0/7600 [00:00<?, ? examples/s]I1106 00:27:39.537500 139904149936000 tfrecords_writer.py:226] Done writing /root/tensorflow_datasets/ag_news_subset/1.0.0.incomplete2EZHG4/ag_news_subset-test.tfrecord. Shard lengths: [7600]\n",
            "I1106 00:27:39.539821 139904149936000 dataset_builder.py:412] Skipping computing stats for mode ComputeStatsMode.SKIP.\n",
            "\u001b[1mDataset ag_news_subset downloaded and prepared to /root/tensorflow_datasets/ag_news_subset/1.0.0. Subsequent calls will reuse this data.\u001b[0m\n",
            "\u001b[1mname: \"ag_news_subset\"\n",
            "description: \"AG is a collection of more than 1 million news articles.\\nNews articles have been gathered from more than 2000  news sources by ComeToMyHead in more than 1 year of activity.\\nComeToMyHead is an academic news search engine which has been running since July, 2004.\\nThe dataset is provided by the academic comunity for research purposes in data mining (clustering, classification, etc),\\ninformation retrieval (ranking, search, etc), xml, data compression, data streaming,\\nand any other non-commercial activity.\\nFor more information, please refer to the link http://www.di.unipi.it/~gulli/AG_corpus_of_news_articles.html .\\n\\nThe AG\\'s news topic classification dataset is constructed by Xiang Zhang (xiang.zhang@nyu.edu) from the dataset above.\\nIt is used as a text classification benchmark in the following paper:\\nXiang Zhang, Junbo Zhao, Yann LeCun. Character-level Convolutional Networks for Text Classification. Advances in Neural Information Processing Systems 28 (NIPS 2015).\\n\\nThe AG\\'s news topic classification dataset is constructed by choosing 4 largest classes from the original corpus.\\nEach class contains 30,000 training samples and 1,900 testing samples.\\nThe total number of training samples is 120,000 and testing 7,600.\"\n",
            "citation: \"@misc{zhang2015characterlevel,\\n    title={Character-level Convolutional Networks for Text Classification},\\n    author={Xiang Zhang and Junbo Zhao and Yann LeCun},\\n    year={2015},\\n    eprint={1509.01626},\\n    archivePrefix={arXiv},\\n    primaryClass={cs.LG}\\n}\"\n",
            "location {\n",
            "  urls: \"https://arxiv.org/abs/1509.01626\"\n",
            "}\n",
            "splits {\n",
            "  name: \"test\"\n",
            "  shard_lengths: 7600\n",
            "  num_bytes: 2226751\n",
            "}\n",
            "splits {\n",
            "  name: \"train\"\n",
            "  shard_lengths: 120000\n",
            "  num_bytes: 35301386\n",
            "}\n",
            "supervised_keys {\n",
            "  input: \"description\"\n",
            "  output: \"label\"\n",
            "}\n",
            "version: \"1.0.0\"\n",
            "download_size: 11784327\n",
            "\u001b[0m\n"
          ]
        }
      ]
    },
    {
      "cell_type": "markdown",
      "metadata": {
        "id": "CudHOmX7OJLB"
      },
      "source": [
        "**Exploratory Analysis AG News Subset**\n",
        "\n",
        "Get information about the ag_news_subset dataset. We combined the training and test data for a total of 127,600 news articles."
      ]
    },
    {
      "cell_type": "code",
      "metadata": {
        "colab": {
          "base_uri": "https://localhost:8080/"
        },
        "id": "YDCp6LNiNY5G",
        "outputId": "47a6a076-e3f7-4620-86f1-0ec146e69b6a"
      },
      "source": [
        "print(info)"
      ],
      "execution_count": 10,
      "outputs": [
        {
          "output_type": "stream",
          "name": "stdout",
          "text": [
            "tfds.core.DatasetInfo(\n",
            "    name='ag_news_subset',\n",
            "    version=1.0.0,\n",
            "    description='AG is a collection of more than 1 million news articles.\n",
            "News articles have been gathered from more than 2000  news sources by ComeToMyHead in more than 1 year of activity.\n",
            "ComeToMyHead is an academic news search engine which has been running since July, 2004.\n",
            "The dataset is provided by the academic comunity for research purposes in data mining (clustering, classification, etc),\n",
            "information retrieval (ranking, search, etc), xml, data compression, data streaming,\n",
            "and any other non-commercial activity.\n",
            "For more information, please refer to the link http://www.di.unipi.it/~gulli/AG_corpus_of_news_articles.html .\n",
            "\n",
            "The AG's news topic classification dataset is constructed by Xiang Zhang (xiang.zhang@nyu.edu) from the dataset above.\n",
            "It is used as a text classification benchmark in the following paper:\n",
            "Xiang Zhang, Junbo Zhao, Yann LeCun. Character-level Convolutional Networks for Text Classification. Advances in Neural Information Processing Systems 28 (NIPS 2015).\n",
            "\n",
            "The AG's news topic classification dataset is constructed by choosing 4 largest classes from the original corpus.\n",
            "Each class contains 30,000 training samples and 1,900 testing samples.\n",
            "The total number of training samples is 120,000 and testing 7,600.',\n",
            "    homepage='https://arxiv.org/abs/1509.01626',\n",
            "    features=FeaturesDict({\n",
            "        'description': Text(shape=(), dtype=tf.string),\n",
            "        'label': ClassLabel(shape=(), dtype=tf.int64, num_classes=4),\n",
            "        'title': Text(shape=(), dtype=tf.string),\n",
            "    }),\n",
            "    total_num_examples=127600,\n",
            "    splits={\n",
            "        'test': 7600,\n",
            "        'train': 120000,\n",
            "    },\n",
            "    supervised_keys=('description', 'label'),\n",
            "    citation=\"\"\"@misc{zhang2015characterlevel,\n",
            "        title={Character-level Convolutional Networks for Text Classification},\n",
            "        author={Xiang Zhang and Junbo Zhao and Yann LeCun},\n",
            "        year={2015},\n",
            "        eprint={1509.01626},\n",
            "        archivePrefix={arXiv},\n",
            "        primaryClass={cs.LG}\n",
            "    }\"\"\",\n",
            "    redistribution_info=,\n",
            ")\n",
            "\n"
          ]
        }
      ]
    },
    {
      "cell_type": "code",
      "metadata": {
        "colab": {
          "base_uri": "https://localhost:8080/",
          "height": 335
        },
        "id": "yVSZzDOnNY8C",
        "outputId": "36129019-d58f-4612-ced7-7ec74aa0e7ec"
      },
      "source": [
        "tfds.as_dataframe(dataset_all.take(10),info)"
      ],
      "execution_count": 11,
      "outputs": [
        {
          "output_type": "execute_result",
          "data": {
            "text/html": [
              "<style  type=\"text/css\" >\n",
              "</style><table id=\"T_649b0b08_3e98_11ec_8405_0242ac1c0002\" ><thead>    <tr>        <th class=\"blank level0\" ></th>        <th class=\"col_heading level0 col0\" >description</th>        <th class=\"col_heading level0 col1\" >label</th>    </tr></thead><tbody>\n",
              "                <tr>\n",
              "                        <th id=\"T_649b0b08_3e98_11ec_8405_0242ac1c0002level0_row0\" class=\"row_heading level0 row0\" >0</th>\n",
              "                        <td id=\"T_649b0b08_3e98_11ec_8405_0242ac1c0002row0_col0\" class=\"data row0 col0\" >AMD #39;s new dual-core Opteron chip is designed mainly for corporate computing applications, including databases, Web services, and financial transactions.</td>\n",
              "                        <td id=\"T_649b0b08_3e98_11ec_8405_0242ac1c0002row0_col1\" class=\"data row0 col1\" >3 (Sci/Tech)</td>\n",
              "            </tr>\n",
              "            <tr>\n",
              "                        <th id=\"T_649b0b08_3e98_11ec_8405_0242ac1c0002level0_row1\" class=\"row_heading level0 row1\" >1</th>\n",
              "                        <td id=\"T_649b0b08_3e98_11ec_8405_0242ac1c0002row1_col0\" class=\"data row1 col0\" >Reuters - Major League Baseball\\Monday announced a decision on the appeal filed by Chicago Cubs\\pitcher Kerry Wood regarding a suspension stemming from an\\incident earlier this season.</td>\n",
              "                        <td id=\"T_649b0b08_3e98_11ec_8405_0242ac1c0002row1_col1\" class=\"data row1 col1\" >1 (Sports)</td>\n",
              "            </tr>\n",
              "            <tr>\n",
              "                        <th id=\"T_649b0b08_3e98_11ec_8405_0242ac1c0002level0_row2\" class=\"row_heading level0 row2\" >2</th>\n",
              "                        <td id=\"T_649b0b08_3e98_11ec_8405_0242ac1c0002row2_col0\" class=\"data row2 col0\" >President Bush #39;s quot;revenue-neutral quot; tax reform needs losers to balance its winners, and people claiming the federal deduction for state and local taxes may be in administration planners #39; sights, news reports say.</td>\n",
              "                        <td id=\"T_649b0b08_3e98_11ec_8405_0242ac1c0002row2_col1\" class=\"data row2 col1\" >2 (Business)</td>\n",
              "            </tr>\n",
              "            <tr>\n",
              "                        <th id=\"T_649b0b08_3e98_11ec_8405_0242ac1c0002level0_row3\" class=\"row_heading level0 row3\" >3</th>\n",
              "                        <td id=\"T_649b0b08_3e98_11ec_8405_0242ac1c0002row3_col0\" class=\"data row3 col0\" >Britain will run out of leading scientists unless science education is improved, says Professor Colin Pillinger.</td>\n",
              "                        <td id=\"T_649b0b08_3e98_11ec_8405_0242ac1c0002row3_col1\" class=\"data row3 col1\" >3 (Sci/Tech)</td>\n",
              "            </tr>\n",
              "            <tr>\n",
              "                        <th id=\"T_649b0b08_3e98_11ec_8405_0242ac1c0002level0_row4\" class=\"row_heading level0 row4\" >4</th>\n",
              "                        <td id=\"T_649b0b08_3e98_11ec_8405_0242ac1c0002row4_col0\" class=\"data row4 col0\" >London, England (Sports Network) - England midfielder Steven Gerrard injured his groin late in Thursday #39;s training session, but is hopeful he will be ready for Saturday #39;s World Cup qualifier against Austria.</td>\n",
              "                        <td id=\"T_649b0b08_3e98_11ec_8405_0242ac1c0002row4_col1\" class=\"data row4 col1\" >1 (Sports)</td>\n",
              "            </tr>\n",
              "            <tr>\n",
              "                        <th id=\"T_649b0b08_3e98_11ec_8405_0242ac1c0002level0_row5\" class=\"row_heading level0 row5\" >5</th>\n",
              "                        <td id=\"T_649b0b08_3e98_11ec_8405_0242ac1c0002row5_col0\" class=\"data row5 col0\" >TOKYO - Sony Corp. is banking on the \\$3 billion deal to acquire Hollywood studio Metro-Goldwyn-Mayer Inc...</td>\n",
              "                        <td id=\"T_649b0b08_3e98_11ec_8405_0242ac1c0002row5_col1\" class=\"data row5 col1\" >0 (World)</td>\n",
              "            </tr>\n",
              "            <tr>\n",
              "                        <th id=\"T_649b0b08_3e98_11ec_8405_0242ac1c0002level0_row6\" class=\"row_heading level0 row6\" >6</th>\n",
              "                        <td id=\"T_649b0b08_3e98_11ec_8405_0242ac1c0002row6_col0\" class=\"data row6 col0\" >Giant pandas may well prefer bamboo to laptops, but wireless technology is helping researchers in China in their efforts to protect the engandered animals living in the remote Wolong Nature Reserve.</td>\n",
              "                        <td id=\"T_649b0b08_3e98_11ec_8405_0242ac1c0002row6_col1\" class=\"data row6 col1\" >3 (Sci/Tech)</td>\n",
              "            </tr>\n",
              "            <tr>\n",
              "                        <th id=\"T_649b0b08_3e98_11ec_8405_0242ac1c0002level0_row7\" class=\"row_heading level0 row7\" >7</th>\n",
              "                        <td id=\"T_649b0b08_3e98_11ec_8405_0242ac1c0002row7_col0\" class=\"data row7 col0\" >VILNIUS, Lithuania - Lithuania #39;s main parties formed an alliance to try to keep a Russian-born tycoon and his populist promises out of the government in Sunday #39;s second round of parliamentary elections in this Baltic country.</td>\n",
              "                        <td id=\"T_649b0b08_3e98_11ec_8405_0242ac1c0002row7_col1\" class=\"data row7 col1\" >0 (World)</td>\n",
              "            </tr>\n",
              "            <tr>\n",
              "                        <th id=\"T_649b0b08_3e98_11ec_8405_0242ac1c0002level0_row8\" class=\"row_heading level0 row8\" >8</th>\n",
              "                        <td id=\"T_649b0b08_3e98_11ec_8405_0242ac1c0002row8_col0\" class=\"data row8 col0\" >Witnesses in the trial of a US soldier charged with abusing prisoners at Abu Ghraib have told the court that the CIA sometimes directed abuse and orders were received from military command to toughen interrogations.</td>\n",
              "                        <td id=\"T_649b0b08_3e98_11ec_8405_0242ac1c0002row8_col1\" class=\"data row8 col1\" >0 (World)</td>\n",
              "            </tr>\n",
              "            <tr>\n",
              "                        <th id=\"T_649b0b08_3e98_11ec_8405_0242ac1c0002level0_row9\" class=\"row_heading level0 row9\" >9</th>\n",
              "                        <td id=\"T_649b0b08_3e98_11ec_8405_0242ac1c0002row9_col0\" class=\"data row9 col0\" >Dan Olsen of Ponte Vedra Beach, Fla., shot a 7-under 65 Thursday to take a one-shot lead after two rounds of the PGA Tour qualifying tournament.</td>\n",
              "                        <td id=\"T_649b0b08_3e98_11ec_8405_0242ac1c0002row9_col1\" class=\"data row9 col1\" >1 (Sports)</td>\n",
              "            </tr>\n",
              "    </tbody></table>"
            ],
            "text/plain": [
              "                                         description  label\n",
              "0  b'AMD #39;s new dual-core Opteron chip is desi...      3\n",
              "1  b'Reuters - Major League Baseball\\\\Monday anno...      1\n",
              "2  b'President Bush #39;s  quot;revenue-neutral q...      2\n",
              "3  b'Britain will run out of leading scientists u...      3\n",
              "4  b'London, England (Sports Network) - England m...      1\n",
              "5  b'TOKYO - Sony Corp. is banking on the \\\\$3 bi...      0\n",
              "6  b'Giant pandas may well prefer bamboo to lapto...      3\n",
              "7  b'VILNIUS, Lithuania - Lithuania #39;s main pa...      0\n",
              "8  b'Witnesses in the trial of a US soldier charg...      0\n",
              "9  b'Dan Olsen of Ponte Vedra Beach, Fla., shot a...      1"
            ]
          },
          "metadata": {},
          "execution_count": 11
        }
      ]
    },
    {
      "cell_type": "markdown",
      "metadata": {
        "id": "JBLIZ3u3OcIr"
      },
      "source": [
        "**Review Labels (Categories)**\n"
      ]
    },
    {
      "cell_type": "code",
      "metadata": {
        "colab": {
          "base_uri": "https://localhost:8080/"
        },
        "id": "dFSV556dNY_r",
        "outputId": "eef61664-960e-428a-ba03-dfeeed68f271"
      },
      "source": [
        "print(f'There are {info.features[\"label\"].num_classes} classes in the dataset.')\n",
        "print(f'The class names are {info.features[\"label\"].names}')"
      ],
      "execution_count": 12,
      "outputs": [
        {
          "output_type": "stream",
          "name": "stdout",
          "text": [
            "There are 4 classes in the dataset.\n",
            "The class names are ['World', 'Sports', 'Business', 'Sci/Tech']\n"
          ]
        }
      ]
    },
    {
      "cell_type": "code",
      "metadata": {
        "colab": {
          "base_uri": "https://localhost:8080/"
        },
        "id": "1SvHT3skNZDW",
        "outputId": "563e3153-3bb2-4244-f513-2c42ad148365"
      },
      "source": [
        "# classes dictionary\n",
        "categories =dict(enumerate(info.features[\"label\"].names))\n",
        "categories"
      ],
      "execution_count": 13,
      "outputs": [
        {
          "output_type": "execute_result",
          "data": {
            "text/plain": [
              "{0: 'World', 1: 'Sports', 2: 'Business', 3: 'Sci/Tech'}"
            ]
          },
          "metadata": {},
          "execution_count": 13
        }
      ]
    },
    {
      "cell_type": "markdown",
      "metadata": {
        "id": "NeM9OqYgS0bO"
      },
      "source": [
        "The 127,600 news articles are evenly distributed among the 4 categories\n"
      ]
    },
    {
      "cell_type": "code",
      "metadata": {
        "colab": {
          "base_uri": "https://localhost:8080/"
        },
        "id": "gQyDjsceR3r7",
        "outputId": "171956e9-3365-4373-8e80-8e0f9964851f"
      },
      "source": [
        "train_categories = [categories[label] for label in dataset_all.map(lambda text, label: label).as_numpy_iterator()]\n",
        "Counter(train_categories).most_common()"
      ],
      "execution_count": 14,
      "outputs": [
        {
          "output_type": "execute_result",
          "data": {
            "text/plain": [
              "[('Sci/Tech', 31900), ('Sports', 31900), ('Business', 31900), ('World', 31900)]"
            ]
          },
          "metadata": {},
          "execution_count": 14
        }
      ]
    },
    {
      "cell_type": "markdown",
      "metadata": {
        "id": "01PZkzdTSwL0"
      },
      "source": [
        "We will use the tf.keras.layers.experimental.preprocessing.TextVectorization layer to transform each news article into a \"list\" of non-negative integers representing the tokens in the news article.\n",
        "\n",
        "For the purpose of training our models each such \"encoding\" will have a fixed length corresponding to the news article(s) with the most tokens. Shorter articles will be right-padded with zeros in the encoding. Also to speed up the training process, we will set max_tokens = 1000 so that words not in the vabulary set of top 1000 most common tokes are encoded as 1. But first we set max_tokens = None (which is the default value) in order to get the vocabulary size of the corpus."
      ]
    },
    {
      "cell_type": "code",
      "metadata": {
        "colab": {
          "base_uri": "https://localhost:8080/"
        },
        "id": "1wwTFLAgR3zA",
        "outputId": "2ad021e3-8dc9-4fc2-e027-a0b8b6a5a265"
      },
      "source": [
        "%%time\n",
        "encoder = tf.keras.layers.experimental.preprocessing.TextVectorization(max_tokens=None)\n",
        "encoder.adapt(dataset_all.map(lambda text, label: text))\n",
        "vocab = np.array(encoder.get_vocabulary())"
      ],
      "execution_count": 15,
      "outputs": [
        {
          "output_type": "stream",
          "name": "stdout",
          "text": [
            "WARNING:tensorflow:AutoGraph could not transform <function <lambda> at 0x7fa538529440> and will run it as-is.\n",
            "Cause: could not parse the source code of <function <lambda> at 0x7fa538529440>: no matching AST found\n",
            "To silence this warning, decorate the function with @tf.autograph.experimental.do_not_convert\n"
          ]
        },
        {
          "output_type": "stream",
          "name": "stderr",
          "text": [
            "WARNING:tensorflow:AutoGraph could not transform <function <lambda> at 0x7fa538529440> and will run it as-is.\n",
            "Cause: could not parse the source code of <function <lambda> at 0x7fa538529440>: no matching AST found\n",
            "To silence this warning, decorate the function with @tf.autograph.experimental.do_not_convert\n"
          ]
        },
        {
          "output_type": "stream",
          "name": "stdout",
          "text": [
            "WARNING: AutoGraph could not transform <function <lambda> at 0x7fa538529440> and will run it as-is.\n",
            "Cause: could not parse the source code of <function <lambda> at 0x7fa538529440>: no matching AST found\n",
            "To silence this warning, decorate the function with @tf.autograph.experimental.do_not_convert\n",
            "CPU times: user 1min 52s, sys: 14.1 s, total: 2min 6s\n",
            "Wall time: 1min 27s\n"
          ]
        }
      ]
    },
    {
      "cell_type": "code",
      "metadata": {
        "colab": {
          "base_uri": "https://localhost:8080/"
        },
        "id": "-UNRJfBUR33S",
        "outputId": "86b79b61-7cfa-4ee3-e00a-49948d6e98bd"
      },
      "source": [
        "print(f\"There are {len(vocab)} vocabulary words in the corpus.\")"
      ],
      "execution_count": 16,
      "outputs": [
        {
          "output_type": "stream",
          "name": "stdout",
          "text": [
            "There are 95976 vocabulary words in the corpus.\n"
          ]
        }
      ]
    },
    {
      "cell_type": "markdown",
      "metadata": {
        "id": "JO8TP6SnSpk3"
      },
      "source": [
        "There are 95976 vocabulary words in the corpus.\n",
        "\n",
        "The .adapt method sets the layer's vocabulary. Here are the first 20 tokens. After the padding and unknown tokens they're sorted by frequency:"
      ]
    },
    {
      "cell_type": "code",
      "metadata": {
        "colab": {
          "base_uri": "https://localhost:8080/"
        },
        "id": "kt-f3rfTR37f",
        "outputId": "bf9b7609-01cb-44d7-e667-6505ddd51b16"
      },
      "source": [
        "vocab[:20]"
      ],
      "execution_count": 17,
      "outputs": [
        {
          "output_type": "execute_result",
          "data": {
            "text/plain": [
              "array(['', '[UNK]', 'the', 'a', 'to', 'of', 'in', 'and', 'on', 'for',\n",
              "       'that', '39s', 'with', 'its', 'as', 'at', 'is', 'said', 'by', 'it'],\n",
              "      dtype='<U150')"
            ]
          },
          "metadata": {},
          "execution_count": 17
        }
      ]
    },
    {
      "cell_type": "markdown",
      "metadata": {
        "id": "bknukXA0SjYv"
      },
      "source": [
        "Let us get the total number of words in the corpus and the sizes of the news articles"
      ]
    },
    {
      "cell_type": "code",
      "metadata": {
        "colab": {
          "base_uri": "https://localhost:8080/"
        },
        "id": "WtTQ_xNBR3_4",
        "outputId": "1f455e5a-839c-4069-cdf1-e3f493f4aa7f"
      },
      "source": [
        "%%time\n",
        "doc_sizes = []\n",
        "corpus = []\n",
        "for example, _ in dataset_all.as_numpy_iterator():\n",
        "  enc_example = encoder(example)\n",
        "  doc_sizes.append(len(enc_example))\n",
        "  corpus+=list(enc_example.numpy())"
      ],
      "execution_count": 18,
      "outputs": [
        {
          "output_type": "stream",
          "name": "stdout",
          "text": [
            "CPU times: user 9min 43s, sys: 11 s, total: 9min 54s\n",
            "Wall time: 10min 21s\n"
          ]
        }
      ]
    },
    {
      "cell_type": "code",
      "metadata": {
        "colab": {
          "base_uri": "https://localhost:8080/"
        },
        "id": "SVMEor1jSINc",
        "outputId": "33349335-f5c9-4424-8191-5083ab7ac1b9"
      },
      "source": [
        "print(f\"There are {len(corpus)} words in the corpus of {len(doc_sizes)} news articles.\")\n",
        "print(f\"Each news article has between {min(doc_sizes)} and {max(doc_sizes)} tokens in it.\")"
      ],
      "execution_count": 19,
      "outputs": [
        {
          "output_type": "stream",
          "name": "stdout",
          "text": [
            "There are 3909695 words in the corpus of 127600 news articles.\n",
            "Each news article has between 3 and 173 tokens in it.\n"
          ]
        }
      ]
    },
    {
      "cell_type": "code",
      "metadata": {
        "colab": {
          "base_uri": "https://localhost:8080/",
          "height": 551
        },
        "id": "WP2cfFGvSIRq",
        "outputId": "2e59c215-bc7b-429d-e9b4-8ebd428ff80d"
      },
      "source": [
        "plt.figure(figsize=(15,9))\n",
        "plt.hist(doc_sizes, bins=20,range = (0,120))\n",
        "plt.xlabel(\"Tokens Per Document\")\n",
        "plt.ylabel(\"Number of AG News Articles\");"
      ],
      "execution_count": 20,
      "outputs": [
        {
          "output_type": "display_data",
          "data": {
            "image/png": "[encoded data removed]",
            "text/plain": [
              "<Figure size 1080x648 with 1 Axes>"
            ]
          },
          "metadata": {
            "needs_background": "light"
          }
        }
      ]
    },
    {
      "cell_type": "markdown",
      "metadata": {
        "id": "InSIstGlSbWL"
      },
      "source": [
        "Encode the news articles using the top 1000 most common words in the corpus\n",
        "\n"
      ]
    },
    {
      "cell_type": "code",
      "metadata": {
        "colab": {
          "base_uri": "https://localhost:8080/"
        },
        "id": "WYL48XbPSIf9",
        "outputId": "e718a1f1-2e93-4e63-8ad9-36b4b8faf3cc"
      },
      "source": [
        "%%time\n",
        "encoder_1000 = tf.keras.layers.experimental.preprocessing.TextVectorization(max_tokens=1000)\n",
        "encoder_1000.adapt(dataset_all.map(lambda text, label: text))\n",
        "vocab_1000 = np.array(encoder_1000.get_vocabulary());"
      ],
      "execution_count": 21,
      "outputs": [
        {
          "output_type": "stream",
          "name": "stdout",
          "text": [
            "WARNING:tensorflow:AutoGraph could not transform <function <lambda> at 0x7fa5520c6cb0> and will run it as-is.\n",
            "Cause: could not parse the source code of <function <lambda> at 0x7fa5520c6cb0>: no matching AST found\n",
            "To silence this warning, decorate the function with @tf.autograph.experimental.do_not_convert\n"
          ]
        },
        {
          "output_type": "stream",
          "name": "stderr",
          "text": [
            "WARNING:tensorflow:AutoGraph could not transform <function <lambda> at 0x7fa5520c6cb0> and will run it as-is.\n",
            "Cause: could not parse the source code of <function <lambda> at 0x7fa5520c6cb0>: no matching AST found\n",
            "To silence this warning, decorate the function with @tf.autograph.experimental.do_not_convert\n"
          ]
        },
        {
          "output_type": "stream",
          "name": "stdout",
          "text": [
            "WARNING: AutoGraph could not transform <function <lambda> at 0x7fa5520c6cb0> and will run it as-is.\n",
            "Cause: could not parse the source code of <function <lambda> at 0x7fa5520c6cb0>: no matching AST found\n",
            "To silence this warning, decorate the function with @tf.autograph.experimental.do_not_convert\n",
            "CPU times: user 1min 50s, sys: 13.8 s, total: 2min 4s\n",
            "Wall time: 1min 26s\n"
          ]
        }
      ]
    },
    {
      "cell_type": "markdown",
      "metadata": {
        "id": "RLt02DwnVw5g"
      },
      "source": [
        "The .adapt method sets the layer's vocabulary. Here are the first 20 tokens. After the padding and unknown tokens they're sorted by frequency:\n"
      ]
    },
    {
      "cell_type": "code",
      "metadata": {
        "colab": {
          "base_uri": "https://localhost:8080/"
        },
        "id": "bVS2EeafVtyt",
        "outputId": "5ed993d0-51fd-44d3-8029-45fa8a195db6"
      },
      "source": [
        "vocab_1000[:20]"
      ],
      "execution_count": 22,
      "outputs": [
        {
          "output_type": "execute_result",
          "data": {
            "text/plain": [
              "array(['', '[UNK]', 'the', 'a', 'to', 'of', 'in', 'and', 'on', 'for',\n",
              "       'that', '39s', 'with', 'its', 'as', 'at', 'is', 'said', 'by', 'it'],\n",
              "      dtype='<U14')"
            ]
          },
          "metadata": {},
          "execution_count": 22
        }
      ]
    },
    {
      "cell_type": "markdown",
      "metadata": {
        "id": "0rWk826zV12y"
      },
      "source": [
        "\n",
        "In particular, 0 is use for padding, 1 for the unknown words, 2 for the common word, i.e. 'the', etc. Let us look at the same example we encoded previously using the encoder for all the vocabulary words. Note that there are now five 1's denoting words that are not in the top 1000 in frequency.\n",
        "\n",
        "We encode the same example as before using the new encoder. Note that there are now 5 out of vocabulary words."
      ]
    },
    {
      "cell_type": "code",
      "metadata": {
        "colab": {
          "base_uri": "https://localhost:8080/"
        },
        "id": "nkdtWEujVt5B",
        "outputId": "123ace11-d7e7-49ea-d582-4ea7653a4558"
      },
      "source": [
        "example = \"the dog ran after a red ball as it rolled by the hat on the ground.\"\n",
        "encoder_1000(example)"
      ],
      "execution_count": 23,
      "outputs": [
        {
          "output_type": "execute_result",
          "data": {
            "text/plain": [
              "<tf.Tensor: shape=(16,), dtype=int64, numpy=\n",
              "array([  2,   1,   1,  29,   3, 232,   1,  14,  19,   1,  18,   2,   1,\n",
              "         8,   2, 999])>"
            ]
          },
          "metadata": {},
          "execution_count": 23
        }
      ]
    },
    {
      "cell_type": "code",
      "metadata": {
        "colab": {
          "base_uri": "https://localhost:8080/"
        },
        "id": "ea24T0heVt-W",
        "outputId": "7b39845d-63ef-45cb-b80c-64eeeec9a54d"
      },
      "source": [
        "for word in example.split():\n",
        "  print(f'\"{word}\" is {\"*not* \" if word not in vocab_1000  else \"\"}in the vocabulary.')"
      ],
      "execution_count": 24,
      "outputs": [
        {
          "output_type": "stream",
          "name": "stdout",
          "text": [
            "\"the\" is in the vocabulary.\n",
            "\"dog\" is *not* in the vocabulary.\n",
            "\"ran\" is *not* in the vocabulary.\n",
            "\"after\" is in the vocabulary.\n",
            "\"a\" is in the vocabulary.\n",
            "\"red\" is in the vocabulary.\n",
            "\"ball\" is *not* in the vocabulary.\n",
            "\"as\" is in the vocabulary.\n",
            "\"it\" is in the vocabulary.\n",
            "\"rolled\" is *not* in the vocabulary.\n",
            "\"by\" is in the vocabulary.\n",
            "\"the\" is in the vocabulary.\n",
            "\"hat\" is *not* in the vocabulary.\n",
            "\"on\" is in the vocabulary.\n",
            "\"the\" is in the vocabulary.\n",
            "\"ground.\" is *not* in the vocabulary.\n"
          ]
        }
      ]
    },
    {
      "cell_type": "markdown",
      "metadata": {
        "id": "AmizTJvxV-Ig"
      },
      "source": [
        "We want to determine the number of non-vocabulary words in each news articles (denoted by 1s in the encoding)\n"
      ]
    },
    {
      "cell_type": "code",
      "metadata": {
        "colab": {
          "base_uri": "https://localhost:8080/"
        },
        "id": "aW2QOPpsVuHG",
        "outputId": "0b5a9c06-2538-4e27-a8b0-d9f7309d508e"
      },
      "source": [
        "%%time\n",
        "doc1000_sizes = []\n",
        "corpus1000 = []\n",
        "count1000=0\n",
        "useless = 0\n",
        "# stop = 0\n",
        "percents = []\n",
        "for example, _ in dataset_all.as_numpy_iterator():\n",
        "  # stop+=1\n",
        "  # if stop > 5: break\n",
        "  enc_example = encoder_1000(example)\n",
        "  num_ones = tf.math.count_nonzero(enc_example==1).numpy()\n",
        "  percent_ones = round(num_ones*100/len(enc_example))\n",
        "  # print(f\"{percent_ones}%\")\n",
        "  percents.append(percent_ones)\n",
        "\n",
        "  s = set(list(enc_example.numpy()))\n",
        "  if s == {1}: useless+=1\n",
        "\n",
        "  doc1000_sizes.append(len(enc_example))\n",
        "  corpus1000+=list(enc_example.numpy())\n",
        "\n",
        "  count1000 += tf.math.count_nonzero(enc_example>1)"
      ],
      "execution_count": 25,
      "outputs": [
        {
          "output_type": "stream",
          "name": "stdout",
          "text": [
            "CPU times: user 11min 37s, sys: 12 s, total: 11min 49s\n",
            "Wall time: 11min 29s\n"
          ]
        }
      ]
    },
    {
      "cell_type": "code",
      "metadata": {
        "colab": {
          "base_uri": "https://localhost:8080/"
        },
        "id": "GjvxnZC0WKHP",
        "outputId": "b58c9e45-939b-4fbd-9cae-b9f55d984ee2"
      },
      "source": [
        "print(f\"Each news article has between {min(doc1000_sizes)} and {max(doc1000_sizes)} tokens in it.\")"
      ],
      "execution_count": 26,
      "outputs": [
        {
          "output_type": "stream",
          "name": "stdout",
          "text": [
            "Each news article has between 3 and 173 tokens in it.\n"
          ]
        }
      ]
    },
    {
      "cell_type": "code",
      "metadata": {
        "colab": {
          "base_uri": "https://localhost:8080/"
        },
        "id": "9yQ1WpNdWKQb",
        "outputId": "a8e17eac-a8ae-4510-8f4a-e941d4a9c088"
      },
      "source": [
        "Counter(percents).most_common(10)\n",
        "np.unique(percents, return_counts=True)"
      ],
      "execution_count": 27,
      "outputs": [
        {
          "output_type": "execute_result",
          "data": {
            "text/plain": [
              "(array([  0,   3,   4,   5,   6,   7,   8,   9,  10,  11,  12,  13,  14,\n",
              "         15,  16,  17,  18,  19,  20,  21,  22,  23,  24,  25,  26,  27,\n",
              "         28,  29,  30,  31,  32,  33,  34,  35,  36,  37,  38,  39,  40,\n",
              "         41,  42,  43,  44,  45,  46,  47,  48,  49,  50,  51,  52,  53,\n",
              "         54,  55,  56,  57,  58,  59,  60,  61,  62,  63,  64,  65,  66,\n",
              "         67,  68,  69,  70,  71,  72,  73,  74,  75,  76,  77,  78,  79,\n",
              "         80,  81,  82,  83,  84,  85,  86,  87,  88,  89,  90,  91,  92,\n",
              "         93,  95,  97, 100]),\n",
              " array([  12,    5,   20,   29,   49,   71,  120,  137,  172,  274,  486,\n",
              "         368,  682,  777,  828, 1346, 1376, 2123, 1610, 2863, 2687, 3018,\n",
              "        3957, 3315, 4605, 3934, 4148, 5737, 4954, 5072, 6123, 6165, 3255,\n",
              "        5095, 4596, 3438, 5880, 4205, 3109, 4063, 3555, 3030, 2904, 2294,\n",
              "        1967, 1716, 2174,  368, 2486,  234, 1246,  747,  573,  547,  520,\n",
              "         441,  348,  217,  250,  135,  234,   49,  131,  101,   11,  135,\n",
              "          40,   62,   33,   53,    8,   34,   10,   55,   10,    8,   15,\n",
              "           3,   27,    9,    5,   19,    1,    8,   12,    6,   16,   11,\n",
              "           5,    4,    2,    3,    1,    1,   22]))"
            ]
          },
          "metadata": {},
          "execution_count": 27
        }
      ]
    },
    {
      "cell_type": "code",
      "metadata": {
        "colab": {
          "base_uri": "https://localhost:8080/",
          "height": 551
        },
        "id": "He-tTcGqWKZI",
        "outputId": "286d1e3a-c5c5-458e-9b9b-226f9097f8a2"
      },
      "source": [
        "plt.figure(figsize=(15,9))\n",
        "plt.hist(percents, 20)\n",
        "plt.ylabel('Number of Documents')\n",
        "plt.xlabel('Percent of Non-Vocabulary Words in a Document');"
      ],
      "execution_count": 28,
      "outputs": [
        {
          "output_type": "display_data",
          "data": {
            "image/png": "[encoded data removed]",
            "text/plain": [
              "<Figure size 1080x648 with 1 Axes>"
            ]
          },
          "metadata": {
            "needs_background": "light"
          }
        }
      ]
    },
    {
      "cell_type": "code",
      "metadata": {
        "colab": {
          "base_uri": "https://localhost:8080/"
        },
        "id": "Ud8RvGvgWVDy",
        "outputId": "c6d41961-3f0a-479a-c24f-c6d1cf2336d9"
      },
      "source": [
        "print(f\"There are {count1000} top {len(vocab_1000)} vocabulary words in the corpus.\")"
      ],
      "execution_count": 29,
      "outputs": [
        {
          "output_type": "stream",
          "name": "stdout",
          "text": [
            "There are 2602670 top 1000 vocabulary words in the corpus.\n"
          ]
        }
      ]
    },
    {
      "cell_type": "markdown",
      "metadata": {
        "id": "IejUk55TW0nT"
      },
      "source": [
        "**Preprocessing Data Create Input Pipeline**\n"
      ]
    },
    {
      "cell_type": "code",
      "metadata": {
        "colab": {
          "base_uri": "https://localhost:8080/"
        },
        "id": "H2BFdZ0SWVIu",
        "outputId": "5546de66-76b6-4ca0-f8a4-66e8e17cc226"
      },
      "source": [
        "# register  ag_news_subset so that tfds.load doesn't generate a checksum (mismatch) error\n",
        "!python -m tensorflow_datasets.scripts.download_and_prepare --register_checksums --datasets=ag_news_subset\n",
        "\n",
        "# Example Approaches to Split Data Set\n",
        "# dataset, info = tfds.load('ag_news_subset', with_info=True,  split=['train[:]','test[:1000]', 'test[1000:]'],\n",
        "dataset, info = tfds.load('ag_news_subset', with_info=True,  split=['train[:95%]','train[95%:]', 'test[:]'],\n",
        "# dataset, info = tfds.load('ag_news_subset', with_info=True,  split=['train[:114000]','train[114000:]', 'test[:]'],\n",
        "                          as_supervised=True)\n",
        "train_dataset, validation_dataset, test_dataset = dataset\n",
        "# train_dataset, test_dataset = dataset['train'],dataset['test']"
      ],
      "execution_count": 30,
      "outputs": [
        {
          "output_type": "stream",
          "name": "stdout",
          "text": [
            "2021-11-06 01:04:22.678766: E tensorflow/stream_executor/cuda/cuda_driver.cc:271] failed call to cuInit: CUDA_ERROR_NO_DEVICE: no CUDA-capable device is detected\n",
            "2021-11-06 01:04:22.678852: I tensorflow/stream_executor/cuda/cuda_diagnostics.cc:156] kernel driver does not appear to be running on this host (ff01afa30587): /proc/driver/nvidia/version does not exist\n",
            "I1106 01:04:22.679196 139945763145600 download_and_prepare.py:200] Running download_and_prepare for dataset(s):\n",
            "ag_news_subset\n",
            "I1106 01:04:22.680359 139945763145600 dataset_info.py:361] Load dataset info from /root/tensorflow_datasets/ag_news_subset/1.0.0\n",
            "I1106 01:04:22.682413 139945763145600 download_and_prepare.py:138] download_and_prepare for dataset ag_news_subset/1.0.0...\n",
            "I1106 01:04:22.682679 139945763145600 dataset_builder.py:299] Reusing dataset ag_news_subset (/root/tensorflow_datasets/ag_news_subset/1.0.0)\n",
            "\u001b[1mname: \"ag_news_subset\"\n",
            "description: \"AG is a collection of more than 1 million news articles.\\nNews articles have been gathered from more than 2000  news sources by ComeToMyHead in more than 1 year of activity.\\nComeToMyHead is an academic news search engine which has been running since July, 2004.\\nThe dataset is provided by the academic comunity for research purposes in data mining (clustering, classification, etc),\\ninformation retrieval (ranking, search, etc), xml, data compression, data streaming,\\nand any other non-commercial activity.\\nFor more information, please refer to the link http://www.di.unipi.it/~gulli/AG_corpus_of_news_articles.html .\\n\\nThe AG\\'s news topic classification dataset is constructed by Xiang Zhang (xiang.zhang@nyu.edu) from the dataset above.\\nIt is used as a text classification benchmark in the following paper:\\nXiang Zhang, Junbo Zhao, Yann LeCun. Character-level Convolutional Networks for Text Classification. Advances in Neural Information Processing Systems 28 (NIPS 2015).\\n\\nThe AG\\'s news topic classification dataset is constructed by choosing 4 largest classes from the original corpus.\\nEach class contains 30,000 training samples and 1,900 testing samples.\\nThe total number of training samples is 120,000 and testing 7,600.\"\n",
            "citation: \"@misc{zhang2015characterlevel,\\n    title={Character-level Convolutional Networks for Text Classification},\\n    author={Xiang Zhang and Junbo Zhao and Yann LeCun},\\n    year={2015},\\n    eprint={1509.01626},\\n    archivePrefix={arXiv},\\n    primaryClass={cs.LG}\\n}\"\n",
            "location {\n",
            "  urls: \"https://arxiv.org/abs/1509.01626\"\n",
            "}\n",
            "splits {\n",
            "  name: \"test\"\n",
            "  shard_lengths: 7600\n",
            "  num_bytes: 2226751\n",
            "}\n",
            "splits {\n",
            "  name: \"train\"\n",
            "  shard_lengths: 120000\n",
            "  num_bytes: 35301386\n",
            "}\n",
            "supervised_keys {\n",
            "  input: \"description\"\n",
            "  output: \"label\"\n",
            "}\n",
            "version: \"1.0.0\"\n",
            "download_size: 11784327\n",
            "\u001b[0m\n"
          ]
        }
      ]
    },
    {
      "cell_type": "code",
      "metadata": {
        "id": "d8cUvTi6WVNN"
      },
      "source": [
        "####  Dataset Splits (Training, Test, Validation)\n",
        "#### .8934 Training, .0470 Test, .0596 Validation"
      ],
      "execution_count": null,
      "outputs": []
    },
    {
      "cell_type": "code",
      "metadata": {
        "colab": {
          "base_uri": "https://localhost:8080/"
        },
        "id": "5YVES5iQWVSQ",
        "outputId": "0fd4a9bd-b349-41ef-ee95-49683a212e2e"
      },
      "source": [
        "len(train_dataset),len(validation_dataset),len(test_dataset) \n",
        "# len(train_dataset),len(test_dataset)"
      ],
      "execution_count": 31,
      "outputs": [
        {
          "output_type": "execute_result",
          "data": {
            "text/plain": [
              "(114000, 6000, 7600)"
            ]
          },
          "metadata": {},
          "execution_count": 31
        }
      ]
    },
    {
      "cell_type": "markdown",
      "metadata": {
        "id": "tVpNTAXbXJiZ"
      },
      "source": [
        "**Review Distribution of Categorical Labels for the 114000 training data (news articles)**\n"
      ]
    },
    {
      "cell_type": "code",
      "metadata": {
        "colab": {
          "base_uri": "https://localhost:8080/"
        },
        "id": "CPsZUeOjWVWo",
        "outputId": "bf0f51c9-fc78-415e-9043-fd1267c69ce0"
      },
      "source": [
        "from collections import Counter\n",
        "train_categories = [categories[label] for label in train_dataset.map(lambda text, label: label).as_numpy_iterator()]\n",
        "Counter(train_categories).most_common()"
      ],
      "execution_count": 32,
      "outputs": [
        {
          "output_type": "execute_result",
          "data": {
            "text/plain": [
              "[('Business', 28531), ('Sports', 28495), ('World', 28491), ('Sci/Tech', 28483)]"
            ]
          },
          "metadata": {},
          "execution_count": 32
        }
      ]
    },
    {
      "cell_type": "markdown",
      "metadata": {
        "id": "5agiNtkGXd0R"
      },
      "source": [
        "Review Example with Interger Label(text, label pairs):\n",
        "\n",
        "Review Example with Interger Label Encoded Classification(text, label pairs):"
      ]
    },
    {
      "cell_type": "code",
      "metadata": {
        "colab": {
          "base_uri": "https://localhost:8080/"
        },
        "id": "3Ox_UTjpWVa5",
        "outputId": "9c82be17-1ae7-49d4-eb3f-6294f433415e"
      },
      "source": [
        "for example, label in train_dataset.take(1):\n",
        "  print('text: ', example.numpy())\n",
        "  print('class: ', categories[label.numpy()])"
      ],
      "execution_count": 33,
      "outputs": [
        {
          "output_type": "stream",
          "name": "stdout",
          "text": [
            "text:  b'AMD #39;s new dual-core Opteron chip is designed mainly for corporate computing applications, including databases, Web services, and financial transactions.'\n",
            "class:  Sci/Tech\n"
          ]
        }
      ]
    },
    {
      "cell_type": "markdown",
      "metadata": {
        "id": "k7lL-5JWXgr5"
      },
      "source": [
        "**Preprocessing Shuffle Data for Training and Create Batches of (text, label) pairs:**\n"
      ]
    },
    {
      "cell_type": "code",
      "metadata": {
        "id": "2CAyTPR0XkcV"
      },
      "source": [
        "BUFFER_SIZE = 10000\n",
        "BATCH_SIZE = 64"
      ],
      "execution_count": 34,
      "outputs": []
    },
    {
      "cell_type": "code",
      "metadata": {
        "id": "JtnxiulqXkfv"
      },
      "source": [
        "train_dataset = train_dataset.shuffle(BUFFER_SIZE).batch(BATCH_SIZE).prefetch(tf.data.experimental.AUTOTUNE)\n",
        "validation_dataset = validation_dataset.shuffle(BUFFER_SIZE).batch(BATCH_SIZE).prefetch(tf.data.experimental.AUTOTUNE)\n",
        "test_dataset = test_dataset.batch(BATCH_SIZE).prefetch(tf.data.experimental.AUTOTUNE)"
      ],
      "execution_count": 35,
      "outputs": []
    },
    {
      "cell_type": "code",
      "metadata": {
        "colab": {
          "base_uri": "https://localhost:8080/"
        },
        "id": "uDOcqvc-XkjY",
        "outputId": "34d8c5f2-1de9-44a5-b6d7-095bc2c49b16"
      },
      "source": [
        "for example, label in train_dataset.take(2):\n",
        "  print('texts: ', example.numpy()[:3])\n",
        "  print()\n",
        "  print('labels: ', label.numpy()[:3])"
      ],
      "execution_count": 36,
      "outputs": [
        {
          "output_type": "stream",
          "name": "stdout",
          "text": [
            "texts:  [b'The Belgian tennis ace, 21, called Hewitt to end their relationship without giving a reason - then posted a statement on her website.'\n",
            " b\"EAST GREENWICH, R.I. -- A pair of J's carried Chelmsford to a commanding win in the Varsity 2 race yesterday at the 22d Brown Invitational.\"\n",
            " b\"AP - Oxygen and food will be worrisomely low on the international space station by Christmas, and it's crucial that a Russian supply ship get there by then, a top NASA official said Friday.\"]\n",
            "\n",
            "labels:  [1 1 3]\n",
            "texts:  [b'Sony said it will make half the console #39;s components, compared with 40 percent for the PlayStation 2, to set itself apart from competitors.'\n",
            " b'Strong growth in UK customer numbers at MMO2 has enabled the mobile operator to raise its UK revenue growth forecast. In a trading update, MMO2 said it now expected UK revenue to grow by 9-12 in the year '\n",
            " b\"USATODAY.com - Steve Jobs is a master when it comes to figuring out ways to help the masses savor songs digitally. Now Apple's boss is counting on a new lightweight mobile base station called AirPort Express to continue to bang the drum for digital music.\"]\n",
            "\n",
            "labels:  [3 2 3]\n"
          ]
        }
      ]
    },
    {
      "cell_type": "code",
      "metadata": {
        "colab": {
          "base_uri": "https://localhost:8080/"
        },
        "id": "sxIMmgW3YzjA",
        "outputId": "9f256f39-1207-4fdc-c64c-f41bd1f17583"
      },
      "source": [
        "for example, label in train_dataset.take(2):\n",
        "  print('texts: ', example.numpy()[:3])\n",
        "  print()\n",
        "  print('labels: ', [categories[n] for n in label.numpy()[:3]])\n",
        "  print()"
      ],
      "execution_count": 37,
      "outputs": [
        {
          "output_type": "stream",
          "name": "stdout",
          "text": [
            "texts:  [b'Southampton have been told it was  quot;unacceptable quot; they parted company with manager Paul Sturrock after just two games into the Barclays Premiership season.'\n",
            " b'Ichiro Suzuki inched closer to the Major League hits record with a 2-for-4 night. They were two of just five hits Seattle managed against Cleveland starter CC '\n",
            " b'Philippine rescue teams evacuated thousands of people from the worst flooding in the central Luzon region since the 1970s as hungry victims hunted rats and birds for food.']\n",
            "\n",
            "labels:  ['Sports', 'Sports', 'World']\n",
            "\n",
            "texts:  [b'PARIS -- Palestinian Authority President Yasser Arafat #39;s medical records show no definite diagnosis explaining his death, his nephew said Monday.'\n",
            " b'Reuters - U.S. state and local air pollution\\\\control officials said on Tuesday they are pulling out of\\\\five-year-old talks to develop a voluntary program for reducing\\\\pollution from aircraft engines.'\n",
            " b'Sudan bowed to a five-point plan tabled by Tony Blair during talks in Khartoum yesterday, which included accepting the free movement of 3,500 African Union troops as ceasefire monitors in Darfur province.']\n",
            "\n",
            "labels:  ['World', 'Sci/Tech', 'World']\n",
            "\n"
          ]
        }
      ]
    },
    {
      "cell_type": "markdown",
      "metadata": {
        "id": "R1YVk7pfY8Ck"
      },
      "source": [
        "**Create the Text Encoder**\n",
        "\n",
        "The raw text loaded by tfds needs to be processed before it can be used in a model. The simplest way to process text for training is using the experimental.preprocessing.TextVectorization layer. This layer has many capabilities, but this tutorial sticks to the default behavior.\n",
        "\n",
        "Create the layer, and pass the dataset's text to the layer's .adapt method: The processing of each sample contains the following steps:\n",
        "\n",
        "standardize each sample (usually lowercasing + punctuation stripping)\n",
        "split each sample into substrings (usually words)\n",
        "recombine substrings into tokens (usually ngrams)\n",
        "index tokens (associate a unique int value with each token)\n",
        "transform each sample using this index, either into a vector of ints or a dense float vector.\n",
        "The .adapt method sets the layer's vocabulary. Here are the first 20 tokens. After the padding and unknown tokens they're sorted by frequency:"
      ]
    },
    {
      "cell_type": "code",
      "metadata": {
        "id": "JUel99DgYzm3"
      },
      "source": [
        "VOCAB_SIZE=1000\n",
        "encoder = tf.keras.layers.experimental.preprocessing.TextVectorization(\n",
        "    max_tokens=VOCAB_SIZE)\n",
        "encoder.adapt(train_dataset.map(lambda text, label: text))"
      ],
      "execution_count": 38,
      "outputs": []
    },
    {
      "cell_type": "code",
      "metadata": {
        "colab": {
          "base_uri": "https://localhost:8080/"
        },
        "id": "n4Z_Kf_bYzsu",
        "outputId": "3268273c-7753-4b30-d4aa-33f6ccc454e9"
      },
      "source": [
        "vocab = np.array(encoder.get_vocabulary())\n",
        "len(vocab)"
      ],
      "execution_count": 39,
      "outputs": [
        {
          "output_type": "execute_result",
          "data": {
            "text/plain": [
              "1000"
            ]
          },
          "metadata": {},
          "execution_count": 39
        }
      ]
    },
    {
      "cell_type": "code",
      "metadata": {
        "colab": {
          "base_uri": "https://localhost:8080/"
        },
        "id": "ihO64lNWYzyj",
        "outputId": "7f6f1639-3a3c-4bc8-f3ea-da2275a71d38"
      },
      "source": [
        "vocab = np.array(encoder.get_vocabulary())\n",
        "vocab[:20]"
      ],
      "execution_count": 40,
      "outputs": [
        {
          "output_type": "execute_result",
          "data": {
            "text/plain": [
              "array(['', '[UNK]', 'the', 'a', 'to', 'of', 'in', 'and', 'on', 'for',\n",
              "       'that', '39s', 'with', 'its', 'as', 'at', 'is', 'said', 'by', 'it'],\n",
              "      dtype='<U14')"
            ]
          },
          "metadata": {},
          "execution_count": 40
        }
      ]
    },
    {
      "cell_type": "code",
      "metadata": {
        "colab": {
          "base_uri": "https://localhost:8080/"
        },
        "id": "sIKZs8x7ZIVy",
        "outputId": "20e571be-7668-4a07-c7d3-f06d686337ec"
      },
      "source": [
        "vocab[-20:]"
      ],
      "execution_count": 41,
      "outputs": [
        {
          "output_type": "execute_result",
          "data": {
            "text/plain": [
              "array(['black', 'turn', 'build', 'countrys', 'advanced', 'whose',\n",
              "       'crisis', 'create', '23', 'sources', 'body', 'militant', 'hope',\n",
              "       'event', 'started', 'ready', 'jones', 'lawsuit', 'focus',\n",
              "       'singapore'], dtype='<U14')"
            ]
          },
          "metadata": {},
          "execution_count": 41
        }
      ]
    },
    {
      "cell_type": "code",
      "metadata": {
        "colab": {
          "base_uri": "https://localhost:8080/"
        },
        "id": "-HRDO2I6ZIdQ",
        "outputId": "d89447f3-ee6a-4d5e-db50-29e81f795124"
      },
      "source": [
        "encoded_example = encoder(example)[:3].numpy()\n",
        "encoded_example"
      ],
      "execution_count": 42,
      "outputs": [
        {
          "output_type": "execute_result",
          "data": {
            "text/plain": [
              "array([[629, 269,   1,  66, 721, 703,  11, 979,   1, 534,  85,   1,   1,\n",
              "          1,  24, 536,  24,   1,  17,  42,   0,   0,   0,   0,   0,   0,\n",
              "          0,   0,   0,   0,   0,   0,   0,   0,   0,   0,   0,   0,   0,\n",
              "          0,   0,   0,   0,   0,   0,   0,   0,   0,   0,   0,   0,   0,\n",
              "          0,   0,   0,   0,   0,   0,   0,   0,   0,   0,   0,   0,   0,\n",
              "          0,   0,   0,   0,   0,   0,   0,   0,   0,   0,   0,   0,   0,\n",
              "          0,   0,   0,   0,   0,   0,   0,   0,   0,   0,   0,   0,   0,\n",
              "          0,   0,   0,   0,   0,   0,   0,   0,   0,   0,   0,   0,   0,\n",
              "          0,   0,   0,   0,   0,   0,   0,   0,   0,   0,   0,   0,   0,\n",
              "          0,   0,   0,   0,   0,   0,   0,   0,   0,   0,   0,   0,   0,\n",
              "          0,   0,   0,   0,   0],\n",
              "       [ 28,  25, 111,   7, 691, 336,   1, 120,  17,   8,  44,  53,  33,\n",
              "          1,  65,   1, 258,   4,   1,   3,   1, 408,   9,   1,  23,   1,\n",
              "          1,   0,   0,   0,   0,   0,   0,   0,   0,   0,   0,   0,   0,\n",
              "          0,   0,   0,   0,   0,   0,   0,   0,   0,   0,   0,   0,   0,\n",
              "          0,   0,   0,   0,   0,   0,   0,   0,   0,   0,   0,   0,   0,\n",
              "          0,   0,   0,   0,   0,   0,   0,   0,   0,   0,   0,   0,   0,\n",
              "          0,   0,   0,   0,   0,   0,   0,   0,   0,   0,   0,   0,   0,\n",
              "          0,   0,   0,   0,   0,   0,   0,   0,   0,   0,   0,   0,   0,\n",
              "          0,   0,   0,   0,   0,   0,   0,   0,   0,   0,   0,   0,   0,\n",
              "          0,   0,   0,   0,   0,   0,   0,   0,   0,   0,   0,   0,   0,\n",
              "          0,   0,   0,   0,   0],\n",
              "       [862,   1,   4,   3,   1, 262,   1,  18, 775,   1, 162, 258,   6,\n",
              "          1,  52,  75,   1,   1,   2, 378,   1,   5,   1, 739, 251, 333,\n",
              "         14,   1,   1,   6, 615,   1,   0,   0,   0,   0,   0,   0,   0,\n",
              "          0,   0,   0,   0,   0,   0,   0,   0,   0,   0,   0,   0,   0,\n",
              "          0,   0,   0,   0,   0,   0,   0,   0,   0,   0,   0,   0,   0,\n",
              "          0,   0,   0,   0,   0,   0,   0,   0,   0,   0,   0,   0,   0,\n",
              "          0,   0,   0,   0,   0,   0,   0,   0,   0,   0,   0,   0,   0,\n",
              "          0,   0,   0,   0,   0,   0,   0,   0,   0,   0,   0,   0,   0,\n",
              "          0,   0,   0,   0,   0,   0,   0,   0,   0,   0,   0,   0,   0,\n",
              "          0,   0,   0,   0,   0,   0,   0,   0,   0,   0,   0,   0,   0,\n",
              "          0,   0,   0,   0,   0]])"
            ]
          },
          "metadata": {},
          "execution_count": 42
        }
      ]
    },
    {
      "cell_type": "markdown",
      "metadata": {
        "id": "SzE0nvagZbjG"
      },
      "source": [
        "With the default settings, the process is not completely reversible. There are three main reasons for that:\n",
        "\n",
        "1. The default value for preprocessing.TextVectorization's standardize argument is \"lower_and_strip_punctuation\".\n",
        "2. The limited vocabulary size and lack of character-based fallback results in some unknown tokens."
      ]
    },
    {
      "cell_type": "code",
      "metadata": {
        "colab": {
          "base_uri": "https://localhost:8080/"
        },
        "id": "-baO_cqEZdjO",
        "outputId": "5f572d45-196f-4aa1-a9c8-b012f4ffb8e9"
      },
      "source": [
        "for n in range(3):\n",
        "  print(\"Original: \", example[n].numpy())\n",
        "  print(\"Round-trip: \", \" \".join(vocab[encoded_example[n]]))\n",
        "  print()"
      ],
      "execution_count": 43,
      "outputs": [
        {
          "output_type": "stream",
          "name": "stdout",
          "text": [
            "Original:  b'PARIS -- Palestinian Authority President Yasser Arafat #39;s medical records show no definite diagnosis explaining his death, his nephew said Monday.'\n",
            "Round-trip:  paris palestinian [UNK] president yasser arafat 39s medical [UNK] show no [UNK] [UNK] [UNK] his death his [UNK] said monday                                                                                                                   \n",
            "\n",
            "Original:  b'Reuters - U.S. state and local air pollution\\\\control officials said on Tuesday they are pulling out of\\\\five-year-old talks to develop a voluntary program for reducing\\\\pollution from aircraft engines.'\n",
            "Round-trip:  reuters us state and local air [UNK] officials said on tuesday they are [UNK] out [UNK] talks to [UNK] a [UNK] program for [UNK] from [UNK] [UNK]                                                                                                            \n",
            "\n",
            "Original:  b'Sudan bowed to a five-point plan tabled by Tony Blair during talks in Khartoum yesterday, which included accepting the free movement of 3,500 African Union troops as ceasefire monitors in Darfur province.'\n",
            "Round-trip:  sudan [UNK] to a [UNK] plan [UNK] by tony [UNK] during talks in [UNK] yesterday which [UNK] [UNK] the free [UNK] of [UNK] african union troops as [UNK] [UNK] in darfur [UNK]                                                                                                       \n",
            "\n"
          ]
        }
      ]
    },
    {
      "cell_type": "markdown",
      "metadata": {
        "id": "z9H1Twobf2px"
      },
      "source": [
        "**Experiment D: 1D CNN**"
      ]
    },
    {
      "cell_type": "markdown",
      "metadata": {
        "id": "GEF8dxWcZlC0"
      },
      "source": [
        "\n",
        "**Create the model**\n",
        "\n",
        "A drawing of the information flow in the model\n",
        "\n",
        "Above is a diagram of the model.\n",
        "\n",
        "This model can be build as a tf.keras.Sequential.\n",
        "\n",
        "The first layer is the encoder, which converts the text to a sequence of token indices.\n",
        "\n",
        "After the encoder is an embedding layer. An embedding layer stores one vector per word. When called, it converts the sequences of word indices to sequences of vectors. These vectors are trainable. After training (on enough data), words with similar meanings often have similar vectors.\n",
        "\n",
        "This index-lookup is much more efficient than the equivalent operation of passing a one-hot encoded vector through a tf.keras.layers.Dense layer.\n",
        "\n",
        "A recurrent neural network (RNN) processes sequence input by iterating through the elements. RNNs pass the outputs from one timestep to their input on the next timestep.\n",
        "\n",
        "The tf.keras.layers.Bidirectional wrapper can also be used with an RNN layer. This propagates the input forward and backwards through the RNN layer and then concatenates the final output.\n",
        "\n",
        "The main advantage to a bidirectional RNN is that the signal from the beginning of the input doesn't need to be processed all the way through every timestep to affect the output.\n",
        "\n",
        "The main disadvantage of a bidirectional RNN is that you can't efficiently stream predictions as words are being added to the end.\n",
        "\n",
        "After the RNN has converted the sequence to a single vector the two layers.Dense do some final processing, and convert from this vector representation to a single logit as the classification output.\n",
        "\n"
      ]
    },
    {
      "cell_type": "code",
      "metadata": {
        "id": "gW2uU1BcyxY-"
      },
      "source": [
        "# Single Layer CNN\n",
        "\n",
        "model = tf.keras.models.Sequential([encoder, tf.keras.layers.Embedding(input_dim = len(encoder.get_vocabulary()),\n",
        "                                                                       output_dim = 128, mask_zero = True), \n",
        "                                    tf.keras.layers.Conv1D(filters = 128,\n",
        "                                                           kernel_size = 7,\n",
        "                                                           padding = 'valid',\n",
        "                                                           activation = 'relu',\n",
        "                                                           strides = 3),\n",
        "                                    tf.keras.layers.GlobalMaxPooling1D(),\n",
        "                                    tf.keras.layers.Dense(units = 128,\n",
        "                                                          activation = 'relu'),\n",
        "                                    tf.keras.layers.Dense(4, activation = tf.nn.softmax)\n",
        "                                                          ])"
      ],
      "execution_count": 92,
      "outputs": []
    },
    {
      "cell_type": "code",
      "metadata": {
        "id": "iCiOZT8U10QT"
      },
      "source": [
        "model.compile(optimizer = tf.keras.optimizers.Adam(1e-4),\n",
        "              loss=tf.keras.losses.SparseCategoricalCrossentropy(),\n",
        "              metrics=['accuracy'])"
      ],
      "execution_count": 93,
      "outputs": []
    },
    {
      "cell_type": "markdown",
      "metadata": {
        "id": "payrYDxoZ43Q"
      },
      "source": [
        "Please note that Keras sequential model is used here since all the layers in the model only have single input and produce single output. In case you want to use stateful RNN layer, you might want to build your model with Keras functional API or model subclassing so that you can retrieve and reuse the RNN layer states. Please check Keras RNN guide for more details.\n",
        "\n",
        "The embedding layer uses masking to handle the varying sequence-lengths. All the layers after the Embedding support masking:"
      ]
    },
    {
      "cell_type": "code",
      "metadata": {
        "colab": {
          "base_uri": "https://localhost:8080/"
        },
        "id": "qS2kta7iZdt9",
        "outputId": "930935ef-d85b-427b-c2a0-997304c0b4c1"
      },
      "source": [
        "print([layer.supports_masking for layer in model.layers])"
      ],
      "execution_count": 94,
      "outputs": [
        {
          "output_type": "stream",
          "name": "stdout",
          "text": [
            "[False, True, False, False, True, True]\n"
          ]
        }
      ]
    },
    {
      "cell_type": "code",
      "metadata": {
        "colab": {
          "base_uri": "https://localhost:8080/"
        },
        "id": "Kvb8M3cU6AiQ",
        "outputId": "10867042-08cf-4295-c045-7d6e7c6f6654"
      },
      "source": [
        "history = model.fit(train_dataset\n",
        "                    ,epochs = 200\n",
        "                    ,validation_data=validation_dataset\n",
        "                    ,callbacks=[tf.keras.callbacks.EarlyStopping(monitor='val_accuracy', patience=2)]\n",
        "                    )"
      ],
      "execution_count": 95,
      "outputs": [
        {
          "output_type": "stream",
          "name": "stdout",
          "text": [
            "Epoch 1/200\n",
            "1782/1782 [==============================] - 99s 55ms/step - loss: 0.7686 - accuracy: 0.7120 - val_loss: 0.4424 - val_accuracy: 0.8487\n",
            "Epoch 2/200\n",
            "1782/1782 [==============================] - 101s 56ms/step - loss: 0.4152 - accuracy: 0.8530 - val_loss: 0.4108 - val_accuracy: 0.8600\n",
            "Epoch 3/200\n",
            "1782/1782 [==============================] - 95s 53ms/step - loss: 0.3854 - accuracy: 0.8627 - val_loss: 0.4014 - val_accuracy: 0.8600\n",
            "Epoch 4/200\n",
            "1782/1782 [==============================] - 92s 51ms/step - loss: 0.3668 - accuracy: 0.8687 - val_loss: 0.3964 - val_accuracy: 0.8608\n",
            "Epoch 5/200\n",
            "1782/1782 [==============================] - 92s 51ms/step - loss: 0.3509 - accuracy: 0.8752 - val_loss: 0.3947 - val_accuracy: 0.8635\n",
            "Epoch 6/200\n",
            "1782/1782 [==============================] - 92s 51ms/step - loss: 0.3358 - accuracy: 0.8803 - val_loss: 0.3979 - val_accuracy: 0.8630\n",
            "Epoch 7/200\n",
            "1782/1782 [==============================] - 100s 56ms/step - loss: 0.3208 - accuracy: 0.8863 - val_loss: 0.3949 - val_accuracy: 0.8622\n"
          ]
        }
      ]
    },
    {
      "cell_type": "code",
      "metadata": {
        "colab": {
          "base_uri": "https://localhost:8080/"
        },
        "id": "HGZbi_6vZd1X",
        "outputId": "7a3add73-3318-44b0-9105-d62746bffacf"
      },
      "source": [
        "test_loss, test_acc = model.evaluate(test_dataset)\n",
        "\n",
        "print('Test Loss: {}'.format(test_loss))\n",
        "print('Test Accuracy: {}'.format(test_acc))"
      ],
      "execution_count": 96,
      "outputs": [
        {
          "output_type": "stream",
          "name": "stdout",
          "text": [
            "119/119 [==============================] - 2s 14ms/step - loss: 0.4078 - accuracy: 0.8533\n",
            "Test Loss: 0.40782585740089417\n",
            "Test Accuracy: 0.8532894849777222\n"
          ]
        }
      ]
    },
    {
      "cell_type": "markdown",
      "metadata": {
        "id": "I66ycaVIa9MT"
      },
      "source": [
        "**Plotting Performance Metrics - 1D CNN**\n",
        "\n",
        "We use Matplotlib to create 2 plots--displaying the training and validation loss (resp. accuracy) for each (training) epoch side by side."
      ]
    },
    {
      "cell_type": "code",
      "metadata": {
        "colab": {
          "base_uri": "https://localhost:8080/"
        },
        "id": "4u8L7de6a_5z",
        "outputId": "07966b3b-7957-42cb-95f4-93d6d4449625"
      },
      "source": [
        "history_dict = history.history\n",
        "history_dict.keys()"
      ],
      "execution_count": 97,
      "outputs": [
        {
          "output_type": "execute_result",
          "data": {
            "text/plain": [
              "dict_keys(['loss', 'accuracy', 'val_loss', 'val_accuracy'])"
            ]
          },
          "metadata": {},
          "execution_count": 97
        }
      ]
    },
    {
      "cell_type": "code",
      "metadata": {
        "colab": {
          "base_uri": "https://localhost:8080/",
          "height": 266
        },
        "id": "qZNkhZX7bAFn",
        "outputId": "81d75e86-5ee4-43a8-c2aa-5c5e6f291906"
      },
      "source": [
        "history_df=pd.DataFrame(history_dict)\n",
        "history_df.tail(10).round(3)"
      ],
      "execution_count": 98,
      "outputs": [
        {
          "output_type": "execute_result",
          "data": {
            "text/html": [
              "<div>\n",
              "<style scoped>\n",
              "    .dataframe tbody tr th:only-of-type {\n",
              "        vertical-align: middle;\n",
              "    }\n",
              "\n",
              "    .dataframe tbody tr th {\n",
              "        vertical-align: top;\n",
              "    }\n",
              "\n",
              "    .dataframe thead th {\n",
              "        text-align: right;\n",
              "    }\n",
              "</style>\n",
              "<table border=\"1\" class=\"dataframe\">\n",
              "  <thead>\n",
              "    <tr style=\"text-align: right;\">\n",
              "      <th></th>\n",
              "      <th>loss</th>\n",
              "      <th>accuracy</th>\n",
              "      <th>val_loss</th>\n",
              "      <th>val_accuracy</th>\n",
              "    </tr>\n",
              "  </thead>\n",
              "  <tbody>\n",
              "    <tr>\n",
              "      <th>0</th>\n",
              "      <td>0.769</td>\n",
              "      <td>0.712</td>\n",
              "      <td>0.442</td>\n",
              "      <td>0.849</td>\n",
              "    </tr>\n",
              "    <tr>\n",
              "      <th>1</th>\n",
              "      <td>0.415</td>\n",
              "      <td>0.853</td>\n",
              "      <td>0.411</td>\n",
              "      <td>0.860</td>\n",
              "    </tr>\n",
              "    <tr>\n",
              "      <th>2</th>\n",
              "      <td>0.385</td>\n",
              "      <td>0.863</td>\n",
              "      <td>0.401</td>\n",
              "      <td>0.860</td>\n",
              "    </tr>\n",
              "    <tr>\n",
              "      <th>3</th>\n",
              "      <td>0.367</td>\n",
              "      <td>0.869</td>\n",
              "      <td>0.396</td>\n",
              "      <td>0.861</td>\n",
              "    </tr>\n",
              "    <tr>\n",
              "      <th>4</th>\n",
              "      <td>0.351</td>\n",
              "      <td>0.875</td>\n",
              "      <td>0.395</td>\n",
              "      <td>0.863</td>\n",
              "    </tr>\n",
              "    <tr>\n",
              "      <th>5</th>\n",
              "      <td>0.336</td>\n",
              "      <td>0.880</td>\n",
              "      <td>0.398</td>\n",
              "      <td>0.863</td>\n",
              "    </tr>\n",
              "    <tr>\n",
              "      <th>6</th>\n",
              "      <td>0.321</td>\n",
              "      <td>0.886</td>\n",
              "      <td>0.395</td>\n",
              "      <td>0.862</td>\n",
              "    </tr>\n",
              "  </tbody>\n",
              "</table>\n",
              "</div>"
            ],
            "text/plain": [
              "    loss  accuracy  val_loss  val_accuracy\n",
              "0  0.769     0.712     0.442         0.849\n",
              "1  0.415     0.853     0.411         0.860\n",
              "2  0.385     0.863     0.401         0.860\n",
              "3  0.367     0.869     0.396         0.861\n",
              "4  0.351     0.875     0.395         0.863\n",
              "5  0.336     0.880     0.398         0.863\n",
              "6  0.321     0.886     0.395         0.862"
            ]
          },
          "metadata": {},
          "execution_count": 98
        }
      ]
    },
    {
      "cell_type": "code",
      "metadata": {
        "id": "6I-VnW30bALG"
      },
      "source": [
        "losses = history.history['loss']\n",
        "accs = history.history['accuracy']\n",
        "val_losses = history.history['val_loss']\n",
        "val_accs = history.history['val_accuracy']\n",
        "epochs = len(losses)"
      ],
      "execution_count": 99,
      "outputs": []
    },
    {
      "cell_type": "code",
      "metadata": {
        "colab": {
          "base_uri": "https://localhost:8080/",
          "height": 265
        },
        "id": "CtRSXqUMbAQw",
        "outputId": "bd0b9c0e-488c-44bb-f675-854a41e329c0"
      },
      "source": [
        "plt.figure(figsize=(16, 4))\n",
        "for i, metrics in enumerate(zip([losses, accs], [val_losses, val_accs], ['Loss', 'Accuracy'])):\n",
        "    plt.subplot(1, 2, i + 1)\n",
        "    plt.plot(range(epochs), metrics[0], label='Training {}'.format(metrics[2]))\n",
        "    plt.plot(range(epochs), metrics[1], label='Validation {}'.format(metrics[2]))\n",
        "    plt.legend()\n",
        "plt.show()"
      ],
      "execution_count": 100,
      "outputs": [
        {
          "output_type": "display_data",
          "data": {
            "image/png": "[encoded data removed]",
            "text/plain": [
              "<Figure size 1152x288 with 2 Axes>"
            ]
          },
          "metadata": {
            "needs_background": "light"
          }
        }
      ]
    },
    {
      "cell_type": "markdown",
      "metadata": {
        "id": "iyNIDJS_bMlL"
      },
      "source": [
        "**Model Architecture Summary 1D CNN**"
      ]
    },
    {
      "cell_type": "code",
      "metadata": {
        "colab": {
          "base_uri": "https://localhost:8080/"
        },
        "id": "-xGO2xrhbAWR",
        "outputId": "5a051b3a-c41d-4b37-d8de-7955e2622939"
      },
      "source": [
        "embedding_model.summary()"
      ],
      "execution_count": 101,
      "outputs": [
        {
          "output_type": "stream",
          "name": "stdout",
          "text": [
            "Model: \"sequential\"\n",
            "_________________________________________________________________\n",
            "Layer (type)                 Output Shape              Param #   \n",
            "=================================================================\n",
            "embedding (Embedding)        (None, 40, 128)           128000    \n",
            "_________________________________________________________________\n",
            "conv1d (Conv1D)              (None, 12, 128)           114816    \n",
            "_________________________________________________________________\n",
            "max_pooling1d (MaxPooling1D) (None, 6, 128)            0         \n",
            "_________________________________________________________________\n",
            "flatten (Flatten)            (None, 768)               0         \n",
            "_________________________________________________________________\n",
            "dense (Dense)                (None, 128)               98432     \n",
            "_________________________________________________________________\n",
            "dense_1 (Dense)              (None, 4)                 516       \n",
            "=================================================================\n",
            "Total params: 341,764\n",
            "Trainable params: 341,764\n",
            "Non-trainable params: 0\n",
            "_________________________________________________________________\n"
          ]
        }
      ]
    },
    {
      "cell_type": "code",
      "metadata": {
        "colab": {
          "base_uri": "https://localhost:8080/",
          "height": 754
        },
        "id": "X5BmVVoJbAZV",
        "outputId": "f6588b9a-41a9-440c-9df9-2b2e751f3c9a"
      },
      "source": [
        "keras.utils.plot_model(embedding_model, \"Conv1D.png\", show_shapes=True)"
      ],
      "execution_count": 102,
      "outputs": [
        {
          "output_type": "execute_result",
          "data": {
            "image/png": "[encoded data removed]",
            "text/plain": [
              "<IPython.core.display.Image object>"
            ]
          },
          "metadata": {},
          "execution_count": 102
        }
      ]
    },
    {
      "cell_type": "markdown",
      "metadata": {
        "id": "Wa38JltgctCI"
      },
      "source": [
        "**Confusion Matrix**\n"
      ]
    },
    {
      "cell_type": "code",
      "metadata": {
        "id": "jskGC-YIcQt9"
      },
      "source": [
        "preds = model.predict(test_dataset)"
      ],
      "execution_count": 103,
      "outputs": []
    },
    {
      "cell_type": "code",
      "metadata": {
        "colab": {
          "base_uri": "https://localhost:8080/"
        },
        "id": "POX1cwyUczyh",
        "outputId": "43613b82-22cf-48ab-fd59-ae71ec3b7afa"
      },
      "source": [
        "preds.shape"
      ],
      "execution_count": 104,
      "outputs": [
        {
          "output_type": "execute_result",
          "data": {
            "text/plain": [
              "(7600, 4)"
            ]
          },
          "metadata": {},
          "execution_count": 104
        }
      ]
    },
    {
      "cell_type": "code",
      "metadata": {
        "id": "XaqreU_Gcz7m"
      },
      "source": [
        "cm = sns.light_palette((260, 75, 60), input=\"husl\", as_cmap=True)"
      ],
      "execution_count": 105,
      "outputs": []
    },
    {
      "cell_type": "code",
      "metadata": {
        "colab": {
          "base_uri": "https://localhost:8080/",
          "height": 173
        },
        "id": "Eg32IZ7ec0AK",
        "outputId": "bf9ebd41-6773-45f3-8b98-b8af20053639"
      },
      "source": [
        "df = pd.DataFrame(preds[0:15]\n",
        "                  ,columns = ['World','Sports','Business','Sci/Tech']).T\n",
        "df.style.format(\"{:.2%}\").background_gradient(cmap=cm)"
      ],
      "execution_count": 106,
      "outputs": [
        {
          "output_type": "execute_result",
          "data": {
            "text/html": [
              "<style  type=\"text/css\" >\n",
              "#T_d762bb48_3ea9_11ec_8405_0242ac1c0002row0_col0,#T_d762bb48_3ea9_11ec_8405_0242ac1c0002row0_col2,#T_d762bb48_3ea9_11ec_8405_0242ac1c0002row0_col11,#T_d762bb48_3ea9_11ec_8405_0242ac1c0002row1_col1,#T_d762bb48_3ea9_11ec_8405_0242ac1c0002row1_col2,#T_d762bb48_3ea9_11ec_8405_0242ac1c0002row1_col4,#T_d762bb48_3ea9_11ec_8405_0242ac1c0002row1_col5,#T_d762bb48_3ea9_11ec_8405_0242ac1c0002row1_col8,#T_d762bb48_3ea9_11ec_8405_0242ac1c0002row1_col9,#T_d762bb48_3ea9_11ec_8405_0242ac1c0002row1_col10,#T_d762bb48_3ea9_11ec_8405_0242ac1c0002row1_col12,#T_d762bb48_3ea9_11ec_8405_0242ac1c0002row1_col13,#T_d762bb48_3ea9_11ec_8405_0242ac1c0002row1_col14,#T_d762bb48_3ea9_11ec_8405_0242ac1c0002row2_col0,#T_d762bb48_3ea9_11ec_8405_0242ac1c0002row2_col1,#T_d762bb48_3ea9_11ec_8405_0242ac1c0002row2_col3,#T_d762bb48_3ea9_11ec_8405_0242ac1c0002row2_col4,#T_d762bb48_3ea9_11ec_8405_0242ac1c0002row2_col6,#T_d762bb48_3ea9_11ec_8405_0242ac1c0002row2_col7,#T_d762bb48_3ea9_11ec_8405_0242ac1c0002row2_col10,#T_d762bb48_3ea9_11ec_8405_0242ac1c0002row2_col14,#T_d762bb48_3ea9_11ec_8405_0242ac1c0002row3_col0,#T_d762bb48_3ea9_11ec_8405_0242ac1c0002row3_col1,#T_d762bb48_3ea9_11ec_8405_0242ac1c0002row3_col3,#T_d762bb48_3ea9_11ec_8405_0242ac1c0002row3_col4,#T_d762bb48_3ea9_11ec_8405_0242ac1c0002row3_col6,#T_d762bb48_3ea9_11ec_8405_0242ac1c0002row3_col10,#T_d762bb48_3ea9_11ec_8405_0242ac1c0002row3_col14{\n",
              "            background-color:  #f0f1f2;\n",
              "            color:  #000000;\n",
              "        }#T_d762bb48_3ea9_11ec_8405_0242ac1c0002row0_col1,#T_d762bb48_3ea9_11ec_8405_0242ac1c0002row0_col4,#T_d762bb48_3ea9_11ec_8405_0242ac1c0002row0_col8,#T_d762bb48_3ea9_11ec_8405_0242ac1c0002row0_col10,#T_d762bb48_3ea9_11ec_8405_0242ac1c0002row0_col13,#T_d762bb48_3ea9_11ec_8405_0242ac1c0002row0_col14,#T_d762bb48_3ea9_11ec_8405_0242ac1c0002row1_col0,#T_d762bb48_3ea9_11ec_8405_0242ac1c0002row1_col3,#T_d762bb48_3ea9_11ec_8405_0242ac1c0002row1_col6,#T_d762bb48_3ea9_11ec_8405_0242ac1c0002row1_col7,#T_d762bb48_3ea9_11ec_8405_0242ac1c0002row2_col9,#T_d762bb48_3ea9_11ec_8405_0242ac1c0002row2_col12,#T_d762bb48_3ea9_11ec_8405_0242ac1c0002row3_col2,#T_d762bb48_3ea9_11ec_8405_0242ac1c0002row3_col5,#T_d762bb48_3ea9_11ec_8405_0242ac1c0002row3_col11{\n",
              "            background-color:  #778ce4;\n",
              "            color:  #000000;\n",
              "        }#T_d762bb48_3ea9_11ec_8405_0242ac1c0002row0_col3,#T_d762bb48_3ea9_11ec_8405_0242ac1c0002row0_col5,#T_d762bb48_3ea9_11ec_8405_0242ac1c0002row0_col9,#T_d762bb48_3ea9_11ec_8405_0242ac1c0002row0_col12,#T_d762bb48_3ea9_11ec_8405_0242ac1c0002row2_col11,#T_d762bb48_3ea9_11ec_8405_0242ac1c0002row2_col13,#T_d762bb48_3ea9_11ec_8405_0242ac1c0002row3_col13{\n",
              "            background-color:  #f0f0f2;\n",
              "            color:  #000000;\n",
              "        }#T_d762bb48_3ea9_11ec_8405_0242ac1c0002row0_col6,#T_d762bb48_3ea9_11ec_8405_0242ac1c0002row1_col11{\n",
              "            background-color:  #eff0f2;\n",
              "            color:  #000000;\n",
              "        }#T_d762bb48_3ea9_11ec_8405_0242ac1c0002row0_col7{\n",
              "            background-color:  #c1c9ec;\n",
              "            color:  #000000;\n",
              "        }#T_d762bb48_3ea9_11ec_8405_0242ac1c0002row2_col2{\n",
              "            background-color:  #edeef2;\n",
              "            color:  #000000;\n",
              "        }#T_d762bb48_3ea9_11ec_8405_0242ac1c0002row2_col5{\n",
              "            background-color:  #e0e3f0;\n",
              "            color:  #000000;\n",
              "        }#T_d762bb48_3ea9_11ec_8405_0242ac1c0002row2_col8,#T_d762bb48_3ea9_11ec_8405_0242ac1c0002row3_col12{\n",
              "            background-color:  #ecedf2;\n",
              "            color:  #000000;\n",
              "        }#T_d762bb48_3ea9_11ec_8405_0242ac1c0002row3_col7{\n",
              "            background-color:  #efeff2;\n",
              "            color:  #000000;\n",
              "        }#T_d762bb48_3ea9_11ec_8405_0242ac1c0002row3_col8{\n",
              "            background-color:  #ebecf2;\n",
              "            color:  #000000;\n",
              "        }#T_d762bb48_3ea9_11ec_8405_0242ac1c0002row3_col9{\n",
              "            background-color:  #cdd3ee;\n",
              "            color:  #000000;\n",
              "        }</style><table id=\"T_d762bb48_3ea9_11ec_8405_0242ac1c0002\" class=\"dataframe\"><thead>    <tr>        <th class=\"blank level0\" ></th>        <th class=\"col_heading level0 col0\" >0</th>        <th class=\"col_heading level0 col1\" >1</th>        <th class=\"col_heading level0 col2\" >2</th>        <th class=\"col_heading level0 col3\" >3</th>        <th class=\"col_heading level0 col4\" >4</th>        <th class=\"col_heading level0 col5\" >5</th>        <th class=\"col_heading level0 col6\" >6</th>        <th class=\"col_heading level0 col7\" >7</th>        <th class=\"col_heading level0 col8\" >8</th>        <th class=\"col_heading level0 col9\" >9</th>        <th class=\"col_heading level0 col10\" >10</th>        <th class=\"col_heading level0 col11\" >11</th>        <th class=\"col_heading level0 col12\" >12</th>        <th class=\"col_heading level0 col13\" >13</th>        <th class=\"col_heading level0 col14\" >14</th>    </tr></thead><tbody>\n",
              "                <tr>\n",
              "                        <th id=\"T_d762bb48_3ea9_11ec_8405_0242ac1c0002level0_row0\" class=\"row_heading level0 row0\" >World</th>\n",
              "                        <td id=\"T_d762bb48_3ea9_11ec_8405_0242ac1c0002row0_col0\" class=\"data row0 col0\" >0.11%</td>\n",
              "                        <td id=\"T_d762bb48_3ea9_11ec_8405_0242ac1c0002row0_col1\" class=\"data row0 col1\" >99.91%</td>\n",
              "                        <td id=\"T_d762bb48_3ea9_11ec_8405_0242ac1c0002row0_col2\" class=\"data row0 col2\" >0.19%</td>\n",
              "                        <td id=\"T_d762bb48_3ea9_11ec_8405_0242ac1c0002row0_col3\" class=\"data row0 col3\" >0.60%</td>\n",
              "                        <td id=\"T_d762bb48_3ea9_11ec_8405_0242ac1c0002row0_col4\" class=\"data row0 col4\" >99.76%</td>\n",
              "                        <td id=\"T_d762bb48_3ea9_11ec_8405_0242ac1c0002row0_col5\" class=\"data row0 col5\" >0.35%</td>\n",
              "                        <td id=\"T_d762bb48_3ea9_11ec_8405_0242ac1c0002row0_col6\" class=\"data row0 col6\" >1.11%</td>\n",
              "                        <td id=\"T_d762bb48_3ea9_11ec_8405_0242ac1c0002row0_col7\" class=\"data row0 col7\" >27.86%</td>\n",
              "                        <td id=\"T_d762bb48_3ea9_11ec_8405_0242ac1c0002row0_col8\" class=\"data row0 col8\" >92.08%</td>\n",
              "                        <td id=\"T_d762bb48_3ea9_11ec_8405_0242ac1c0002row0_col9\" class=\"data row0 col9\" >0.55%</td>\n",
              "                        <td id=\"T_d762bb48_3ea9_11ec_8405_0242ac1c0002row0_col10\" class=\"data row0 col10\" >99.99%</td>\n",
              "                        <td id=\"T_d762bb48_3ea9_11ec_8405_0242ac1c0002row0_col11\" class=\"data row0 col11\" >0.21%</td>\n",
              "                        <td id=\"T_d762bb48_3ea9_11ec_8405_0242ac1c0002row0_col12\" class=\"data row0 col12\" >0.52%</td>\n",
              "                        <td id=\"T_d762bb48_3ea9_11ec_8405_0242ac1c0002row0_col13\" class=\"data row0 col13\" >97.28%</td>\n",
              "                        <td id=\"T_d762bb48_3ea9_11ec_8405_0242ac1c0002row0_col14\" class=\"data row0 col14\" >99.79%</td>\n",
              "            </tr>\n",
              "            <tr>\n",
              "                        <th id=\"T_d762bb48_3ea9_11ec_8405_0242ac1c0002level0_row1\" class=\"row_heading level0 row1\" >Sports</th>\n",
              "                        <td id=\"T_d762bb48_3ea9_11ec_8405_0242ac1c0002row1_col0\" class=\"data row1 col0\" >99.84%</td>\n",
              "                        <td id=\"T_d762bb48_3ea9_11ec_8405_0242ac1c0002row1_col1\" class=\"data row1 col1\" >0.01%</td>\n",
              "                        <td id=\"T_d762bb48_3ea9_11ec_8405_0242ac1c0002row1_col2\" class=\"data row1 col2\" >0.00%</td>\n",
              "                        <td id=\"T_d762bb48_3ea9_11ec_8405_0242ac1c0002row1_col3\" class=\"data row1 col3\" >99.27%</td>\n",
              "                        <td id=\"T_d762bb48_3ea9_11ec_8405_0242ac1c0002row1_col4\" class=\"data row1 col4\" >0.01%</td>\n",
              "                        <td id=\"T_d762bb48_3ea9_11ec_8405_0242ac1c0002row1_col5\" class=\"data row1 col5\" >0.01%</td>\n",
              "                        <td id=\"T_d762bb48_3ea9_11ec_8405_0242ac1c0002row1_col6\" class=\"data row1 col6\" >98.81%</td>\n",
              "                        <td id=\"T_d762bb48_3ea9_11ec_8405_0242ac1c0002row1_col7\" class=\"data row1 col7\" >71.17%</td>\n",
              "                        <td id=\"T_d762bb48_3ea9_11ec_8405_0242ac1c0002row1_col8\" class=\"data row1 col8\" >0.05%</td>\n",
              "                        <td id=\"T_d762bb48_3ea9_11ec_8405_0242ac1c0002row1_col9\" class=\"data row1 col9\" >0.01%</td>\n",
              "                        <td id=\"T_d762bb48_3ea9_11ec_8405_0242ac1c0002row1_col10\" class=\"data row1 col10\" >0.00%</td>\n",
              "                        <td id=\"T_d762bb48_3ea9_11ec_8405_0242ac1c0002row1_col11\" class=\"data row1 col11\" >1.31%</td>\n",
              "                        <td id=\"T_d762bb48_3ea9_11ec_8405_0242ac1c0002row1_col12\" class=\"data row1 col12\" >0.03%</td>\n",
              "                        <td id=\"T_d762bb48_3ea9_11ec_8405_0242ac1c0002row1_col13\" class=\"data row1 col13\" >0.55%</td>\n",
              "                        <td id=\"T_d762bb48_3ea9_11ec_8405_0242ac1c0002row1_col14\" class=\"data row1 col14\" >0.00%</td>\n",
              "            </tr>\n",
              "            <tr>\n",
              "                        <th id=\"T_d762bb48_3ea9_11ec_8405_0242ac1c0002level0_row2\" class=\"row_heading level0 row2\" >Business</th>\n",
              "                        <td id=\"T_d762bb48_3ea9_11ec_8405_0242ac1c0002row2_col0\" class=\"data row2 col0\" >0.01%</td>\n",
              "                        <td id=\"T_d762bb48_3ea9_11ec_8405_0242ac1c0002row2_col1\" class=\"data row2 col1\" >0.08%</td>\n",
              "                        <td id=\"T_d762bb48_3ea9_11ec_8405_0242ac1c0002row2_col2\" class=\"data row2 col2\" >2.85%</td>\n",
              "                        <td id=\"T_d762bb48_3ea9_11ec_8405_0242ac1c0002row2_col3\" class=\"data row2 col3\" >0.05%</td>\n",
              "                        <td id=\"T_d762bb48_3ea9_11ec_8405_0242ac1c0002row2_col4\" class=\"data row2 col4\" >0.12%</td>\n",
              "                        <td id=\"T_d762bb48_3ea9_11ec_8405_0242ac1c0002row2_col5\" class=\"data row2 col5\" >11.96%</td>\n",
              "                        <td id=\"T_d762bb48_3ea9_11ec_8405_0242ac1c0002row2_col6\" class=\"data row2 col6\" >0.02%</td>\n",
              "                        <td id=\"T_d762bb48_3ea9_11ec_8405_0242ac1c0002row2_col7\" class=\"data row2 col7\" >0.02%</td>\n",
              "                        <td id=\"T_d762bb48_3ea9_11ec_8405_0242ac1c0002row2_col8\" class=\"data row2 col8\" >3.54%</td>\n",
              "                        <td id=\"T_d762bb48_3ea9_11ec_8405_0242ac1c0002row2_col9\" class=\"data row2 col9\" >76.71%</td>\n",
              "                        <td id=\"T_d762bb48_3ea9_11ec_8405_0242ac1c0002row2_col10\" class=\"data row2 col10\" >0.00%</td>\n",
              "                        <td id=\"T_d762bb48_3ea9_11ec_8405_0242ac1c0002row2_col11\" class=\"data row2 col11\" >0.61%</td>\n",
              "                        <td id=\"T_d762bb48_3ea9_11ec_8405_0242ac1c0002row2_col12\" class=\"data row2 col12\" >95.89%</td>\n",
              "                        <td id=\"T_d762bb48_3ea9_11ec_8405_0242ac1c0002row2_col13\" class=\"data row2 col13\" >1.22%</td>\n",
              "                        <td id=\"T_d762bb48_3ea9_11ec_8405_0242ac1c0002row2_col14\" class=\"data row2 col14\" >0.15%</td>\n",
              "            </tr>\n",
              "            <tr>\n",
              "                        <th id=\"T_d762bb48_3ea9_11ec_8405_0242ac1c0002level0_row3\" class=\"row_heading level0 row3\" >Sci/Tech</th>\n",
              "                        <td id=\"T_d762bb48_3ea9_11ec_8405_0242ac1c0002row3_col0\" class=\"data row3 col0\" >0.03%</td>\n",
              "                        <td id=\"T_d762bb48_3ea9_11ec_8405_0242ac1c0002row3_col1\" class=\"data row3 col1\" >0.01%</td>\n",
              "                        <td id=\"T_d762bb48_3ea9_11ec_8405_0242ac1c0002row3_col2\" class=\"data row3 col2\" >96.97%</td>\n",
              "                        <td id=\"T_d762bb48_3ea9_11ec_8405_0242ac1c0002row3_col3\" class=\"data row3 col3\" >0.07%</td>\n",
              "                        <td id=\"T_d762bb48_3ea9_11ec_8405_0242ac1c0002row3_col4\" class=\"data row3 col4\" >0.11%</td>\n",
              "                        <td id=\"T_d762bb48_3ea9_11ec_8405_0242ac1c0002row3_col5\" class=\"data row3 col5\" >87.68%</td>\n",
              "                        <td id=\"T_d762bb48_3ea9_11ec_8405_0242ac1c0002row3_col6\" class=\"data row3 col6\" >0.06%</td>\n",
              "                        <td id=\"T_d762bb48_3ea9_11ec_8405_0242ac1c0002row3_col7\" class=\"data row3 col7\" >0.94%</td>\n",
              "                        <td id=\"T_d762bb48_3ea9_11ec_8405_0242ac1c0002row3_col8\" class=\"data row3 col8\" >4.33%</td>\n",
              "                        <td id=\"T_d762bb48_3ea9_11ec_8405_0242ac1c0002row3_col9\" class=\"data row3 col9\" >22.73%</td>\n",
              "                        <td id=\"T_d762bb48_3ea9_11ec_8405_0242ac1c0002row3_col10\" class=\"data row3 col10\" >0.00%</td>\n",
              "                        <td id=\"T_d762bb48_3ea9_11ec_8405_0242ac1c0002row3_col11\" class=\"data row3 col11\" >97.86%</td>\n",
              "                        <td id=\"T_d762bb48_3ea9_11ec_8405_0242ac1c0002row3_col12\" class=\"data row3 col12\" >3.56%</td>\n",
              "                        <td id=\"T_d762bb48_3ea9_11ec_8405_0242ac1c0002row3_col13\" class=\"data row3 col13\" >0.95%</td>\n",
              "                        <td id=\"T_d762bb48_3ea9_11ec_8405_0242ac1c0002row3_col14\" class=\"data row3 col14\" >0.06%</td>\n",
              "            </tr>\n",
              "    </tbody></table>"
            ],
            "text/plain": [
              "<pandas.io.formats.style.Styler at 0x7fa542189390>"
            ]
          },
          "metadata": {},
          "execution_count": 106
        }
      ]
    },
    {
      "cell_type": "markdown",
      "metadata": {
        "id": "UoE99uxM43Ka"
      },
      "source": [
        ""
      ]
    },
    {
      "cell_type": "code",
      "metadata": {
        "id": "sNTkrv7cmP6X"
      },
      "source": [
        "# Multi Layer CNN\n",
        "\n",
        "model = tf.keras.models.Sequential([encoder, tf.keras.layers.Embedding(input_dim = len(encoder.get_vocabulary()),\n",
        "                                                                       output_dim = 128, mask_zero = True), \n",
        "                                    tf.keras.layers.Conv1D(filters = 128,\n",
        "                                                           kernel_size = 7,\n",
        "                                                           padding = 'valid',\n",
        "                                                           activation = 'relu',\n",
        "                                                           strides = 3),\n",
        "                                    tf.keras.layers.Conv1D(filters = 128,\n",
        "                                                           kernel_size = 7,\n",
        "                                                           padding = 'valid',\n",
        "                                                           activation = 'relu',\n",
        "                                                           strides = 3),\n",
        "                                    tf.keras.layers.GlobalMaxPooling1D(),\n",
        "                                    tf.keras.layers.Dense(units = 128,\n",
        "                                                          activation = 'relu'),\n",
        "                                    tf.keras.layers.Dense(4, activation = tf.nn.softmax)\n",
        "                                                          ])"
      ],
      "execution_count": 76,
      "outputs": []
    },
    {
      "cell_type": "code",
      "metadata": {
        "id": "DImI3kVZ5RZv"
      },
      "source": [
        "model.compile(optimizer = tf.keras.optimizers.Adam(1e-4),\n",
        "              loss=tf.keras.losses.SparseCategoricalCrossentropy(),\n",
        "              metrics=['accuracy'])"
      ],
      "execution_count": 77,
      "outputs": []
    },
    {
      "cell_type": "code",
      "metadata": {
        "colab": {
          "base_uri": "https://localhost:8080/"
        },
        "id": "lfAPktP_5RpV",
        "outputId": "362c9cad-3c61-4288-c13c-8ab4cc3e2920"
      },
      "source": [
        "print([layer.supports_masking for layer in model.layers])"
      ],
      "execution_count": 78,
      "outputs": [
        {
          "output_type": "stream",
          "name": "stdout",
          "text": [
            "[False, True, False, False, False, True, True]\n"
          ]
        }
      ]
    },
    {
      "cell_type": "code",
      "metadata": {
        "colab": {
          "base_uri": "https://localhost:8080/"
        },
        "id": "f42-kvg25Rza",
        "outputId": "0aebebc2-019b-4c8f-c6b2-3d329b42c210"
      },
      "source": [
        "history = model.fit(train_dataset\n",
        "                    ,epochs = 200\n",
        "                    ,validation_data=validation_dataset\n",
        "                    ,callbacks=[tf.keras.callbacks.EarlyStopping(monitor='val_accuracy', patience=2)]\n",
        "                    )"
      ],
      "execution_count": 79,
      "outputs": [
        {
          "output_type": "stream",
          "name": "stdout",
          "text": [
            "Epoch 1/200\n",
            "1782/1782 [==============================] - 105s 58ms/step - loss: 0.6881 - accuracy: 0.7233 - val_loss: 0.4449 - val_accuracy: 0.8460\n",
            "Epoch 2/200\n",
            "1782/1782 [==============================] - 105s 59ms/step - loss: 0.4184 - accuracy: 0.8488 - val_loss: 0.4098 - val_accuracy: 0.8550\n",
            "Epoch 3/200\n",
            "1782/1782 [==============================] - 105s 59ms/step - loss: 0.3880 - accuracy: 0.8584 - val_loss: 0.3891 - val_accuracy: 0.8608\n",
            "Epoch 4/200\n",
            "1782/1782 [==============================] - 106s 59ms/step - loss: 0.3712 - accuracy: 0.8648 - val_loss: 0.4011 - val_accuracy: 0.8530\n",
            "Epoch 5/200\n",
            "1782/1782 [==============================] - 107s 60ms/step - loss: 0.3586 - accuracy: 0.8687 - val_loss: 0.3862 - val_accuracy: 0.8630\n",
            "Epoch 6/200\n",
            "1782/1782 [==============================] - 107s 60ms/step - loss: 0.3467 - accuracy: 0.8730 - val_loss: 0.3878 - val_accuracy: 0.8588\n",
            "Epoch 7/200\n",
            "1782/1782 [==============================] - 108s 61ms/step - loss: 0.3343 - accuracy: 0.8789 - val_loss: 0.3908 - val_accuracy: 0.8607\n"
          ]
        }
      ]
    },
    {
      "cell_type": "code",
      "metadata": {
        "colab": {
          "base_uri": "https://localhost:8080/"
        },
        "id": "c0JsqUwP5R65",
        "outputId": "78118f7f-e3ca-4d97-d7b9-f164cb2e7ba9"
      },
      "source": [
        "test_loss, test_acc = model.evaluate(test_dataset)\n",
        "\n",
        "print('Test Loss: {}'.format(test_loss))\n",
        "print('Test Accuracy: {}'.format(test_acc))"
      ],
      "execution_count": 80,
      "outputs": [
        {
          "output_type": "stream",
          "name": "stdout",
          "text": [
            "119/119 [==============================] - 2s 15ms/step - loss: 0.4082 - accuracy: 0.8533\n",
            "Test Loss: 0.4082304835319519\n",
            "Test Accuracy: 0.8532894849777222\n"
          ]
        }
      ]
    },
    {
      "cell_type": "code",
      "metadata": {
        "colab": {
          "base_uri": "https://localhost:8080/"
        },
        "id": "WTCVkVXY5SCT",
        "outputId": "32454a97-8b14-4b12-b0aa-8c2377b17d14"
      },
      "source": [
        "history_dict = history.history\n",
        "history_dict.keys()"
      ],
      "execution_count": 81,
      "outputs": [
        {
          "output_type": "execute_result",
          "data": {
            "text/plain": [
              "dict_keys(['loss', 'accuracy', 'val_loss', 'val_accuracy'])"
            ]
          },
          "metadata": {},
          "execution_count": 81
        }
      ]
    },
    {
      "cell_type": "code",
      "metadata": {
        "colab": {
          "base_uri": "https://localhost:8080/",
          "height": 266
        },
        "id": "kRS5fGwb5wIT",
        "outputId": "4c1b8d64-f5c0-45ed-c239-afb09e13fa3e"
      },
      "source": [
        "history_df=pd.DataFrame(history_dict)\n",
        "history_df.tail(10).round(3)"
      ],
      "execution_count": 82,
      "outputs": [
        {
          "output_type": "execute_result",
          "data": {
            "text/html": [
              "<div>\n",
              "<style scoped>\n",
              "    .dataframe tbody tr th:only-of-type {\n",
              "        vertical-align: middle;\n",
              "    }\n",
              "\n",
              "    .dataframe tbody tr th {\n",
              "        vertical-align: top;\n",
              "    }\n",
              "\n",
              "    .dataframe thead th {\n",
              "        text-align: right;\n",
              "    }\n",
              "</style>\n",
              "<table border=\"1\" class=\"dataframe\">\n",
              "  <thead>\n",
              "    <tr style=\"text-align: right;\">\n",
              "      <th></th>\n",
              "      <th>loss</th>\n",
              "      <th>accuracy</th>\n",
              "      <th>val_loss</th>\n",
              "      <th>val_accuracy</th>\n",
              "    </tr>\n",
              "  </thead>\n",
              "  <tbody>\n",
              "    <tr>\n",
              "      <th>0</th>\n",
              "      <td>0.688</td>\n",
              "      <td>0.723</td>\n",
              "      <td>0.445</td>\n",
              "      <td>0.846</td>\n",
              "    </tr>\n",
              "    <tr>\n",
              "      <th>1</th>\n",
              "      <td>0.418</td>\n",
              "      <td>0.849</td>\n",
              "      <td>0.410</td>\n",
              "      <td>0.855</td>\n",
              "    </tr>\n",
              "    <tr>\n",
              "      <th>2</th>\n",
              "      <td>0.388</td>\n",
              "      <td>0.858</td>\n",
              "      <td>0.389</td>\n",
              "      <td>0.861</td>\n",
              "    </tr>\n",
              "    <tr>\n",
              "      <th>3</th>\n",
              "      <td>0.371</td>\n",
              "      <td>0.865</td>\n",
              "      <td>0.401</td>\n",
              "      <td>0.853</td>\n",
              "    </tr>\n",
              "    <tr>\n",
              "      <th>4</th>\n",
              "      <td>0.359</td>\n",
              "      <td>0.869</td>\n",
              "      <td>0.386</td>\n",
              "      <td>0.863</td>\n",
              "    </tr>\n",
              "    <tr>\n",
              "      <th>5</th>\n",
              "      <td>0.347</td>\n",
              "      <td>0.873</td>\n",
              "      <td>0.388</td>\n",
              "      <td>0.859</td>\n",
              "    </tr>\n",
              "    <tr>\n",
              "      <th>6</th>\n",
              "      <td>0.334</td>\n",
              "      <td>0.879</td>\n",
              "      <td>0.391</td>\n",
              "      <td>0.861</td>\n",
              "    </tr>\n",
              "  </tbody>\n",
              "</table>\n",
              "</div>"
            ],
            "text/plain": [
              "    loss  accuracy  val_loss  val_accuracy\n",
              "0  0.688     0.723     0.445         0.846\n",
              "1  0.418     0.849     0.410         0.855\n",
              "2  0.388     0.858     0.389         0.861\n",
              "3  0.371     0.865     0.401         0.853\n",
              "4  0.359     0.869     0.386         0.863\n",
              "5  0.347     0.873     0.388         0.859\n",
              "6  0.334     0.879     0.391         0.861"
            ]
          },
          "metadata": {},
          "execution_count": 82
        }
      ]
    },
    {
      "cell_type": "code",
      "metadata": {
        "id": "fmFjNK3_6DSx"
      },
      "source": [
        "losses = history.history['loss']\n",
        "accs = history.history['accuracy']\n",
        "val_losses = history.history['val_loss']\n",
        "val_accs = history.history['val_accuracy']\n",
        "epochs = len(losses)"
      ],
      "execution_count": 83,
      "outputs": []
    },
    {
      "cell_type": "code",
      "metadata": {
        "colab": {
          "base_uri": "https://localhost:8080/",
          "height": 266
        },
        "id": "Lj4yne1Y6Dhj",
        "outputId": "816c8c5f-0b0f-41e1-f8ad-d4e0e28acaee"
      },
      "source": [
        "plt.figure(figsize=(16, 4))\n",
        "for i, metrics in enumerate(zip([losses, accs], [val_losses, val_accs], ['Loss', 'Accuracy'])):\n",
        "    plt.subplot(1, 2, i + 1)\n",
        "    plt.plot(range(epochs), metrics[0], label='Training {}'.format(metrics[2]))\n",
        "    plt.plot(range(epochs), metrics[1], label='Validation {}'.format(metrics[2]))\n",
        "    plt.legend()\n",
        "plt.show()"
      ],
      "execution_count": 84,
      "outputs": [
        {
          "output_type": "display_data",
          "data": {
            "image/png": "[encoded data removed]",
            "text/plain": [
              "<Figure size 1152x288 with 2 Axes>"
            ]
          },
          "metadata": {
            "needs_background": "light"
          }
        }
      ]
    },
    {
      "cell_type": "code",
      "metadata": {
        "colab": {
          "base_uri": "https://localhost:8080/"
        },
        "id": "h4Iqqa-O5wNB",
        "outputId": "9f2d768a-7b9b-4bac-8c48-6e5d0350c2fd"
      },
      "source": [
        "model.summary()"
      ],
      "execution_count": 86,
      "outputs": [
        {
          "output_type": "stream",
          "name": "stdout",
          "text": [
            "Model: \"sequential_4\"\n",
            "_________________________________________________________________\n",
            "Layer (type)                 Output Shape              Param #   \n",
            "=================================================================\n",
            "text_vectorization_2 (TextVe (None, None)              0         \n",
            "_________________________________________________________________\n",
            "embedding_4 (Embedding)      (None, None, 128)         128000    \n",
            "_________________________________________________________________\n",
            "conv1d_4 (Conv1D)            (None, None, 128)         114816    \n",
            "_________________________________________________________________\n",
            "conv1d_5 (Conv1D)            (None, None, 128)         114816    \n",
            "_________________________________________________________________\n",
            "global_max_pooling1d_2 (Glob (None, 128)               0         \n",
            "_________________________________________________________________\n",
            "dense_6 (Dense)              (None, 128)               16512     \n",
            "_________________________________________________________________\n",
            "dense_7 (Dense)              (None, 4)                 516       \n",
            "=================================================================\n",
            "Total params: 374,660\n",
            "Trainable params: 374,660\n",
            "Non-trainable params: 0\n",
            "_________________________________________________________________\n"
          ]
        }
      ]
    },
    {
      "cell_type": "code",
      "metadata": {
        "colab": {
          "base_uri": "https://localhost:8080/",
          "height": 865
        },
        "id": "n6m8p81A5SJK",
        "outputId": "9d1b42c9-5d63-4314-c950-9a13b8d7c59c"
      },
      "source": [
        "keras.utils.plot_model(model, \"Conv1D.png\", show_shapes=True)"
      ],
      "execution_count": 87,
      "outputs": [
        {
          "output_type": "execute_result",
          "data": {
            "image/png": "[encoded data removed]",
            "text/plain": [
              "<IPython.core.display.Image object>"
            ]
          },
          "metadata": {},
          "execution_count": 87
        }
      ]
    },
    {
      "cell_type": "code",
      "metadata": {
        "id": "yjTBAT8Z6XfZ"
      },
      "source": [
        "preds = model.predict(test_dataset)"
      ],
      "execution_count": 88,
      "outputs": []
    },
    {
      "cell_type": "code",
      "metadata": {
        "colab": {
          "base_uri": "https://localhost:8080/"
        },
        "id": "MUeImHiW6b4c",
        "outputId": "8d0a41cb-35bb-43f9-c96f-e85f06fa85b5"
      },
      "source": [
        "preds.shape"
      ],
      "execution_count": 89,
      "outputs": [
        {
          "output_type": "execute_result",
          "data": {
            "text/plain": [
              "(7600, 4)"
            ]
          },
          "metadata": {},
          "execution_count": 89
        }
      ]
    },
    {
      "cell_type": "code",
      "metadata": {
        "id": "4mXoCbg36b9P"
      },
      "source": [
        "cm = sns.light_palette((260, 75, 60), input=\"husl\", as_cmap=True)"
      ],
      "execution_count": 90,
      "outputs": []
    },
    {
      "cell_type": "code",
      "metadata": {
        "colab": {
          "base_uri": "https://localhost:8080/",
          "height": 173
        },
        "id": "e8zuU-6m6cFU",
        "outputId": "45d062cd-f921-4370-9967-e95baacfb4df"
      },
      "source": [
        "df = pd.DataFrame(preds[0:15]\n",
        "                  ,columns = ['World','Sports','Business','Sci/Tech']).T\n",
        "df.style.format(\"{:.2%}\").background_gradient(cmap=cm)"
      ],
      "execution_count": 91,
      "outputs": [
        {
          "output_type": "execute_result",
          "data": {
            "text/html": [
              "<style  type=\"text/css\" >\n",
              "#T_12646596_3ea7_11ec_8405_0242ac1c0002row0_col0,#T_12646596_3ea7_11ec_8405_0242ac1c0002row0_col2,#T_12646596_3ea7_11ec_8405_0242ac1c0002row0_col11,#T_12646596_3ea7_11ec_8405_0242ac1c0002row1_col1,#T_12646596_3ea7_11ec_8405_0242ac1c0002row1_col2,#T_12646596_3ea7_11ec_8405_0242ac1c0002row1_col4,#T_12646596_3ea7_11ec_8405_0242ac1c0002row1_col5,#T_12646596_3ea7_11ec_8405_0242ac1c0002row1_col8,#T_12646596_3ea7_11ec_8405_0242ac1c0002row1_col9,#T_12646596_3ea7_11ec_8405_0242ac1c0002row1_col10,#T_12646596_3ea7_11ec_8405_0242ac1c0002row1_col11,#T_12646596_3ea7_11ec_8405_0242ac1c0002row1_col12,#T_12646596_3ea7_11ec_8405_0242ac1c0002row1_col13,#T_12646596_3ea7_11ec_8405_0242ac1c0002row1_col14,#T_12646596_3ea7_11ec_8405_0242ac1c0002row2_col0,#T_12646596_3ea7_11ec_8405_0242ac1c0002row2_col1,#T_12646596_3ea7_11ec_8405_0242ac1c0002row2_col3,#T_12646596_3ea7_11ec_8405_0242ac1c0002row2_col4,#T_12646596_3ea7_11ec_8405_0242ac1c0002row2_col6,#T_12646596_3ea7_11ec_8405_0242ac1c0002row2_col7,#T_12646596_3ea7_11ec_8405_0242ac1c0002row2_col10,#T_12646596_3ea7_11ec_8405_0242ac1c0002row2_col11,#T_12646596_3ea7_11ec_8405_0242ac1c0002row2_col14,#T_12646596_3ea7_11ec_8405_0242ac1c0002row3_col0,#T_12646596_3ea7_11ec_8405_0242ac1c0002row3_col1,#T_12646596_3ea7_11ec_8405_0242ac1c0002row3_col3,#T_12646596_3ea7_11ec_8405_0242ac1c0002row3_col4,#T_12646596_3ea7_11ec_8405_0242ac1c0002row3_col10,#T_12646596_3ea7_11ec_8405_0242ac1c0002row3_col14{\n",
              "            background-color:  #f0f1f2;\n",
              "            color:  #000000;\n",
              "        }#T_12646596_3ea7_11ec_8405_0242ac1c0002row0_col1,#T_12646596_3ea7_11ec_8405_0242ac1c0002row0_col4,#T_12646596_3ea7_11ec_8405_0242ac1c0002row0_col8,#T_12646596_3ea7_11ec_8405_0242ac1c0002row0_col10,#T_12646596_3ea7_11ec_8405_0242ac1c0002row0_col13,#T_12646596_3ea7_11ec_8405_0242ac1c0002row0_col14,#T_12646596_3ea7_11ec_8405_0242ac1c0002row1_col0,#T_12646596_3ea7_11ec_8405_0242ac1c0002row1_col3,#T_12646596_3ea7_11ec_8405_0242ac1c0002row1_col6,#T_12646596_3ea7_11ec_8405_0242ac1c0002row1_col7,#T_12646596_3ea7_11ec_8405_0242ac1c0002row2_col9,#T_12646596_3ea7_11ec_8405_0242ac1c0002row2_col12,#T_12646596_3ea7_11ec_8405_0242ac1c0002row3_col2,#T_12646596_3ea7_11ec_8405_0242ac1c0002row3_col5,#T_12646596_3ea7_11ec_8405_0242ac1c0002row3_col11{\n",
              "            background-color:  #778ce4;\n",
              "            color:  #000000;\n",
              "        }#T_12646596_3ea7_11ec_8405_0242ac1c0002row0_col3,#T_12646596_3ea7_11ec_8405_0242ac1c0002row0_col5{\n",
              "            background-color:  #eff0f2;\n",
              "            color:  #000000;\n",
              "        }#T_12646596_3ea7_11ec_8405_0242ac1c0002row0_col6,#T_12646596_3ea7_11ec_8405_0242ac1c0002row0_col9,#T_12646596_3ea7_11ec_8405_0242ac1c0002row3_col13{\n",
              "            background-color:  #efeff2;\n",
              "            color:  #000000;\n",
              "        }#T_12646596_3ea7_11ec_8405_0242ac1c0002row0_col7{\n",
              "            background-color:  #d0d6ee;\n",
              "            color:  #000000;\n",
              "        }#T_12646596_3ea7_11ec_8405_0242ac1c0002row0_col12,#T_12646596_3ea7_11ec_8405_0242ac1c0002row3_col6,#T_12646596_3ea7_11ec_8405_0242ac1c0002row3_col12{\n",
              "            background-color:  #f0f0f2;\n",
              "            color:  #000000;\n",
              "        }#T_12646596_3ea7_11ec_8405_0242ac1c0002row2_col2{\n",
              "            background-color:  #e7e9f1;\n",
              "            color:  #000000;\n",
              "        }#T_12646596_3ea7_11ec_8405_0242ac1c0002row2_col5{\n",
              "            background-color:  #dbdff0;\n",
              "            color:  #000000;\n",
              "        }#T_12646596_3ea7_11ec_8405_0242ac1c0002row2_col8,#T_12646596_3ea7_11ec_8405_0242ac1c0002row2_col13{\n",
              "            background-color:  #edeef2;\n",
              "            color:  #000000;\n",
              "        }#T_12646596_3ea7_11ec_8405_0242ac1c0002row3_col7{\n",
              "            background-color:  #eeeff2;\n",
              "            color:  #000000;\n",
              "        }#T_12646596_3ea7_11ec_8405_0242ac1c0002row3_col8{\n",
              "            background-color:  #e6e8f1;\n",
              "            color:  #000000;\n",
              "        }#T_12646596_3ea7_11ec_8405_0242ac1c0002row3_col9{\n",
              "            background-color:  #d1d7ee;\n",
              "            color:  #000000;\n",
              "        }</style><table id=\"T_12646596_3ea7_11ec_8405_0242ac1c0002\" class=\"dataframe\"><thead>    <tr>        <th class=\"blank level0\" ></th>        <th class=\"col_heading level0 col0\" >0</th>        <th class=\"col_heading level0 col1\" >1</th>        <th class=\"col_heading level0 col2\" >2</th>        <th class=\"col_heading level0 col3\" >3</th>        <th class=\"col_heading level0 col4\" >4</th>        <th class=\"col_heading level0 col5\" >5</th>        <th class=\"col_heading level0 col6\" >6</th>        <th class=\"col_heading level0 col7\" >7</th>        <th class=\"col_heading level0 col8\" >8</th>        <th class=\"col_heading level0 col9\" >9</th>        <th class=\"col_heading level0 col10\" >10</th>        <th class=\"col_heading level0 col11\" >11</th>        <th class=\"col_heading level0 col12\" >12</th>        <th class=\"col_heading level0 col13\" >13</th>        <th class=\"col_heading level0 col14\" >14</th>    </tr></thead><tbody>\n",
              "                <tr>\n",
              "                        <th id=\"T_12646596_3ea7_11ec_8405_0242ac1c0002level0_row0\" class=\"row_heading level0 row0\" >World</th>\n",
              "                        <td id=\"T_12646596_3ea7_11ec_8405_0242ac1c0002row0_col0\" class=\"data row0 col0\" >0.16%</td>\n",
              "                        <td id=\"T_12646596_3ea7_11ec_8405_0242ac1c0002row0_col1\" class=\"data row0 col1\" >99.83%</td>\n",
              "                        <td id=\"T_12646596_3ea7_11ec_8405_0242ac1c0002row0_col2\" class=\"data row0 col2\" >0.21%</td>\n",
              "                        <td id=\"T_12646596_3ea7_11ec_8405_0242ac1c0002row0_col3\" class=\"data row0 col3\" >0.90%</td>\n",
              "                        <td id=\"T_12646596_3ea7_11ec_8405_0242ac1c0002row0_col4\" class=\"data row0 col4\" >99.46%</td>\n",
              "                        <td id=\"T_12646596_3ea7_11ec_8405_0242ac1c0002row0_col5\" class=\"data row0 col5\" >0.85%</td>\n",
              "                        <td id=\"T_12646596_3ea7_11ec_8405_0242ac1c0002row0_col6\" class=\"data row0 col6\" >1.47%</td>\n",
              "                        <td id=\"T_12646596_3ea7_11ec_8405_0242ac1c0002row0_col7\" class=\"data row0 col7\" >20.58%</td>\n",
              "                        <td id=\"T_12646596_3ea7_11ec_8405_0242ac1c0002row0_col8\" class=\"data row0 col8\" >87.74%</td>\n",
              "                        <td id=\"T_12646596_3ea7_11ec_8405_0242ac1c0002row0_col9\" class=\"data row0 col9\" >1.13%</td>\n",
              "                        <td id=\"T_12646596_3ea7_11ec_8405_0242ac1c0002row0_col10\" class=\"data row0 col10\" >99.96%</td>\n",
              "                        <td id=\"T_12646596_3ea7_11ec_8405_0242ac1c0002row0_col11\" class=\"data row0 col11\" >0.11%</td>\n",
              "                        <td id=\"T_12646596_3ea7_11ec_8405_0242ac1c0002row0_col12\" class=\"data row0 col12\" >0.44%</td>\n",
              "                        <td id=\"T_12646596_3ea7_11ec_8405_0242ac1c0002row0_col13\" class=\"data row0 col13\" >95.45%</td>\n",
              "                        <td id=\"T_12646596_3ea7_11ec_8405_0242ac1c0002row0_col14\" class=\"data row0 col14\" >99.88%</td>\n",
              "            </tr>\n",
              "            <tr>\n",
              "                        <th id=\"T_12646596_3ea7_11ec_8405_0242ac1c0002level0_row1\" class=\"row_heading level0 row1\" >Sports</th>\n",
              "                        <td id=\"T_12646596_3ea7_11ec_8405_0242ac1c0002row1_col0\" class=\"data row1 col0\" >99.80%</td>\n",
              "                        <td id=\"T_12646596_3ea7_11ec_8405_0242ac1c0002row1_col1\" class=\"data row1 col1\" >0.00%</td>\n",
              "                        <td id=\"T_12646596_3ea7_11ec_8405_0242ac1c0002row1_col2\" class=\"data row1 col2\" >0.00%</td>\n",
              "                        <td id=\"T_12646596_3ea7_11ec_8405_0242ac1c0002row1_col3\" class=\"data row1 col3\" >98.93%</td>\n",
              "                        <td id=\"T_12646596_3ea7_11ec_8405_0242ac1c0002row1_col4\" class=\"data row1 col4\" >0.00%</td>\n",
              "                        <td id=\"T_12646596_3ea7_11ec_8405_0242ac1c0002row1_col5\" class=\"data row1 col5\" >0.06%</td>\n",
              "                        <td id=\"T_12646596_3ea7_11ec_8405_0242ac1c0002row1_col6\" class=\"data row1 col6\" >97.73%</td>\n",
              "                        <td id=\"T_12646596_3ea7_11ec_8405_0242ac1c0002row1_col7\" class=\"data row1 col7\" >78.08%</td>\n",
              "                        <td id=\"T_12646596_3ea7_11ec_8405_0242ac1c0002row1_col8\" class=\"data row1 col8\" >0.68%</td>\n",
              "                        <td id=\"T_12646596_3ea7_11ec_8405_0242ac1c0002row1_col9\" class=\"data row1 col9\" >0.01%</td>\n",
              "                        <td id=\"T_12646596_3ea7_11ec_8405_0242ac1c0002row1_col10\" class=\"data row1 col10\" >0.00%</td>\n",
              "                        <td id=\"T_12646596_3ea7_11ec_8405_0242ac1c0002row1_col11\" class=\"data row1 col11\" >0.10%</td>\n",
              "                        <td id=\"T_12646596_3ea7_11ec_8405_0242ac1c0002row1_col12\" class=\"data row1 col12\" >0.00%</td>\n",
              "                        <td id=\"T_12646596_3ea7_11ec_8405_0242ac1c0002row1_col13\" class=\"data row1 col13\" >0.19%</td>\n",
              "                        <td id=\"T_12646596_3ea7_11ec_8405_0242ac1c0002row1_col14\" class=\"data row1 col14\" >0.00%</td>\n",
              "            </tr>\n",
              "            <tr>\n",
              "                        <th id=\"T_12646596_3ea7_11ec_8405_0242ac1c0002level0_row2\" class=\"row_heading level0 row2\" >Business</th>\n",
              "                        <td id=\"T_12646596_3ea7_11ec_8405_0242ac1c0002row2_col0\" class=\"data row2 col0\" >0.01%</td>\n",
              "                        <td id=\"T_12646596_3ea7_11ec_8405_0242ac1c0002row2_col1\" class=\"data row2 col1\" >0.16%</td>\n",
              "                        <td id=\"T_12646596_3ea7_11ec_8405_0242ac1c0002row2_col2\" class=\"data row2 col2\" >6.94%</td>\n",
              "                        <td id=\"T_12646596_3ea7_11ec_8405_0242ac1c0002row2_col3\" class=\"data row2 col3\" >0.07%</td>\n",
              "                        <td id=\"T_12646596_3ea7_11ec_8405_0242ac1c0002row2_col4\" class=\"data row2 col4\" >0.15%</td>\n",
              "                        <td id=\"T_12646596_3ea7_11ec_8405_0242ac1c0002row2_col5\" class=\"data row2 col5\" >14.65%</td>\n",
              "                        <td id=\"T_12646596_3ea7_11ec_8405_0242ac1c0002row2_col6\" class=\"data row2 col6\" >0.18%</td>\n",
              "                        <td id=\"T_12646596_3ea7_11ec_8405_0242ac1c0002row2_col7\" class=\"data row2 col7\" >0.05%</td>\n",
              "                        <td id=\"T_12646596_3ea7_11ec_8405_0242ac1c0002row2_col8\" class=\"data row2 col8\" >3.13%</td>\n",
              "                        <td id=\"T_12646596_3ea7_11ec_8405_0242ac1c0002row2_col9\" class=\"data row2 col9\" >78.73%</td>\n",
              "                        <td id=\"T_12646596_3ea7_11ec_8405_0242ac1c0002row2_col10\" class=\"data row2 col10\" >0.04%</td>\n",
              "                        <td id=\"T_12646596_3ea7_11ec_8405_0242ac1c0002row2_col11\" class=\"data row2 col11\" >0.25%</td>\n",
              "                        <td id=\"T_12646596_3ea7_11ec_8405_0242ac1c0002row2_col12\" class=\"data row2 col12\" >98.95%</td>\n",
              "                        <td id=\"T_12646596_3ea7_11ec_8405_0242ac1c0002row2_col13\" class=\"data row2 col13\" >3.01%</td>\n",
              "                        <td id=\"T_12646596_3ea7_11ec_8405_0242ac1c0002row2_col14\" class=\"data row2 col14\" >0.09%</td>\n",
              "            </tr>\n",
              "            <tr>\n",
              "                        <th id=\"T_12646596_3ea7_11ec_8405_0242ac1c0002level0_row3\" class=\"row_heading level0 row3\" >Sci/Tech</th>\n",
              "                        <td id=\"T_12646596_3ea7_11ec_8405_0242ac1c0002row3_col0\" class=\"data row3 col0\" >0.03%</td>\n",
              "                        <td id=\"T_12646596_3ea7_11ec_8405_0242ac1c0002row3_col1\" class=\"data row3 col1\" >0.01%</td>\n",
              "                        <td id=\"T_12646596_3ea7_11ec_8405_0242ac1c0002row3_col2\" class=\"data row3 col2\" >92.84%</td>\n",
              "                        <td id=\"T_12646596_3ea7_11ec_8405_0242ac1c0002row3_col3\" class=\"data row3 col3\" >0.10%</td>\n",
              "                        <td id=\"T_12646596_3ea7_11ec_8405_0242ac1c0002row3_col4\" class=\"data row3 col4\" >0.38%</td>\n",
              "                        <td id=\"T_12646596_3ea7_11ec_8405_0242ac1c0002row3_col5\" class=\"data row3 col5\" >84.45%</td>\n",
              "                        <td id=\"T_12646596_3ea7_11ec_8405_0242ac1c0002row3_col6\" class=\"data row3 col6\" >0.62%</td>\n",
              "                        <td id=\"T_12646596_3ea7_11ec_8405_0242ac1c0002row3_col7\" class=\"data row3 col7\" >1.29%</td>\n",
              "                        <td id=\"T_12646596_3ea7_11ec_8405_0242ac1c0002row3_col8\" class=\"data row3 col8\" >8.44%</td>\n",
              "                        <td id=\"T_12646596_3ea7_11ec_8405_0242ac1c0002row3_col9\" class=\"data row3 col9\" >20.12%</td>\n",
              "                        <td id=\"T_12646596_3ea7_11ec_8405_0242ac1c0002row3_col10\" class=\"data row3 col10\" >0.00%</td>\n",
              "                        <td id=\"T_12646596_3ea7_11ec_8405_0242ac1c0002row3_col11\" class=\"data row3 col11\" >99.54%</td>\n",
              "                        <td id=\"T_12646596_3ea7_11ec_8405_0242ac1c0002row3_col12\" class=\"data row3 col12\" >0.61%</td>\n",
              "                        <td id=\"T_12646596_3ea7_11ec_8405_0242ac1c0002row3_col13\" class=\"data row3 col13\" >1.35%</td>\n",
              "                        <td id=\"T_12646596_3ea7_11ec_8405_0242ac1c0002row3_col14\" class=\"data row3 col14\" >0.03%</td>\n",
              "            </tr>\n",
              "    </tbody></table>"
            ],
            "text/plain": [
              "<pandas.io.formats.style.Styler at 0x7fa551051110>"
            ]
          },
          "metadata": {},
          "execution_count": 91
        }
      ]
    }
  ]
}