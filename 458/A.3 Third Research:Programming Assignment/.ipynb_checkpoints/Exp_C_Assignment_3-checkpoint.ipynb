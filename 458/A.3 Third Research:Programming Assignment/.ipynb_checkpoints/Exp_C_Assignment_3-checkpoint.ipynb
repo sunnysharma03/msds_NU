{
 "cells": [
  {
   "cell_type": "code",
   "execution_count": null,
   "metadata": {
    "id": "Ns1F_FT_MhPm"
   },
   "outputs": [],
   "source": [
    "import datetime\n",
    "from packaging import version\n",
    "from collections import Counter\n",
    "import numpy as np\n",
    "import pandas as pd\n",
    "import time\n",
    "\n",
    "import matplotlib.pyplot as plt\n",
    "import matplotlib as mpl\n",
    "import seaborn as sns\n",
    "\n",
    "from sklearn.metrics import confusion_matrix, classification_report\n",
    "from sklearn.preprocessing import StandardScaler\n",
    "from sklearn.decomposition import PCA\n",
    "from sklearn.manifold import TSNE\n",
    "from sklearn.ensemble import RandomForestClassifier\n",
    "from sklearn.metrics import mean_squared_error as MSE\n",
    "from sklearn.metrics import accuracy_score\n",
    "\n",
    "import tensorflow as tf\n",
    "from tensorflow import keras\n",
    "import tensorflow_datasets as tfds"
   ]
  },
  {
   "cell_type": "code",
   "execution_count": null,
   "metadata": {
    "id": "KXPP4Ib8MonL"
   },
   "outputs": [],
   "source": [
    "#tf.get_logger().setLevel('INFO')"
   ]
  },
  {
   "cell_type": "code",
   "execution_count": null,
   "metadata": {
    "id": "tbejjF1cMoun"
   },
   "outputs": [],
   "source": [
    "%matplotlib inline\n",
    "np.set_printoptions(precision=3, suppress=True)"
   ]
  },
  {
   "cell_type": "code",
   "execution_count": null,
   "metadata": {
    "colab": {
     "base_uri": "https://localhost:8080/"
    },
    "id": "X5lb1ADOMo17",
    "outputId": "7cb29b61-73ca-41d0-9406-745a44031fe4"
   },
   "outputs": [
    {
     "name": "stdout",
     "output_type": "stream",
     "text": [
      "This notebook requires TensorFlow 2.0 or above\n",
      "TensorFlow version:  2.6.0\n"
     ]
    }
   ],
   "source": [
    "print(\"This notebook requires TensorFlow 2.0 or above\")\n",
    "print(\"TensorFlow version: \", tf.__version__)\n",
    "assert version.parse(tf.__version__).release[0] >=2"
   ]
  },
  {
   "cell_type": "code",
   "execution_count": null,
   "metadata": {
    "colab": {
     "base_uri": "https://localhost:8080/"
    },
    "id": "c8HNHKk5MzN4",
    "outputId": "f034c4e8-00c4-4e49-ece8-8c173fd8d53c"
   },
   "outputs": [
    {
     "name": "stdout",
     "output_type": "stream",
     "text": [
      "Keras version:  2.6.0\n"
     ]
    }
   ],
   "source": [
    "print(\"Keras version: \", keras.__version__)"
   ]
  },
  {
   "cell_type": "markdown",
   "metadata": {
    "id": "2RS8e_yAM45i"
   },
   "source": [
    "**Functions**"
   ]
  },
  {
   "cell_type": "code",
   "execution_count": null,
   "metadata": {
    "id": "FyCFP46uMzUK"
   },
   "outputs": [],
   "source": [
    "def print_validation_report(test_labels, predictions):\n",
    "    print(\"Classification Report\")\n",
    "    print(classification_report(test_labels, predictions))\n",
    "    print('Accuracy Score: {}'.format(accuracy_score(test_labels, predictions)))\n",
    "    print('Root Mean Square Error: {}'.format(np.sqrt(MSE(test_labels, predictions))))"
   ]
  },
  {
   "cell_type": "code",
   "execution_count": null,
   "metadata": {
    "id": "gf1w9VN5MzZD"
   },
   "outputs": [],
   "source": [
    "def plot_confusion_matrix(y_true, y_pred):\n",
    "    mtx = confusion_matrix(y_true, y_pred)\n",
    "    fig, ax = plt.subplots(figsize=(8,8))\n",
    "    sns.heatmap(mtx, annot=True, fmt='d', linewidths=.75,  cbar=False, ax=ax,cmap='Blues',linecolor='white')\n",
    "    #  square=True,\n",
    "    plt.ylabel('true label')\n",
    "    plt.xlabel('predicted label')"
   ]
  },
  {
   "cell_type": "code",
   "execution_count": null,
   "metadata": {
    "id": "hB1OgEGcMzd9"
   },
   "outputs": [],
   "source": [
    "def plot_graphs(history, metric):\n",
    "  plt.plot(history.history[metric])\n",
    "  plt.plot(history.history['val_'+metric], '')\n",
    "  plt.xlabel(\"Epochs\")\n",
    "  plt.ylabel(metric)\n",
    "  plt.legend([metric, 'val_'+metric])"
   ]
  },
  {
   "cell_type": "markdown",
   "metadata": {
    "id": "0BPdaGYzNNeb"
   },
   "source": [
    "**Mount Google Drive**"
   ]
  },
  {
   "cell_type": "code",
   "execution_count": null,
   "metadata": {
    "id": "xVcLDywfMzlA"
   },
   "outputs": [],
   "source": [
    "#from google.colab import drive\n",
    "#drive.mount('/content/gdrive')"
   ]
  },
  {
   "cell_type": "markdown",
   "metadata": {
    "id": "t5PPgCOQNWwI"
   },
   "source": [
    "**TensorFlow Datasets Information**"
   ]
  },
  {
   "cell_type": "markdown",
   "metadata": {
    "id": "lRx0RW-FN0Qs"
   },
   "source": [
    "Get all the words in the documents (as well as the number of words in each document) by using the encoder to get the indices associated with each token and then translating the indices to tokens. But first we need to get the \"unpadded\" new articles so that we can get their length."
   ]
  },
  {
   "cell_type": "code",
   "execution_count": null,
   "metadata": {
    "colab": {
     "base_uri": "https://localhost:8080/"
    },
    "id": "nQ8OSXjdMzqe",
    "outputId": "3c1cc5eb-e77b-498c-f26c-2946f5931fbf"
   },
   "outputs": [
    {
     "name": "stdout",
     "output_type": "stream",
     "text": [
      "2021-10-30 21:37:34.828971: E tensorflow/stream_executor/cuda/cuda_driver.cc:271] failed call to cuInit: CUDA_ERROR_NO_DEVICE: no CUDA-capable device is detected\n",
      "2021-10-30 21:37:34.829029: I tensorflow/stream_executor/cuda/cuda_diagnostics.cc:156] kernel driver does not appear to be running on this host (3812b551844d): /proc/driver/nvidia/version does not exist\n",
      "I1030 21:37:34.829723 140699233847168 download_and_prepare.py:200] Running download_and_prepare for dataset(s):\n",
      "ag_news_subset\n",
      "2021-10-30 21:37:34.836774: I tensorflow/core/platform/cloud/google_auth_provider.cc:180] Attempting an empty bearer token since no token was retrieved from files, and GCE metadata check was skipped.\n",
      "2021-10-30 21:37:34.921798: I tensorflow/core/platform/cloud/google_auth_provider.cc:180] Attempting an empty bearer token since no token was retrieved from files, and GCE metadata check was skipped.\n",
      "2021-10-30 21:37:34.978997: I tensorflow/core/platform/cloud/google_auth_provider.cc:180] Attempting an empty bearer token since no token was retrieved from files, and GCE metadata check was skipped.\n",
      "I1030 21:37:35.029646 140699233847168 dataset_info.py:434] Load pre-computed DatasetInfo (eg: splits, num examples,...) from GCS: ag_news_subset/1.0.0\n",
      "2021-10-30 21:37:35.043176: I tensorflow/core/platform/cloud/google_auth_provider.cc:180] Attempting an empty bearer token since no token was retrieved from files, and GCE metadata check was skipped.\n",
      "2021-10-30 21:37:35.156460: I tensorflow/core/platform/cloud/google_auth_provider.cc:180] Attempting an empty bearer token since no token was retrieved from files, and GCE metadata check was skipped.\n",
      "I1030 21:37:35.246791 140699233847168 dataset_info.py:361] Load dataset info from /tmp/tmphvnjiuvltfds\n",
      "I1030 21:37:35.248678 140699233847168 download_and_prepare.py:138] download_and_prepare for dataset ag_news_subset/1.0.0...\n",
      "I1030 21:37:35.249214 140699233847168 dataset_builder.py:357] Generating dataset ag_news_subset (/root/tensorflow_datasets/ag_news_subset/1.0.0)\n",
      "\u001b[1mDownloading and preparing dataset ag_news_subset/1.0.0 (download: 11.24 MiB, generated: 35.79 MiB, total: 47.03 MiB) to /root/tensorflow_datasets/ag_news_subset/1.0.0...\u001b[0m\n",
      "2021-10-30 21:37:35.442090: I tensorflow/core/platform/cloud/google_auth_provider.cc:180] Attempting an empty bearer token since no token was retrieved from files, and GCE metadata check was skipped.\n",
      "2021-10-30 21:37:35.484971: I tensorflow/core/platform/cloud/google_auth_provider.cc:180] Attempting an empty bearer token since no token was retrieved from files, and GCE metadata check was skipped.\n",
      "Dl Completed...: 0 url [00:00, ? url/s]\n",
      "Dl Size...: 0 MiB [00:00, ? MiB/s]\u001b[A\n",
      "\n",
      "Extraction completed...: 0 file [00:00, ? file/s]\u001b[A\u001b[AI1030 21:37:35.543149 140699233847168 download_manager.py:476] Downloading https://drive.google.com/uc?export=download&id=0Bz8a_Dbh9QhbUDNpeUdjb0wxRms into /root/tensorflow_datasets/downloads/ucexport_download_id_0Bz8a_Dbh9QhbUDNpeUdjb0wxj4g1umFAV8OV-uDwxSJR0LdxO_k1jxMuFWwAfNX9jos.tmp.4d8b3553e39e427e8c10152eb0a51b6d...\n",
      "Dl Completed...:   0% 0/1 [00:00<?, ? url/s]\n",
      "Dl Size...: 0 MiB [00:00, ? MiB/s]\u001b[A\n",
      "\n",
      "Dl Completed...:   0% 0/1 [00:15<?, ? url/s]\n",
      "Dl Size...:   0% 0/11 [00:15<?, ? MiB/s]\u001b[A\n",
      "\n",
      "Extraction completed...: 0 file [00:15, ? file/s]\u001b[A\u001b[A\n",
      "Dl Completed...:   0% 0/1 [00:15<?, ? url/s]\n",
      "Dl Size...:   9% 1/11 [00:15<02:31, 15.10s/ MiB]\u001b[A\n",
      "\n",
      "Dl Completed...:   0% 0/1 [00:15<?, ? url/s]\n",
      "Dl Size...:  18% 2/11 [00:15<02:15, 15.10s/ MiB]\u001b[A\n",
      "\n",
      "Dl Completed...:   0% 0/1 [00:15<?, ? url/s]\n",
      "Dl Size...:  27% 3/11 [00:15<02:00, 15.10s/ MiB]\u001b[A\n",
      "\n",
      "Dl Completed...:   0% 0/1 [00:15<?, ? url/s]\n",
      "Dl Size...:  36% 4/11 [00:15<01:45, 15.10s/ MiB]\u001b[A\n",
      "\n",
      "Dl Completed...:   0% 0/1 [00:15<?, ? url/s]\n",
      "Dl Size...:  45% 5/11 [00:15<01:30, 15.10s/ MiB]\u001b[A\n",
      "\n",
      "Dl Completed...:   0% 0/1 [00:15<?, ? url/s]\n",
      "Dl Size...:  55% 6/11 [00:15<01:15, 15.10s/ MiB]\u001b[A\n",
      "\n",
      "Dl Completed...:   0% 0/1 [00:15<?, ? url/s]\n",
      "Dl Size...:  64% 7/11 [00:15<01:00, 15.10s/ MiB]\u001b[A\n",
      "\n",
      "Dl Completed...:   0% 0/1 [00:15<?, ? url/s]\n",
      "Dl Size...:  73% 8/11 [00:15<00:45, 15.10s/ MiB]\u001b[A\n",
      "\n",
      "Dl Completed...:   0% 0/1 [00:15<?, ? url/s]\n",
      "Dl Size...:  82% 9/11 [00:15<00:30, 15.10s/ MiB]\u001b[A\n",
      "\n",
      "Extraction completed...: 0 file [00:15, ? file/s]\u001b[A\u001b[A\n",
      "Dl Completed...:   0% 0/1 [00:15<?, ? url/s]\n",
      "Dl Size...:  91% 10/11 [00:15<00:01,  1.10s/ MiB]\u001b[A\n",
      "\n",
      "Dl Completed...:   0% 0/1 [00:15<?, ? url/s]\n",
      "Dl Size...: 100% 11/11 [00:15<00:00,  1.10s/ MiB]\u001b[A\n",
      "\n",
      "Dl Completed...: 100% 1/1 [00:15<00:00, 15.23s/ url]\n",
      "Dl Size...: 100% 11/11 [00:15<00:00,  1.10s/ MiB]\u001b[A\n",
      "\n",
      "Dl Completed...: 100% 1/1 [00:15<00:00, 15.23s/ url]\n",
      "Dl Size...: 100% 11/11 [00:15<00:00,  1.10s/ MiB]\u001b[A\n",
      "\n",
      "Extraction completed...:   0% 0/1 [00:15<?, ? file/s]\u001b[A\u001b[A\n",
      "\n",
      "Dl Completed...: 100% 1/1 [00:15<00:00, 15.23s/ url]\n",
      "Dl Size...: 100% 11/11 [00:15<00:00,  1.10s/ MiB]\u001b[A\n",
      "\n",
      "Extraction completed...: 100% 1/1 [00:15<00:00, 15.61s/ file]\u001b[A\u001b[A\n",
      "Extraction completed...: 100% 1/1 [00:15<00:00, 15.61s/ file]\n",
      "\n",
      "Dl Size...: 100% 11/11 [00:15<00:00,  1.42s/ MiB]\n",
      "\n",
      "Dl Completed...: 100% 1/1 [00:15<00:00, 15.61s/ url]\n",
      "I1030 21:37:51.149482 140699233847168 dataset_builder.py:970] Generating split train\n",
      "Shuffling and writing examples to /root/tensorflow_datasets/ag_news_subset/1.0.0.incompleteQGNDD3/ag_news_subset-train.tfrecord\n",
      " 72% 85930/120000 [00:00<00:00, 303171.33 examples/s]I1030 21:38:16.106178 140699233847168 tfrecords_writer.py:226] Done writing /root/tensorflow_datasets/ag_news_subset/1.0.0.incompleteQGNDD3/ag_news_subset-train.tfrecord. Shard lengths: [120000]\n",
      "I1030 21:38:16.124449 140699233847168 dataset_builder.py:970] Generating split test\n",
      "Shuffling and writing examples to /root/tensorflow_datasets/ag_news_subset/1.0.0.incompleteQGNDD3/ag_news_subset-test.tfrecord\n",
      "  0% 0/7600 [00:00<?, ? examples/s]I1030 21:38:17.663587 140699233847168 tfrecords_writer.py:226] Done writing /root/tensorflow_datasets/ag_news_subset/1.0.0.incompleteQGNDD3/ag_news_subset-test.tfrecord. Shard lengths: [7600]\n",
      "I1030 21:38:17.666040 140699233847168 dataset_builder.py:412] Skipping computing stats for mode ComputeStatsMode.SKIP.\n",
      "\u001b[1mDataset ag_news_subset downloaded and prepared to /root/tensorflow_datasets/ag_news_subset/1.0.0. Subsequent calls will reuse this data.\u001b[0m\n",
      "\u001b[1mname: \"ag_news_subset\"\n",
      "description: \"AG is a collection of more than 1 million news articles.\\nNews articles have been gathered from more than 2000  news sources by ComeToMyHead in more than 1 year of activity.\\nComeToMyHead is an academic news search engine which has been running since July, 2004.\\nThe dataset is provided by the academic comunity for research purposes in data mining (clustering, classification, etc),\\ninformation retrieval (ranking, search, etc), xml, data compression, data streaming,\\nand any other non-commercial activity.\\nFor more information, please refer to the link http://www.di.unipi.it/~gulli/AG_corpus_of_news_articles.html .\\n\\nThe AG\\'s news topic classification dataset is constructed by Xiang Zhang (xiang.zhang@nyu.edu) from the dataset above.\\nIt is used as a text classification benchmark in the following paper:\\nXiang Zhang, Junbo Zhao, Yann LeCun. Character-level Convolutional Networks for Text Classification. Advances in Neural Information Processing Systems 28 (NIPS 2015).\\n\\nThe AG\\'s news topic classification dataset is constructed by choosing 4 largest classes from the original corpus.\\nEach class contains 30,000 training samples and 1,900 testing samples.\\nThe total number of training samples is 120,000 and testing 7,600.\"\n",
      "citation: \"@misc{zhang2015characterlevel,\\n    title={Character-level Convolutional Networks for Text Classification},\\n    author={Xiang Zhang and Junbo Zhao and Yann LeCun},\\n    year={2015},\\n    eprint={1509.01626},\\n    archivePrefix={arXiv},\\n    primaryClass={cs.LG}\\n}\"\n",
      "location {\n",
      "  urls: \"https://arxiv.org/abs/1509.01626\"\n",
      "}\n",
      "splits {\n",
      "  name: \"test\"\n",
      "  shard_lengths: 7600\n",
      "  num_bytes: 2226751\n",
      "}\n",
      "splits {\n",
      "  name: \"train\"\n",
      "  shard_lengths: 120000\n",
      "  num_bytes: 35301386\n",
      "}\n",
      "supervised_keys {\n",
      "  input: \"description\"\n",
      "  output: \"label\"\n",
      "}\n",
      "version: \"1.0.0\"\n",
      "download_size: 11784327\n",
      "\u001b[0m\n"
     ]
    }
   ],
   "source": [
    "#register  ag_news_subset so that tfds.load doesn't generate a checksum (mismatch) error\n",
    "!python -m tensorflow_datasets.scripts.download_and_prepare --register_checksums --datasets=ag_news_subset\n",
    "\n",
    "# https://www.tensorflow.org/datasets/splits\n",
    "# The full `train` and `test` splits, interleaved together.\n",
    "ri = tfds.core.ReadInstruction('train') + tfds.core.ReadInstruction('test')\n",
    "dataset_all, info = tfds.load('ag_news_subset', with_info=True,  split=ri, as_supervised=True)"
   ]
  },
  {
   "cell_type": "markdown",
   "metadata": {
    "id": "CudHOmX7OJLB"
   },
   "source": [
    "**Exploratory Analysis AG News Subset**\n",
    "\n",
    "Get information about the ag_news_subset dataset. We combined the training and test data for a total of 127,600 news articles."
   ]
  },
  {
   "cell_type": "code",
   "execution_count": null,
   "metadata": {
    "colab": {
     "base_uri": "https://localhost:8080/"
    },
    "id": "YDCp6LNiNY5G",
    "outputId": "8514c395-fbbd-4f8d-b376-96ead9022c88"
   },
   "outputs": [
    {
     "name": "stdout",
     "output_type": "stream",
     "text": [
      "tfds.core.DatasetInfo(\n",
      "    name='ag_news_subset',\n",
      "    version=1.0.0,\n",
      "    description='AG is a collection of more than 1 million news articles.\n",
      "News articles have been gathered from more than 2000  news sources by ComeToMyHead in more than 1 year of activity.\n",
      "ComeToMyHead is an academic news search engine which has been running since July, 2004.\n",
      "The dataset is provided by the academic comunity for research purposes in data mining (clustering, classification, etc),\n",
      "information retrieval (ranking, search, etc), xml, data compression, data streaming,\n",
      "and any other non-commercial activity.\n",
      "For more information, please refer to the link http://www.di.unipi.it/~gulli/AG_corpus_of_news_articles.html .\n",
      "\n",
      "The AG's news topic classification dataset is constructed by Xiang Zhang (xiang.zhang@nyu.edu) from the dataset above.\n",
      "It is used as a text classification benchmark in the following paper:\n",
      "Xiang Zhang, Junbo Zhao, Yann LeCun. Character-level Convolutional Networks for Text Classification. Advances in Neural Information Processing Systems 28 (NIPS 2015).\n",
      "\n",
      "The AG's news topic classification dataset is constructed by choosing 4 largest classes from the original corpus.\n",
      "Each class contains 30,000 training samples and 1,900 testing samples.\n",
      "The total number of training samples is 120,000 and testing 7,600.',\n",
      "    homepage='https://arxiv.org/abs/1509.01626',\n",
      "    features=FeaturesDict({\n",
      "        'description': Text(shape=(), dtype=tf.string),\n",
      "        'label': ClassLabel(shape=(), dtype=tf.int64, num_classes=4),\n",
      "        'title': Text(shape=(), dtype=tf.string),\n",
      "    }),\n",
      "    total_num_examples=127600,\n",
      "    splits={\n",
      "        'test': 7600,\n",
      "        'train': 120000,\n",
      "    },\n",
      "    supervised_keys=('description', 'label'),\n",
      "    citation=\"\"\"@misc{zhang2015characterlevel,\n",
      "        title={Character-level Convolutional Networks for Text Classification},\n",
      "        author={Xiang Zhang and Junbo Zhao and Yann LeCun},\n",
      "        year={2015},\n",
      "        eprint={1509.01626},\n",
      "        archivePrefix={arXiv},\n",
      "        primaryClass={cs.LG}\n",
      "    }\"\"\",\n",
      "    redistribution_info=,\n",
      ")\n",
      "\n"
     ]
    }
   ],
   "source": [
    "print(info)"
   ]
  },
  {
   "cell_type": "code",
   "execution_count": null,
   "metadata": {
    "colab": {
     "base_uri": "https://localhost:8080/",
     "height": 335
    },
    "id": "yVSZzDOnNY8C",
    "outputId": "d7599468-e5ae-47dd-fb5b-2a1e6a3d0070"
   },
   "outputs": [
    {
     "data": {
      "text/html": [
       "<style  type=\"text/css\" >\n",
       "</style><table id=\"T_b6e216dc_39c9_11ec_aa43_0242ac1c0002\" ><thead>    <tr>        <th class=\"blank level0\" ></th>        <th class=\"col_heading level0 col0\" >description</th>        <th class=\"col_heading level0 col1\" >label</th>    </tr></thead><tbody>\n",
       "                <tr>\n",
       "                        <th id=\"T_b6e216dc_39c9_11ec_aa43_0242ac1c0002level0_row0\" class=\"row_heading level0 row0\" >0</th>\n",
       "                        <td id=\"T_b6e216dc_39c9_11ec_aa43_0242ac1c0002row0_col0\" class=\"data row0 col0\" >AMD #39;s new dual-core Opteron chip is designed mainly for corporate computing applications, including databases, Web services, and financial transactions.</td>\n",
       "                        <td id=\"T_b6e216dc_39c9_11ec_aa43_0242ac1c0002row0_col1\" class=\"data row0 col1\" >3 (Sci/Tech)</td>\n",
       "            </tr>\n",
       "            <tr>\n",
       "                        <th id=\"T_b6e216dc_39c9_11ec_aa43_0242ac1c0002level0_row1\" class=\"row_heading level0 row1\" >1</th>\n",
       "                        <td id=\"T_b6e216dc_39c9_11ec_aa43_0242ac1c0002row1_col0\" class=\"data row1 col0\" >Reuters - Major League Baseball\\Monday announced a decision on the appeal filed by Chicago Cubs\\pitcher Kerry Wood regarding a suspension stemming from an\\incident earlier this season.</td>\n",
       "                        <td id=\"T_b6e216dc_39c9_11ec_aa43_0242ac1c0002row1_col1\" class=\"data row1 col1\" >1 (Sports)</td>\n",
       "            </tr>\n",
       "            <tr>\n",
       "                        <th id=\"T_b6e216dc_39c9_11ec_aa43_0242ac1c0002level0_row2\" class=\"row_heading level0 row2\" >2</th>\n",
       "                        <td id=\"T_b6e216dc_39c9_11ec_aa43_0242ac1c0002row2_col0\" class=\"data row2 col0\" >President Bush #39;s quot;revenue-neutral quot; tax reform needs losers to balance its winners, and people claiming the federal deduction for state and local taxes may be in administration planners #39; sights, news reports say.</td>\n",
       "                        <td id=\"T_b6e216dc_39c9_11ec_aa43_0242ac1c0002row2_col1\" class=\"data row2 col1\" >2 (Business)</td>\n",
       "            </tr>\n",
       "            <tr>\n",
       "                        <th id=\"T_b6e216dc_39c9_11ec_aa43_0242ac1c0002level0_row3\" class=\"row_heading level0 row3\" >3</th>\n",
       "                        <td id=\"T_b6e216dc_39c9_11ec_aa43_0242ac1c0002row3_col0\" class=\"data row3 col0\" >Britain will run out of leading scientists unless science education is improved, says Professor Colin Pillinger.</td>\n",
       "                        <td id=\"T_b6e216dc_39c9_11ec_aa43_0242ac1c0002row3_col1\" class=\"data row3 col1\" >3 (Sci/Tech)</td>\n",
       "            </tr>\n",
       "            <tr>\n",
       "                        <th id=\"T_b6e216dc_39c9_11ec_aa43_0242ac1c0002level0_row4\" class=\"row_heading level0 row4\" >4</th>\n",
       "                        <td id=\"T_b6e216dc_39c9_11ec_aa43_0242ac1c0002row4_col0\" class=\"data row4 col0\" >London, England (Sports Network) - England midfielder Steven Gerrard injured his groin late in Thursday #39;s training session, but is hopeful he will be ready for Saturday #39;s World Cup qualifier against Austria.</td>\n",
       "                        <td id=\"T_b6e216dc_39c9_11ec_aa43_0242ac1c0002row4_col1\" class=\"data row4 col1\" >1 (Sports)</td>\n",
       "            </tr>\n",
       "            <tr>\n",
       "                        <th id=\"T_b6e216dc_39c9_11ec_aa43_0242ac1c0002level0_row5\" class=\"row_heading level0 row5\" >5</th>\n",
       "                        <td id=\"T_b6e216dc_39c9_11ec_aa43_0242ac1c0002row5_col0\" class=\"data row5 col0\" >TOKYO - Sony Corp. is banking on the \\$3 billion deal to acquire Hollywood studio Metro-Goldwyn-Mayer Inc...</td>\n",
       "                        <td id=\"T_b6e216dc_39c9_11ec_aa43_0242ac1c0002row5_col1\" class=\"data row5 col1\" >0 (World)</td>\n",
       "            </tr>\n",
       "            <tr>\n",
       "                        <th id=\"T_b6e216dc_39c9_11ec_aa43_0242ac1c0002level0_row6\" class=\"row_heading level0 row6\" >6</th>\n",
       "                        <td id=\"T_b6e216dc_39c9_11ec_aa43_0242ac1c0002row6_col0\" class=\"data row6 col0\" >Giant pandas may well prefer bamboo to laptops, but wireless technology is helping researchers in China in their efforts to protect the engandered animals living in the remote Wolong Nature Reserve.</td>\n",
       "                        <td id=\"T_b6e216dc_39c9_11ec_aa43_0242ac1c0002row6_col1\" class=\"data row6 col1\" >3 (Sci/Tech)</td>\n",
       "            </tr>\n",
       "            <tr>\n",
       "                        <th id=\"T_b6e216dc_39c9_11ec_aa43_0242ac1c0002level0_row7\" class=\"row_heading level0 row7\" >7</th>\n",
       "                        <td id=\"T_b6e216dc_39c9_11ec_aa43_0242ac1c0002row7_col0\" class=\"data row7 col0\" >VILNIUS, Lithuania - Lithuania #39;s main parties formed an alliance to try to keep a Russian-born tycoon and his populist promises out of the government in Sunday #39;s second round of parliamentary elections in this Baltic country.</td>\n",
       "                        <td id=\"T_b6e216dc_39c9_11ec_aa43_0242ac1c0002row7_col1\" class=\"data row7 col1\" >0 (World)</td>\n",
       "            </tr>\n",
       "            <tr>\n",
       "                        <th id=\"T_b6e216dc_39c9_11ec_aa43_0242ac1c0002level0_row8\" class=\"row_heading level0 row8\" >8</th>\n",
       "                        <td id=\"T_b6e216dc_39c9_11ec_aa43_0242ac1c0002row8_col0\" class=\"data row8 col0\" >Witnesses in the trial of a US soldier charged with abusing prisoners at Abu Ghraib have told the court that the CIA sometimes directed abuse and orders were received from military command to toughen interrogations.</td>\n",
       "                        <td id=\"T_b6e216dc_39c9_11ec_aa43_0242ac1c0002row8_col1\" class=\"data row8 col1\" >0 (World)</td>\n",
       "            </tr>\n",
       "            <tr>\n",
       "                        <th id=\"T_b6e216dc_39c9_11ec_aa43_0242ac1c0002level0_row9\" class=\"row_heading level0 row9\" >9</th>\n",
       "                        <td id=\"T_b6e216dc_39c9_11ec_aa43_0242ac1c0002row9_col0\" class=\"data row9 col0\" >Dan Olsen of Ponte Vedra Beach, Fla., shot a 7-under 65 Thursday to take a one-shot lead after two rounds of the PGA Tour qualifying tournament.</td>\n",
       "                        <td id=\"T_b6e216dc_39c9_11ec_aa43_0242ac1c0002row9_col1\" class=\"data row9 col1\" >1 (Sports)</td>\n",
       "            </tr>\n",
       "    </tbody></table>"
      ],
      "text/plain": [
       "                                         description  label\n",
       "0  b'AMD #39;s new dual-core Opteron chip is desi...      3\n",
       "1  b'Reuters - Major League Baseball\\\\Monday anno...      1\n",
       "2  b'President Bush #39;s  quot;revenue-neutral q...      2\n",
       "3  b'Britain will run out of leading scientists u...      3\n",
       "4  b'London, England (Sports Network) - England m...      1\n",
       "5  b'TOKYO - Sony Corp. is banking on the \\\\$3 bi...      0\n",
       "6  b'Giant pandas may well prefer bamboo to lapto...      3\n",
       "7  b'VILNIUS, Lithuania - Lithuania #39;s main pa...      0\n",
       "8  b'Witnesses in the trial of a US soldier charg...      0\n",
       "9  b'Dan Olsen of Ponte Vedra Beach, Fla., shot a...      1"
      ]
     },
     "execution_count": 9,
     "metadata": {},
     "output_type": "execute_result"
    }
   ],
   "source": [
    "tfds.as_dataframe(dataset_all.take(10),info)"
   ]
  },
  {
   "cell_type": "markdown",
   "metadata": {
    "id": "JBLIZ3u3OcIr"
   },
   "source": [
    "**Review Labels (Categories)**\n"
   ]
  },
  {
   "cell_type": "code",
   "execution_count": null,
   "metadata": {
    "colab": {
     "base_uri": "https://localhost:8080/"
    },
    "id": "dFSV556dNY_r",
    "outputId": "22e792c2-9b70-4a17-98b6-c513da30a7bb"
   },
   "outputs": [
    {
     "name": "stdout",
     "output_type": "stream",
     "text": [
      "There are 4 classes in the dataset.\n",
      "The class names are ['World', 'Sports', 'Business', 'Sci/Tech']\n"
     ]
    }
   ],
   "source": [
    "print(f'There are {info.features[\"label\"].num_classes} classes in the dataset.')\n",
    "print(f'The class names are {info.features[\"label\"].names}')"
   ]
  },
  {
   "cell_type": "code",
   "execution_count": null,
   "metadata": {
    "colab": {
     "base_uri": "https://localhost:8080/"
    },
    "id": "1SvHT3skNZDW",
    "outputId": "c53bc0b4-d62a-4cfc-c3d4-bf43bbe4f372"
   },
   "outputs": [
    {
     "data": {
      "text/plain": [
       "{0: 'World', 1: 'Sports', 2: 'Business', 3: 'Sci/Tech'}"
      ]
     },
     "execution_count": 11,
     "metadata": {},
     "output_type": "execute_result"
    }
   ],
   "source": [
    "# classes dictionary\n",
    "categories =dict(enumerate(info.features[\"label\"].names))\n",
    "categories"
   ]
  },
  {
   "cell_type": "markdown",
   "metadata": {
    "id": "NeM9OqYgS0bO"
   },
   "source": [
    "The 127,600 news articles are evenly distributed among the 4 categories\n"
   ]
  },
  {
   "cell_type": "code",
   "execution_count": null,
   "metadata": {
    "colab": {
     "base_uri": "https://localhost:8080/"
    },
    "id": "gQyDjsceR3r7",
    "outputId": "03da507f-eafb-4783-863b-3f4112da8a33"
   },
   "outputs": [
    {
     "data": {
      "text/plain": [
       "[('Sci/Tech', 31900), ('Sports', 31900), ('Business', 31900), ('World', 31900)]"
      ]
     },
     "execution_count": 12,
     "metadata": {},
     "output_type": "execute_result"
    }
   ],
   "source": [
    "train_categories = [categories[label] for label in dataset_all.map(lambda text, label: label).as_numpy_iterator()]\n",
    "Counter(train_categories).most_common()"
   ]
  },
  {
   "cell_type": "markdown",
   "metadata": {
    "id": "01PZkzdTSwL0"
   },
   "source": [
    "We will use the tf.keras.layers.experimental.preprocessing.TextVectorization layer to transform each news article into a \"list\" of non-negative integers representing the tokens in the news article.\n",
    "\n",
    "For the purpose of training our models each such \"encoding\" will have a fixed length corresponding to the news article(s) with the most tokens. Shorter articles will be right-padded with zeros in the encoding. Also to speed up the training process, we will set max_tokens = 1000 so that words not in the vabulary set of top 1000 most common tokes are encoded as 1. But first we set max_tokens = None (which is the default value) in order to get the vocabulary size of the corpus."
   ]
  },
  {
   "cell_type": "code",
   "execution_count": null,
   "metadata": {
    "colab": {
     "base_uri": "https://localhost:8080/"
    },
    "id": "1wwTFLAgR3zA",
    "outputId": "7a04c3d7-1553-4b71-a353-4da0025ffa23"
   },
   "outputs": [
    {
     "name": "stdout",
     "output_type": "stream",
     "text": [
      "WARNING:tensorflow:AutoGraph could not transform <function <lambda> at 0x7fc09531fdd0> and will run it as-is.\n",
      "Cause: could not parse the source code of <function <lambda> at 0x7fc09531fdd0>: no matching AST found\n",
      "To silence this warning, decorate the function with @tf.autograph.experimental.do_not_convert\n"
     ]
    },
    {
     "name": "stderr",
     "output_type": "stream",
     "text": [
      "WARNING:tensorflow:AutoGraph could not transform <function <lambda> at 0x7fc09531fdd0> and will run it as-is.\n",
      "Cause: could not parse the source code of <function <lambda> at 0x7fc09531fdd0>: no matching AST found\n",
      "To silence this warning, decorate the function with @tf.autograph.experimental.do_not_convert\n"
     ]
    },
    {
     "name": "stdout",
     "output_type": "stream",
     "text": [
      "WARNING: AutoGraph could not transform <function <lambda> at 0x7fc09531fdd0> and will run it as-is.\n",
      "Cause: could not parse the source code of <function <lambda> at 0x7fc09531fdd0>: no matching AST found\n",
      "To silence this warning, decorate the function with @tf.autograph.experimental.do_not_convert\n",
      "CPU times: user 1min 39s, sys: 11.1 s, total: 1min 50s\n",
      "Wall time: 1min 22s\n"
     ]
    }
   ],
   "source": [
    "%%time\n",
    "encoder = tf.keras.layers.experimental.preprocessing.TextVectorization(max_tokens=None)\n",
    "encoder.adapt(dataset_all.map(lambda text, label: text))\n",
    "vocab = np.array(encoder.get_vocabulary())"
   ]
  },
  {
   "cell_type": "code",
   "execution_count": null,
   "metadata": {
    "colab": {
     "base_uri": "https://localhost:8080/"
    },
    "id": "-UNRJfBUR33S",
    "outputId": "79165d23-4b2c-4572-e60c-ecf02149bb71"
   },
   "outputs": [
    {
     "name": "stdout",
     "output_type": "stream",
     "text": [
      "There are 95976 vocabulary words in the corpus.\n"
     ]
    }
   ],
   "source": [
    "print(f\"There are {len(vocab)} vocabulary words in the corpus.\")"
   ]
  },
  {
   "cell_type": "markdown",
   "metadata": {
    "id": "JO8TP6SnSpk3"
   },
   "source": [
    "There are 95976 vocabulary words in the corpus.\n",
    "\n",
    "The .adapt method sets the layer's vocabulary. Here are the first 20 tokens. After the padding and unknown tokens they're sorted by frequency:"
   ]
  },
  {
   "cell_type": "code",
   "execution_count": null,
   "metadata": {
    "colab": {
     "base_uri": "https://localhost:8080/"
    },
    "id": "kt-f3rfTR37f",
    "outputId": "9ccaafe7-3af0-4933-a542-7f7e326b076e"
   },
   "outputs": [
    {
     "data": {
      "text/plain": [
       "array(['', '[UNK]', 'the', 'a', 'to', 'of', 'in', 'and', 'on', 'for',\n",
       "       'that', '39s', 'with', 'its', 'as', 'at', 'is', 'said', 'by', 'it'],\n",
       "      dtype='<U150')"
      ]
     },
     "execution_count": 14,
     "metadata": {},
     "output_type": "execute_result"
    }
   ],
   "source": [
    "vocab[:20]"
   ]
  },
  {
   "cell_type": "markdown",
   "metadata": {
    "id": "bknukXA0SjYv"
   },
   "source": [
    "Let us get the total number of words in the corpus and the sizes of the news articles"
   ]
  },
  {
   "cell_type": "code",
   "execution_count": null,
   "metadata": {
    "colab": {
     "base_uri": "https://localhost:8080/"
    },
    "id": "WtTQ_xNBR3_4",
    "outputId": "e839a64c-ac16-4ef4-d2af-3da7ddc172c3"
   },
   "outputs": [
    {
     "name": "stdout",
     "output_type": "stream",
     "text": [
      "CPU times: user 6min 48s, sys: 7.91 s, total: 6min 56s\n",
      "Wall time: 7min 21s\n"
     ]
    }
   ],
   "source": [
    "%%time\n",
    "doc_sizes = []\n",
    "corpus = []\n",
    "for example, _ in dataset_all.as_numpy_iterator():\n",
    "  enc_example = encoder(example)\n",
    "  doc_sizes.append(len(enc_example))\n",
    "  corpus+=list(enc_example.numpy())"
   ]
  },
  {
   "cell_type": "code",
   "execution_count": null,
   "metadata": {
    "colab": {
     "base_uri": "https://localhost:8080/"
    },
    "id": "SVMEor1jSINc",
    "outputId": "92c3d668-8470-4ef5-a543-a655f14f6fe3"
   },
   "outputs": [
    {
     "name": "stdout",
     "output_type": "stream",
     "text": [
      "There are 3909695 words in the corpus of 127600 news articles.\n",
      "Each news article has between 3 and 173 tokens in it.\n"
     ]
    }
   ],
   "source": [
    "print(f\"There are {len(corpus)} words in the corpus of {len(doc_sizes)} news articles.\")\n",
    "print(f\"Each news article has between {min(doc_sizes)} and {max(doc_sizes)} tokens in it.\")"
   ]
  },
  {
   "cell_type": "code",
   "execution_count": null,
   "metadata": {
    "colab": {
     "base_uri": "https://localhost:8080/",
     "height": 551
    },
    "id": "WP2cfFGvSIRq",
    "outputId": "03401136-6ddc-4828-eb71-7a17375f4ff2"
   },
   "outputs": [
    {
     "data": {
      "image/png": "[encoded data removed]",
      "text/plain": [
       "<Figure size 1080x648 with 1 Axes>"
      ]
     },
     "metadata": {
      "needs_background": "light"
     },
     "output_type": "display_data"
    }
   ],
   "source": [
    "plt.figure(figsize=(15,9))\n",
    "plt.hist(doc_sizes, bins=20,range = (0,120))\n",
    "plt.xlabel(\"Tokens Per Document\")\n",
    "plt.ylabel(\"Number of AG News Articles\");"
   ]
  },
  {
   "cell_type": "markdown",
   "metadata": {
    "id": "InSIstGlSbWL"
   },
   "source": [
    "Encode the news articles using the top 1000 most common words in the corpus\n",
    "\n"
   ]
  },
  {
   "cell_type": "code",
   "execution_count": null,
   "metadata": {
    "colab": {
     "base_uri": "https://localhost:8080/"
    },
    "id": "WYL48XbPSIf9",
    "outputId": "a3b25417-9577-435f-f554-b6f4902b43d6"
   },
   "outputs": [
    {
     "name": "stdout",
     "output_type": "stream",
     "text": [
      "WARNING:tensorflow:AutoGraph could not transform <function <lambda> at 0x7fbfa334f440> and will run it as-is.\n",
      "Cause: could not parse the source code of <function <lambda> at 0x7fbfa334f440>: no matching AST found\n",
      "To silence this warning, decorate the function with @tf.autograph.experimental.do_not_convert\n"
     ]
    },
    {
     "name": "stderr",
     "output_type": "stream",
     "text": [
      "WARNING:tensorflow:AutoGraph could not transform <function <lambda> at 0x7fbfa334f440> and will run it as-is.\n",
      "Cause: could not parse the source code of <function <lambda> at 0x7fbfa334f440>: no matching AST found\n",
      "To silence this warning, decorate the function with @tf.autograph.experimental.do_not_convert\n"
     ]
    },
    {
     "name": "stdout",
     "output_type": "stream",
     "text": [
      "WARNING: AutoGraph could not transform <function <lambda> at 0x7fbfa334f440> and will run it as-is.\n",
      "Cause: could not parse the source code of <function <lambda> at 0x7fbfa334f440>: no matching AST found\n",
      "To silence this warning, decorate the function with @tf.autograph.experimental.do_not_convert\n",
      "CPU times: user 1min 38s, sys: 11.5 s, total: 1min 50s\n",
      "Wall time: 1min 22s\n"
     ]
    }
   ],
   "source": [
    "%%time\n",
    "encoder_1000 = tf.keras.layers.experimental.preprocessing.TextVectorization(max_tokens=1000)\n",
    "encoder_1000.adapt(dataset_all.map(lambda text, label: text))\n",
    "vocab_1000 = np.array(encoder_1000.get_vocabulary());"
   ]
  },
  {
   "cell_type": "markdown",
   "metadata": {
    "id": "RLt02DwnVw5g"
   },
   "source": [
    "The .adapt method sets the layer's vocabulary. Here are the first 20 tokens. After the padding and unknown tokens they're sorted by frequency:\n"
   ]
  },
  {
   "cell_type": "code",
   "execution_count": null,
   "metadata": {
    "colab": {
     "base_uri": "https://localhost:8080/"
    },
    "id": "bVS2EeafVtyt",
    "outputId": "780c5d58-7bdb-41bd-d233-525427780e39"
   },
   "outputs": [
    {
     "data": {
      "text/plain": [
       "array(['', '[UNK]', 'the', 'a', 'to', 'of', 'in', 'and', 'on', 'for',\n",
       "       'that', '39s', 'with', 'its', 'as', 'at', 'is', 'said', 'by', 'it'],\n",
       "      dtype='<U14')"
      ]
     },
     "execution_count": 23,
     "metadata": {},
     "output_type": "execute_result"
    }
   ],
   "source": [
    "vocab_1000[:20]"
   ]
  },
  {
   "cell_type": "markdown",
   "metadata": {
    "id": "0rWk826zV12y"
   },
   "source": [
    "\n",
    "In particular, 0 is use for padding, 1 for the unknown words, 2 for the common word, i.e. 'the', etc. Let us look at the same example we encoded previously using the encoder for all the vocabulary words. Note that there are now five 1's denoting words that are not in the top 1000 in frequency.\n",
    "\n",
    "We encode the same example as before using the new encoder. Note that there are now 5 out of vocabulary words."
   ]
  },
  {
   "cell_type": "code",
   "execution_count": null,
   "metadata": {
    "colab": {
     "base_uri": "https://localhost:8080/",
     "height": 181
    },
    "id": "nkdtWEujVt5B",
    "outputId": "5186a7cf-13f7-4be8-8622-d9546df5bf83"
   },
   "outputs": [
    {
     "ename": "NameError",
     "evalue": "ignored",
     "output_type": "error",
     "traceback": [
      "\u001b[0;31m---------------------------------------------------------------------------\u001b[0m",
      "\u001b[0;31mNameError\u001b[0m                                 Traceback (most recent call last)",
      "\u001b[0;32m<ipython-input-19-e3589b538516>\u001b[0m in \u001b[0;36m<module>\u001b[0;34m()\u001b[0m\n\u001b[1;32m      1\u001b[0m \u001b[0mexample\u001b[0m \u001b[0;34m=\u001b[0m \u001b[0;34m\"the dog ran after a red ball as it rolled by the hat on the ground.\"\u001b[0m\u001b[0;34m\u001b[0m\u001b[0;34m\u001b[0m\u001b[0m\n\u001b[0;32m----> 2\u001b[0;31m \u001b[0mencoder_1000\u001b[0m\u001b[0;34m(\u001b[0m\u001b[0mexample\u001b[0m\u001b[0;34m)\u001b[0m\u001b[0;34m\u001b[0m\u001b[0;34m\u001b[0m\u001b[0m\n\u001b[0m",
      "\u001b[0;31mNameError\u001b[0m: name 'encoder_1000' is not defined"
     ]
    }
   ],
   "source": [
    "example = \"the dog ran after a red ball as it rolled by the hat on the ground.\"\n",
    "encoder_1000(example)"
   ]
  },
  {
   "cell_type": "code",
   "execution_count": null,
   "metadata": {
    "colab": {
     "base_uri": "https://localhost:8080/"
    },
    "id": "ea24T0heVt-W",
    "outputId": "9a842a4f-83d1-43d0-df8d-1c62f0124e5e"
   },
   "outputs": [
    {
     "name": "stdout",
     "output_type": "stream",
     "text": [
      "\"the\" is in the vocabulary.\n",
      "\"dog\" is *not* in the vocabulary.\n",
      "\"ran\" is *not* in the vocabulary.\n",
      "\"after\" is in the vocabulary.\n",
      "\"a\" is in the vocabulary.\n",
      "\"red\" is in the vocabulary.\n",
      "\"ball\" is *not* in the vocabulary.\n",
      "\"as\" is in the vocabulary.\n",
      "\"it\" is in the vocabulary.\n",
      "\"rolled\" is *not* in the vocabulary.\n",
      "\"by\" is in the vocabulary.\n",
      "\"the\" is in the vocabulary.\n",
      "\"hat\" is *not* in the vocabulary.\n",
      "\"on\" is in the vocabulary.\n",
      "\"the\" is in the vocabulary.\n",
      "\"ground.\" is *not* in the vocabulary.\n"
     ]
    }
   ],
   "source": [
    "for word in example.split():\n",
    "  print(f'\"{word}\" is {\"*not* \" if word not in vocab_1000  else \"\"}in the vocabulary.')"
   ]
  },
  {
   "cell_type": "markdown",
   "metadata": {
    "id": "AmizTJvxV-Ig"
   },
   "source": [
    "We want to determine the number of non-vocabulary words in each news articles (denoted by 1s in the encoding)\n"
   ]
  },
  {
   "cell_type": "code",
   "execution_count": null,
   "metadata": {
    "colab": {
     "base_uri": "https://localhost:8080/"
    },
    "id": "aW2QOPpsVuHG",
    "outputId": "3191049a-ff62-4f85-97c4-3a5d9886a47b"
   },
   "outputs": [
    {
     "name": "stdout",
     "output_type": "stream",
     "text": [
      "CPU times: user 8min 2s, sys: 8.3 s, total: 8min 10s\n",
      "Wall time: 8min 21s\n"
     ]
    }
   ],
   "source": [
    "%%time\n",
    "doc1000_sizes = []\n",
    "corpus1000 = []\n",
    "count1000=0\n",
    "useless = 0\n",
    "# stop = 0\n",
    "percents = []\n",
    "for example, _ in dataset_all.as_numpy_iterator():\n",
    "  # stop+=1\n",
    "  # if stop > 5: break\n",
    "  enc_example = encoder_1000(example)\n",
    "  num_ones = tf.math.count_nonzero(enc_example==1).numpy()\n",
    "  percent_ones = round(num_ones*100/len(enc_example))\n",
    "  # print(f\"{percent_ones}%\")\n",
    "  percents.append(percent_ones)\n",
    "\n",
    "  s = set(list(enc_example.numpy()))\n",
    "  if s == {1}: useless+=1\n",
    "\n",
    "  doc1000_sizes.append(len(enc_example))\n",
    "  corpus1000+=list(enc_example.numpy())\n",
    "\n",
    "  count1000 += tf.math.count_nonzero(enc_example>1)"
   ]
  },
  {
   "cell_type": "code",
   "execution_count": null,
   "metadata": {
    "colab": {
     "base_uri": "https://localhost:8080/"
    },
    "id": "GjvxnZC0WKHP",
    "outputId": "5889257a-927c-4dad-af3b-d9d0e346ead0"
   },
   "outputs": [
    {
     "name": "stdout",
     "output_type": "stream",
     "text": [
      "Each news article has between 3 and 173 tokens in it.\n"
     ]
    }
   ],
   "source": [
    "print(f\"Each news article has between {min(doc1000_sizes)} and {max(doc1000_sizes)} tokens in it.\")"
   ]
  },
  {
   "cell_type": "code",
   "execution_count": null,
   "metadata": {
    "colab": {
     "base_uri": "https://localhost:8080/"
    },
    "id": "9yQ1WpNdWKQb",
    "outputId": "3b9349c2-59e4-45b8-b7a7-cca08e250d85"
   },
   "outputs": [
    {
     "data": {
      "text/plain": [
       "(array([  0,   3,   4,   5,   6,   7,   8,   9,  10,  11,  12,  13,  14,\n",
       "         15,  16,  17,  18,  19,  20,  21,  22,  23,  24,  25,  26,  27,\n",
       "         28,  29,  30,  31,  32,  33,  34,  35,  36,  37,  38,  39,  40,\n",
       "         41,  42,  43,  44,  45,  46,  47,  48,  49,  50,  51,  52,  53,\n",
       "         54,  55,  56,  57,  58,  59,  60,  61,  62,  63,  64,  65,  66,\n",
       "         67,  68,  69,  70,  71,  72,  73,  74,  75,  76,  77,  78,  79,\n",
       "         80,  81,  82,  83,  84,  85,  86,  87,  88,  89,  90,  91,  92,\n",
       "         93,  95,  97, 100]),\n",
       " array([  12,    5,   20,   29,   49,   71,  120,  137,  172,  274,  486,\n",
       "         368,  682,  777,  828, 1346, 1376, 2123, 1610, 2863, 2687, 3018,\n",
       "        3957, 3315, 4605, 3934, 4148, 5737, 4954, 5072, 6123, 6165, 3255,\n",
       "        5095, 4596, 3438, 5880, 4205, 3109, 4063, 3555, 3030, 2904, 2294,\n",
       "        1967, 1716, 2174,  368, 2486,  234, 1246,  747,  573,  547,  520,\n",
       "         441,  348,  217,  250,  135,  234,   49,  131,  101,   11,  135,\n",
       "          40,   62,   33,   53,    8,   34,   10,   55,   10,    8,   15,\n",
       "           3,   27,    9,    5,   19,    1,    8,   12,    6,   16,   11,\n",
       "           5,    4,    2,    3,    1,    1,   22]))"
      ]
     },
     "execution_count": 28,
     "metadata": {},
     "output_type": "execute_result"
    }
   ],
   "source": [
    "Counter(percents).most_common(10)\n",
    "np.unique(percents, return_counts=True)"
   ]
  },
  {
   "cell_type": "code",
   "execution_count": null,
   "metadata": {
    "colab": {
     "base_uri": "https://localhost:8080/",
     "height": 551
    },
    "id": "He-tTcGqWKZI",
    "outputId": "ee1723ca-ad8b-400f-e345-968ee4ba7dd2"
   },
   "outputs": [
    {
     "data": {
      "image/png": "[encoded data removed]",
      "text/plain": [
       "<Figure size 1080x648 with 1 Axes>"
      ]
     },
     "metadata": {
      "needs_background": "light"
     },
     "output_type": "display_data"
    }
   ],
   "source": [
    "plt.figure(figsize=(15,9))\n",
    "plt.hist(percents, 20)\n",
    "plt.ylabel('Number of Documents')\n",
    "plt.xlabel('Percent of Non-Vocabulary Words in a Document');"
   ]
  },
  {
   "cell_type": "code",
   "execution_count": null,
   "metadata": {
    "colab": {
     "base_uri": "https://localhost:8080/"
    },
    "id": "Ud8RvGvgWVDy",
    "outputId": "3f7209f7-0711-4182-aaa4-136952890bac"
   },
   "outputs": [
    {
     "name": "stdout",
     "output_type": "stream",
     "text": [
      "There are 2602670 top 1000 vocabulary words in the corpus.\n"
     ]
    }
   ],
   "source": [
    "print(f\"There are {count1000} top {len(vocab_1000)} vocabulary words in the corpus.\")"
   ]
  },
  {
   "cell_type": "markdown",
   "metadata": {
    "id": "IejUk55TW0nT"
   },
   "source": [
    "**Preprocessing Data Create Input Pipeline**\n"
   ]
  },
  {
   "cell_type": "code",
   "execution_count": null,
   "metadata": {
    "colab": {
     "base_uri": "https://localhost:8080/"
    },
    "id": "H2BFdZ0SWVIu",
    "outputId": "0f98e555-b0f5-46ec-cc14-62ab83cc5c2d"
   },
   "outputs": [
    {
     "name": "stdout",
     "output_type": "stream",
     "text": [
      "2021-10-30 22:07:19.126539: E tensorflow/stream_executor/cuda/cuda_driver.cc:271] failed call to cuInit: CUDA_ERROR_NO_DEVICE: no CUDA-capable device is detected\n",
      "2021-10-30 22:07:19.126600: I tensorflow/stream_executor/cuda/cuda_diagnostics.cc:156] kernel driver does not appear to be running on this host (3812b551844d): /proc/driver/nvidia/version does not exist\n",
      "I1030 22:07:19.126842 140540927313792 download_and_prepare.py:200] Running download_and_prepare for dataset(s):\n",
      "ag_news_subset\n",
      "I1030 22:07:19.127834 140540927313792 dataset_info.py:361] Load dataset info from /root/tensorflow_datasets/ag_news_subset/1.0.0\n",
      "I1030 22:07:19.129445 140540927313792 download_and_prepare.py:138] download_and_prepare for dataset ag_news_subset/1.0.0...\n",
      "I1030 22:07:19.129721 140540927313792 dataset_builder.py:299] Reusing dataset ag_news_subset (/root/tensorflow_datasets/ag_news_subset/1.0.0)\n",
      "\u001b[1mname: \"ag_news_subset\"\n",
      "description: \"AG is a collection of more than 1 million news articles.\\nNews articles have been gathered from more than 2000  news sources by ComeToMyHead in more than 1 year of activity.\\nComeToMyHead is an academic news search engine which has been running since July, 2004.\\nThe dataset is provided by the academic comunity for research purposes in data mining (clustering, classification, etc),\\ninformation retrieval (ranking, search, etc), xml, data compression, data streaming,\\nand any other non-commercial activity.\\nFor more information, please refer to the link http://www.di.unipi.it/~gulli/AG_corpus_of_news_articles.html .\\n\\nThe AG\\'s news topic classification dataset is constructed by Xiang Zhang (xiang.zhang@nyu.edu) from the dataset above.\\nIt is used as a text classification benchmark in the following paper:\\nXiang Zhang, Junbo Zhao, Yann LeCun. Character-level Convolutional Networks for Text Classification. Advances in Neural Information Processing Systems 28 (NIPS 2015).\\n\\nThe AG\\'s news topic classification dataset is constructed by choosing 4 largest classes from the original corpus.\\nEach class contains 30,000 training samples and 1,900 testing samples.\\nThe total number of training samples is 120,000 and testing 7,600.\"\n",
      "citation: \"@misc{zhang2015characterlevel,\\n    title={Character-level Convolutional Networks for Text Classification},\\n    author={Xiang Zhang and Junbo Zhao and Yann LeCun},\\n    year={2015},\\n    eprint={1509.01626},\\n    archivePrefix={arXiv},\\n    primaryClass={cs.LG}\\n}\"\n",
      "location {\n",
      "  urls: \"https://arxiv.org/abs/1509.01626\"\n",
      "}\n",
      "splits {\n",
      "  name: \"test\"\n",
      "  shard_lengths: 7600\n",
      "  num_bytes: 2226751\n",
      "}\n",
      "splits {\n",
      "  name: \"train\"\n",
      "  shard_lengths: 120000\n",
      "  num_bytes: 35301386\n",
      "}\n",
      "supervised_keys {\n",
      "  input: \"description\"\n",
      "  output: \"label\"\n",
      "}\n",
      "version: \"1.0.0\"\n",
      "download_size: 11784327\n",
      "\u001b[0m\n"
     ]
    }
   ],
   "source": [
    "# register  ag_news_subset so that tfds.load doesn't generate a checksum (mismatch) error\n",
    "!python -m tensorflow_datasets.scripts.download_and_prepare --register_checksums --datasets=ag_news_subset\n",
    "\n",
    "# Example Approaches to Split Data Set\n",
    "# dataset, info = tfds.load('ag_news_subset', with_info=True,  split=['train[:]','test[:1000]', 'test[1000:]'],\n",
    "dataset, info = tfds.load('ag_news_subset', with_info=True,  split=['train[:95%]','train[95%:]', 'test[:]'],\n",
    "# dataset, info = tfds.load('ag_news_subset', with_info=True,  split=['train[:114000]','train[114000:]', 'test[:]'],\n",
    "                          as_supervised=True)\n",
    "train_dataset, validation_dataset, test_dataset = dataset\n",
    "# train_dataset, test_dataset = dataset['train'],dataset['test']"
   ]
  },
  {
   "cell_type": "code",
   "execution_count": null,
   "metadata": {
    "id": "d8cUvTi6WVNN"
   },
   "outputs": [],
   "source": [
    "####  Dataset Splits (Training, Test, Validation)\n",
    "#### .8934 Training, .0470 Test, .0596 Validation"
   ]
  },
  {
   "cell_type": "code",
   "execution_count": null,
   "metadata": {
    "colab": {
     "base_uri": "https://localhost:8080/"
    },
    "id": "5YVES5iQWVSQ",
    "outputId": "af86b5a1-11f9-4bee-a24f-aa01309c61f6"
   },
   "outputs": [
    {
     "data": {
      "text/plain": [
       "(114000, 6000, 7600)"
      ]
     },
     "execution_count": 18,
     "metadata": {},
     "output_type": "execute_result"
    }
   ],
   "source": [
    "len(train_dataset),len(validation_dataset),len(test_dataset) \n",
    "# len(train_dataset),len(test_dataset)"
   ]
  },
  {
   "cell_type": "markdown",
   "metadata": {
    "id": "tVpNTAXbXJiZ"
   },
   "source": [
    "**Review Distribution of Categorical Labels for the 114000 training data (news articles)**\n"
   ]
  },
  {
   "cell_type": "code",
   "execution_count": null,
   "metadata": {
    "colab": {
     "base_uri": "https://localhost:8080/"
    },
    "id": "CPsZUeOjWVWo",
    "outputId": "29b078fa-18de-4b77-d33d-e2c9751d83d4"
   },
   "outputs": [
    {
     "data": {
      "text/plain": [
       "[('Business', 28531), ('Sports', 28495), ('World', 28491), ('Sci/Tech', 28483)]"
      ]
     },
     "execution_count": 19,
     "metadata": {},
     "output_type": "execute_result"
    }
   ],
   "source": [
    "from collections import Counter\n",
    "train_categories = [categories[label] for label in train_dataset.map(lambda text, label: label).as_numpy_iterator()]\n",
    "Counter(train_categories).most_common()"
   ]
  },
  {
   "cell_type": "markdown",
   "metadata": {
    "id": "5agiNtkGXd0R"
   },
   "source": [
    "Review Example with Interger Label(text, label pairs):\n",
    "\n",
    "Review Example with Interger Label Encoded Classification(text, label pairs):"
   ]
  },
  {
   "cell_type": "code",
   "execution_count": null,
   "metadata": {
    "colab": {
     "base_uri": "https://localhost:8080/"
    },
    "id": "3Ox_UTjpWVa5",
    "outputId": "4354feee-7fc8-4425-ced2-82f2abc70eeb"
   },
   "outputs": [
    {
     "name": "stdout",
     "output_type": "stream",
     "text": [
      "text:  b'AMD #39;s new dual-core Opteron chip is designed mainly for corporate computing applications, including databases, Web services, and financial transactions.'\n",
      "class:  Sci/Tech\n"
     ]
    }
   ],
   "source": [
    "for example, label in train_dataset.take(1):\n",
    "  print('text: ', example.numpy())\n",
    "  print('class: ', categories[label.numpy()])"
   ]
  },
  {
   "cell_type": "markdown",
   "metadata": {
    "id": "k7lL-5JWXgr5"
   },
   "source": [
    "**Preprocessing Shuffle Data for Training and Create Batches of (text, label) pairs:**\n"
   ]
  },
  {
   "cell_type": "code",
   "execution_count": null,
   "metadata": {
    "id": "2CAyTPR0XkcV"
   },
   "outputs": [],
   "source": [
    "BUFFER_SIZE = 10000\n",
    "BATCH_SIZE = 64"
   ]
  },
  {
   "cell_type": "code",
   "execution_count": null,
   "metadata": {
    "id": "JtnxiulqXkfv"
   },
   "outputs": [],
   "source": [
    "train_dataset = train_dataset.shuffle(BUFFER_SIZE).batch(BATCH_SIZE).prefetch(tf.data.experimental.AUTOTUNE)\n",
    "validation_dataset = validation_dataset.shuffle(BUFFER_SIZE).batch(BATCH_SIZE).prefetch(tf.data.experimental.AUTOTUNE)\n",
    "test_dataset = test_dataset.batch(BATCH_SIZE).prefetch(tf.data.experimental.AUTOTUNE)"
   ]
  },
  {
   "cell_type": "code",
   "execution_count": null,
   "metadata": {
    "colab": {
     "base_uri": "https://localhost:8080/"
    },
    "id": "uDOcqvc-XkjY",
    "outputId": "ab2438ca-1210-4319-fb00-ba9446e31277"
   },
   "outputs": [
    {
     "name": "stdout",
     "output_type": "stream",
     "text": [
      "texts:  [b'AFP - Thwarted so far in his attempts to clamp down on mobile telephone use among deputies, the speaker of the Italian parliament has hit upon a sophisticated way of getting tough, a weekly newspaper reported.'\n",
      " b'The planet with the second largest number of moons now has two more. The US Cassini spacecraft discovered them around Saturn, bringing the giant ringed planet #39;s known total to 33. '\n",
      " b'The 30-year-old British Lion and former rugby league international replaces Jonny Wilkinson who is nursing an upper-arm injury. The main surprise in the England squad was the decision to leave centre Will ']\n",
      "\n",
      "labels:  [3 3 1]\n",
      "texts:  [b'Qwest agreed to pay \\\\$250 million Thursday to settle allegations the telecommunications company falsified the books by at least \\\\$3.'\n",
      " b'The scramble by big traditional US airlines to become profitable again is leaving many travelers with longer airport layovers. The typical American Airlines passenger connecting through Dallas/Fort Worth now '\n",
      " b'Indonesian police have arrested four suspects, among them a bomb-maker, over a blast outside the Australian embassy in Jakarta that killed 10 people in September, police chief Da #39;i Bachtiar said Wednesday.']\n",
      "\n",
      "labels:  [2 2 0]\n"
     ]
    }
   ],
   "source": [
    "for example, label in train_dataset.take(2):\n",
    "  print('texts: ', example.numpy()[:3])\n",
    "  print()\n",
    "  print('labels: ', label.numpy()[:3])"
   ]
  },
  {
   "cell_type": "code",
   "execution_count": null,
   "metadata": {
    "colab": {
     "base_uri": "https://localhost:8080/"
    },
    "id": "sxIMmgW3YzjA",
    "outputId": "65beeb82-7294-4efb-a650-410e97172a21"
   },
   "outputs": [
    {
     "name": "stdout",
     "output_type": "stream",
     "text": [
      "texts:  [b'One-inch media storage drive marks a step forward for convergence of mobile devices.'\n",
      " b'US light crude climbed to \\\\$49.36 a barrel, up 48 cents and just four cents below the record high set in late August at \\\\$49.40. In London, Brent crude oil futures in surged to a new peak of \\\\$45.'\n",
      " b\"A security loophole at internet bank Cahoot allowed customers to view other people's accounts.\"]\n",
      "\n",
      "labels:  ['Sci/Tech', 'Business', 'Sci/Tech']\n",
      "\n",
      "texts:  [b'The decisions on the disengagement plan to be made by the cabinet today and the Knesset on Tuesday may be essential steps, but they still will not ensure its implementation.'\n",
      " b'In a step fraught with risks for Prime Minister Tony Blair, Britain agreed yesterday to send 850 of its soldiers from relatively peaceful southern Iraq to a volatile area near Baghdad '\n",
      " b'Two Arabs, a US citizen and an Asian working for the Saudi Arabian Trading and Contracting Company were abducted today in Iraq, Agence France-Presse reported citing a spokesman for the Iraqi interior ministry.']\n",
      "\n",
      "labels:  ['World', 'World', 'World']\n",
      "\n"
     ]
    }
   ],
   "source": [
    "for example, label in train_dataset.take(2):\n",
    "  print('texts: ', example.numpy()[:3])\n",
    "  print()\n",
    "  print('labels: ', [categories[n] for n in label.numpy()[:3]])\n",
    "  print()"
   ]
  },
  {
   "cell_type": "markdown",
   "metadata": {
    "id": "R1YVk7pfY8Ck"
   },
   "source": [
    "**Create the Text Encoder**\n",
    "\n",
    "The raw text loaded by tfds needs to be processed before it can be used in a model. The simplest way to process text for training is using the experimental.preprocessing.TextVectorization layer. This layer has many capabilities, but this tutorial sticks to the default behavior.\n",
    "\n",
    "Create the layer, and pass the dataset's text to the layer's .adapt method: The processing of each sample contains the following steps:\n",
    "\n",
    "standardize each sample (usually lowercasing + punctuation stripping)\n",
    "split each sample into substrings (usually words)\n",
    "recombine substrings into tokens (usually ngrams)\n",
    "index tokens (associate a unique int value with each token)\n",
    "transform each sample using this index, either into a vector of ints or a dense float vector.\n",
    "The .adapt method sets the layer's vocabulary. Here are the first 20 tokens. After the padding and unknown tokens they're sorted by frequency:"
   ]
  },
  {
   "cell_type": "code",
   "execution_count": null,
   "metadata": {
    "id": "JUel99DgYzm3"
   },
   "outputs": [],
   "source": [
    "VOCAB_SIZE=1000\n",
    "encoder = tf.keras.layers.experimental.preprocessing.TextVectorization(\n",
    "    max_tokens=VOCAB_SIZE)\n",
    "encoder.adapt(train_dataset.map(lambda text, label: text))"
   ]
  },
  {
   "cell_type": "code",
   "execution_count": null,
   "metadata": {
    "colab": {
     "base_uri": "https://localhost:8080/"
    },
    "id": "n4Z_Kf_bYzsu",
    "outputId": "5eedc07c-ffbd-45da-93d5-a2b5fbb9ab89"
   },
   "outputs": [
    {
     "data": {
      "text/plain": [
       "1000"
      ]
     },
     "execution_count": 41,
     "metadata": {},
     "output_type": "execute_result"
    }
   ],
   "source": [
    "vocab = np.array(encoder.get_vocabulary())\n",
    "len(vocab)"
   ]
  },
  {
   "cell_type": "code",
   "execution_count": null,
   "metadata": {
    "colab": {
     "base_uri": "https://localhost:8080/"
    },
    "id": "ihO64lNWYzyj",
    "outputId": "cf28fd72-58d8-413f-95cb-089bb273d106"
   },
   "outputs": [
    {
     "data": {
      "text/plain": [
       "array(['', '[UNK]', 'the', 'a', 'to', 'of', 'in', 'and', 'on', 'for',\n",
       "       'that', '39s', 'with', 'its', 'as', 'at', 'is', 'said', 'by', 'it'],\n",
       "      dtype='<U14')"
      ]
     },
     "execution_count": 42,
     "metadata": {},
     "output_type": "execute_result"
    }
   ],
   "source": [
    "vocab = np.array(encoder.get_vocabulary())\n",
    "vocab[:20]"
   ]
  },
  {
   "cell_type": "code",
   "execution_count": null,
   "metadata": {
    "colab": {
     "base_uri": "https://localhost:8080/"
    },
    "id": "sIKZs8x7ZIVy",
    "outputId": "0b3b1921-8d6a-4c18-c5fa-5b0a2ee0bdd7"
   },
   "outputs": [
    {
     "data": {
      "text/plain": [
       "array(['black', 'turn', 'build', 'countrys', 'advanced', 'whose',\n",
       "       'crisis', 'create', '23', 'sources', 'body', 'militant', 'hope',\n",
       "       'event', 'started', 'ready', 'jones', 'lawsuit', 'focus',\n",
       "       'singapore'], dtype='<U14')"
      ]
     },
     "execution_count": 43,
     "metadata": {},
     "output_type": "execute_result"
    }
   ],
   "source": [
    "vocab[-20:]"
   ]
  },
  {
   "cell_type": "code",
   "execution_count": null,
   "metadata": {
    "colab": {
     "base_uri": "https://localhost:8080/"
    },
    "id": "-HRDO2I6ZIdQ",
    "outputId": "1f77f172-cfec-4ba4-cdcb-0600f8325632"
   },
   "outputs": [
    {
     "data": {
      "text/plain": [
       "array([[883,   1,   1,   1,   1,   8,  44,  10,  36,  74,  31,   1,   3,\n",
       "          1,   1,   1, 228,  83, 146,   4,  40,  16, 176,   2,   1,   1,\n",
       "          1,  17, 239, 548, 321,   1,   1,   4, 883,   0,   0,   0,   0,\n",
       "          0,   0,   0,   0,   0,   0,   0,   0,   0,   0],\n",
       "       [  1, 216, 749, 590,   4,   1,  32,   1,  42,  14,  38, 284,   1,\n",
       "        927,   1,   1,   1, 106, 384,  12,   3,   1,   1,   0,   0,   0,\n",
       "          0,   0,   0,   0,   0,   0,   0,   0,   0,   0,   0,   0,   0,\n",
       "          0,   0,   0,   0,   0,   0,   0,   0,   0,   0],\n",
       "       [ 35, 423,  66,   1,   1,  17,  44,  24, 167,  16,   1,   1,   4,\n",
       "        510, 280,   6,  22, 105, 419,   8,  93,  95, 175,   0,   0,   0,\n",
       "          0,   0,   0,   0,   0,   0,   0,   0,   0,   0,   0,   0,   0,\n",
       "          0,   0,   0,   0,   0,   0,   0,   0,   0,   0]])"
      ]
     },
     "execution_count": 44,
     "metadata": {},
     "output_type": "execute_result"
    }
   ],
   "source": [
    "encoded_example = encoder(example)[:3].numpy()\n",
    "encoded_example"
   ]
  },
  {
   "cell_type": "markdown",
   "metadata": {
    "id": "SzE0nvagZbjG"
   },
   "source": [
    "With the default settings, the process is not completely reversible. There are three main reasons for that:\n",
    "\n",
    "1. The default value for preprocessing.TextVectorization's standardize argument is \"lower_and_strip_punctuation\".\n",
    "2. The limited vocabulary size and lack of character-based fallback results in some unknown tokens."
   ]
  },
  {
   "cell_type": "code",
   "execution_count": null,
   "metadata": {
    "colab": {
     "base_uri": "https://localhost:8080/"
    },
    "id": "-baO_cqEZdjO",
    "outputId": "257378de-d73b-4cd0-ae2b-5b125246dc1f"
   },
   "outputs": [
    {
     "name": "stdout",
     "output_type": "stream",
     "text": [
      "Original:  b'Arsenal boss Arsene Wenger intimated on Tuesday that he would be signing a contact extension  quot;within days quot;. According to This is London, the Frenchman,said:  quot;I #39;ve said many times I am committed to Arsenal '\n",
      "Round-trip:  arsenal [UNK] [UNK] [UNK] [UNK] on tuesday that he would be [UNK] a [UNK] [UNK] [UNK] days quot according to this is london the [UNK] [UNK] [UNK] said many times i [UNK] [UNK] to arsenal              \n",
      "\n",
      "Original:  b'Entertainment industry executives got to strut their stuff Monday as two big traditional winter investor conferences kicked off here with a star-studded lineup.'\n",
      "Round-trip:  [UNK] industry executives got to [UNK] their [UNK] monday as two big [UNK] winter [UNK] [UNK] [UNK] off here with a [UNK] [UNK]                          \n",
      "\n",
      "Original:  b'AP - French President Jacques Chirac said Tuesday his country is \"entirely committed\" to taking part in an international conference on Iraq next month.'\n",
      "Round-trip:  ap french president [UNK] [UNK] said tuesday his country is [UNK] [UNK] to taking part in an international conference on iraq next month                          \n",
      "\n"
     ]
    }
   ],
   "source": [
    "for n in range(3):\n",
    "  print(\"Original: \", example[n].numpy())\n",
    "  print(\"Round-trip: \", \" \".join(vocab[encoded_example[n]]))\n",
    "  print()"
   ]
  },
  {
   "cell_type": "markdown",
   "metadata": {
    "id": "z9H1Twobf2px"
   },
   "source": [
    "**Experiment C: LSTM: Try several experiments by tweaking (i) architecture (ii) Bidirectional/unidirectional & other hyper parameters, including regularization.**"
   ]
  },
  {
   "cell_type": "markdown",
   "metadata": {
    "id": "GEF8dxWcZlC0"
   },
   "source": [
    "**Create the model**\n",
    "\n",
    "A drawing of the information flow in the model\n",
    "\n",
    "Above is a diagram of the model.\n",
    "\n",
    "This model can be build as a tf.keras.Sequential.\n",
    "\n",
    "The first layer is the encoder, which converts the text to a sequence of token indices.\n",
    "\n",
    "After the encoder is an embedding layer. An embedding layer stores one vector per word. When called, it converts the sequences of word indices to sequences of vectors. These vectors are trainable. After training (on enough data), words with similar meanings often have similar vectors.\n",
    "\n",
    "This index-lookup is much more efficient than the equivalent operation of passing a one-hot encoded vector through a tf.keras.layers.Dense layer.\n",
    "\n",
    "A recurrent neural network (RNN) processes sequence input by iterating through the elements. RNNs pass the outputs from one timestep to their input on the next timestep.\n",
    "\n",
    "The tf.keras.layers.Bidirectional wrapper can also be used with an RNN layer. This propagates the input forward and backwards through the RNN layer and then concatenates the final output.\n",
    "\n",
    "The main advantage to a bidirectional RNN is that the signal from the beginning of the input doesn't need to be processed all the way through every timestep to affect the output.\n",
    "\n",
    "The main disadvantage of a bidirectional RNN is that you can't efficiently stream predictions as words are being added to the end.\n",
    "\n",
    "After the RNN has converted the sequence to a single vector the two layers.Dense do some final processing, and convert from this vector representation to a single logit as the classification output.\n",
    "\n"
   ]
  },
  {
   "cell_type": "code",
   "execution_count": null,
   "metadata": {
    "id": "IWpDJTBaZdm8"
   },
   "outputs": [],
   "source": [
    "# Single Layer Bidirectional LSTM\n",
    "\n",
    "num_classes = 4\n",
    "model = tf.keras.Sequential([\n",
    "                              encoder\n",
    "                              ,tf.keras.layers.Embedding(input_dim=len(encoder.get_vocabulary())\n",
    "                              ,output_dim=64\n",
    "                                # Use masking to handle the variable sequence lengths\n",
    "                              ,mask_zero=True)\n",
    "                              ,tf.keras.layers.Bidirectional(tf.keras.layers.LSTM(64))\n",
    "                              ,tf.keras.layers.Dense(64, activation='relu')\n",
    "                              ,tf.keras.layers.Dense(num_classes,activation='softmax')   # num_classes = 4\n",
    "])"
   ]
  },
  {
   "cell_type": "markdown",
   "metadata": {
    "id": "P6JqUQWrZzNl"
   },
   "source": [
    "**Compile Model**"
   ]
  },
  {
   "cell_type": "code",
   "execution_count": null,
   "metadata": {
    "id": "8VAwAuQrZdqY"
   },
   "outputs": [],
   "source": [
    "model.compile(optimizer=tf.keras.optimizers.Adam(1e-4)\n",
    "              ,loss=tf.keras.losses.SparseCategoricalCrossentropy() # if we set from_logits=True we don not have specify a softmax activation function in the last layer\n",
    "              ,metrics=['accuracy'])"
   ]
  },
  {
   "cell_type": "markdown",
   "metadata": {
    "id": "payrYDxoZ43Q"
   },
   "source": [
    "Please note that Keras sequential model is used here since all the layers in the model only have single input and produce single output. In case you want to use stateful RNN layer, you might want to build your model with Keras functional API or model subclassing so that you can retrieve and reuse the RNN layer states. Please check Keras RNN guide for more details.\n",
    "\n",
    "The embedding layer uses masking to handle the varying sequence-lengths. All the layers after the Embedding support masking:"
   ]
  },
  {
   "cell_type": "code",
   "execution_count": null,
   "metadata": {
    "colab": {
     "base_uri": "https://localhost:8080/"
    },
    "id": "qS2kta7iZdt9",
    "outputId": "1fea6f38-6d97-4a13-9d71-7aa10dd18ed9"
   },
   "outputs": [
    {
     "name": "stdout",
     "output_type": "stream",
     "text": [
      "[False, True, True, True, True]\n"
     ]
    }
   ],
   "source": [
    "print([layer.supports_masking for layer in model.layers])"
   ]
  },
  {
   "cell_type": "markdown",
   "metadata": {
    "id": "Xii8W14Oa0hb"
   },
   "source": [
    "**Train the model**"
   ]
  },
  {
   "cell_type": "code",
   "execution_count": null,
   "metadata": {
    "colab": {
     "base_uri": "https://localhost:8080/"
    },
    "id": "R1gzb5Z6Zdw9",
    "outputId": "309fd24f-e9c8-4e54-d4b1-1b2835f297bf"
   },
   "outputs": [
    {
     "name": "stdout",
     "output_type": "stream",
     "text": [
      "Epoch 1/200\n",
      "1782/1782 [==============================] - 338s 184ms/step - loss: 0.6271 - accuracy: 0.7683 - val_loss: 0.3529 - val_accuracy: 0.8837\n",
      "Epoch 2/200\n",
      "1782/1782 [==============================] - 328s 184ms/step - loss: 0.2760 - accuracy: 0.9100 - val_loss: 0.2939 - val_accuracy: 0.9000\n",
      "Epoch 3/200\n",
      "1782/1782 [==============================] - 328s 184ms/step - loss: 0.2010 - accuracy: 0.9350 - val_loss: 0.3109 - val_accuracy: 0.9002\n",
      "Epoch 4/200\n",
      "1782/1782 [==============================] - 328s 184ms/step - loss: 0.1535 - accuracy: 0.9502 - val_loss: 0.3059 - val_accuracy: 0.9022\n",
      "Epoch 5/200\n",
      "1782/1782 [==============================] - 328s 184ms/step - loss: 0.1199 - accuracy: 0.9610 - val_loss: 0.3434 - val_accuracy: 0.8955\n",
      "Epoch 6/200\n",
      "1782/1782 [==============================] - 327s 183ms/step - loss: 0.0959 - accuracy: 0.9691 - val_loss: 0.3556 - val_accuracy: 0.8967\n"
     ]
    }
   ],
   "source": [
    "history = model.fit(train_dataset\n",
    "                    ,epochs = 200\n",
    "                    ,validation_data=validation_dataset\n",
    "                    ,callbacks=[tf.keras.callbacks.EarlyStopping(monitor='val_accuracy', patience=2)]\n",
    "                    )"
   ]
  },
  {
   "cell_type": "code",
   "execution_count": null,
   "metadata": {
    "colab": {
     "base_uri": "https://localhost:8080/"
    },
    "id": "HGZbi_6vZd1X",
    "outputId": "71f8396f-ec2c-4167-df62-16966059efd9"
   },
   "outputs": [
    {
     "name": "stdout",
     "output_type": "stream",
     "text": [
      "119/119 [==============================] - 5s 37ms/step - loss: 0.3696 - accuracy: 0.8941\n",
      "Test Loss: 0.3695625960826874\n",
      "Test Accuracy: 0.8940789699554443\n"
     ]
    }
   ],
   "source": [
    "test_loss, test_acc = model.evaluate(test_dataset)\n",
    "\n",
    "print('Test Loss: {}'.format(test_loss))\n",
    "print('Test Accuracy: {}'.format(test_acc))"
   ]
  },
  {
   "cell_type": "markdown",
   "metadata": {
    "id": "I66ycaVIa9MT"
   },
   "source": [
    "**Plotting Performance Metrics - Single Layer Bidirectional LSTM**\n",
    "\n",
    "We use Matplotlib to create 2 plots--displaying the training and validation loss (resp. accuracy) for each (training) epoch side by side."
   ]
  },
  {
   "cell_type": "code",
   "execution_count": null,
   "metadata": {
    "colab": {
     "base_uri": "https://localhost:8080/"
    },
    "id": "4u8L7de6a_5z",
    "outputId": "e5093982-b34b-4ee5-b8bd-3aa3d70b5ccb"
   },
   "outputs": [
    {
     "data": {
      "text/plain": [
       "dict_keys(['loss', 'accuracy', 'val_loss', 'val_accuracy'])"
      ]
     },
     "execution_count": 37,
     "metadata": {},
     "output_type": "execute_result"
    }
   ],
   "source": [
    "history_dict = history.history\n",
    "history_dict.keys()"
   ]
  },
  {
   "cell_type": "code",
   "execution_count": null,
   "metadata": {
    "colab": {
     "base_uri": "https://localhost:8080/",
     "height": 235
    },
    "id": "qZNkhZX7bAFn",
    "outputId": "8c955121-018c-42d1-e4e6-7d89c540bb66"
   },
   "outputs": [
    {
     "data": {
      "text/html": [
       "<div>\n",
       "<style scoped>\n",
       "    .dataframe tbody tr th:only-of-type {\n",
       "        vertical-align: middle;\n",
       "    }\n",
       "\n",
       "    .dataframe tbody tr th {\n",
       "        vertical-align: top;\n",
       "    }\n",
       "\n",
       "    .dataframe thead th {\n",
       "        text-align: right;\n",
       "    }\n",
       "</style>\n",
       "<table border=\"1\" class=\"dataframe\">\n",
       "  <thead>\n",
       "    <tr style=\"text-align: right;\">\n",
       "      <th></th>\n",
       "      <th>loss</th>\n",
       "      <th>accuracy</th>\n",
       "      <th>val_loss</th>\n",
       "      <th>val_accuracy</th>\n",
       "    </tr>\n",
       "  </thead>\n",
       "  <tbody>\n",
       "    <tr>\n",
       "      <th>0</th>\n",
       "      <td>0.627</td>\n",
       "      <td>0.768</td>\n",
       "      <td>0.353</td>\n",
       "      <td>0.884</td>\n",
       "    </tr>\n",
       "    <tr>\n",
       "      <th>1</th>\n",
       "      <td>0.276</td>\n",
       "      <td>0.910</td>\n",
       "      <td>0.294</td>\n",
       "      <td>0.900</td>\n",
       "    </tr>\n",
       "    <tr>\n",
       "      <th>2</th>\n",
       "      <td>0.201</td>\n",
       "      <td>0.935</td>\n",
       "      <td>0.311</td>\n",
       "      <td>0.900</td>\n",
       "    </tr>\n",
       "    <tr>\n",
       "      <th>3</th>\n",
       "      <td>0.153</td>\n",
       "      <td>0.950</td>\n",
       "      <td>0.306</td>\n",
       "      <td>0.902</td>\n",
       "    </tr>\n",
       "    <tr>\n",
       "      <th>4</th>\n",
       "      <td>0.120</td>\n",
       "      <td>0.961</td>\n",
       "      <td>0.343</td>\n",
       "      <td>0.896</td>\n",
       "    </tr>\n",
       "    <tr>\n",
       "      <th>5</th>\n",
       "      <td>0.096</td>\n",
       "      <td>0.969</td>\n",
       "      <td>0.356</td>\n",
       "      <td>0.897</td>\n",
       "    </tr>\n",
       "  </tbody>\n",
       "</table>\n",
       "</div>"
      ],
      "text/plain": [
       "    loss  accuracy  val_loss  val_accuracy\n",
       "0  0.627     0.768     0.353         0.884\n",
       "1  0.276     0.910     0.294         0.900\n",
       "2  0.201     0.935     0.311         0.900\n",
       "3  0.153     0.950     0.306         0.902\n",
       "4  0.120     0.961     0.343         0.896\n",
       "5  0.096     0.969     0.356         0.897"
      ]
     },
     "execution_count": 38,
     "metadata": {},
     "output_type": "execute_result"
    }
   ],
   "source": [
    "history_df=pd.DataFrame(history_dict)\n",
    "history_df.tail(10).round(3)"
   ]
  },
  {
   "cell_type": "code",
   "execution_count": null,
   "metadata": {
    "id": "6I-VnW30bALG"
   },
   "outputs": [],
   "source": [
    "losses = history.history['loss']\n",
    "accs = history.history['accuracy']\n",
    "val_losses = history.history['val_loss']\n",
    "val_accs = history.history['val_accuracy']\n",
    "epochs = len(losses)"
   ]
  },
  {
   "cell_type": "code",
   "execution_count": null,
   "metadata": {
    "colab": {
     "base_uri": "https://localhost:8080/",
     "height": 265
    },
    "id": "CtRSXqUMbAQw",
    "outputId": "48848c8f-3981-4556-c2d1-6cfcee2969ef"
   },
   "outputs": [
    {
     "data": {
      "image/png": "[encoded data removed]",
      "text/plain": [
       "<Figure size 1152x288 with 2 Axes>"
      ]
     },
     "metadata": {
      "needs_background": "light"
     },
     "output_type": "display_data"
    }
   ],
   "source": [
    "plt.figure(figsize=(16, 4))\n",
    "for i, metrics in enumerate(zip([losses, accs], [val_losses, val_accs], ['Loss', 'Accuracy'])):\n",
    "    plt.subplot(1, 2, i + 1)\n",
    "    plt.plot(range(epochs), metrics[0], label='Training {}'.format(metrics[2]))\n",
    "    plt.plot(range(epochs), metrics[1], label='Validation {}'.format(metrics[2]))\n",
    "    plt.legend()\n",
    "plt.show()"
   ]
  },
  {
   "cell_type": "code",
   "execution_count": null,
   "metadata": {
    "id": "RIchn3A1QFqf"
   },
   "outputs": [],
   "source": [
    "preds = model.predict(test_dataset)"
   ]
  },
  {
   "cell_type": "code",
   "execution_count": null,
   "metadata": {
    "id": "kQhRQU7-QF13"
   },
   "outputs": [],
   "source": [
    "cm = sns.light_palette((260, 75, 60), input=\"husl\", as_cmap=True)"
   ]
  },
  {
   "cell_type": "code",
   "execution_count": null,
   "metadata": {
    "colab": {
     "base_uri": "https://localhost:8080/",
     "height": 173
    },
    "id": "x55Qk798QGAv",
    "outputId": "b0d3336c-a904-4e51-8214-47fa1c78145d"
   },
   "outputs": [
    {
     "data": {
      "text/html": [
       "<style  type=\"text/css\" >\n",
       "#T_529b999a_39d4_11ec_aa43_0242ac1c0002row0_col0,#T_529b999a_39d4_11ec_aa43_0242ac1c0002row0_col2,#T_529b999a_39d4_11ec_aa43_0242ac1c0002row0_col3,#T_529b999a_39d4_11ec_aa43_0242ac1c0002row0_col6,#T_529b999a_39d4_11ec_aa43_0242ac1c0002row0_col9,#T_529b999a_39d4_11ec_aa43_0242ac1c0002row0_col12,#T_529b999a_39d4_11ec_aa43_0242ac1c0002row1_col1,#T_529b999a_39d4_11ec_aa43_0242ac1c0002row1_col2,#T_529b999a_39d4_11ec_aa43_0242ac1c0002row1_col4,#T_529b999a_39d4_11ec_aa43_0242ac1c0002row1_col5,#T_529b999a_39d4_11ec_aa43_0242ac1c0002row1_col8,#T_529b999a_39d4_11ec_aa43_0242ac1c0002row1_col9,#T_529b999a_39d4_11ec_aa43_0242ac1c0002row1_col10,#T_529b999a_39d4_11ec_aa43_0242ac1c0002row1_col12,#T_529b999a_39d4_11ec_aa43_0242ac1c0002row1_col13,#T_529b999a_39d4_11ec_aa43_0242ac1c0002row1_col14,#T_529b999a_39d4_11ec_aa43_0242ac1c0002row2_col0,#T_529b999a_39d4_11ec_aa43_0242ac1c0002row2_col1,#T_529b999a_39d4_11ec_aa43_0242ac1c0002row2_col2,#T_529b999a_39d4_11ec_aa43_0242ac1c0002row2_col3,#T_529b999a_39d4_11ec_aa43_0242ac1c0002row2_col4,#T_529b999a_39d4_11ec_aa43_0242ac1c0002row2_col6,#T_529b999a_39d4_11ec_aa43_0242ac1c0002row2_col7,#T_529b999a_39d4_11ec_aa43_0242ac1c0002row2_col8,#T_529b999a_39d4_11ec_aa43_0242ac1c0002row2_col10,#T_529b999a_39d4_11ec_aa43_0242ac1c0002row2_col11,#T_529b999a_39d4_11ec_aa43_0242ac1c0002row2_col13,#T_529b999a_39d4_11ec_aa43_0242ac1c0002row2_col14,#T_529b999a_39d4_11ec_aa43_0242ac1c0002row3_col0,#T_529b999a_39d4_11ec_aa43_0242ac1c0002row3_col1,#T_529b999a_39d4_11ec_aa43_0242ac1c0002row3_col3,#T_529b999a_39d4_11ec_aa43_0242ac1c0002row3_col6,#T_529b999a_39d4_11ec_aa43_0242ac1c0002row3_col7,#T_529b999a_39d4_11ec_aa43_0242ac1c0002row3_col8,#T_529b999a_39d4_11ec_aa43_0242ac1c0002row3_col9,#T_529b999a_39d4_11ec_aa43_0242ac1c0002row3_col10,#T_529b999a_39d4_11ec_aa43_0242ac1c0002row3_col12,#T_529b999a_39d4_11ec_aa43_0242ac1c0002row3_col13,#T_529b999a_39d4_11ec_aa43_0242ac1c0002row3_col14{\n",
       "            background-color:  #f0f1f2;\n",
       "            color:  #000000;\n",
       "        }#T_529b999a_39d4_11ec_aa43_0242ac1c0002row0_col1,#T_529b999a_39d4_11ec_aa43_0242ac1c0002row0_col4,#T_529b999a_39d4_11ec_aa43_0242ac1c0002row0_col8,#T_529b999a_39d4_11ec_aa43_0242ac1c0002row0_col10,#T_529b999a_39d4_11ec_aa43_0242ac1c0002row0_col13,#T_529b999a_39d4_11ec_aa43_0242ac1c0002row0_col14,#T_529b999a_39d4_11ec_aa43_0242ac1c0002row1_col0,#T_529b999a_39d4_11ec_aa43_0242ac1c0002row1_col3,#T_529b999a_39d4_11ec_aa43_0242ac1c0002row1_col6,#T_529b999a_39d4_11ec_aa43_0242ac1c0002row1_col7,#T_529b999a_39d4_11ec_aa43_0242ac1c0002row1_col11,#T_529b999a_39d4_11ec_aa43_0242ac1c0002row2_col9,#T_529b999a_39d4_11ec_aa43_0242ac1c0002row2_col12,#T_529b999a_39d4_11ec_aa43_0242ac1c0002row3_col2,#T_529b999a_39d4_11ec_aa43_0242ac1c0002row3_col5{\n",
       "            background-color:  #778ce4;\n",
       "            color:  #000000;\n",
       "        }#T_529b999a_39d4_11ec_aa43_0242ac1c0002row0_col5,#T_529b999a_39d4_11ec_aa43_0242ac1c0002row3_col4{\n",
       "            background-color:  #f0f0f2;\n",
       "            color:  #000000;\n",
       "        }#T_529b999a_39d4_11ec_aa43_0242ac1c0002row0_col7{\n",
       "            background-color:  #eff0f2;\n",
       "            color:  #000000;\n",
       "        }#T_529b999a_39d4_11ec_aa43_0242ac1c0002row0_col11{\n",
       "            background-color:  #ebedf2;\n",
       "            color:  #000000;\n",
       "        }#T_529b999a_39d4_11ec_aa43_0242ac1c0002row2_col5{\n",
       "            background-color:  #d4d9ef;\n",
       "            color:  #000000;\n",
       "        }#T_529b999a_39d4_11ec_aa43_0242ac1c0002row3_col11{\n",
       "            background-color:  #8496e5;\n",
       "            color:  #000000;\n",
       "        }</style><table id=\"T_529b999a_39d4_11ec_aa43_0242ac1c0002\" class=\"dataframe\"><thead>    <tr>        <th class=\"blank level0\" ></th>        <th class=\"col_heading level0 col0\" >0</th>        <th class=\"col_heading level0 col1\" >1</th>        <th class=\"col_heading level0 col2\" >2</th>        <th class=\"col_heading level0 col3\" >3</th>        <th class=\"col_heading level0 col4\" >4</th>        <th class=\"col_heading level0 col5\" >5</th>        <th class=\"col_heading level0 col6\" >6</th>        <th class=\"col_heading level0 col7\" >7</th>        <th class=\"col_heading level0 col8\" >8</th>        <th class=\"col_heading level0 col9\" >9</th>        <th class=\"col_heading level0 col10\" >10</th>        <th class=\"col_heading level0 col11\" >11</th>        <th class=\"col_heading level0 col12\" >12</th>        <th class=\"col_heading level0 col13\" >13</th>        <th class=\"col_heading level0 col14\" >14</th>    </tr></thead><tbody>\n",
       "                <tr>\n",
       "                        <th id=\"T_529b999a_39d4_11ec_aa43_0242ac1c0002level0_row0\" class=\"row_heading level0 row0\" >World</th>\n",
       "                        <td id=\"T_529b999a_39d4_11ec_aa43_0242ac1c0002row0_col0\" class=\"data row0 col0\" >0.16%</td>\n",
       "                        <td id=\"T_529b999a_39d4_11ec_aa43_0242ac1c0002row0_col1\" class=\"data row0 col1\" >100.00%</td>\n",
       "                        <td id=\"T_529b999a_39d4_11ec_aa43_0242ac1c0002row0_col2\" class=\"data row0 col2\" >0.06%</td>\n",
       "                        <td id=\"T_529b999a_39d4_11ec_aa43_0242ac1c0002row0_col3\" class=\"data row0 col3\" >0.07%</td>\n",
       "                        <td id=\"T_529b999a_39d4_11ec_aa43_0242ac1c0002row0_col4\" class=\"data row0 col4\" >99.58%</td>\n",
       "                        <td id=\"T_529b999a_39d4_11ec_aa43_0242ac1c0002row0_col5\" class=\"data row0 col5\" >0.42%</td>\n",
       "                        <td id=\"T_529b999a_39d4_11ec_aa43_0242ac1c0002row0_col6\" class=\"data row0 col6\" >0.07%</td>\n",
       "                        <td id=\"T_529b999a_39d4_11ec_aa43_0242ac1c0002row0_col7\" class=\"data row0 col7\" >0.98%</td>\n",
       "                        <td id=\"T_529b999a_39d4_11ec_aa43_0242ac1c0002row0_col8\" class=\"data row0 col8\" >100.00%</td>\n",
       "                        <td id=\"T_529b999a_39d4_11ec_aa43_0242ac1c0002row0_col9\" class=\"data row0 col9\" >0.13%</td>\n",
       "                        <td id=\"T_529b999a_39d4_11ec_aa43_0242ac1c0002row0_col10\" class=\"data row0 col10\" >100.00%</td>\n",
       "                        <td id=\"T_529b999a_39d4_11ec_aa43_0242ac1c0002row0_col11\" class=\"data row0 col11\" >2.22%</td>\n",
       "                        <td id=\"T_529b999a_39d4_11ec_aa43_0242ac1c0002row0_col12\" class=\"data row0 col12\" >0.05%</td>\n",
       "                        <td id=\"T_529b999a_39d4_11ec_aa43_0242ac1c0002row0_col13\" class=\"data row0 col13\" >99.84%</td>\n",
       "                        <td id=\"T_529b999a_39d4_11ec_aa43_0242ac1c0002row0_col14\" class=\"data row0 col14\" >100.00%</td>\n",
       "            </tr>\n",
       "            <tr>\n",
       "                        <th id=\"T_529b999a_39d4_11ec_aa43_0242ac1c0002level0_row1\" class=\"row_heading level0 row1\" >Sports</th>\n",
       "                        <td id=\"T_529b999a_39d4_11ec_aa43_0242ac1c0002row1_col0\" class=\"data row1 col0\" >99.83%</td>\n",
       "                        <td id=\"T_529b999a_39d4_11ec_aa43_0242ac1c0002row1_col1\" class=\"data row1 col1\" >0.00%</td>\n",
       "                        <td id=\"T_529b999a_39d4_11ec_aa43_0242ac1c0002row1_col2\" class=\"data row1 col2\" >0.00%</td>\n",
       "                        <td id=\"T_529b999a_39d4_11ec_aa43_0242ac1c0002row1_col3\" class=\"data row1 col3\" >99.93%</td>\n",
       "                        <td id=\"T_529b999a_39d4_11ec_aa43_0242ac1c0002row1_col4\" class=\"data row1 col4\" >0.00%</td>\n",
       "                        <td id=\"T_529b999a_39d4_11ec_aa43_0242ac1c0002row1_col5\" class=\"data row1 col5\" >0.05%</td>\n",
       "                        <td id=\"T_529b999a_39d4_11ec_aa43_0242ac1c0002row1_col6\" class=\"data row1 col6\" >99.93%</td>\n",
       "                        <td id=\"T_529b999a_39d4_11ec_aa43_0242ac1c0002row1_col7\" class=\"data row1 col7\" >99.01%</td>\n",
       "                        <td id=\"T_529b999a_39d4_11ec_aa43_0242ac1c0002row1_col8\" class=\"data row1 col8\" >0.00%</td>\n",
       "                        <td id=\"T_529b999a_39d4_11ec_aa43_0242ac1c0002row1_col9\" class=\"data row1 col9\" >0.00%</td>\n",
       "                        <td id=\"T_529b999a_39d4_11ec_aa43_0242ac1c0002row1_col10\" class=\"data row1 col10\" >0.00%</td>\n",
       "                        <td id=\"T_529b999a_39d4_11ec_aa43_0242ac1c0002row1_col11\" class=\"data row1 col11\" >51.67%</td>\n",
       "                        <td id=\"T_529b999a_39d4_11ec_aa43_0242ac1c0002row1_col12\" class=\"data row1 col12\" >0.00%</td>\n",
       "                        <td id=\"T_529b999a_39d4_11ec_aa43_0242ac1c0002row1_col13\" class=\"data row1 col13\" >0.16%</td>\n",
       "                        <td id=\"T_529b999a_39d4_11ec_aa43_0242ac1c0002row1_col14\" class=\"data row1 col14\" >0.00%</td>\n",
       "            </tr>\n",
       "            <tr>\n",
       "                        <th id=\"T_529b999a_39d4_11ec_aa43_0242ac1c0002level0_row2\" class=\"row_heading level0 row2\" >Business</th>\n",
       "                        <td id=\"T_529b999a_39d4_11ec_aa43_0242ac1c0002row2_col0\" class=\"data row2 col0\" >0.01%</td>\n",
       "                        <td id=\"T_529b999a_39d4_11ec_aa43_0242ac1c0002row2_col1\" class=\"data row2 col1\" >0.00%</td>\n",
       "                        <td id=\"T_529b999a_39d4_11ec_aa43_0242ac1c0002row2_col2\" class=\"data row2 col2\" >0.11%</td>\n",
       "                        <td id=\"T_529b999a_39d4_11ec_aa43_0242ac1c0002row2_col3\" class=\"data row2 col3\" >0.00%</td>\n",
       "                        <td id=\"T_529b999a_39d4_11ec_aa43_0242ac1c0002row2_col4\" class=\"data row2 col4\" >0.00%</td>\n",
       "                        <td id=\"T_529b999a_39d4_11ec_aa43_0242ac1c0002row2_col5\" class=\"data row2 col5\" >18.79%</td>\n",
       "                        <td id=\"T_529b999a_39d4_11ec_aa43_0242ac1c0002row2_col6\" class=\"data row2 col6\" >0.00%</td>\n",
       "                        <td id=\"T_529b999a_39d4_11ec_aa43_0242ac1c0002row2_col7\" class=\"data row2 col7\" >0.00%</td>\n",
       "                        <td id=\"T_529b999a_39d4_11ec_aa43_0242ac1c0002row2_col8\" class=\"data row2 col8\" >0.00%</td>\n",
       "                        <td id=\"T_529b999a_39d4_11ec_aa43_0242ac1c0002row2_col9\" class=\"data row2 col9\" >99.80%</td>\n",
       "                        <td id=\"T_529b999a_39d4_11ec_aa43_0242ac1c0002row2_col10\" class=\"data row2 col10\" >0.00%</td>\n",
       "                        <td id=\"T_529b999a_39d4_11ec_aa43_0242ac1c0002row2_col11\" class=\"data row2 col11\" >0.04%</td>\n",
       "                        <td id=\"T_529b999a_39d4_11ec_aa43_0242ac1c0002row2_col12\" class=\"data row2 col12\" >99.91%</td>\n",
       "                        <td id=\"T_529b999a_39d4_11ec_aa43_0242ac1c0002row2_col13\" class=\"data row2 col13\" >0.00%</td>\n",
       "                        <td id=\"T_529b999a_39d4_11ec_aa43_0242ac1c0002row2_col14\" class=\"data row2 col14\" >0.00%</td>\n",
       "            </tr>\n",
       "            <tr>\n",
       "                        <th id=\"T_529b999a_39d4_11ec_aa43_0242ac1c0002level0_row3\" class=\"row_heading level0 row3\" >Sci/Tech</th>\n",
       "                        <td id=\"T_529b999a_39d4_11ec_aa43_0242ac1c0002row3_col0\" class=\"data row3 col0\" >0.00%</td>\n",
       "                        <td id=\"T_529b999a_39d4_11ec_aa43_0242ac1c0002row3_col1\" class=\"data row3 col1\" >0.00%</td>\n",
       "                        <td id=\"T_529b999a_39d4_11ec_aa43_0242ac1c0002row3_col2\" class=\"data row3 col2\" >99.83%</td>\n",
       "                        <td id=\"T_529b999a_39d4_11ec_aa43_0242ac1c0002row3_col3\" class=\"data row3 col3\" >0.00%</td>\n",
       "                        <td id=\"T_529b999a_39d4_11ec_aa43_0242ac1c0002row3_col4\" class=\"data row3 col4\" >0.41%</td>\n",
       "                        <td id=\"T_529b999a_39d4_11ec_aa43_0242ac1c0002row3_col5\" class=\"data row3 col5\" >80.74%</td>\n",
       "                        <td id=\"T_529b999a_39d4_11ec_aa43_0242ac1c0002row3_col6\" class=\"data row3 col6\" >0.00%</td>\n",
       "                        <td id=\"T_529b999a_39d4_11ec_aa43_0242ac1c0002row3_col7\" class=\"data row3 col7\" >0.01%</td>\n",
       "                        <td id=\"T_529b999a_39d4_11ec_aa43_0242ac1c0002row3_col8\" class=\"data row3 col8\" >0.00%</td>\n",
       "                        <td id=\"T_529b999a_39d4_11ec_aa43_0242ac1c0002row3_col9\" class=\"data row3 col9\" >0.06%</td>\n",
       "                        <td id=\"T_529b999a_39d4_11ec_aa43_0242ac1c0002row3_col10\" class=\"data row3 col10\" >0.00%</td>\n",
       "                        <td id=\"T_529b999a_39d4_11ec_aa43_0242ac1c0002row3_col11\" class=\"data row3 col11\" >46.08%</td>\n",
       "                        <td id=\"T_529b999a_39d4_11ec_aa43_0242ac1c0002row3_col12\" class=\"data row3 col12\" >0.04%</td>\n",
       "                        <td id=\"T_529b999a_39d4_11ec_aa43_0242ac1c0002row3_col13\" class=\"data row3 col13\" >0.00%</td>\n",
       "                        <td id=\"T_529b999a_39d4_11ec_aa43_0242ac1c0002row3_col14\" class=\"data row3 col14\" >0.00%</td>\n",
       "            </tr>\n",
       "    </tbody></table>"
      ],
      "text/plain": [
       "<pandas.io.formats.style.Styler at 0x7fc08b2455d0>"
      ]
     },
     "execution_count": 36,
     "metadata": {},
     "output_type": "execute_result"
    }
   ],
   "source": [
    "df = pd.DataFrame(preds[0:15]\n",
    "                  ,columns = ['World','Sports','Business','Sci/Tech']).T\n",
    "df.style.format(\"{:.2%}\").background_gradient(cmap=cm)"
   ]
  },
  {
   "cell_type": "markdown",
   "metadata": {
    "id": "iyNIDJS_bMlL"
   },
   "source": [
    "**Model Architecture Summary Single Layer Bidirectional LSTM**"
   ]
  },
  {
   "cell_type": "code",
   "execution_count": null,
   "metadata": {
    "colab": {
     "base_uri": "https://localhost:8080/"
    },
    "id": "-xGO2xrhbAWR",
    "outputId": "f9c8fa66-784a-48dd-d3ec-823a9f7cf148"
   },
   "outputs": [
    {
     "name": "stdout",
     "output_type": "stream",
     "text": [
      "Model: \"sequential\"\n",
      "_________________________________________________________________\n",
      "Layer (type)                 Output Shape              Param #   \n",
      "=================================================================\n",
      "text_vectorization_2 (TextVe (None, None)              0         \n",
      "_________________________________________________________________\n",
      "embedding (Embedding)        (None, None, 64)          64000     \n",
      "_________________________________________________________________\n",
      "bidirectional (Bidirectional (None, 128)               66048     \n",
      "_________________________________________________________________\n",
      "dense (Dense)                (None, 64)                8256      \n",
      "_________________________________________________________________\n",
      "dense_1 (Dense)              (None, 4)                 260       \n",
      "=================================================================\n",
      "Total params: 138,564\n",
      "Trainable params: 138,564\n",
      "Non-trainable params: 0\n",
      "_________________________________________________________________\n"
     ]
    }
   ],
   "source": [
    "model.summary()"
   ]
  },
  {
   "cell_type": "code",
   "execution_count": null,
   "metadata": {
    "colab": {
     "base_uri": "https://localhost:8080/",
     "height": 644
    },
    "id": "X5BmVVoJbAZV",
    "outputId": "069d1aca-370a-4b75-8b5f-379a69fcd5a1"
   },
   "outputs": [
    {
     "data": {
      "image/png": "[encoded data removed]",
      "text/plain": [
       "<IPython.core.display.Image object>"
      ]
     },
     "execution_count": 57,
     "metadata": {},
     "output_type": "execute_result"
    }
   ],
   "source": [
    "keras.utils.plot_model(model, \"BiDirectionalLSTM.png\", show_shapes=True)"
   ]
  },
  {
   "cell_type": "markdown",
   "metadata": {
    "id": "K-XBB-D4GWs3"
   },
   "source": [
    "**Single Layer Unidirectional LSTM**"
   ]
  },
  {
   "cell_type": "code",
   "execution_count": null,
   "metadata": {
    "id": "fjL6JCDIGaTg"
   },
   "outputs": [],
   "source": [
    "# Single Layer Unidirectional LSTM\n",
    "\n",
    "num_classes = 4\n",
    "model = tf.keras.Sequential([\n",
    "                              encoder\n",
    "                              ,tf.keras.layers.Embedding(input_dim=len(encoder.get_vocabulary())\n",
    "                              ,output_dim=64\n",
    "                                # Use masking to handle the variable sequence lengths\n",
    "                              ,mask_zero=True)\n",
    "                              ,tf.keras.layers.LSTM(64)\n",
    "                              ,tf.keras.layers.Dense(64, activation='relu')\n",
    "                              ,tf.keras.layers.Dense(num_classes,activation='softmax')   # num_classes = 4\n",
    "])"
   ]
  },
  {
   "cell_type": "code",
   "execution_count": null,
   "metadata": {
    "id": "k9mfYJQGGaXf"
   },
   "outputs": [],
   "source": [
    "model.compile(optimizer=tf.keras.optimizers.Adam(1e-4)\n",
    "              ,loss=tf.keras.losses.SparseCategoricalCrossentropy() # if we set from_logits=True we don not have specify a softmax activation function in the last layer\n",
    "              ,metrics=['accuracy'])"
   ]
  },
  {
   "cell_type": "code",
   "execution_count": null,
   "metadata": {
    "colab": {
     "base_uri": "https://localhost:8080/"
    },
    "id": "Bf55rgl_Gabg",
    "outputId": "1660b8ae-3894-41fc-8d0b-3f8c0f97a3c8"
   },
   "outputs": [
    {
     "name": "stdout",
     "output_type": "stream",
     "text": [
      "Epoch 1/200\n",
      "1782/1782 [==============================] - 238s 131ms/step - loss: 0.7540 - accuracy: 0.6723 - val_loss: 0.4207 - val_accuracy: 0.8617\n",
      "Epoch 2/200\n",
      "1782/1782 [==============================] - 232s 130ms/step - loss: 0.3330 - accuracy: 0.8933 - val_loss: 0.3294 - val_accuracy: 0.8938\n",
      "Epoch 3/200\n",
      "1782/1782 [==============================] - 232s 130ms/step - loss: 0.2453 - accuracy: 0.9225 - val_loss: 0.3201 - val_accuracy: 0.8962\n",
      "Epoch 4/200\n",
      "1782/1782 [==============================] - 232s 130ms/step - loss: 0.1977 - accuracy: 0.9386 - val_loss: 0.3327 - val_accuracy: 0.8935\n",
      "Epoch 5/200\n",
      " 659/1782 [==========>...................] - ETA: 2:21 - loss: 0.1694 - accuracy: 0.9473"
     ]
    }
   ],
   "source": [
    "history = model.fit(train_dataset\n",
    "                    ,epochs = 200\n",
    "                    ,validation_data=validation_dataset\n",
    "                    ,callbacks=[tf.keras.callbacks.EarlyStopping(monitor='val_accuracy', patience=2)]\n",
    "                    )"
   ]
  },
  {
   "cell_type": "code",
   "execution_count": null,
   "metadata": {
    "colab": {
     "base_uri": "https://localhost:8080/"
    },
    "id": "kjDqBNsuGafG",
    "outputId": "47b39ab9-90a7-458e-dd9e-34206be71c79"
   },
   "outputs": [
    {
     "name": "stdout",
     "output_type": "stream",
     "text": [
      "119/119 [==============================] - 3s 23ms/step - loss: 0.3434 - accuracy: 0.8921\n",
      "Test Loss: 0.34343934059143066\n",
      "Test Accuracy: 0.8921052813529968\n"
     ]
    }
   ],
   "source": [
    "test_loss, test_acc = model.evaluate(test_dataset)\n",
    "\n",
    "print('Test Loss: {}'.format(test_loss))\n",
    "print('Test Accuracy: {}'.format(test_acc))"
   ]
  },
  {
   "cell_type": "code",
   "execution_count": null,
   "metadata": {
    "colab": {
     "base_uri": "https://localhost:8080/"
    },
    "id": "gUjw_gadGaij",
    "outputId": "4cddac8a-e197-4a63-d115-f57af7ff1100"
   },
   "outputs": [
    {
     "data": {
      "text/plain": [
       "dict_keys(['loss', 'accuracy', 'val_loss', 'val_accuracy'])"
      ]
     },
     "execution_count": 43,
     "metadata": {},
     "output_type": "execute_result"
    }
   ],
   "source": [
    "history_dict = history.history\n",
    "history_dict.keys()"
   ]
  },
  {
   "cell_type": "code",
   "execution_count": null,
   "metadata": {
    "colab": {
     "base_uri": "https://localhost:8080/",
     "height": 204
    },
    "id": "5SSZkHYxGale",
    "outputId": "99ba37cd-aa23-41f6-ff95-8d611f7314a4"
   },
   "outputs": [
    {
     "data": {
      "text/html": [
       "<div>\n",
       "<style scoped>\n",
       "    .dataframe tbody tr th:only-of-type {\n",
       "        vertical-align: middle;\n",
       "    }\n",
       "\n",
       "    .dataframe tbody tr th {\n",
       "        vertical-align: top;\n",
       "    }\n",
       "\n",
       "    .dataframe thead th {\n",
       "        text-align: right;\n",
       "    }\n",
       "</style>\n",
       "<table border=\"1\" class=\"dataframe\">\n",
       "  <thead>\n",
       "    <tr style=\"text-align: right;\">\n",
       "      <th></th>\n",
       "      <th>loss</th>\n",
       "      <th>accuracy</th>\n",
       "      <th>val_loss</th>\n",
       "      <th>val_accuracy</th>\n",
       "    </tr>\n",
       "  </thead>\n",
       "  <tbody>\n",
       "    <tr>\n",
       "      <th>0</th>\n",
       "      <td>0.754</td>\n",
       "      <td>0.672</td>\n",
       "      <td>0.421</td>\n",
       "      <td>0.862</td>\n",
       "    </tr>\n",
       "    <tr>\n",
       "      <th>1</th>\n",
       "      <td>0.333</td>\n",
       "      <td>0.893</td>\n",
       "      <td>0.329</td>\n",
       "      <td>0.894</td>\n",
       "    </tr>\n",
       "    <tr>\n",
       "      <th>2</th>\n",
       "      <td>0.245</td>\n",
       "      <td>0.923</td>\n",
       "      <td>0.320</td>\n",
       "      <td>0.896</td>\n",
       "    </tr>\n",
       "    <tr>\n",
       "      <th>3</th>\n",
       "      <td>0.198</td>\n",
       "      <td>0.939</td>\n",
       "      <td>0.333</td>\n",
       "      <td>0.893</td>\n",
       "    </tr>\n",
       "    <tr>\n",
       "      <th>4</th>\n",
       "      <td>0.163</td>\n",
       "      <td>0.949</td>\n",
       "      <td>0.342</td>\n",
       "      <td>0.894</td>\n",
       "    </tr>\n",
       "  </tbody>\n",
       "</table>\n",
       "</div>"
      ],
      "text/plain": [
       "    loss  accuracy  val_loss  val_accuracy\n",
       "0  0.754     0.672     0.421         0.862\n",
       "1  0.333     0.893     0.329         0.894\n",
       "2  0.245     0.923     0.320         0.896\n",
       "3  0.198     0.939     0.333         0.893\n",
       "4  0.163     0.949     0.342         0.894"
      ]
     },
     "execution_count": 44,
     "metadata": {},
     "output_type": "execute_result"
    }
   ],
   "source": [
    "history_df=pd.DataFrame(history_dict)\n",
    "history_df.tail(10).round(3)"
   ]
  },
  {
   "cell_type": "code",
   "execution_count": null,
   "metadata": {
    "id": "iqq6xmggGaoj"
   },
   "outputs": [],
   "source": [
    "losses = history.history['loss']\n",
    "accs = history.history['accuracy']\n",
    "val_losses = history.history['val_loss']\n",
    "val_accs = history.history['val_accuracy']\n",
    "epochs = len(losses)"
   ]
  },
  {
   "cell_type": "code",
   "execution_count": null,
   "metadata": {
    "colab": {
     "base_uri": "https://localhost:8080/",
     "height": 265
    },
    "id": "FzzlcupHGarz",
    "outputId": "69762efd-594d-4916-e1c7-a6d8eddaa72a"
   },
   "outputs": [
    {
     "data": {
      "image/png": "[encoded data removed]",
      "text/plain": [
       "<Figure size 1152x288 with 2 Axes>"
      ]
     },
     "metadata": {
      "needs_background": "light"
     },
     "output_type": "display_data"
    }
   ],
   "source": [
    "plt.figure(figsize=(16, 4))\n",
    "for i, metrics in enumerate(zip([losses, accs], [val_losses, val_accs], ['Loss', 'Accuracy'])):\n",
    "    plt.subplot(1, 2, i + 1)\n",
    "    plt.plot(range(epochs), metrics[0], label='Training {}'.format(metrics[2]))\n",
    "    plt.plot(range(epochs), metrics[1], label='Validation {}'.format(metrics[2]))\n",
    "    plt.legend()\n",
    "plt.show()"
   ]
  },
  {
   "cell_type": "code",
   "execution_count": null,
   "metadata": {
    "id": "XOg3nNQrGavY"
   },
   "outputs": [],
   "source": [
    "preds = model.predict(test_dataset)"
   ]
  },
  {
   "cell_type": "code",
   "execution_count": null,
   "metadata": {
    "id": "VTF6lRkvG09A"
   },
   "outputs": [],
   "source": [
    "cm = sns.light_palette((260, 75, 60), input=\"husl\", as_cmap=True)"
   ]
  },
  {
   "cell_type": "code",
   "execution_count": null,
   "metadata": {
    "colab": {
     "base_uri": "https://localhost:8080/",
     "height": 173
    },
    "id": "bXpNydhEGa2d",
    "outputId": "5d291d20-9b2f-4f4b-f53c-195cadeb1da2"
   },
   "outputs": [
    {
     "data": {
      "text/html": [
       "<style  type=\"text/css\" >\n",
       "#T_535213e2_39d8_11ec_aa43_0242ac1c0002row0_col0,#T_535213e2_39d8_11ec_aa43_0242ac1c0002row0_col2,#T_535213e2_39d8_11ec_aa43_0242ac1c0002row0_col6,#T_535213e2_39d8_11ec_aa43_0242ac1c0002row1_col1,#T_535213e2_39d8_11ec_aa43_0242ac1c0002row1_col2,#T_535213e2_39d8_11ec_aa43_0242ac1c0002row1_col4,#T_535213e2_39d8_11ec_aa43_0242ac1c0002row1_col5,#T_535213e2_39d8_11ec_aa43_0242ac1c0002row1_col8,#T_535213e2_39d8_11ec_aa43_0242ac1c0002row1_col9,#T_535213e2_39d8_11ec_aa43_0242ac1c0002row1_col10,#T_535213e2_39d8_11ec_aa43_0242ac1c0002row1_col11,#T_535213e2_39d8_11ec_aa43_0242ac1c0002row1_col12,#T_535213e2_39d8_11ec_aa43_0242ac1c0002row1_col13,#T_535213e2_39d8_11ec_aa43_0242ac1c0002row1_col14,#T_535213e2_39d8_11ec_aa43_0242ac1c0002row2_col0,#T_535213e2_39d8_11ec_aa43_0242ac1c0002row2_col1,#T_535213e2_39d8_11ec_aa43_0242ac1c0002row2_col2,#T_535213e2_39d8_11ec_aa43_0242ac1c0002row2_col3,#T_535213e2_39d8_11ec_aa43_0242ac1c0002row2_col4,#T_535213e2_39d8_11ec_aa43_0242ac1c0002row2_col6,#T_535213e2_39d8_11ec_aa43_0242ac1c0002row2_col7,#T_535213e2_39d8_11ec_aa43_0242ac1c0002row2_col8,#T_535213e2_39d8_11ec_aa43_0242ac1c0002row2_col10,#T_535213e2_39d8_11ec_aa43_0242ac1c0002row2_col11,#T_535213e2_39d8_11ec_aa43_0242ac1c0002row2_col13,#T_535213e2_39d8_11ec_aa43_0242ac1c0002row2_col14,#T_535213e2_39d8_11ec_aa43_0242ac1c0002row3_col0,#T_535213e2_39d8_11ec_aa43_0242ac1c0002row3_col1,#T_535213e2_39d8_11ec_aa43_0242ac1c0002row3_col3,#T_535213e2_39d8_11ec_aa43_0242ac1c0002row3_col6,#T_535213e2_39d8_11ec_aa43_0242ac1c0002row3_col7,#T_535213e2_39d8_11ec_aa43_0242ac1c0002row3_col8,#T_535213e2_39d8_11ec_aa43_0242ac1c0002row3_col10,#T_535213e2_39d8_11ec_aa43_0242ac1c0002row3_col12,#T_535213e2_39d8_11ec_aa43_0242ac1c0002row3_col13,#T_535213e2_39d8_11ec_aa43_0242ac1c0002row3_col14{\n",
       "            background-color:  #f0f1f2;\n",
       "            color:  #000000;\n",
       "        }#T_535213e2_39d8_11ec_aa43_0242ac1c0002row0_col1,#T_535213e2_39d8_11ec_aa43_0242ac1c0002row0_col4,#T_535213e2_39d8_11ec_aa43_0242ac1c0002row0_col8,#T_535213e2_39d8_11ec_aa43_0242ac1c0002row0_col10,#T_535213e2_39d8_11ec_aa43_0242ac1c0002row0_col13,#T_535213e2_39d8_11ec_aa43_0242ac1c0002row0_col14,#T_535213e2_39d8_11ec_aa43_0242ac1c0002row1_col0,#T_535213e2_39d8_11ec_aa43_0242ac1c0002row1_col3,#T_535213e2_39d8_11ec_aa43_0242ac1c0002row1_col6,#T_535213e2_39d8_11ec_aa43_0242ac1c0002row1_col7,#T_535213e2_39d8_11ec_aa43_0242ac1c0002row2_col9,#T_535213e2_39d8_11ec_aa43_0242ac1c0002row2_col12,#T_535213e2_39d8_11ec_aa43_0242ac1c0002row3_col2,#T_535213e2_39d8_11ec_aa43_0242ac1c0002row3_col5,#T_535213e2_39d8_11ec_aa43_0242ac1c0002row3_col11{\n",
       "            background-color:  #778ce4;\n",
       "            color:  #000000;\n",
       "        }#T_535213e2_39d8_11ec_aa43_0242ac1c0002row0_col3,#T_535213e2_39d8_11ec_aa43_0242ac1c0002row0_col5,#T_535213e2_39d8_11ec_aa43_0242ac1c0002row0_col7,#T_535213e2_39d8_11ec_aa43_0242ac1c0002row3_col9{\n",
       "            background-color:  #f0f0f2;\n",
       "            color:  #000000;\n",
       "        }#T_535213e2_39d8_11ec_aa43_0242ac1c0002row0_col9{\n",
       "            background-color:  #edeef2;\n",
       "            color:  #000000;\n",
       "        }#T_535213e2_39d8_11ec_aa43_0242ac1c0002row0_col11,#T_535213e2_39d8_11ec_aa43_0242ac1c0002row0_col12{\n",
       "            background-color:  #eeeff2;\n",
       "            color:  #000000;\n",
       "        }#T_535213e2_39d8_11ec_aa43_0242ac1c0002row2_col5{\n",
       "            background-color:  #e1e4f0;\n",
       "            color:  #000000;\n",
       "        }#T_535213e2_39d8_11ec_aa43_0242ac1c0002row3_col4{\n",
       "            background-color:  #efeff2;\n",
       "            color:  #000000;\n",
       "        }</style><table id=\"T_535213e2_39d8_11ec_aa43_0242ac1c0002\" class=\"dataframe\"><thead>    <tr>        <th class=\"blank level0\" ></th>        <th class=\"col_heading level0 col0\" >0</th>        <th class=\"col_heading level0 col1\" >1</th>        <th class=\"col_heading level0 col2\" >2</th>        <th class=\"col_heading level0 col3\" >3</th>        <th class=\"col_heading level0 col4\" >4</th>        <th class=\"col_heading level0 col5\" >5</th>        <th class=\"col_heading level0 col6\" >6</th>        <th class=\"col_heading level0 col7\" >7</th>        <th class=\"col_heading level0 col8\" >8</th>        <th class=\"col_heading level0 col9\" >9</th>        <th class=\"col_heading level0 col10\" >10</th>        <th class=\"col_heading level0 col11\" >11</th>        <th class=\"col_heading level0 col12\" >12</th>        <th class=\"col_heading level0 col13\" >13</th>        <th class=\"col_heading level0 col14\" >14</th>    </tr></thead><tbody>\n",
       "                <tr>\n",
       "                        <th id=\"T_535213e2_39d8_11ec_aa43_0242ac1c0002level0_row0\" class=\"row_heading level0 row0\" >World</th>\n",
       "                        <td id=\"T_535213e2_39d8_11ec_aa43_0242ac1c0002row0_col0\" class=\"data row0 col0\" >0.33%</td>\n",
       "                        <td id=\"T_535213e2_39d8_11ec_aa43_0242ac1c0002row0_col1\" class=\"data row0 col1\" >99.98%</td>\n",
       "                        <td id=\"T_535213e2_39d8_11ec_aa43_0242ac1c0002row0_col2\" class=\"data row0 col2\" >0.08%</td>\n",
       "                        <td id=\"T_535213e2_39d8_11ec_aa43_0242ac1c0002row0_col3\" class=\"data row0 col3\" >0.43%</td>\n",
       "                        <td id=\"T_535213e2_39d8_11ec_aa43_0242ac1c0002row0_col4\" class=\"data row0 col4\" >98.54%</td>\n",
       "                        <td id=\"T_535213e2_39d8_11ec_aa43_0242ac1c0002row0_col5\" class=\"data row0 col5\" >0.40%</td>\n",
       "                        <td id=\"T_535213e2_39d8_11ec_aa43_0242ac1c0002row0_col6\" class=\"data row0 col6\" >0.22%</td>\n",
       "                        <td id=\"T_535213e2_39d8_11ec_aa43_0242ac1c0002row0_col7\" class=\"data row0 col7\" >0.42%</td>\n",
       "                        <td id=\"T_535213e2_39d8_11ec_aa43_0242ac1c0002row0_col8\" class=\"data row0 col8\" >99.99%</td>\n",
       "                        <td id=\"T_535213e2_39d8_11ec_aa43_0242ac1c0002row0_col9\" class=\"data row0 col9\" >2.99%</td>\n",
       "                        <td id=\"T_535213e2_39d8_11ec_aa43_0242ac1c0002row0_col10\" class=\"data row0 col10\" >99.99%</td>\n",
       "                        <td id=\"T_535213e2_39d8_11ec_aa43_0242ac1c0002row0_col11\" class=\"data row0 col11\" >1.76%</td>\n",
       "                        <td id=\"T_535213e2_39d8_11ec_aa43_0242ac1c0002row0_col12\" class=\"data row0 col12\" >1.62%</td>\n",
       "                        <td id=\"T_535213e2_39d8_11ec_aa43_0242ac1c0002row0_col13\" class=\"data row0 col13\" >99.97%</td>\n",
       "                        <td id=\"T_535213e2_39d8_11ec_aa43_0242ac1c0002row0_col14\" class=\"data row0 col14\" >99.99%</td>\n",
       "            </tr>\n",
       "            <tr>\n",
       "                        <th id=\"T_535213e2_39d8_11ec_aa43_0242ac1c0002level0_row1\" class=\"row_heading level0 row1\" >Sports</th>\n",
       "                        <td id=\"T_535213e2_39d8_11ec_aa43_0242ac1c0002row1_col0\" class=\"data row1 col0\" >99.65%</td>\n",
       "                        <td id=\"T_535213e2_39d8_11ec_aa43_0242ac1c0002row1_col1\" class=\"data row1 col1\" >0.00%</td>\n",
       "                        <td id=\"T_535213e2_39d8_11ec_aa43_0242ac1c0002row1_col2\" class=\"data row1 col2\" >0.00%</td>\n",
       "                        <td id=\"T_535213e2_39d8_11ec_aa43_0242ac1c0002row1_col3\" class=\"data row1 col3\" >99.56%</td>\n",
       "                        <td id=\"T_535213e2_39d8_11ec_aa43_0242ac1c0002row1_col4\" class=\"data row1 col4\" >0.00%</td>\n",
       "                        <td id=\"T_535213e2_39d8_11ec_aa43_0242ac1c0002row1_col5\" class=\"data row1 col5\" >0.01%</td>\n",
       "                        <td id=\"T_535213e2_39d8_11ec_aa43_0242ac1c0002row1_col6\" class=\"data row1 col6\" >99.78%</td>\n",
       "                        <td id=\"T_535213e2_39d8_11ec_aa43_0242ac1c0002row1_col7\" class=\"data row1 col7\" >99.56%</td>\n",
       "                        <td id=\"T_535213e2_39d8_11ec_aa43_0242ac1c0002row1_col8\" class=\"data row1 col8\" >0.00%</td>\n",
       "                        <td id=\"T_535213e2_39d8_11ec_aa43_0242ac1c0002row1_col9\" class=\"data row1 col9\" >0.13%</td>\n",
       "                        <td id=\"T_535213e2_39d8_11ec_aa43_0242ac1c0002row1_col10\" class=\"data row1 col10\" >0.00%</td>\n",
       "                        <td id=\"T_535213e2_39d8_11ec_aa43_0242ac1c0002row1_col11\" class=\"data row1 col11\" >0.00%</td>\n",
       "                        <td id=\"T_535213e2_39d8_11ec_aa43_0242ac1c0002row1_col12\" class=\"data row1 col12\" >0.03%</td>\n",
       "                        <td id=\"T_535213e2_39d8_11ec_aa43_0242ac1c0002row1_col13\" class=\"data row1 col13\" >0.00%</td>\n",
       "                        <td id=\"T_535213e2_39d8_11ec_aa43_0242ac1c0002row1_col14\" class=\"data row1 col14\" >0.00%</td>\n",
       "            </tr>\n",
       "            <tr>\n",
       "                        <th id=\"T_535213e2_39d8_11ec_aa43_0242ac1c0002level0_row2\" class=\"row_heading level0 row2\" >Business</th>\n",
       "                        <td id=\"T_535213e2_39d8_11ec_aa43_0242ac1c0002row2_col0\" class=\"data row2 col0\" >0.01%</td>\n",
       "                        <td id=\"T_535213e2_39d8_11ec_aa43_0242ac1c0002row2_col1\" class=\"data row2 col1\" >0.00%</td>\n",
       "                        <td id=\"T_535213e2_39d8_11ec_aa43_0242ac1c0002row2_col2\" class=\"data row2 col2\" >0.28%</td>\n",
       "                        <td id=\"T_535213e2_39d8_11ec_aa43_0242ac1c0002row2_col3\" class=\"data row2 col3\" >0.01%</td>\n",
       "                        <td id=\"T_535213e2_39d8_11ec_aa43_0242ac1c0002row2_col4\" class=\"data row2 col4\" >0.02%</td>\n",
       "                        <td id=\"T_535213e2_39d8_11ec_aa43_0242ac1c0002row2_col5\" class=\"data row2 col5\" >11.29%</td>\n",
       "                        <td id=\"T_535213e2_39d8_11ec_aa43_0242ac1c0002row2_col6\" class=\"data row2 col6\" >0.00%</td>\n",
       "                        <td id=\"T_535213e2_39d8_11ec_aa43_0242ac1c0002row2_col7\" class=\"data row2 col7\" >0.01%</td>\n",
       "                        <td id=\"T_535213e2_39d8_11ec_aa43_0242ac1c0002row2_col8\" class=\"data row2 col8\" >0.01%</td>\n",
       "                        <td id=\"T_535213e2_39d8_11ec_aa43_0242ac1c0002row2_col9\" class=\"data row2 col9\" >96.21%</td>\n",
       "                        <td id=\"T_535213e2_39d8_11ec_aa43_0242ac1c0002row2_col10\" class=\"data row2 col10\" >0.01%</td>\n",
       "                        <td id=\"T_535213e2_39d8_11ec_aa43_0242ac1c0002row2_col11\" class=\"data row2 col11\" >0.04%</td>\n",
       "                        <td id=\"T_535213e2_39d8_11ec_aa43_0242ac1c0002row2_col12\" class=\"data row2 col12\" >98.18%</td>\n",
       "                        <td id=\"T_535213e2_39d8_11ec_aa43_0242ac1c0002row2_col13\" class=\"data row2 col13\" >0.01%</td>\n",
       "                        <td id=\"T_535213e2_39d8_11ec_aa43_0242ac1c0002row2_col14\" class=\"data row2 col14\" >0.00%</td>\n",
       "            </tr>\n",
       "            <tr>\n",
       "                        <th id=\"T_535213e2_39d8_11ec_aa43_0242ac1c0002level0_row3\" class=\"row_heading level0 row3\" >Sci/Tech</th>\n",
       "                        <td id=\"T_535213e2_39d8_11ec_aa43_0242ac1c0002row3_col0\" class=\"data row3 col0\" >0.00%</td>\n",
       "                        <td id=\"T_535213e2_39d8_11ec_aa43_0242ac1c0002row3_col1\" class=\"data row3 col1\" >0.02%</td>\n",
       "                        <td id=\"T_535213e2_39d8_11ec_aa43_0242ac1c0002row3_col2\" class=\"data row3 col2\" >99.64%</td>\n",
       "                        <td id=\"T_535213e2_39d8_11ec_aa43_0242ac1c0002row3_col3\" class=\"data row3 col3\" >0.00%</td>\n",
       "                        <td id=\"T_535213e2_39d8_11ec_aa43_0242ac1c0002row3_col4\" class=\"data row3 col4\" >1.44%</td>\n",
       "                        <td id=\"T_535213e2_39d8_11ec_aa43_0242ac1c0002row3_col5\" class=\"data row3 col5\" >88.31%</td>\n",
       "                        <td id=\"T_535213e2_39d8_11ec_aa43_0242ac1c0002row3_col6\" class=\"data row3 col6\" >0.00%</td>\n",
       "                        <td id=\"T_535213e2_39d8_11ec_aa43_0242ac1c0002row3_col7\" class=\"data row3 col7\" >0.00%</td>\n",
       "                        <td id=\"T_535213e2_39d8_11ec_aa43_0242ac1c0002row3_col8\" class=\"data row3 col8\" >0.00%</td>\n",
       "                        <td id=\"T_535213e2_39d8_11ec_aa43_0242ac1c0002row3_col9\" class=\"data row3 col9\" >0.67%</td>\n",
       "                        <td id=\"T_535213e2_39d8_11ec_aa43_0242ac1c0002row3_col10\" class=\"data row3 col10\" >0.00%</td>\n",
       "                        <td id=\"T_535213e2_39d8_11ec_aa43_0242ac1c0002row3_col11\" class=\"data row3 col11\" >98.20%</td>\n",
       "                        <td id=\"T_535213e2_39d8_11ec_aa43_0242ac1c0002row3_col12\" class=\"data row3 col12\" >0.16%</td>\n",
       "                        <td id=\"T_535213e2_39d8_11ec_aa43_0242ac1c0002row3_col13\" class=\"data row3 col13\" >0.01%</td>\n",
       "                        <td id=\"T_535213e2_39d8_11ec_aa43_0242ac1c0002row3_col14\" class=\"data row3 col14\" >0.01%</td>\n",
       "            </tr>\n",
       "    </tbody></table>"
      ],
      "text/plain": [
       "<pandas.io.formats.style.Styler at 0x7fc08a808b50>"
      ]
     },
     "execution_count": 49,
     "metadata": {},
     "output_type": "execute_result"
    }
   ],
   "source": [
    "df = pd.DataFrame(preds[0:15]\n",
    "                  ,columns = ['World','Sports','Business','Sci/Tech']).T\n",
    "df.style.format(\"{:.2%}\").background_gradient(cmap=cm)"
   ]
  },
  {
   "cell_type": "markdown",
   "metadata": {
    "id": "lO_3_CHYbyhl"
   },
   "source": [
    "**Stack two or more LSTM layers**\n",
    "\n",
    "Keras recurrent layers have two available modes that are controlled by the return_sequences constructor argument:\n",
    "\n",
    "If False it returns only the last output for each input sequence (a 2D tensor of shape (batch_size, output_features)). This is the default, used in the previous model.\n",
    "\n",
    "If True the full sequences of successive outputs for each timestep is returned (a 3D tensor of shape (batch_size, timesteps, output_features)).\n",
    "\n",
    "Here is what the flow of information looks like with return_sequences=True:\n",
    "\n",
    "![layered_bidirectional]?raw=1\"\n",
    "\n",
    "The interesting thing about using an RNN with return_sequences=True is that the output still has 3-axes, like the input, so it can be passed to another RNN layer, like this:\n",
    "\n"
   ]
  },
  {
   "cell_type": "code",
   "execution_count": null,
   "metadata": {
    "id": "H6nZsB-1bAeH"
   },
   "outputs": [],
   "source": [
    "# Multilayer Bidirectional LSTM\n",
    "\n",
    "model2 = tf.keras.Sequential([\n",
    "                              encoder\n",
    "                              ,tf.keras.layers.Embedding(len(encoder.get_vocabulary()), 64, mask_zero=True)\n",
    "                              ,tf.keras.layers.Bidirectional(tf.keras.layers.LSTM(64,  return_sequences=True))\n",
    "                              ,tf.keras.layers.Bidirectional(tf.keras.layers.LSTM(32))\n",
    "                              ,tf.keras.layers.Dense(64, activation='relu')\n",
    "                              ,tf.keras.layers.Dropout(0.5)\n",
    "                              ,tf.keras.layers.Dense(num_classes,activation='softmax')   # not binary since there are num_classes categories\n",
    "])"
   ]
  },
  {
   "cell_type": "code",
   "execution_count": null,
   "metadata": {
    "id": "4B1X-kevbAhg"
   },
   "outputs": [],
   "source": [
    "model2.compile(optimizer='adam'\n",
    "              ,loss=tf.keras.losses.SparseCategoricalCrossentropy() # if we set from_logits=True we do not have specify a softmax activation function in the last layer\n",
    "              ,metrics=['accuracy'])"
   ]
  },
  {
   "cell_type": "code",
   "execution_count": null,
   "metadata": {
    "colab": {
     "base_uri": "https://localhost:8080/"
    },
    "id": "z97mq7ynb9tv",
    "outputId": "501798be-a385-4abc-f66e-8ca0b0e239be"
   },
   "outputs": [
    {
     "name": "stdout",
     "output_type": "stream",
     "text": [
      "Epoch 1/200\n",
      "1782/1782 [==============================] - 414s 224ms/step - loss: 0.5159 - accuracy: 0.8149 - val_loss: 0.3959 - val_accuracy: 0.8656\n",
      "Epoch 2/200\n",
      "1782/1782 [==============================] - 397s 223ms/step - loss: 0.4264 - accuracy: 0.8514 - val_loss: 0.4430 - val_accuracy: 0.8438\n",
      "Epoch 3/200\n",
      "1782/1782 [==============================] - 398s 223ms/step - loss: 0.4046 - accuracy: 0.8569 - val_loss: 0.3766 - val_accuracy: 0.8578\n"
     ]
    }
   ],
   "source": [
    "history2 = model2.fit(train_dataset\n",
    "                    ,epochs=200\n",
    "                    ,validation_data=validation_dataset\n",
    "                    ,validation_steps=30\n",
    "                    ,callbacks=[tf.keras.callbacks.EarlyStopping(monitor='val_accuracy', patience=2)]\n",
    "                    )"
   ]
  },
  {
   "cell_type": "code",
   "execution_count": null,
   "metadata": {
    "colab": {
     "base_uri": "https://localhost:8080/"
    },
    "id": "V_25a4Djb9xT",
    "outputId": "280bcf2c-bb27-4e5c-a383-af6d9e0c4acb"
   },
   "outputs": [
    {
     "name": "stdout",
     "output_type": "stream",
     "text": [
      "119/119 [==============================] - 7s 58ms/step - loss: 0.4039 - accuracy: 0.8545\n",
      "Test Loss: 0.4038887321949005\n",
      "Test Accuracy: 0.8544737100601196\n"
     ]
    }
   ],
   "source": [
    "test_loss, test_acc = model2.evaluate(test_dataset)\n",
    "\n",
    "print('Test Loss: {}'.format(test_loss))\n",
    "print('Test Accuracy: {}'.format(test_acc))"
   ]
  },
  {
   "cell_type": "markdown",
   "metadata": {
    "id": "cuQ2iEdCcGh1"
   },
   "source": [
    "**Plotting Performance Metrics - Multi-Layer Bidirectional LSTM**\n",
    "\n",
    "We use Matplotlib to create 2 plots--displaying the training and validation loss (resp. accuracy) for each (training) epoch side by side."
   ]
  },
  {
   "cell_type": "code",
   "execution_count": null,
   "metadata": {
    "colab": {
     "base_uri": "https://localhost:8080/"
    },
    "id": "UhFqMC3zb91X",
    "outputId": "89927b6a-eaff-4a9c-f90c-238e25a09ed6"
   },
   "outputs": [
    {
     "data": {
      "text/plain": [
       "dict_keys(['loss', 'accuracy', 'val_loss', 'val_accuracy'])"
      ]
     },
     "execution_count": 62,
     "metadata": {},
     "output_type": "execute_result"
    }
   ],
   "source": [
    "history_dict2 = history2.history\n",
    "history_dict2.keys()"
   ]
  },
  {
   "cell_type": "code",
   "execution_count": null,
   "metadata": {
    "colab": {
     "base_uri": "https://localhost:8080/",
     "height": 142
    },
    "id": "ZrLmzd8db94g",
    "outputId": "cfa21e8e-8d39-4989-c79f-e1114199a380"
   },
   "outputs": [
    {
     "data": {
      "text/html": [
       "<div>\n",
       "<style scoped>\n",
       "    .dataframe tbody tr th:only-of-type {\n",
       "        vertical-align: middle;\n",
       "    }\n",
       "\n",
       "    .dataframe tbody tr th {\n",
       "        vertical-align: top;\n",
       "    }\n",
       "\n",
       "    .dataframe thead th {\n",
       "        text-align: right;\n",
       "    }\n",
       "</style>\n",
       "<table border=\"1\" class=\"dataframe\">\n",
       "  <thead>\n",
       "    <tr style=\"text-align: right;\">\n",
       "      <th></th>\n",
       "      <th>loss</th>\n",
       "      <th>accuracy</th>\n",
       "      <th>val_loss</th>\n",
       "      <th>val_accuracy</th>\n",
       "    </tr>\n",
       "  </thead>\n",
       "  <tbody>\n",
       "    <tr>\n",
       "      <th>0</th>\n",
       "      <td>0.516</td>\n",
       "      <td>0.815</td>\n",
       "      <td>0.396</td>\n",
       "      <td>0.866</td>\n",
       "    </tr>\n",
       "    <tr>\n",
       "      <th>1</th>\n",
       "      <td>0.426</td>\n",
       "      <td>0.851</td>\n",
       "      <td>0.443</td>\n",
       "      <td>0.844</td>\n",
       "    </tr>\n",
       "    <tr>\n",
       "      <th>2</th>\n",
       "      <td>0.405</td>\n",
       "      <td>0.857</td>\n",
       "      <td>0.377</td>\n",
       "      <td>0.858</td>\n",
       "    </tr>\n",
       "  </tbody>\n",
       "</table>\n",
       "</div>"
      ],
      "text/plain": [
       "    loss  accuracy  val_loss  val_accuracy\n",
       "0  0.516     0.815     0.396         0.866\n",
       "1  0.426     0.851     0.443         0.844\n",
       "2  0.405     0.857     0.377         0.858"
      ]
     },
     "execution_count": 63,
     "metadata": {},
     "output_type": "execute_result"
    }
   ],
   "source": [
    "history2_df=pd.DataFrame(history_dict2)\n",
    "history2_df.tail().round(3)"
   ]
  },
  {
   "cell_type": "code",
   "execution_count": null,
   "metadata": {
    "id": "B0WG6MoRcQlq"
   },
   "outputs": [],
   "source": [
    "losses = history2.history['loss']\n",
    "accs = history2.history['accuracy']\n",
    "val_losses = history2.history['val_loss']\n",
    "val_accs = history2.history['val_accuracy']\n",
    "epochs = len(losses)"
   ]
  },
  {
   "cell_type": "code",
   "execution_count": null,
   "metadata": {
    "colab": {
     "base_uri": "https://localhost:8080/",
     "height": 265
    },
    "id": "VAEqwLVZcQpP",
    "outputId": "2ee0c980-ab98-49ea-c2eb-d7e0b7dfcd55"
   },
   "outputs": [
    {
     "data": {
      "image/png": "[encoded data removed]",
      "text/plain": [
       "<Figure size 1152x288 with 2 Axes>"
      ]
     },
     "metadata": {
      "needs_background": "light"
     },
     "output_type": "display_data"
    }
   ],
   "source": [
    "plt.figure(figsize=(16, 4))\n",
    "for i, metrics in enumerate(zip([losses, accs], [val_losses, val_accs], ['Loss', 'Accuracy'])):\n",
    "    plt.subplot(1, 2, i + 1)\n",
    "    plt.plot(range(epochs), metrics[0], label='Training {}'.format(metrics[2]))\n",
    "    plt.plot(range(epochs), metrics[1], label='Validation {}'.format(metrics[2]))\n",
    "    plt.legend()\n",
    "plt.show()"
   ]
  },
  {
   "cell_type": "markdown",
   "metadata": {
    "id": "Wa38JltgctCI"
   },
   "source": [
    "**Confusion Matrix**\n"
   ]
  },
  {
   "cell_type": "code",
   "execution_count": null,
   "metadata": {
    "id": "jskGC-YIcQt9"
   },
   "outputs": [],
   "source": [
    "preds = model.predict(test_dataset)"
   ]
  },
  {
   "cell_type": "code",
   "execution_count": null,
   "metadata": {
    "colab": {
     "base_uri": "https://localhost:8080/"
    },
    "id": "POX1cwyUczyh",
    "outputId": "7e91ef96-2297-4069-a12f-0d06308f4d90"
   },
   "outputs": [
    {
     "data": {
      "text/plain": [
       "(7600, 4)"
      ]
     },
     "execution_count": 67,
     "metadata": {},
     "output_type": "execute_result"
    }
   ],
   "source": [
    "preds.shape"
   ]
  },
  {
   "cell_type": "code",
   "execution_count": null,
   "metadata": {
    "id": "XaqreU_Gcz7m"
   },
   "outputs": [],
   "source": [
    "cm = sns.light_palette((260, 75, 60), input=\"husl\", as_cmap=True)"
   ]
  },
  {
   "cell_type": "code",
   "execution_count": null,
   "metadata": {
    "colab": {
     "base_uri": "https://localhost:8080/",
     "height": 124
    },
    "id": "Eg32IZ7ec0AK",
    "outputId": "d3423883-bb84-4287-a561-a7a6a703cc1c"
   },
   "outputs": [
    {
     "data": {
      "text/html": [
       "<style  type=\"text/css\" >\n",
       "#T_2a602cb2_3730_11ec_bd88_0242ac1c0002row0_col0,#T_2a602cb2_3730_11ec_bd88_0242ac1c0002row0_col2,#T_2a602cb2_3730_11ec_bd88_0242ac1c0002row0_col11,#T_2a602cb2_3730_11ec_bd88_0242ac1c0002row1_col1,#T_2a602cb2_3730_11ec_bd88_0242ac1c0002row1_col2,#T_2a602cb2_3730_11ec_bd88_0242ac1c0002row1_col4,#T_2a602cb2_3730_11ec_bd88_0242ac1c0002row1_col5,#T_2a602cb2_3730_11ec_bd88_0242ac1c0002row1_col8,#T_2a602cb2_3730_11ec_bd88_0242ac1c0002row1_col9,#T_2a602cb2_3730_11ec_bd88_0242ac1c0002row1_col10,#T_2a602cb2_3730_11ec_bd88_0242ac1c0002row1_col11,#T_2a602cb2_3730_11ec_bd88_0242ac1c0002row1_col12,#T_2a602cb2_3730_11ec_bd88_0242ac1c0002row1_col13,#T_2a602cb2_3730_11ec_bd88_0242ac1c0002row1_col14,#T_2a602cb2_3730_11ec_bd88_0242ac1c0002row2_col0,#T_2a602cb2_3730_11ec_bd88_0242ac1c0002row2_col1,#T_2a602cb2_3730_11ec_bd88_0242ac1c0002row2_col3,#T_2a602cb2_3730_11ec_bd88_0242ac1c0002row2_col4,#T_2a602cb2_3730_11ec_bd88_0242ac1c0002row2_col6,#T_2a602cb2_3730_11ec_bd88_0242ac1c0002row2_col7,#T_2a602cb2_3730_11ec_bd88_0242ac1c0002row2_col10,#T_2a602cb2_3730_11ec_bd88_0242ac1c0002row2_col14,#T_2a602cb2_3730_11ec_bd88_0242ac1c0002row3_col0,#T_2a602cb2_3730_11ec_bd88_0242ac1c0002row3_col1,#T_2a602cb2_3730_11ec_bd88_0242ac1c0002row3_col3,#T_2a602cb2_3730_11ec_bd88_0242ac1c0002row3_col4,#T_2a602cb2_3730_11ec_bd88_0242ac1c0002row3_col6,#T_2a602cb2_3730_11ec_bd88_0242ac1c0002row3_col10,#T_2a602cb2_3730_11ec_bd88_0242ac1c0002row3_col14{\n",
       "            background-color:  #f0f1f2;\n",
       "            color:  #000000;\n",
       "        }#T_2a602cb2_3730_11ec_bd88_0242ac1c0002row0_col1,#T_2a602cb2_3730_11ec_bd88_0242ac1c0002row0_col4,#T_2a602cb2_3730_11ec_bd88_0242ac1c0002row0_col8,#T_2a602cb2_3730_11ec_bd88_0242ac1c0002row0_col10,#T_2a602cb2_3730_11ec_bd88_0242ac1c0002row0_col13,#T_2a602cb2_3730_11ec_bd88_0242ac1c0002row0_col14,#T_2a602cb2_3730_11ec_bd88_0242ac1c0002row1_col0,#T_2a602cb2_3730_11ec_bd88_0242ac1c0002row1_col3,#T_2a602cb2_3730_11ec_bd88_0242ac1c0002row1_col6,#T_2a602cb2_3730_11ec_bd88_0242ac1c0002row1_col7,#T_2a602cb2_3730_11ec_bd88_0242ac1c0002row2_col9,#T_2a602cb2_3730_11ec_bd88_0242ac1c0002row2_col12,#T_2a602cb2_3730_11ec_bd88_0242ac1c0002row3_col2,#T_2a602cb2_3730_11ec_bd88_0242ac1c0002row3_col5,#T_2a602cb2_3730_11ec_bd88_0242ac1c0002row3_col11{\n",
       "            background-color:  #778ce4;\n",
       "            color:  #000000;\n",
       "        }#T_2a602cb2_3730_11ec_bd88_0242ac1c0002row0_col3,#T_2a602cb2_3730_11ec_bd88_0242ac1c0002row0_col5,#T_2a602cb2_3730_11ec_bd88_0242ac1c0002row0_col6{\n",
       "            background-color:  #f0f0f2;\n",
       "            color:  #000000;\n",
       "        }#T_2a602cb2_3730_11ec_bd88_0242ac1c0002row0_col7{\n",
       "            background-color:  #b6c0eb;\n",
       "            color:  #000000;\n",
       "        }#T_2a602cb2_3730_11ec_bd88_0242ac1c0002row0_col9,#T_2a602cb2_3730_11ec_bd88_0242ac1c0002row3_col7{\n",
       "            background-color:  #ebecf2;\n",
       "            color:  #000000;\n",
       "        }#T_2a602cb2_3730_11ec_bd88_0242ac1c0002row0_col12,#T_2a602cb2_3730_11ec_bd88_0242ac1c0002row2_col13{\n",
       "            background-color:  #eeeff2;\n",
       "            color:  #000000;\n",
       "        }#T_2a602cb2_3730_11ec_bd88_0242ac1c0002row2_col2{\n",
       "            background-color:  #ecedf2;\n",
       "            color:  #000000;\n",
       "        }#T_2a602cb2_3730_11ec_bd88_0242ac1c0002row2_col5{\n",
       "            background-color:  #dce0f0;\n",
       "            color:  #000000;\n",
       "        }#T_2a602cb2_3730_11ec_bd88_0242ac1c0002row2_col8{\n",
       "            background-color:  #eff0f2;\n",
       "            color:  #000000;\n",
       "        }#T_2a602cb2_3730_11ec_bd88_0242ac1c0002row2_col11,#T_2a602cb2_3730_11ec_bd88_0242ac1c0002row3_col12{\n",
       "            background-color:  #efeff2;\n",
       "            color:  #000000;\n",
       "        }#T_2a602cb2_3730_11ec_bd88_0242ac1c0002row3_col8,#T_2a602cb2_3730_11ec_bd88_0242ac1c0002row3_col13{\n",
       "            background-color:  #e9eaf1;\n",
       "            color:  #000000;\n",
       "        }#T_2a602cb2_3730_11ec_bd88_0242ac1c0002row3_col9{\n",
       "            background-color:  #d5daef;\n",
       "            color:  #000000;\n",
       "        }</style><table id=\"T_2a602cb2_3730_11ec_bd88_0242ac1c0002\" ><thead>    <tr>        <th class=\"blank level0\" ></th>        <th class=\"col_heading level0 col0\" >0</th>        <th class=\"col_heading level0 col1\" >1</th>        <th class=\"col_heading level0 col2\" >2</th>        <th class=\"col_heading level0 col3\" >3</th>        <th class=\"col_heading level0 col4\" >4</th>        <th class=\"col_heading level0 col5\" >5</th>        <th class=\"col_heading level0 col6\" >6</th>        <th class=\"col_heading level0 col7\" >7</th>        <th class=\"col_heading level0 col8\" >8</th>        <th class=\"col_heading level0 col9\" >9</th>        <th class=\"col_heading level0 col10\" >10</th>        <th class=\"col_heading level0 col11\" >11</th>        <th class=\"col_heading level0 col12\" >12</th>        <th class=\"col_heading level0 col13\" >13</th>        <th class=\"col_heading level0 col14\" >14</th>    </tr></thead><tbody>\n",
       "                <tr>\n",
       "                        <th id=\"T_2a602cb2_3730_11ec_bd88_0242ac1c0002level0_row0\" class=\"row_heading level0 row0\" >World</th>\n",
       "                        <td id=\"T_2a602cb2_3730_11ec_bd88_0242ac1c0002row0_col0\" class=\"data row0 col0\" >0.04%</td>\n",
       "                        <td id=\"T_2a602cb2_3730_11ec_bd88_0242ac1c0002row0_col1\" class=\"data row0 col1\" >99.94%</td>\n",
       "                        <td id=\"T_2a602cb2_3730_11ec_bd88_0242ac1c0002row0_col2\" class=\"data row0 col2\" >0.30%</td>\n",
       "                        <td id=\"T_2a602cb2_3730_11ec_bd88_0242ac1c0002row0_col3\" class=\"data row0 col3\" >0.51%</td>\n",
       "                        <td id=\"T_2a602cb2_3730_11ec_bd88_0242ac1c0002row0_col4\" class=\"data row0 col4\" >99.86%</td>\n",
       "                        <td id=\"T_2a602cb2_3730_11ec_bd88_0242ac1c0002row0_col5\" class=\"data row0 col5\" >0.69%</td>\n",
       "                        <td id=\"T_2a602cb2_3730_11ec_bd88_0242ac1c0002row0_col6\" class=\"data row0 col6\" >0.84%</td>\n",
       "                        <td id=\"T_2a602cb2_3730_11ec_bd88_0242ac1c0002row0_col7\" class=\"data row0 col7\" >31.35%</td>\n",
       "                        <td id=\"T_2a602cb2_3730_11ec_bd88_0242ac1c0002row0_col8\" class=\"data row0 col8\" >92.50%</td>\n",
       "                        <td id=\"T_2a602cb2_3730_11ec_bd88_0242ac1c0002row0_col9\" class=\"data row0 col9\" >3.89%</td>\n",
       "                        <td id=\"T_2a602cb2_3730_11ec_bd88_0242ac1c0002row0_col10\" class=\"data row0 col10\" >99.98%</td>\n",
       "                        <td id=\"T_2a602cb2_3730_11ec_bd88_0242ac1c0002row0_col11\" class=\"data row0 col11\" >0.25%</td>\n",
       "                        <td id=\"T_2a602cb2_3730_11ec_bd88_0242ac1c0002row0_col12\" class=\"data row0 col12\" >1.81%</td>\n",
       "                        <td id=\"T_2a602cb2_3730_11ec_bd88_0242ac1c0002row0_col13\" class=\"data row0 col13\" >90.90%</td>\n",
       "                        <td id=\"T_2a602cb2_3730_11ec_bd88_0242ac1c0002row0_col14\" class=\"data row0 col14\" >99.91%</td>\n",
       "            </tr>\n",
       "            <tr>\n",
       "                        <th id=\"T_2a602cb2_3730_11ec_bd88_0242ac1c0002level0_row1\" class=\"row_heading level0 row1\" >Sports</th>\n",
       "                        <td id=\"T_2a602cb2_3730_11ec_bd88_0242ac1c0002row1_col0\" class=\"data row1 col0\" >99.92%</td>\n",
       "                        <td id=\"T_2a602cb2_3730_11ec_bd88_0242ac1c0002row1_col1\" class=\"data row1 col1\" >0.00%</td>\n",
       "                        <td id=\"T_2a602cb2_3730_11ec_bd88_0242ac1c0002row1_col2\" class=\"data row1 col2\" >0.00%</td>\n",
       "                        <td id=\"T_2a602cb2_3730_11ec_bd88_0242ac1c0002row1_col3\" class=\"data row1 col3\" >99.38%</td>\n",
       "                        <td id=\"T_2a602cb2_3730_11ec_bd88_0242ac1c0002row1_col4\" class=\"data row1 col4\" >0.00%</td>\n",
       "                        <td id=\"T_2a602cb2_3730_11ec_bd88_0242ac1c0002row1_col5\" class=\"data row1 col5\" >0.07%</td>\n",
       "                        <td id=\"T_2a602cb2_3730_11ec_bd88_0242ac1c0002row1_col6\" class=\"data row1 col6\" >98.80%</td>\n",
       "                        <td id=\"T_2a602cb2_3730_11ec_bd88_0242ac1c0002row1_col7\" class=\"data row1 col7\" >64.78%</td>\n",
       "                        <td id=\"T_2a602cb2_3730_11ec_bd88_0242ac1c0002row1_col8\" class=\"data row1 col8\" >0.30%</td>\n",
       "                        <td id=\"T_2a602cb2_3730_11ec_bd88_0242ac1c0002row1_col9\" class=\"data row1 col9\" >0.04%</td>\n",
       "                        <td id=\"T_2a602cb2_3730_11ec_bd88_0242ac1c0002row1_col10\" class=\"data row1 col10\" >0.00%</td>\n",
       "                        <td id=\"T_2a602cb2_3730_11ec_bd88_0242ac1c0002row1_col11\" class=\"data row1 col11\" >0.13%</td>\n",
       "                        <td id=\"T_2a602cb2_3730_11ec_bd88_0242ac1c0002row1_col12\" class=\"data row1 col12\" >0.02%</td>\n",
       "                        <td id=\"T_2a602cb2_3730_11ec_bd88_0242ac1c0002row1_col13\" class=\"data row1 col13\" >0.50%</td>\n",
       "                        <td id=\"T_2a602cb2_3730_11ec_bd88_0242ac1c0002row1_col14\" class=\"data row1 col14\" >0.00%</td>\n",
       "            </tr>\n",
       "            <tr>\n",
       "                        <th id=\"T_2a602cb2_3730_11ec_bd88_0242ac1c0002level0_row2\" class=\"row_heading level0 row2\" >Business</th>\n",
       "                        <td id=\"T_2a602cb2_3730_11ec_bd88_0242ac1c0002row2_col0\" class=\"data row2 col0\" >0.02%</td>\n",
       "                        <td id=\"T_2a602cb2_3730_11ec_bd88_0242ac1c0002row2_col1\" class=\"data row2 col1\" >0.03%</td>\n",
       "                        <td id=\"T_2a602cb2_3730_11ec_bd88_0242ac1c0002row2_col2\" class=\"data row2 col2\" >3.58%</td>\n",
       "                        <td id=\"T_2a602cb2_3730_11ec_bd88_0242ac1c0002row2_col3\" class=\"data row2 col3\" >0.06%</td>\n",
       "                        <td id=\"T_2a602cb2_3730_11ec_bd88_0242ac1c0002row2_col4\" class=\"data row2 col4\" >0.06%</td>\n",
       "                        <td id=\"T_2a602cb2_3730_11ec_bd88_0242ac1c0002row2_col5\" class=\"data row2 col5\" >14.55%</td>\n",
       "                        <td id=\"T_2a602cb2_3730_11ec_bd88_0242ac1c0002row2_col6\" class=\"data row2 col6\" >0.09%</td>\n",
       "                        <td id=\"T_2a602cb2_3730_11ec_bd88_0242ac1c0002row2_col7\" class=\"data row2 col7\" >0.31%</td>\n",
       "                        <td id=\"T_2a602cb2_3730_11ec_bd88_0242ac1c0002row2_col8\" class=\"data row2 col8\" >1.02%</td>\n",
       "                        <td id=\"T_2a602cb2_3730_11ec_bd88_0242ac1c0002row2_col9\" class=\"data row2 col9\" >78.41%</td>\n",
       "                        <td id=\"T_2a602cb2_3730_11ec_bd88_0242ac1c0002row2_col10\" class=\"data row2 col10\" >0.01%</td>\n",
       "                        <td id=\"T_2a602cb2_3730_11ec_bd88_0242ac1c0002row2_col11\" class=\"data row2 col11\" >1.65%</td>\n",
       "                        <td id=\"T_2a602cb2_3730_11ec_bd88_0242ac1c0002row2_col12\" class=\"data row2 col12\" >97.01%</td>\n",
       "                        <td id=\"T_2a602cb2_3730_11ec_bd88_0242ac1c0002row2_col13\" class=\"data row2 col13\" >2.17%</td>\n",
       "                        <td id=\"T_2a602cb2_3730_11ec_bd88_0242ac1c0002row2_col14\" class=\"data row2 col14\" >0.06%</td>\n",
       "            </tr>\n",
       "            <tr>\n",
       "                        <th id=\"T_2a602cb2_3730_11ec_bd88_0242ac1c0002level0_row3\" class=\"row_heading level0 row3\" >Sci/Tech</th>\n",
       "                        <td id=\"T_2a602cb2_3730_11ec_bd88_0242ac1c0002row3_col0\" class=\"data row3 col0\" >0.01%</td>\n",
       "                        <td id=\"T_2a602cb2_3730_11ec_bd88_0242ac1c0002row3_col1\" class=\"data row3 col1\" >0.03%</td>\n",
       "                        <td id=\"T_2a602cb2_3730_11ec_bd88_0242ac1c0002row3_col2\" class=\"data row3 col2\" >96.12%</td>\n",
       "                        <td id=\"T_2a602cb2_3730_11ec_bd88_0242ac1c0002row3_col3\" class=\"data row3 col3\" >0.04%</td>\n",
       "                        <td id=\"T_2a602cb2_3730_11ec_bd88_0242ac1c0002row3_col4\" class=\"data row3 col4\" >0.08%</td>\n",
       "                        <td id=\"T_2a602cb2_3730_11ec_bd88_0242ac1c0002row3_col5\" class=\"data row3 col5\" >84.69%</td>\n",
       "                        <td id=\"T_2a602cb2_3730_11ec_bd88_0242ac1c0002row3_col6\" class=\"data row3 col6\" >0.27%</td>\n",
       "                        <td id=\"T_2a602cb2_3730_11ec_bd88_0242ac1c0002row3_col7\" class=\"data row3 col7\" >3.56%</td>\n",
       "                        <td id=\"T_2a602cb2_3730_11ec_bd88_0242ac1c0002row3_col8\" class=\"data row3 col8\" >6.18%</td>\n",
       "                        <td id=\"T_2a602cb2_3730_11ec_bd88_0242ac1c0002row3_col9\" class=\"data row3 col9\" >17.66%</td>\n",
       "                        <td id=\"T_2a602cb2_3730_11ec_bd88_0242ac1c0002row3_col10\" class=\"data row3 col10\" >0.01%</td>\n",
       "                        <td id=\"T_2a602cb2_3730_11ec_bd88_0242ac1c0002row3_col11\" class=\"data row3 col11\" >97.97%</td>\n",
       "                        <td id=\"T_2a602cb2_3730_11ec_bd88_0242ac1c0002row3_col12\" class=\"data row3 col12\" >1.16%</td>\n",
       "                        <td id=\"T_2a602cb2_3730_11ec_bd88_0242ac1c0002row3_col13\" class=\"data row3 col13\" >6.43%</td>\n",
       "                        <td id=\"T_2a602cb2_3730_11ec_bd88_0242ac1c0002row3_col14\" class=\"data row3 col14\" >0.03%</td>\n",
       "            </tr>\n",
       "    </tbody></table>"
      ],
      "text/plain": [
       "<pandas.io.formats.style.Styler at 0x7fd84a59dfd0>"
      ]
     },
     "execution_count": 69,
     "metadata": {},
     "output_type": "execute_result"
    }
   ],
   "source": [
    "df = pd.DataFrame(preds[0:15]\n",
    "                  ,columns = ['World','Sports','Business','Sci/Tech']).T\n",
    "df.style.format(\"{:.2%}\").background_gradient(cmap=cm)"
   ]
  },
  {
   "cell_type": "markdown",
   "metadata": {
    "id": "jTWYez9cc9VJ"
   },
   "source": [
    "**Multi-layer Unidirectional LSTM**"
   ]
  },
  {
   "cell_type": "code",
   "execution_count": null,
   "metadata": {
    "id": "y33InbymHpp0"
   },
   "outputs": [],
   "source": [
    "# Multilayer Bidirectional LSTM\n",
    "\n",
    "model2 = tf.keras.Sequential([\n",
    "                              encoder\n",
    "                              ,tf.keras.layers.Embedding(len(encoder.get_vocabulary()), 64, mask_zero=True)\n",
    "                              ,tf.keras.layers.LSTM(64, return_sequences=True)\n",
    "                              ,tf.keras.layers.LSTM(32)\n",
    "                              ,tf.keras.layers.Dense(64, activation='relu')\n",
    "                              ,tf.keras.layers.Dropout(0.5)\n",
    "                              ,tf.keras.layers.Dense(num_classes,activation='softmax')   # not binary since there are num_classes categories\n",
    "])"
   ]
  },
  {
   "cell_type": "code",
   "execution_count": null,
   "metadata": {
    "id": "OS9dY6hXdFUB"
   },
   "outputs": [],
   "source": [
    "model2.compile(optimizer='adam'\n",
    "              ,loss=tf.keras.losses.SparseCategoricalCrossentropy() # if we set from_logits=True we do not have specify a softmax activation function in the last layer\n",
    "              ,metrics=['accuracy'])"
   ]
  },
  {
   "cell_type": "code",
   "execution_count": null,
   "metadata": {
    "colab": {
     "base_uri": "https://localhost:8080/"
    },
    "id": "y_Z8T2pMdFeQ",
    "outputId": "b5fa343b-fa27-4333-e163-02621f8d4dec"
   },
   "outputs": [
    {
     "name": "stdout",
     "output_type": "stream",
     "text": [
      "Epoch 1/200\n",
      "1782/1782 [==============================] - 324s 177ms/step - loss: 0.4187 - accuracy: 0.8518 - val_loss: 0.2965 - val_accuracy: 0.9031\n",
      "Epoch 2/200\n",
      "1782/1782 [==============================] - 311s 175ms/step - loss: 0.2183 - accuracy: 0.9330 - val_loss: 0.2887 - val_accuracy: 0.9120\n",
      "Epoch 3/200\n",
      "1782/1782 [==============================] - 311s 174ms/step - loss: 0.1518 - accuracy: 0.9535 - val_loss: 0.3546 - val_accuracy: 0.8969\n",
      "Epoch 4/200\n",
      "1782/1782 [==============================] - 311s 175ms/step - loss: 0.1046 - accuracy: 0.9667 - val_loss: 0.4444 - val_accuracy: 0.8885\n"
     ]
    }
   ],
   "source": [
    "history2 = model2.fit(train_dataset\n",
    "                    ,epochs=200\n",
    "                    ,validation_data=validation_dataset\n",
    "                    ,validation_steps=30\n",
    "                    ,callbacks=[tf.keras.callbacks.EarlyStopping(monitor='val_accuracy', patience=2)]\n",
    "                    )"
   ]
  },
  {
   "cell_type": "code",
   "execution_count": null,
   "metadata": {
    "colab": {
     "base_uri": "https://localhost:8080/"
    },
    "id": "sNTkrv7cmP6X",
    "outputId": "4e77c02d-34b2-4a0b-f257-fd05fca724ca"
   },
   "outputs": [
    {
     "name": "stdout",
     "output_type": "stream",
     "text": [
      "119/119 [==============================] - 4s 35ms/step - loss: 0.4075 - accuracy: 0.8964\n",
      "Test Loss: 0.4075407087802887\n",
      "Test Accuracy: 0.8964473605155945\n"
     ]
    }
   ],
   "source": [
    "test_loss, test_acc = model2.evaluate(test_dataset)\n",
    "\n",
    "print('Test Loss: {}'.format(test_loss))\n",
    "print('Test Accuracy: {}'.format(test_acc))"
   ]
  },
  {
   "cell_type": "code",
   "execution_count": null,
   "metadata": {
    "colab": {
     "base_uri": "https://localhost:8080/"
    },
    "id": "iCyySTIPH-T9",
    "outputId": "057376e0-bfe6-4f6f-d679-f0da3efce08f"
   },
   "outputs": [
    {
     "data": {
      "text/plain": [
       "dict_keys(['loss', 'accuracy', 'val_loss', 'val_accuracy'])"
      ]
     },
     "execution_count": 56,
     "metadata": {},
     "output_type": "execute_result"
    }
   ],
   "source": [
    "history_dict2 = history2.history\n",
    "history_dict2.keys()"
   ]
  },
  {
   "cell_type": "code",
   "execution_count": null,
   "metadata": {
    "colab": {
     "base_uri": "https://localhost:8080/",
     "height": 173
    },
    "id": "v1g2XVQcH-Y3",
    "outputId": "cf907304-e199-4bb3-ef35-781bf6418ce1"
   },
   "outputs": [
    {
     "data": {
      "text/html": [
       "<div>\n",
       "<style scoped>\n",
       "    .dataframe tbody tr th:only-of-type {\n",
       "        vertical-align: middle;\n",
       "    }\n",
       "\n",
       "    .dataframe tbody tr th {\n",
       "        vertical-align: top;\n",
       "    }\n",
       "\n",
       "    .dataframe thead th {\n",
       "        text-align: right;\n",
       "    }\n",
       "</style>\n",
       "<table border=\"1\" class=\"dataframe\">\n",
       "  <thead>\n",
       "    <tr style=\"text-align: right;\">\n",
       "      <th></th>\n",
       "      <th>loss</th>\n",
       "      <th>accuracy</th>\n",
       "      <th>val_loss</th>\n",
       "      <th>val_accuracy</th>\n",
       "    </tr>\n",
       "  </thead>\n",
       "  <tbody>\n",
       "    <tr>\n",
       "      <th>0</th>\n",
       "      <td>0.419</td>\n",
       "      <td>0.852</td>\n",
       "      <td>0.296</td>\n",
       "      <td>0.903</td>\n",
       "    </tr>\n",
       "    <tr>\n",
       "      <th>1</th>\n",
       "      <td>0.218</td>\n",
       "      <td>0.933</td>\n",
       "      <td>0.289</td>\n",
       "      <td>0.912</td>\n",
       "    </tr>\n",
       "    <tr>\n",
       "      <th>2</th>\n",
       "      <td>0.152</td>\n",
       "      <td>0.953</td>\n",
       "      <td>0.355</td>\n",
       "      <td>0.897</td>\n",
       "    </tr>\n",
       "    <tr>\n",
       "      <th>3</th>\n",
       "      <td>0.105</td>\n",
       "      <td>0.967</td>\n",
       "      <td>0.444</td>\n",
       "      <td>0.889</td>\n",
       "    </tr>\n",
       "  </tbody>\n",
       "</table>\n",
       "</div>"
      ],
      "text/plain": [
       "    loss  accuracy  val_loss  val_accuracy\n",
       "0  0.419     0.852     0.296         0.903\n",
       "1  0.218     0.933     0.289         0.912\n",
       "2  0.152     0.953     0.355         0.897\n",
       "3  0.105     0.967     0.444         0.889"
      ]
     },
     "execution_count": 57,
     "metadata": {},
     "output_type": "execute_result"
    }
   ],
   "source": [
    "history2_df=pd.DataFrame(history_dict2)\n",
    "history2_df.tail().round(3)"
   ]
  },
  {
   "cell_type": "code",
   "execution_count": null,
   "metadata": {
    "id": "D0UYg37PH-dV"
   },
   "outputs": [],
   "source": [
    "losses = history2.history['loss']\n",
    "accs = history2.history['accuracy']\n",
    "val_losses = history2.history['val_loss']\n",
    "val_accs = history2.history['val_accuracy']\n",
    "epochs = len(losses)"
   ]
  },
  {
   "cell_type": "code",
   "execution_count": null,
   "metadata": {
    "colab": {
     "base_uri": "https://localhost:8080/",
     "height": 265
    },
    "id": "xSTOHBm2IPNQ",
    "outputId": "2df18437-15cf-4340-a245-2842d7ffd4e7"
   },
   "outputs": [
    {
     "data": {
      "image/png": "[encoded data removed]",
      "text/plain": [
       "<Figure size 1152x288 with 2 Axes>"
      ]
     },
     "metadata": {
      "needs_background": "light"
     },
     "output_type": "display_data"
    }
   ],
   "source": [
    "plt.figure(figsize=(16, 4))\n",
    "for i, metrics in enumerate(zip([losses, accs], [val_losses, val_accs], ['Loss', 'Accuracy'])):\n",
    "    plt.subplot(1, 2, i + 1)\n",
    "    plt.plot(range(epochs), metrics[0], label='Training {}'.format(metrics[2]))\n",
    "    plt.plot(range(epochs), metrics[1], label='Validation {}'.format(metrics[2]))\n",
    "    plt.legend()\n",
    "plt.show()"
   ]
  },
  {
   "cell_type": "code",
   "execution_count": null,
   "metadata": {
    "id": "znpHDOgIIPW5"
   },
   "outputs": [],
   "source": [
    "preds = model.predict(test_dataset)"
   ]
  },
  {
   "cell_type": "code",
   "execution_count": null,
   "metadata": {
    "id": "XcY55e-mIPaM"
   },
   "outputs": [],
   "source": [
    "cm = sns.light_palette((260, 75, 60), input=\"husl\", as_cmap=True)"
   ]
  },
  {
   "cell_type": "code",
   "execution_count": null,
   "metadata": {
    "colab": {
     "base_uri": "https://localhost:8080/",
     "height": 173
    },
    "id": "Et2Jbvk-IPde",
    "outputId": "17d475c9-c67f-47e4-e85b-b0e9b867a67a"
   },
   "outputs": [
    {
     "data": {
      "text/html": [
       "<style  type=\"text/css\" >\n",
       "#T_b14f214e_39db_11ec_aa43_0242ac1c0002row0_col0,#T_b14f214e_39db_11ec_aa43_0242ac1c0002row0_col2,#T_b14f214e_39db_11ec_aa43_0242ac1c0002row0_col6,#T_b14f214e_39db_11ec_aa43_0242ac1c0002row1_col1,#T_b14f214e_39db_11ec_aa43_0242ac1c0002row1_col2,#T_b14f214e_39db_11ec_aa43_0242ac1c0002row1_col4,#T_b14f214e_39db_11ec_aa43_0242ac1c0002row1_col5,#T_b14f214e_39db_11ec_aa43_0242ac1c0002row1_col8,#T_b14f214e_39db_11ec_aa43_0242ac1c0002row1_col9,#T_b14f214e_39db_11ec_aa43_0242ac1c0002row1_col10,#T_b14f214e_39db_11ec_aa43_0242ac1c0002row1_col11,#T_b14f214e_39db_11ec_aa43_0242ac1c0002row1_col12,#T_b14f214e_39db_11ec_aa43_0242ac1c0002row1_col13,#T_b14f214e_39db_11ec_aa43_0242ac1c0002row1_col14,#T_b14f214e_39db_11ec_aa43_0242ac1c0002row2_col0,#T_b14f214e_39db_11ec_aa43_0242ac1c0002row2_col1,#T_b14f214e_39db_11ec_aa43_0242ac1c0002row2_col2,#T_b14f214e_39db_11ec_aa43_0242ac1c0002row2_col3,#T_b14f214e_39db_11ec_aa43_0242ac1c0002row2_col4,#T_b14f214e_39db_11ec_aa43_0242ac1c0002row2_col6,#T_b14f214e_39db_11ec_aa43_0242ac1c0002row2_col7,#T_b14f214e_39db_11ec_aa43_0242ac1c0002row2_col8,#T_b14f214e_39db_11ec_aa43_0242ac1c0002row2_col10,#T_b14f214e_39db_11ec_aa43_0242ac1c0002row2_col11,#T_b14f214e_39db_11ec_aa43_0242ac1c0002row2_col13,#T_b14f214e_39db_11ec_aa43_0242ac1c0002row2_col14,#T_b14f214e_39db_11ec_aa43_0242ac1c0002row3_col0,#T_b14f214e_39db_11ec_aa43_0242ac1c0002row3_col1,#T_b14f214e_39db_11ec_aa43_0242ac1c0002row3_col3,#T_b14f214e_39db_11ec_aa43_0242ac1c0002row3_col6,#T_b14f214e_39db_11ec_aa43_0242ac1c0002row3_col7,#T_b14f214e_39db_11ec_aa43_0242ac1c0002row3_col8,#T_b14f214e_39db_11ec_aa43_0242ac1c0002row3_col10,#T_b14f214e_39db_11ec_aa43_0242ac1c0002row3_col12,#T_b14f214e_39db_11ec_aa43_0242ac1c0002row3_col13,#T_b14f214e_39db_11ec_aa43_0242ac1c0002row3_col14{\n",
       "            background-color:  #f0f1f2;\n",
       "            color:  #000000;\n",
       "        }#T_b14f214e_39db_11ec_aa43_0242ac1c0002row0_col1,#T_b14f214e_39db_11ec_aa43_0242ac1c0002row0_col4,#T_b14f214e_39db_11ec_aa43_0242ac1c0002row0_col8,#T_b14f214e_39db_11ec_aa43_0242ac1c0002row0_col10,#T_b14f214e_39db_11ec_aa43_0242ac1c0002row0_col13,#T_b14f214e_39db_11ec_aa43_0242ac1c0002row0_col14,#T_b14f214e_39db_11ec_aa43_0242ac1c0002row1_col0,#T_b14f214e_39db_11ec_aa43_0242ac1c0002row1_col3,#T_b14f214e_39db_11ec_aa43_0242ac1c0002row1_col6,#T_b14f214e_39db_11ec_aa43_0242ac1c0002row1_col7,#T_b14f214e_39db_11ec_aa43_0242ac1c0002row2_col9,#T_b14f214e_39db_11ec_aa43_0242ac1c0002row2_col12,#T_b14f214e_39db_11ec_aa43_0242ac1c0002row3_col2,#T_b14f214e_39db_11ec_aa43_0242ac1c0002row3_col5,#T_b14f214e_39db_11ec_aa43_0242ac1c0002row3_col11{\n",
       "            background-color:  #778ce4;\n",
       "            color:  #000000;\n",
       "        }#T_b14f214e_39db_11ec_aa43_0242ac1c0002row0_col3,#T_b14f214e_39db_11ec_aa43_0242ac1c0002row0_col5,#T_b14f214e_39db_11ec_aa43_0242ac1c0002row0_col7,#T_b14f214e_39db_11ec_aa43_0242ac1c0002row3_col9{\n",
       "            background-color:  #f0f0f2;\n",
       "            color:  #000000;\n",
       "        }#T_b14f214e_39db_11ec_aa43_0242ac1c0002row0_col9{\n",
       "            background-color:  #edeef2;\n",
       "            color:  #000000;\n",
       "        }#T_b14f214e_39db_11ec_aa43_0242ac1c0002row0_col11,#T_b14f214e_39db_11ec_aa43_0242ac1c0002row0_col12{\n",
       "            background-color:  #eeeff2;\n",
       "            color:  #000000;\n",
       "        }#T_b14f214e_39db_11ec_aa43_0242ac1c0002row2_col5{\n",
       "            background-color:  #e1e4f0;\n",
       "            color:  #000000;\n",
       "        }#T_b14f214e_39db_11ec_aa43_0242ac1c0002row3_col4{\n",
       "            background-color:  #efeff2;\n",
       "            color:  #000000;\n",
       "        }</style><table id=\"T_b14f214e_39db_11ec_aa43_0242ac1c0002\" class=\"dataframe\"><thead>    <tr>        <th class=\"blank level0\" ></th>        <th class=\"col_heading level0 col0\" >0</th>        <th class=\"col_heading level0 col1\" >1</th>        <th class=\"col_heading level0 col2\" >2</th>        <th class=\"col_heading level0 col3\" >3</th>        <th class=\"col_heading level0 col4\" >4</th>        <th class=\"col_heading level0 col5\" >5</th>        <th class=\"col_heading level0 col6\" >6</th>        <th class=\"col_heading level0 col7\" >7</th>        <th class=\"col_heading level0 col8\" >8</th>        <th class=\"col_heading level0 col9\" >9</th>        <th class=\"col_heading level0 col10\" >10</th>        <th class=\"col_heading level0 col11\" >11</th>        <th class=\"col_heading level0 col12\" >12</th>        <th class=\"col_heading level0 col13\" >13</th>        <th class=\"col_heading level0 col14\" >14</th>    </tr></thead><tbody>\n",
       "                <tr>\n",
       "                        <th id=\"T_b14f214e_39db_11ec_aa43_0242ac1c0002level0_row0\" class=\"row_heading level0 row0\" >World</th>\n",
       "                        <td id=\"T_b14f214e_39db_11ec_aa43_0242ac1c0002row0_col0\" class=\"data row0 col0\" >0.33%</td>\n",
       "                        <td id=\"T_b14f214e_39db_11ec_aa43_0242ac1c0002row0_col1\" class=\"data row0 col1\" >99.98%</td>\n",
       "                        <td id=\"T_b14f214e_39db_11ec_aa43_0242ac1c0002row0_col2\" class=\"data row0 col2\" >0.08%</td>\n",
       "                        <td id=\"T_b14f214e_39db_11ec_aa43_0242ac1c0002row0_col3\" class=\"data row0 col3\" >0.43%</td>\n",
       "                        <td id=\"T_b14f214e_39db_11ec_aa43_0242ac1c0002row0_col4\" class=\"data row0 col4\" >98.54%</td>\n",
       "                        <td id=\"T_b14f214e_39db_11ec_aa43_0242ac1c0002row0_col5\" class=\"data row0 col5\" >0.40%</td>\n",
       "                        <td id=\"T_b14f214e_39db_11ec_aa43_0242ac1c0002row0_col6\" class=\"data row0 col6\" >0.22%</td>\n",
       "                        <td id=\"T_b14f214e_39db_11ec_aa43_0242ac1c0002row0_col7\" class=\"data row0 col7\" >0.42%</td>\n",
       "                        <td id=\"T_b14f214e_39db_11ec_aa43_0242ac1c0002row0_col8\" class=\"data row0 col8\" >99.99%</td>\n",
       "                        <td id=\"T_b14f214e_39db_11ec_aa43_0242ac1c0002row0_col9\" class=\"data row0 col9\" >2.99%</td>\n",
       "                        <td id=\"T_b14f214e_39db_11ec_aa43_0242ac1c0002row0_col10\" class=\"data row0 col10\" >99.99%</td>\n",
       "                        <td id=\"T_b14f214e_39db_11ec_aa43_0242ac1c0002row0_col11\" class=\"data row0 col11\" >1.76%</td>\n",
       "                        <td id=\"T_b14f214e_39db_11ec_aa43_0242ac1c0002row0_col12\" class=\"data row0 col12\" >1.62%</td>\n",
       "                        <td id=\"T_b14f214e_39db_11ec_aa43_0242ac1c0002row0_col13\" class=\"data row0 col13\" >99.97%</td>\n",
       "                        <td id=\"T_b14f214e_39db_11ec_aa43_0242ac1c0002row0_col14\" class=\"data row0 col14\" >99.99%</td>\n",
       "            </tr>\n",
       "            <tr>\n",
       "                        <th id=\"T_b14f214e_39db_11ec_aa43_0242ac1c0002level0_row1\" class=\"row_heading level0 row1\" >Sports</th>\n",
       "                        <td id=\"T_b14f214e_39db_11ec_aa43_0242ac1c0002row1_col0\" class=\"data row1 col0\" >99.65%</td>\n",
       "                        <td id=\"T_b14f214e_39db_11ec_aa43_0242ac1c0002row1_col1\" class=\"data row1 col1\" >0.00%</td>\n",
       "                        <td id=\"T_b14f214e_39db_11ec_aa43_0242ac1c0002row1_col2\" class=\"data row1 col2\" >0.00%</td>\n",
       "                        <td id=\"T_b14f214e_39db_11ec_aa43_0242ac1c0002row1_col3\" class=\"data row1 col3\" >99.56%</td>\n",
       "                        <td id=\"T_b14f214e_39db_11ec_aa43_0242ac1c0002row1_col4\" class=\"data row1 col4\" >0.00%</td>\n",
       "                        <td id=\"T_b14f214e_39db_11ec_aa43_0242ac1c0002row1_col5\" class=\"data row1 col5\" >0.01%</td>\n",
       "                        <td id=\"T_b14f214e_39db_11ec_aa43_0242ac1c0002row1_col6\" class=\"data row1 col6\" >99.78%</td>\n",
       "                        <td id=\"T_b14f214e_39db_11ec_aa43_0242ac1c0002row1_col7\" class=\"data row1 col7\" >99.56%</td>\n",
       "                        <td id=\"T_b14f214e_39db_11ec_aa43_0242ac1c0002row1_col8\" class=\"data row1 col8\" >0.00%</td>\n",
       "                        <td id=\"T_b14f214e_39db_11ec_aa43_0242ac1c0002row1_col9\" class=\"data row1 col9\" >0.13%</td>\n",
       "                        <td id=\"T_b14f214e_39db_11ec_aa43_0242ac1c0002row1_col10\" class=\"data row1 col10\" >0.00%</td>\n",
       "                        <td id=\"T_b14f214e_39db_11ec_aa43_0242ac1c0002row1_col11\" class=\"data row1 col11\" >0.00%</td>\n",
       "                        <td id=\"T_b14f214e_39db_11ec_aa43_0242ac1c0002row1_col12\" class=\"data row1 col12\" >0.03%</td>\n",
       "                        <td id=\"T_b14f214e_39db_11ec_aa43_0242ac1c0002row1_col13\" class=\"data row1 col13\" >0.00%</td>\n",
       "                        <td id=\"T_b14f214e_39db_11ec_aa43_0242ac1c0002row1_col14\" class=\"data row1 col14\" >0.00%</td>\n",
       "            </tr>\n",
       "            <tr>\n",
       "                        <th id=\"T_b14f214e_39db_11ec_aa43_0242ac1c0002level0_row2\" class=\"row_heading level0 row2\" >Business</th>\n",
       "                        <td id=\"T_b14f214e_39db_11ec_aa43_0242ac1c0002row2_col0\" class=\"data row2 col0\" >0.01%</td>\n",
       "                        <td id=\"T_b14f214e_39db_11ec_aa43_0242ac1c0002row2_col1\" class=\"data row2 col1\" >0.00%</td>\n",
       "                        <td id=\"T_b14f214e_39db_11ec_aa43_0242ac1c0002row2_col2\" class=\"data row2 col2\" >0.28%</td>\n",
       "                        <td id=\"T_b14f214e_39db_11ec_aa43_0242ac1c0002row2_col3\" class=\"data row2 col3\" >0.01%</td>\n",
       "                        <td id=\"T_b14f214e_39db_11ec_aa43_0242ac1c0002row2_col4\" class=\"data row2 col4\" >0.02%</td>\n",
       "                        <td id=\"T_b14f214e_39db_11ec_aa43_0242ac1c0002row2_col5\" class=\"data row2 col5\" >11.29%</td>\n",
       "                        <td id=\"T_b14f214e_39db_11ec_aa43_0242ac1c0002row2_col6\" class=\"data row2 col6\" >0.00%</td>\n",
       "                        <td id=\"T_b14f214e_39db_11ec_aa43_0242ac1c0002row2_col7\" class=\"data row2 col7\" >0.01%</td>\n",
       "                        <td id=\"T_b14f214e_39db_11ec_aa43_0242ac1c0002row2_col8\" class=\"data row2 col8\" >0.01%</td>\n",
       "                        <td id=\"T_b14f214e_39db_11ec_aa43_0242ac1c0002row2_col9\" class=\"data row2 col9\" >96.21%</td>\n",
       "                        <td id=\"T_b14f214e_39db_11ec_aa43_0242ac1c0002row2_col10\" class=\"data row2 col10\" >0.01%</td>\n",
       "                        <td id=\"T_b14f214e_39db_11ec_aa43_0242ac1c0002row2_col11\" class=\"data row2 col11\" >0.04%</td>\n",
       "                        <td id=\"T_b14f214e_39db_11ec_aa43_0242ac1c0002row2_col12\" class=\"data row2 col12\" >98.18%</td>\n",
       "                        <td id=\"T_b14f214e_39db_11ec_aa43_0242ac1c0002row2_col13\" class=\"data row2 col13\" >0.01%</td>\n",
       "                        <td id=\"T_b14f214e_39db_11ec_aa43_0242ac1c0002row2_col14\" class=\"data row2 col14\" >0.00%</td>\n",
       "            </tr>\n",
       "            <tr>\n",
       "                        <th id=\"T_b14f214e_39db_11ec_aa43_0242ac1c0002level0_row3\" class=\"row_heading level0 row3\" >Sci/Tech</th>\n",
       "                        <td id=\"T_b14f214e_39db_11ec_aa43_0242ac1c0002row3_col0\" class=\"data row3 col0\" >0.00%</td>\n",
       "                        <td id=\"T_b14f214e_39db_11ec_aa43_0242ac1c0002row3_col1\" class=\"data row3 col1\" >0.02%</td>\n",
       "                        <td id=\"T_b14f214e_39db_11ec_aa43_0242ac1c0002row3_col2\" class=\"data row3 col2\" >99.64%</td>\n",
       "                        <td id=\"T_b14f214e_39db_11ec_aa43_0242ac1c0002row3_col3\" class=\"data row3 col3\" >0.00%</td>\n",
       "                        <td id=\"T_b14f214e_39db_11ec_aa43_0242ac1c0002row3_col4\" class=\"data row3 col4\" >1.44%</td>\n",
       "                        <td id=\"T_b14f214e_39db_11ec_aa43_0242ac1c0002row3_col5\" class=\"data row3 col5\" >88.31%</td>\n",
       "                        <td id=\"T_b14f214e_39db_11ec_aa43_0242ac1c0002row3_col6\" class=\"data row3 col6\" >0.00%</td>\n",
       "                        <td id=\"T_b14f214e_39db_11ec_aa43_0242ac1c0002row3_col7\" class=\"data row3 col7\" >0.00%</td>\n",
       "                        <td id=\"T_b14f214e_39db_11ec_aa43_0242ac1c0002row3_col8\" class=\"data row3 col8\" >0.00%</td>\n",
       "                        <td id=\"T_b14f214e_39db_11ec_aa43_0242ac1c0002row3_col9\" class=\"data row3 col9\" >0.67%</td>\n",
       "                        <td id=\"T_b14f214e_39db_11ec_aa43_0242ac1c0002row3_col10\" class=\"data row3 col10\" >0.00%</td>\n",
       "                        <td id=\"T_b14f214e_39db_11ec_aa43_0242ac1c0002row3_col11\" class=\"data row3 col11\" >98.20%</td>\n",
       "                        <td id=\"T_b14f214e_39db_11ec_aa43_0242ac1c0002row3_col12\" class=\"data row3 col12\" >0.16%</td>\n",
       "                        <td id=\"T_b14f214e_39db_11ec_aa43_0242ac1c0002row3_col13\" class=\"data row3 col13\" >0.01%</td>\n",
       "                        <td id=\"T_b14f214e_39db_11ec_aa43_0242ac1c0002row3_col14\" class=\"data row3 col14\" >0.01%</td>\n",
       "            </tr>\n",
       "    </tbody></table>"
      ],
      "text/plain": [
       "<pandas.io.formats.style.Styler at 0x7fc087237ed0>"
      ]
     },
     "execution_count": 62,
     "metadata": {},
     "output_type": "execute_result"
    }
   ],
   "source": [
    "df = pd.DataFrame(preds[0:15]\n",
    "                  ,columns = ['World','Sports','Business','Sci/Tech']).T\n",
    "df.style.format(\"{:.2%}\").background_gradient(cmap=cm)"
   ]
  },
  {
   "cell_type": "code",
   "execution_count": null,
   "metadata": {
    "id": "cnzz2v33H-iQ"
   },
   "outputs": [],
   "source": []
  }
 ],
 "metadata": {
  "colab": {
   "collapsed_sections": [],
   "name": " Exp C Assignment 3.ipynb",
   "provenance": []
  },
  "kernelspec": {
   "display_name": "Python 3 (ipykernel)",
   "language": "python",
   "name": "python3"
  },
  "language_info": {
   "codemirror_mode": {
    "name": "ipython",
    "version": 3
   },
   "file_extension": ".py",
   "mimetype": "text/x-python",
   "name": "python",
   "nbconvert_exporter": "python",
   "pygments_lexer": "ipython3",
   "version": "3.11.0"
  }
 },
 "nbformat": 4,
 "nbformat_minor": 4
}
